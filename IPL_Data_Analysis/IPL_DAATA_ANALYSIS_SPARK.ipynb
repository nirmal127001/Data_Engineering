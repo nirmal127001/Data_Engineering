{
 "cells": [
  {
   "cell_type": "code",
   "execution_count": 0,
   "metadata": {
    "application/vnd.databricks.v1+cell": {
     "cellMetadata": {
      "byteLimit": 2048000,
      "rowLimit": 10000
     },
     "inputWidgets": {},
     "nuid": "b34c7e1b-ecb2-4587-af7a-e6bdb76dc9c1",
     "showTitle": false,
     "tableResultSettingsMap": {},
     "title": ""
    }
   },
   "outputs": [],
   "source": [
    "#not needed in databricks\n",
    "from pyspark.sql import SparkSession\n",
    "#create session\n",
    "spark = SparkSession.builder.appName(\"IPL_Data_Analysis\").getOrCreate()\n"
   ]
  },
  {
   "cell_type": "markdown",
   "metadata": {
    "application/vnd.databricks.v1+cell": {
     "cellMetadata": {
      "byteLimit": 2048000,
      "rowLimit": 10000
     },
     "inputWidgets": {},
     "nuid": "62c6711c-4ab4-40fc-9dce-76360bef1602",
     "showTitle": false,
     "tableResultSettingsMap": {},
     "title": ""
    }
   },
   "source": [
    "####Access s3 bucket data directly without mounting"
   ]
  },
  {
   "cell_type": "code",
   "execution_count": 0,
   "metadata": {
    "application/vnd.databricks.v1+cell": {
     "cellMetadata": {
      "byteLimit": 2048000,
      "rowLimit": 10000
     },
     "inputWidgets": {},
     "nuid": "682e843c-72ca-4e2c-bea0-675be4aa11dc",
     "showTitle": false,
     "tableResultSettingsMap": {},
     "title": ""
    }
   },
   "outputs": [
    {
     "output_type": "stream",
     "name": "stdout",
     "output_type": "stream",
     "text": [
      "root\n |-- Access key ID: string (nullable = true)\n |-- Secret access key: string (nullable = true)\n\n"
     ]
    }
   ],
   "source": [
    "#generated keys in aws to access s3 bucket files and downloaded csv file for the same. Uploaded the csvn file containing keys in DBFS(uploaded from local machine) for security purpose\n",
    "keys = spark.read.csv(\"dbfs:/FileStore/nirmal_dev_accessKeys.csv\",inferSchema = True, header = True)\n",
    "keys.printSchema()\n",
    "access_key = keys.select(\"Access key ID\").collect()[0][0]\n",
    "secret_key = keys.select(\"Secret access key\").collect()[0][0]"
   ]
  },
  {
   "cell_type": "code",
   "execution_count": 0,
   "metadata": {
    "application/vnd.databricks.v1+cell": {
     "cellMetadata": {
      "byteLimit": 2048000,
      "rowLimit": 10000
     },
     "inputWidgets": {},
     "nuid": "85480523-6f44-4968-b045-08d6f306b24e",
     "showTitle": false,
     "tableResultSettingsMap": {},
     "title": ""
    }
   },
   "outputs": [],
   "source": [
    "sc._jsc.hadoopConfiguration().set(\"fs.s3a.access.key\", access_key)\n",
    "sc._jsc.hadoopConfiguration().set(\"fs.s3a.secret.key\", secret_key)"
   ]
  },
  {
   "cell_type": "code",
   "execution_count": 0,
   "metadata": {
    "application/vnd.databricks.v1+cell": {
     "cellMetadata": {
      "byteLimit": 2048000,
      "rowLimit": 10000
     },
     "inputWidgets": {},
     "nuid": "cb6cd348-d405-4c14-b1a1-824af1c4d7e1",
     "showTitle": false,
     "tableResultSettingsMap": {},
     "title": ""
    }
   },
   "outputs": [],
   "source": [
    "match_df = spark.read.csv(\"s3://ipldatabucket2017/Match.csv\",inferSchema = True, header = True)\n",
    "ball_by_ball_df = spark.read.csv(\"s3://ipldatabucket2017/Ball_By_Ball.csv\",inferSchema = True, header = True)\n",
    "player_match_df = spark.read.csv(\"s3://ipldatabucket2017/Player_match.csv\",inferSchema = True, header = True)\n",
    "team_df = spark.read.csv(\"s3://ipldatabucket2017/Team.csv\",inferSchema = True, header = True)\n",
    "player_df = spark.read.csv(\"s3://ipldatabucket2017/Player.csv\",inferSchema = True, header = True)"
   ]
  },
  {
   "cell_type": "code",
   "execution_count": 0,
   "metadata": {
    "application/vnd.databricks.v1+cell": {
     "cellMetadata": {
      "byteLimit": 2048000,
      "rowLimit": 10000
     },
     "inputWidgets": {},
     "nuid": "4f0b370a-fb4a-40a0-b4a0-cc3de8814168",
     "showTitle": false,
     "tableResultSettingsMap": {},
     "title": ""
    }
   },
   "outputs": [
    {
     "output_type": "display_data",
     "data": {
      "text/html": [
       "<style scoped>\n",
       "  .table-result-container {\n",
       "    max-height: 300px;\n",
       "    overflow: auto;\n",
       "  }\n",
       "  table, th, td {\n",
       "    border: 1px solid black;\n",
       "    border-collapse: collapse;\n",
       "  }\n",
       "  th, td {\n",
       "    padding: 5px;\n",
       "  }\n",
       "  th {\n",
       "    text-align: left;\n",
       "  }\n",
       "</style><div class='table-result-container'><table class='table-result'><thead style='background-color: white'><tr><th>Match_SK</th><th>match_id</th><th>Team1</th><th>Team2</th><th>match_date</th><th>Season_Year</th><th>Venue_Name</th><th>City_Name</th><th>Country_Name</th><th>Toss_Winner</th><th>match_winner</th><th>Toss_Name</th><th>Win_Type</th><th>Outcome_Type</th><th>ManOfMach</th><th>Win_Margin</th><th>Country_id</th></tr></thead><tbody><tr><td>0</td><td>335987</td><td>Royal Challengers Bangalore</td><td>Kolkata Knight Riders</td><td>2008-04-18</td><td>2008</td><td>M Chinnaswamy Stadium</td><td>Bangalore</td><td>India</td><td>Royal Challengers Bangalore</td><td>Kolkata Knight Riders</td><td>field</td><td>runs</td><td>Result</td><td>BB McCullum</td><td>140</td><td>1</td></tr><tr><td>1</td><td>335988</td><td>Kings XI Punjab</td><td>Chennai Super Kings</td><td>2008-04-19</td><td>2008</td><td>Punjab Cricket Association Stadium, Mohali</td><td>Chandigarh</td><td>India</td><td>Chennai Super Kings</td><td>Chennai Super Kings</td><td>bat</td><td>runs</td><td>Result</td><td>MEK Hussey</td><td>33</td><td>1</td></tr><tr><td>2</td><td>335989</td><td>Delhi Daredevils</td><td>Rajasthan Royals</td><td>2008-04-19</td><td>2008</td><td>Feroz Shah Kotla</td><td>Delhi</td><td>India</td><td>Rajasthan Royals</td><td>Delhi Daredevils</td><td>bat</td><td>wickets</td><td>Result</td><td>MF Maharoof</td><td>9</td><td>1</td></tr><tr><td>3</td><td>335990</td><td>Mumbai Indians</td><td>Royal Challengers Bangalore</td><td>2008-04-20</td><td>2008</td><td>Wankhede Stadium</td><td>Mumbai</td><td>India</td><td>Mumbai Indians</td><td>Royal Challengers Bangalore</td><td>bat</td><td>wickets</td><td>Result</td><td>MV Boucher</td><td>5</td><td>1</td></tr><tr><td>4</td><td>335991</td><td>Kolkata Knight Riders</td><td>Deccan Chargers</td><td>2008-04-20</td><td>2008</td><td>Eden Gardens</td><td>Kolkata</td><td>India</td><td>Deccan Chargers</td><td>Kolkata Knight Riders</td><td>bat</td><td>wickets</td><td>Result</td><td>DJ Hussey</td><td>5</td><td>1</td></tr><tr><td>5</td><td>335992</td><td>Rajasthan Royals</td><td>Kings XI Punjab</td><td>2008-04-21</td><td>2008</td><td>Sawai Mansingh Stadium</td><td>Jaipur</td><td>India</td><td>Kings XI Punjab</td><td>Rajasthan Royals</td><td>bat</td><td>wickets</td><td>Result</td><td>SR Watson</td><td>6</td><td>1</td></tr><tr><td>6</td><td>335993</td><td>Deccan Chargers</td><td>Delhi Daredevils</td><td>2008-04-22</td><td>2008</td><td>Rajiv Gandhi International Stadium, Uppal</td><td>Hyderabad</td><td>India</td><td>Deccan Chargers</td><td>Delhi Daredevils</td><td>bat</td><td>wickets</td><td>Result</td><td>V Sehwag</td><td>9</td><td>1</td></tr><tr><td>7</td><td>335994</td><td>Chennai Super Kings</td><td>Mumbai Indians</td><td>2008-04-23</td><td>2008</td><td>MA Chidambaram Stadium, Chepauk</td><td>Chennai</td><td>India</td><td>Mumbai Indians</td><td>Chennai Super Kings</td><td>field</td><td>runs</td><td>Result</td><td>ML Hayden</td><td>6</td><td>1</td></tr><tr><td>8</td><td>335995</td><td>Deccan Chargers</td><td>Rajasthan Royals</td><td>2008-04-24</td><td>2008</td><td>Rajiv Gandhi International Stadium, Uppal</td><td>Hyderabad</td><td>India</td><td>Rajasthan Royals</td><td>Rajasthan Royals</td><td>field</td><td>wickets</td><td>Result</td><td>YK Pathan</td><td>3</td><td>1</td></tr><tr><td>9</td><td>335996</td><td>Kings XI Punjab</td><td>Mumbai Indians</td><td>2008-04-25</td><td>2008</td><td>Punjab Cricket Association Stadium, Mohali</td><td>Chandigarh</td><td>India</td><td>Mumbai Indians</td><td>Kings XI Punjab</td><td>field</td><td>runs</td><td>Result</td><td>KC Sangakkara</td><td>66</td><td>1</td></tr></tbody></table></div>"
      ]
     },
     "metadata": {
      "application/vnd.databricks.v1+output": {
       "addedWidgets": {},
       "aggData": [],
       "aggError": "",
       "aggOverflow": false,
       "aggSchema": [],
       "aggSeriesLimitReached": false,
       "aggType": "",
       "arguments": {},
       "columnCustomDisplayInfos": {},
       "data": [
        [
         0,
         335987,
         "Royal Challengers Bangalore",
         "Kolkata Knight Riders",
         "2008-04-18",
         2008,
         "M Chinnaswamy Stadium",
         "Bangalore",
         "India",
         "Royal Challengers Bangalore",
         "Kolkata Knight Riders",
         "field",
         "runs",
         "Result",
         "BB McCullum",
         140,
         1
        ],
        [
         1,
         335988,
         "Kings XI Punjab",
         "Chennai Super Kings",
         "2008-04-19",
         2008,
         "Punjab Cricket Association Stadium, Mohali",
         "Chandigarh",
         "India",
         "Chennai Super Kings",
         "Chennai Super Kings",
         "bat",
         "runs",
         "Result",
         "MEK Hussey",
         33,
         1
        ],
        [
         2,
         335989,
         "Delhi Daredevils",
         "Rajasthan Royals",
         "2008-04-19",
         2008,
         "Feroz Shah Kotla",
         "Delhi",
         "India",
         "Rajasthan Royals",
         "Delhi Daredevils",
         "bat",
         "wickets",
         "Result",
         "MF Maharoof",
         9,
         1
        ],
        [
         3,
         335990,
         "Mumbai Indians",
         "Royal Challengers Bangalore",
         "2008-04-20",
         2008,
         "Wankhede Stadium",
         "Mumbai",
         "India",
         "Mumbai Indians",
         "Royal Challengers Bangalore",
         "bat",
         "wickets",
         "Result",
         "MV Boucher",
         5,
         1
        ],
        [
         4,
         335991,
         "Kolkata Knight Riders",
         "Deccan Chargers",
         "2008-04-20",
         2008,
         "Eden Gardens",
         "Kolkata",
         "India",
         "Deccan Chargers",
         "Kolkata Knight Riders",
         "bat",
         "wickets",
         "Result",
         "DJ Hussey",
         5,
         1
        ],
        [
         5,
         335992,
         "Rajasthan Royals",
         "Kings XI Punjab",
         "2008-04-21",
         2008,
         "Sawai Mansingh Stadium",
         "Jaipur",
         "India",
         "Kings XI Punjab",
         "Rajasthan Royals",
         "bat",
         "wickets",
         "Result",
         "SR Watson",
         6,
         1
        ],
        [
         6,
         335993,
         "Deccan Chargers",
         "Delhi Daredevils",
         "2008-04-22",
         2008,
         "Rajiv Gandhi International Stadium, Uppal",
         "Hyderabad",
         "India",
         "Deccan Chargers",
         "Delhi Daredevils",
         "bat",
         "wickets",
         "Result",
         "V Sehwag",
         9,
         1
        ],
        [
         7,
         335994,
         "Chennai Super Kings",
         "Mumbai Indians",
         "2008-04-23",
         2008,
         "MA Chidambaram Stadium, Chepauk",
         "Chennai",
         "India",
         "Mumbai Indians",
         "Chennai Super Kings",
         "field",
         "runs",
         "Result",
         "ML Hayden",
         6,
         1
        ],
        [
         8,
         335995,
         "Deccan Chargers",
         "Rajasthan Royals",
         "2008-04-24",
         2008,
         "Rajiv Gandhi International Stadium, Uppal",
         "Hyderabad",
         "India",
         "Rajasthan Royals",
         "Rajasthan Royals",
         "field",
         "wickets",
         "Result",
         "YK Pathan",
         3,
         1
        ],
        [
         9,
         335996,
         "Kings XI Punjab",
         "Mumbai Indians",
         "2008-04-25",
         2008,
         "Punjab Cricket Association Stadium, Mohali",
         "Chandigarh",
         "India",
         "Mumbai Indians",
         "Kings XI Punjab",
         "field",
         "runs",
         "Result",
         "KC Sangakkara",
         66,
         1
        ]
       ],
       "datasetInfos": [],
       "dbfsResultPath": null,
       "isJsonSchema": true,
       "metadata": {},
       "overflow": false,
       "plotOptions": {
        "customPlotOptions": {},
        "displayType": "table",
        "pivotAggregation": null,
        "pivotColumns": null,
        "xColumns": null,
        "yColumns": null
       },
       "removedWidgets": [],
       "schema": [
        {
         "metadata": "{}",
         "name": "Match_SK",
         "type": "\"integer\""
        },
        {
         "metadata": "{}",
         "name": "match_id",
         "type": "\"integer\""
        },
        {
         "metadata": "{}",
         "name": "Team1",
         "type": "\"string\""
        },
        {
         "metadata": "{}",
         "name": "Team2",
         "type": "\"string\""
        },
        {
         "metadata": "{\"__detected_date_formats\":\"M/d/yyyy\"}",
         "name": "match_date",
         "type": "\"date\""
        },
        {
         "metadata": "{}",
         "name": "Season_Year",
         "type": "\"integer\""
        },
        {
         "metadata": "{}",
         "name": "Venue_Name",
         "type": "\"string\""
        },
        {
         "metadata": "{}",
         "name": "City_Name",
         "type": "\"string\""
        },
        {
         "metadata": "{}",
         "name": "Country_Name",
         "type": "\"string\""
        },
        {
         "metadata": "{}",
         "name": "Toss_Winner",
         "type": "\"string\""
        },
        {
         "metadata": "{}",
         "name": "match_winner",
         "type": "\"string\""
        },
        {
         "metadata": "{}",
         "name": "Toss_Name",
         "type": "\"string\""
        },
        {
         "metadata": "{}",
         "name": "Win_Type",
         "type": "\"string\""
        },
        {
         "metadata": "{}",
         "name": "Outcome_Type",
         "type": "\"string\""
        },
        {
         "metadata": "{}",
         "name": "ManOfMach",
         "type": "\"string\""
        },
        {
         "metadata": "{}",
         "name": "Win_Margin",
         "type": "\"integer\""
        },
        {
         "metadata": "{}",
         "name": "Country_id",
         "type": "\"integer\""
        }
       ],
       "type": "table"
      }
     },
     "output_type": "display_data"
    }
   ],
   "source": [
    "match_df.limit(10).display()\n",
    "# ball_by_ball_df.display()\n",
    "# player_match_df.display()\n",
    "# team_df.display()\n",
    "# player_df.display()"
   ]
  },
  {
   "cell_type": "markdown",
   "metadata": {
    "application/vnd.databricks.v1+cell": {
     "cellMetadata": {
      "byteLimit": 2048000,
      "rowLimit": 10000
     },
     "inputWidgets": {},
     "nuid": "84ca9835-8060-4000-94b2-7495349cc285",
     "showTitle": false,
     "tableResultSettingsMap": {},
     "title": ""
    }
   },
   "source": [
    "####Access s3 bucket data by mounting s3 bucket in databricks"
   ]
  },
  {
   "cell_type": "code",
   "execution_count": 0,
   "metadata": {
    "application/vnd.databricks.v1+cell": {
     "cellMetadata": {
      "byteLimit": 2048000,
      "rowLimit": 10000
     },
     "inputWidgets": {},
     "nuid": "5366cc9a-3315-41c0-ba5a-bbefe0bc60ff",
     "showTitle": false,
     "tableResultSettingsMap": {},
     "title": ""
    }
   },
   "outputs": [
    {
     "output_type": "stream",
     "name": "stdout",
     "output_type": "stream",
     "text": [
      "/mnt/s3_mount has been unmounted.\n"
     ]
    },
    {
     "output_type": "display_data",
     "data": {
      "text/html": [
       "<style scoped>\n",
       "  .table-result-container {\n",
       "    max-height: 300px;\n",
       "    overflow: auto;\n",
       "  }\n",
       "  table, th, td {\n",
       "    border: 1px solid black;\n",
       "    border-collapse: collapse;\n",
       "  }\n",
       "  th, td {\n",
       "    padding: 5px;\n",
       "  }\n",
       "  th {\n",
       "    text-align: left;\n",
       "  }\n",
       "</style><div class='table-result-container'><table class='table-result'><thead style='background-color: white'><tr><th>path</th><th>name</th><th>size</th><th>modificationTime</th></tr></thead><tbody><tr><td>dbfs:/mnt/s3_mount/Ball_By_Ball.csv</td><td>Ball_By_Ball.csv</td><td>31232507</td><td>1730731514000</td></tr><tr><td>dbfs:/mnt/s3_mount/Match.csv</td><td>Match.csv</td><td>113322</td><td>1730731515000</td></tr><tr><td>dbfs:/mnt/s3_mount/Player.csv</td><td>Player.csv</td><td>34614</td><td>1730731515000</td></tr><tr><td>dbfs:/mnt/s3_mount/Player_match.csv</td><td>Player_match.csv</td><td>2770529</td><td>1730731522000</td></tr><tr><td>dbfs:/mnt/s3_mount/Team.csv</td><td>Team.csv</td><td>343</td><td>1730731523000</td></tr></tbody></table></div>"
      ]
     },
     "metadata": {
      "application/vnd.databricks.v1+output": {
       "addedWidgets": {},
       "aggData": [],
       "aggError": "",
       "aggOverflow": false,
       "aggSchema": [],
       "aggSeriesLimitReached": false,
       "aggType": "",
       "arguments": {},
       "columnCustomDisplayInfos": {},
       "data": [
        [
         "dbfs:/mnt/s3_mount/Ball_By_Ball.csv",
         "Ball_By_Ball.csv",
         31232507,
         1730731514000
        ],
        [
         "dbfs:/mnt/s3_mount/Match.csv",
         "Match.csv",
         113322,
         1730731515000
        ],
        [
         "dbfs:/mnt/s3_mount/Player.csv",
         "Player.csv",
         34614,
         1730731515000
        ],
        [
         "dbfs:/mnt/s3_mount/Player_match.csv",
         "Player_match.csv",
         2770529,
         1730731522000
        ],
        [
         "dbfs:/mnt/s3_mount/Team.csv",
         "Team.csv",
         343,
         1730731523000
        ]
       ],
       "datasetInfos": [],
       "dbfsResultPath": null,
       "isJsonSchema": true,
       "metadata": {},
       "overflow": false,
       "plotOptions": {
        "customPlotOptions": {},
        "displayType": "table",
        "pivotAggregation": null,
        "pivotColumns": null,
        "xColumns": null,
        "yColumns": null
       },
       "removedWidgets": [],
       "schema": [
        {
         "metadata": "{}",
         "name": "path",
         "type": "\"string\""
        },
        {
         "metadata": "{}",
         "name": "name",
         "type": "\"string\""
        },
        {
         "metadata": "{}",
         "name": "size",
         "type": "\"long\""
        },
        {
         "metadata": "{}",
         "name": "modificationTime",
         "type": "\"long\""
        }
       ],
       "type": "table"
      }
     },
     "output_type": "display_data"
    }
   ],
   "source": [
    "encoded_secret_key = secret_key.replace(\"/\",\"%2F\")\n",
    "bucket_name = \"ipldatabucket2017\"\n",
    "mount_name = \"s3_mount\"\n",
    "dbutils.fs.unmount(f\"/mnt/{mount_name}\") # to unmount\n",
    "dbutils.fs.mount(f\"s3a://{access_key}:{encoded_secret_key}@{bucket_name}\",f\"/mnt/{mount_name}\")\n",
    "display(dbutils.fs.ls(f\"/mnt/{mount_name}\"))"
   ]
  },
  {
   "cell_type": "code",
   "execution_count": 0,
   "metadata": {
    "application/vnd.databricks.v1+cell": {
     "cellMetadata": {
      "byteLimit": 2048000,
      "rowLimit": 10000
     },
     "inputWidgets": {},
     "nuid": "efc36dd2-5c55-430d-91fb-2a9e83f9a2f1",
     "showTitle": false,
     "tableResultSettingsMap": {},
     "title": ""
    }
   },
   "outputs": [
    {
     "output_type": "display_data",
     "data": {
      "text/html": [
       "<style scoped>\n",
       "  .table-result-container {\n",
       "    max-height: 300px;\n",
       "    overflow: auto;\n",
       "  }\n",
       "  table, th, td {\n",
       "    border: 1px solid black;\n",
       "    border-collapse: collapse;\n",
       "  }\n",
       "  th, td {\n",
       "    padding: 5px;\n",
       "  }\n",
       "  th {\n",
       "    text-align: left;\n",
       "  }\n",
       "</style><div class='table-result-container'><table class='table-result'><thead style='background-color: white'><tr><th>Team_SK</th><th>Team_Id</th><th>Team_Name</th></tr></thead><tbody><tr><td>0</td><td>1</td><td>Kolkata Knight Riders</td></tr><tr><td>1</td><td>2</td><td>Royal Challengers Bangalore</td></tr><tr><td>2</td><td>3</td><td>Chennai Super Kings</td></tr><tr><td>3</td><td>4</td><td>Kings XI Punjab</td></tr><tr><td>4</td><td>5</td><td>Rajasthan Royals</td></tr><tr><td>5</td><td>6</td><td>Delhi Daredevils</td></tr><tr><td>6</td><td>7</td><td>Mumbai Indians</td></tr><tr><td>7</td><td>8</td><td>Deccan Chargers</td></tr><tr><td>8</td><td>9</td><td>Kochi Tuskers Kerala</td></tr><tr><td>9</td><td>10</td><td>Pune Warriors</td></tr></tbody></table></div>"
      ]
     },
     "metadata": {
      "application/vnd.databricks.v1+output": {
       "addedWidgets": {},
       "aggData": [],
       "aggError": "",
       "aggOverflow": false,
       "aggSchema": [],
       "aggSeriesLimitReached": false,
       "aggType": "",
       "arguments": {},
       "columnCustomDisplayInfos": {},
       "data": [
        [
         0,
         1,
         "Kolkata Knight Riders"
        ],
        [
         1,
         2,
         "Royal Challengers Bangalore"
        ],
        [
         2,
         3,
         "Chennai Super Kings"
        ],
        [
         3,
         4,
         "Kings XI Punjab"
        ],
        [
         4,
         5,
         "Rajasthan Royals"
        ],
        [
         5,
         6,
         "Delhi Daredevils"
        ],
        [
         6,
         7,
         "Mumbai Indians"
        ],
        [
         7,
         8,
         "Deccan Chargers"
        ],
        [
         8,
         9,
         "Kochi Tuskers Kerala"
        ],
        [
         9,
         10,
         "Pune Warriors"
        ]
       ],
       "datasetInfos": [],
       "dbfsResultPath": null,
       "isJsonSchema": true,
       "metadata": {},
       "overflow": false,
       "plotOptions": {
        "customPlotOptions": {},
        "displayType": "table",
        "pivotAggregation": null,
        "pivotColumns": null,
        "xColumns": null,
        "yColumns": null
       },
       "removedWidgets": [],
       "schema": [
        {
         "metadata": "{}",
         "name": "Team_SK",
         "type": "\"integer\""
        },
        {
         "metadata": "{}",
         "name": "Team_Id",
         "type": "\"integer\""
        },
        {
         "metadata": "{}",
         "name": "Team_Name",
         "type": "\"string\""
        }
       ],
       "type": "table"
      }
     },
     "output_type": "display_data"
    }
   ],
   "source": [
    "file_location = \"dbfs:/mnt/s3_mount/Team.csv\"\n",
    "df = spark.read.csv(file_location,inferSchema = True, header = True)\n",
    "df.limit(10).display()"
   ]
  },
  {
   "cell_type": "markdown",
   "metadata": {
    "application/vnd.databricks.v1+cell": {
     "cellMetadata": {
      "byteLimit": 2048000,
      "rowLimit": 10000
     },
     "inputWidgets": {},
     "nuid": "3b4a9d9d-d191-4fdf-8ee5-0a974cfdd2a1",
     "showTitle": false,
     "tableResultSettingsMap": {},
     "title": ""
    }
   },
   "source": [
    "We might have mismatch of data types as we can't rely on spark's inferschema so we will create our own schema"
   ]
  },
  {
   "cell_type": "code",
   "execution_count": 0,
   "metadata": {
    "application/vnd.databricks.v1+cell": {
     "cellMetadata": {
      "byteLimit": 2048000,
      "rowLimit": 10000
     },
     "inputWidgets": {},
     "nuid": "ebcef741-e925-4531-ba8d-2d8848a89567",
     "showTitle": false,
     "tableResultSettingsMap": {},
     "title": ""
    }
   },
   "outputs": [],
   "source": [
    "from pyspark.sql.types import StructField,StructType,StringType,IntegerType,BooleanType,DateType,DecimalType\n",
    "\n",
    "ball_by_ball_schema = StructType(\n",
    "    [\n",
    "        StructField(\"match_id\", IntegerType(), True),\n",
    "        StructField(\"over_id\", IntegerType(), True), \n",
    "        StructField(\"ball_id\", IntegerType(), True), \n",
    "        StructField(\"innings_no\", IntegerType(), True), \n",
    "        StructField(\"team_batting\", IntegerType(), True), \n",
    "        StructField(\"team_bowling\", IntegerType(), True), \n",
    "        StructField(\"striker_batting_position\", IntegerType(), True), \n",
    "        StructField(\"extra_type\", StringType(), True), \n",
    "        StructField(\"runs_scored\", IntegerType(), True), \n",
    "        StructField(\"extra_runs\", IntegerType(), True), \n",
    "        StructField(\"wides\", IntegerType(), True), \n",
    "        StructField(\"legbyes\", IntegerType(), True), \n",
    "        StructField(\"byes\", IntegerType(), True), \n",
    "        StructField(\"noballs\", IntegerType(), True), \n",
    "        StructField(\"penalty\", IntegerType(), True), \n",
    "        StructField(\"bowler_extras\", IntegerType(), True), \n",
    "        StructField(\"out_type\", StringType(), True), \n",
    "        StructField(\"caught\", BooleanType(), True), \n",
    "        StructField(\"bowled\", BooleanType(), True), \n",
    "        StructField(\"run_out\", BooleanType(), True), \n",
    "        StructField(\"lbw\", BooleanType(), True), \n",
    "        StructField(\"retired_hurt\", BooleanType(), True), \n",
    "        StructField(\"stumped\", BooleanType(), True), \n",
    "        StructField(\"caught_and_bowled\", BooleanType(), True), \n",
    "        StructField(\"hit_wicket\", BooleanType(), True), \n",
    "        StructField(\"obstructingfeild\", BooleanType(), True), \n",
    "        StructField(\"bowler_wicket\", BooleanType(), True), \n",
    "        StructField(\"match_date\", DateType(), True), \n",
    "        StructField(\"season\", IntegerType(), True), \n",
    "        StructField(\"striker\", IntegerType(), True), \n",
    "        StructField(\"non_striker\", IntegerType(), True), \n",
    "        StructField(\"bowler\", IntegerType(), True), \n",
    "        StructField(\"player_out\", IntegerType(), True), \n",
    "        StructField(\"fielders\", IntegerType(), True), \n",
    "        StructField(\"striker_match_sk\", IntegerType(), True), \n",
    "        StructField(\"strikersk\", IntegerType(), True), \n",
    "        StructField(\"nonstriker_match_sk\", IntegerType(), True), \n",
    "        StructField(\"nonstriker_sk\", IntegerType(), True), \n",
    "        StructField(\"fielder_match_sk\", IntegerType(), True), \n",
    "        StructField(\"fielder_sk\", IntegerType(), True), \n",
    "        StructField(\"bowler_match_sk\", IntegerType(), True), \n",
    "        StructField(\"bowler_sk\", IntegerType(), True), \n",
    "        StructField(\"playerout_match_sk\", IntegerType(), True), \n",
    "        StructField(\"battingteam_sk\", IntegerType(), True), \n",
    "        StructField(\"bowlingteam_sk\", IntegerType(), True), \n",
    "        StructField(\"keeper_catch\", BooleanType(), True), \n",
    "        StructField(\"player_out_sk\", IntegerType(), True), \n",
    "        StructField(\"matchdatesk\", DateType(), True)\n",
    "    ]\n",
    ")"
   ]
  },
  {
   "cell_type": "code",
   "execution_count": 0,
   "metadata": {
    "application/vnd.databricks.v1+cell": {
     "cellMetadata": {
      "byteLimit": 2048000,
      "rowLimit": 10000
     },
     "inputWidgets": {},
     "nuid": "bac39067-22d4-4870-b529-c2711af47dcd",
     "showTitle": false,
     "tableResultSettingsMap": {},
     "title": ""
    }
   },
   "outputs": [
    {
     "output_type": "display_data",
     "data": {
      "text/html": [
       "<style scoped>\n",
       "  .table-result-container {\n",
       "    max-height: 300px;\n",
       "    overflow: auto;\n",
       "  }\n",
       "  table, th, td {\n",
       "    border: 1px solid black;\n",
       "    border-collapse: collapse;\n",
       "  }\n",
       "  th, td {\n",
       "    padding: 5px;\n",
       "  }\n",
       "  th {\n",
       "    text-align: left;\n",
       "  }\n",
       "</style><div class='table-result-container'><table class='table-result'><thead style='background-color: white'><tr><th>match_id</th><th>over_id</th><th>ball_id</th><th>innings_no</th><th>team_batting</th><th>team_bowling</th><th>striker_batting_position</th><th>extra_type</th><th>runs_scored</th><th>extra_runs</th><th>wides</th><th>legbyes</th><th>byes</th><th>noballs</th><th>penalty</th><th>bowler_extras</th><th>out_type</th><th>caught</th><th>bowled</th><th>run_out</th><th>lbw</th><th>retired_hurt</th><th>stumped</th><th>caught_and_bowled</th><th>hit_wicket</th><th>obstructingfeild</th><th>bowler_wicket</th><th>match_date</th><th>season</th><th>striker</th><th>non_striker</th><th>bowler</th><th>player_out</th><th>fielders</th><th>striker_match_sk</th><th>strikersk</th><th>nonstriker_match_sk</th><th>nonstriker_sk</th><th>fielder_match_sk</th><th>fielder_sk</th><th>bowler_match_sk</th><th>bowler_sk</th><th>playerout_match_sk</th><th>battingteam_sk</th><th>bowlingteam_sk</th><th>keeper_catch</th><th>player_out_sk</th><th>matchdatesk</th></tr></thead><tbody><tr><td>598028</td><td>15</td><td>6</td><td>1</td><td>5</td><td>2</td><td>6</td><td>No Extras</td><td>4</td><td>0</td><td>0</td><td>0</td><td>0</td><td>0</td><td>0</td><td>0</td><td>Not Applicable</td><td>false</td><td>false</td><td>false</td><td>false</td><td>false</td><td>false</td><td>false</td><td>false</td><td>false</td><td>false</td><td>2013-04-20</td><td>2013</td><td>277</td><td>104</td><td>83</td><td>null</td><td>null</td><td>20336</td><td>276</td><td>20333</td><td>103</td><td>-1</td><td>-1</td><td>20343</td><td>82</td><td>-1</td><td>4</td><td>1</td><td>false</td><td>0</td><td>null</td></tr><tr><td>598028</td><td>14</td><td>1</td><td>1</td><td>5</td><td>2</td><td>5</td><td>No Extras</td><td>1</td><td>0</td><td>0</td><td>0</td><td>0</td><td>0</td><td>0</td><td>0</td><td>Not Applicable</td><td>false</td><td>false</td><td>false</td><td>false</td><td>false</td><td>false</td><td>false</td><td>false</td><td>false</td><td>false</td><td>2013-04-20</td><td>2013</td><td>104</td><td>6</td><td>346</td><td>null</td><td>null</td><td>20333</td><td>103</td><td>20328</td><td>5</td><td>-1</td><td>-1</td><td>20348</td><td>345</td><td>-1</td><td>4</td><td>1</td><td>false</td><td>0</td><td>null</td></tr><tr><td>598028</td><td>14</td><td>2</td><td>1</td><td>5</td><td>2</td><td>3</td><td>No Extras</td><td>1</td><td>0</td><td>0</td><td>0</td><td>0</td><td>0</td><td>0</td><td>0</td><td>Not Applicable</td><td>false</td><td>false</td><td>false</td><td>false</td><td>false</td><td>false</td><td>false</td><td>false</td><td>false</td><td>false</td><td>2013-04-20</td><td>2013</td><td>6</td><td>104</td><td>346</td><td>null</td><td>null</td><td>20328</td><td>5</td><td>20333</td><td>103</td><td>-1</td><td>-1</td><td>20348</td><td>345</td><td>-1</td><td>4</td><td>1</td><td>false</td><td>0</td><td>null</td></tr><tr><td>598028</td><td>14</td><td>3</td><td>1</td><td>5</td><td>2</td><td>5</td><td>No Extras</td><td>1</td><td>0</td><td>0</td><td>0</td><td>0</td><td>0</td><td>0</td><td>0</td><td>Not Applicable</td><td>false</td><td>false</td><td>false</td><td>false</td><td>false</td><td>false</td><td>false</td><td>false</td><td>false</td><td>false</td><td>2013-04-20</td><td>2013</td><td>104</td><td>6</td><td>346</td><td>null</td><td>null</td><td>20333</td><td>103</td><td>20328</td><td>5</td><td>-1</td><td>-1</td><td>20348</td><td>345</td><td>-1</td><td>4</td><td>1</td><td>false</td><td>0</td><td>null</td></tr><tr><td>598028</td><td>14</td><td>4</td><td>1</td><td>5</td><td>2</td><td>3</td><td>No Extras</td><td>0</td><td>0</td><td>0</td><td>0</td><td>0</td><td>0</td><td>0</td><td>0</td><td>Not Applicable</td><td>false</td><td>false</td><td>false</td><td>false</td><td>false</td><td>false</td><td>false</td><td>false</td><td>false</td><td>false</td><td>2013-04-20</td><td>2013</td><td>6</td><td>104</td><td>346</td><td>null</td><td>null</td><td>20328</td><td>5</td><td>20333</td><td>103</td><td>-1</td><td>-1</td><td>20348</td><td>345</td><td>-1</td><td>4</td><td>1</td><td>false</td><td>0</td><td>null</td></tr><tr><td>598028</td><td>14</td><td>5</td><td>1</td><td>5</td><td>2</td><td>3</td><td>No Extras</td><td>4</td><td>0</td><td>0</td><td>0</td><td>0</td><td>0</td><td>0</td><td>0</td><td>Not Applicable</td><td>false</td><td>false</td><td>false</td><td>false</td><td>false</td><td>false</td><td>false</td><td>false</td><td>false</td><td>false</td><td>2013-04-20</td><td>2013</td><td>6</td><td>104</td><td>346</td><td>null</td><td>null</td><td>20328</td><td>5</td><td>20333</td><td>103</td><td>-1</td><td>-1</td><td>20348</td><td>345</td><td>-1</td><td>4</td><td>1</td><td>false</td><td>0</td><td>null</td></tr><tr><td>598028</td><td>14</td><td>6</td><td>1</td><td>5</td><td>2</td><td>3</td><td>No Extras</td><td>2</td><td>0</td><td>0</td><td>0</td><td>0</td><td>0</td><td>0</td><td>0</td><td>Not Applicable</td><td>false</td><td>false</td><td>false</td><td>false</td><td>false</td><td>false</td><td>false</td><td>false</td><td>false</td><td>false</td><td>2013-04-20</td><td>2013</td><td>6</td><td>104</td><td>346</td><td>null</td><td>null</td><td>20328</td><td>5</td><td>20333</td><td>103</td><td>-1</td><td>-1</td><td>20348</td><td>345</td><td>-1</td><td>4</td><td>1</td><td>false</td><td>0</td><td>null</td></tr><tr><td>598028</td><td>13</td><td>1</td><td>1</td><td>5</td><td>2</td><td>5</td><td>No Extras</td><td>1</td><td>0</td><td>0</td><td>0</td><td>0</td><td>0</td><td>0</td><td>0</td><td>Not Applicable</td><td>false</td><td>false</td><td>false</td><td>false</td><td>false</td><td>false</td><td>false</td><td>false</td><td>false</td><td>false</td><td>2013-04-20</td><td>2013</td><td>104</td><td>6</td><td>83</td><td>null</td><td>null</td><td>20333</td><td>103</td><td>20328</td><td>5</td><td>-1</td><td>-1</td><td>20343</td><td>82</td><td>-1</td><td>4</td><td>1</td><td>false</td><td>0</td><td>null</td></tr><tr><td>598028</td><td>13</td><td>2</td><td>1</td><td>5</td><td>2</td><td>3</td><td>No Extras</td><td>4</td><td>0</td><td>0</td><td>0</td><td>0</td><td>0</td><td>0</td><td>0</td><td>Not Applicable</td><td>false</td><td>false</td><td>false</td><td>false</td><td>false</td><td>false</td><td>false</td><td>false</td><td>false</td><td>false</td><td>2013-04-20</td><td>2013</td><td>6</td><td>104</td><td>83</td><td>null</td><td>null</td><td>20328</td><td>5</td><td>20333</td><td>103</td><td>-1</td><td>-1</td><td>20343</td><td>82</td><td>-1</td><td>4</td><td>1</td><td>false</td><td>0</td><td>null</td></tr><tr><td>598028</td><td>13</td><td>3</td><td>1</td><td>5</td><td>2</td><td>3</td><td>No Extras</td><td>1</td><td>0</td><td>0</td><td>0</td><td>0</td><td>0</td><td>0</td><td>0</td><td>Not Applicable</td><td>false</td><td>false</td><td>false</td><td>false</td><td>false</td><td>false</td><td>false</td><td>false</td><td>false</td><td>false</td><td>2013-04-20</td><td>2013</td><td>6</td><td>104</td><td>83</td><td>null</td><td>null</td><td>20328</td><td>5</td><td>20333</td><td>103</td><td>-1</td><td>-1</td><td>20343</td><td>82</td><td>-1</td><td>4</td><td>1</td><td>false</td><td>0</td><td>null</td></tr></tbody></table></div>"
      ]
     },
     "metadata": {
      "application/vnd.databricks.v1+output": {
       "addedWidgets": {},
       "aggData": [],
       "aggError": "",
       "aggOverflow": false,
       "aggSchema": [],
       "aggSeriesLimitReached": false,
       "aggType": "",
       "arguments": {},
       "columnCustomDisplayInfos": {},
       "data": [
        [
         598028,
         15,
         6,
         1,
         5,
         2,
         6,
         "No Extras",
         4,
         0,
         0,
         0,
         0,
         0,
         0,
         0,
         "Not Applicable",
         false,
         false,
         false,
         false,
         false,
         false,
         false,
         false,
         false,
         false,
         "2013-04-20",
         2013,
         277,
         104,
         83,
         null,
         null,
         20336,
         276,
         20333,
         103,
         -1,
         -1,
         20343,
         82,
         -1,
         4,
         1,
         false,
         0,
         null
        ],
        [
         598028,
         14,
         1,
         1,
         5,
         2,
         5,
         "No Extras",
         1,
         0,
         0,
         0,
         0,
         0,
         0,
         0,
         "Not Applicable",
         false,
         false,
         false,
         false,
         false,
         false,
         false,
         false,
         false,
         false,
         "2013-04-20",
         2013,
         104,
         6,
         346,
         null,
         null,
         20333,
         103,
         20328,
         5,
         -1,
         -1,
         20348,
         345,
         -1,
         4,
         1,
         false,
         0,
         null
        ],
        [
         598028,
         14,
         2,
         1,
         5,
         2,
         3,
         "No Extras",
         1,
         0,
         0,
         0,
         0,
         0,
         0,
         0,
         "Not Applicable",
         false,
         false,
         false,
         false,
         false,
         false,
         false,
         false,
         false,
         false,
         "2013-04-20",
         2013,
         6,
         104,
         346,
         null,
         null,
         20328,
         5,
         20333,
         103,
         -1,
         -1,
         20348,
         345,
         -1,
         4,
         1,
         false,
         0,
         null
        ],
        [
         598028,
         14,
         3,
         1,
         5,
         2,
         5,
         "No Extras",
         1,
         0,
         0,
         0,
         0,
         0,
         0,
         0,
         "Not Applicable",
         false,
         false,
         false,
         false,
         false,
         false,
         false,
         false,
         false,
         false,
         "2013-04-20",
         2013,
         104,
         6,
         346,
         null,
         null,
         20333,
         103,
         20328,
         5,
         -1,
         -1,
         20348,
         345,
         -1,
         4,
         1,
         false,
         0,
         null
        ],
        [
         598028,
         14,
         4,
         1,
         5,
         2,
         3,
         "No Extras",
         0,
         0,
         0,
         0,
         0,
         0,
         0,
         0,
         "Not Applicable",
         false,
         false,
         false,
         false,
         false,
         false,
         false,
         false,
         false,
         false,
         "2013-04-20",
         2013,
         6,
         104,
         346,
         null,
         null,
         20328,
         5,
         20333,
         103,
         -1,
         -1,
         20348,
         345,
         -1,
         4,
         1,
         false,
         0,
         null
        ],
        [
         598028,
         14,
         5,
         1,
         5,
         2,
         3,
         "No Extras",
         4,
         0,
         0,
         0,
         0,
         0,
         0,
         0,
         "Not Applicable",
         false,
         false,
         false,
         false,
         false,
         false,
         false,
         false,
         false,
         false,
         "2013-04-20",
         2013,
         6,
         104,
         346,
         null,
         null,
         20328,
         5,
         20333,
         103,
         -1,
         -1,
         20348,
         345,
         -1,
         4,
         1,
         false,
         0,
         null
        ],
        [
         598028,
         14,
         6,
         1,
         5,
         2,
         3,
         "No Extras",
         2,
         0,
         0,
         0,
         0,
         0,
         0,
         0,
         "Not Applicable",
         false,
         false,
         false,
         false,
         false,
         false,
         false,
         false,
         false,
         false,
         "2013-04-20",
         2013,
         6,
         104,
         346,
         null,
         null,
         20328,
         5,
         20333,
         103,
         -1,
         -1,
         20348,
         345,
         -1,
         4,
         1,
         false,
         0,
         null
        ],
        [
         598028,
         13,
         1,
         1,
         5,
         2,
         5,
         "No Extras",
         1,
         0,
         0,
         0,
         0,
         0,
         0,
         0,
         "Not Applicable",
         false,
         false,
         false,
         false,
         false,
         false,
         false,
         false,
         false,
         false,
         "2013-04-20",
         2013,
         104,
         6,
         83,
         null,
         null,
         20333,
         103,
         20328,
         5,
         -1,
         -1,
         20343,
         82,
         -1,
         4,
         1,
         false,
         0,
         null
        ],
        [
         598028,
         13,
         2,
         1,
         5,
         2,
         3,
         "No Extras",
         4,
         0,
         0,
         0,
         0,
         0,
         0,
         0,
         "Not Applicable",
         false,
         false,
         false,
         false,
         false,
         false,
         false,
         false,
         false,
         false,
         "2013-04-20",
         2013,
         6,
         104,
         83,
         null,
         null,
         20328,
         5,
         20333,
         103,
         -1,
         -1,
         20343,
         82,
         -1,
         4,
         1,
         false,
         0,
         null
        ],
        [
         598028,
         13,
         3,
         1,
         5,
         2,
         3,
         "No Extras",
         1,
         0,
         0,
         0,
         0,
         0,
         0,
         0,
         "Not Applicable",
         false,
         false,
         false,
         false,
         false,
         false,
         false,
         false,
         false,
         false,
         "2013-04-20",
         2013,
         6,
         104,
         83,
         null,
         null,
         20328,
         5,
         20333,
         103,
         -1,
         -1,
         20343,
         82,
         -1,
         4,
         1,
         false,
         0,
         null
        ]
       ],
       "datasetInfos": [],
       "dbfsResultPath": null,
       "isJsonSchema": true,
       "metadata": {},
       "overflow": false,
       "plotOptions": {
        "customPlotOptions": {},
        "displayType": "table",
        "pivotAggregation": null,
        "pivotColumns": null,
        "xColumns": null,
        "yColumns": null
       },
       "removedWidgets": [],
       "schema": [
        {
         "metadata": "{}",
         "name": "match_id",
         "type": "\"integer\""
        },
        {
         "metadata": "{}",
         "name": "over_id",
         "type": "\"integer\""
        },
        {
         "metadata": "{}",
         "name": "ball_id",
         "type": "\"integer\""
        },
        {
         "metadata": "{}",
         "name": "innings_no",
         "type": "\"integer\""
        },
        {
         "metadata": "{}",
         "name": "team_batting",
         "type": "\"integer\""
        },
        {
         "metadata": "{}",
         "name": "team_bowling",
         "type": "\"integer\""
        },
        {
         "metadata": "{}",
         "name": "striker_batting_position",
         "type": "\"integer\""
        },
        {
         "metadata": "{}",
         "name": "extra_type",
         "type": "\"string\""
        },
        {
         "metadata": "{}",
         "name": "runs_scored",
         "type": "\"integer\""
        },
        {
         "metadata": "{}",
         "name": "extra_runs",
         "type": "\"integer\""
        },
        {
         "metadata": "{}",
         "name": "wides",
         "type": "\"integer\""
        },
        {
         "metadata": "{}",
         "name": "legbyes",
         "type": "\"integer\""
        },
        {
         "metadata": "{}",
         "name": "byes",
         "type": "\"integer\""
        },
        {
         "metadata": "{}",
         "name": "noballs",
         "type": "\"integer\""
        },
        {
         "metadata": "{}",
         "name": "penalty",
         "type": "\"integer\""
        },
        {
         "metadata": "{}",
         "name": "bowler_extras",
         "type": "\"integer\""
        },
        {
         "metadata": "{}",
         "name": "out_type",
         "type": "\"string\""
        },
        {
         "metadata": "{}",
         "name": "caught",
         "type": "\"boolean\""
        },
        {
         "metadata": "{}",
         "name": "bowled",
         "type": "\"boolean\""
        },
        {
         "metadata": "{}",
         "name": "run_out",
         "type": "\"boolean\""
        },
        {
         "metadata": "{}",
         "name": "lbw",
         "type": "\"boolean\""
        },
        {
         "metadata": "{}",
         "name": "retired_hurt",
         "type": "\"boolean\""
        },
        {
         "metadata": "{}",
         "name": "stumped",
         "type": "\"boolean\""
        },
        {
         "metadata": "{}",
         "name": "caught_and_bowled",
         "type": "\"boolean\""
        },
        {
         "metadata": "{}",
         "name": "hit_wicket",
         "type": "\"boolean\""
        },
        {
         "metadata": "{}",
         "name": "obstructingfeild",
         "type": "\"boolean\""
        },
        {
         "metadata": "{}",
         "name": "bowler_wicket",
         "type": "\"boolean\""
        },
        {
         "metadata": "{}",
         "name": "match_date",
         "type": "\"date\""
        },
        {
         "metadata": "{}",
         "name": "season",
         "type": "\"integer\""
        },
        {
         "metadata": "{}",
         "name": "striker",
         "type": "\"integer\""
        },
        {
         "metadata": "{}",
         "name": "non_striker",
         "type": "\"integer\""
        },
        {
         "metadata": "{}",
         "name": "bowler",
         "type": "\"integer\""
        },
        {
         "metadata": "{}",
         "name": "player_out",
         "type": "\"integer\""
        },
        {
         "metadata": "{}",
         "name": "fielders",
         "type": "\"integer\""
        },
        {
         "metadata": "{}",
         "name": "striker_match_sk",
         "type": "\"integer\""
        },
        {
         "metadata": "{}",
         "name": "strikersk",
         "type": "\"integer\""
        },
        {
         "metadata": "{}",
         "name": "nonstriker_match_sk",
         "type": "\"integer\""
        },
        {
         "metadata": "{}",
         "name": "nonstriker_sk",
         "type": "\"integer\""
        },
        {
         "metadata": "{}",
         "name": "fielder_match_sk",
         "type": "\"integer\""
        },
        {
         "metadata": "{}",
         "name": "fielder_sk",
         "type": "\"integer\""
        },
        {
         "metadata": "{}",
         "name": "bowler_match_sk",
         "type": "\"integer\""
        },
        {
         "metadata": "{}",
         "name": "bowler_sk",
         "type": "\"integer\""
        },
        {
         "metadata": "{}",
         "name": "playerout_match_sk",
         "type": "\"integer\""
        },
        {
         "metadata": "{}",
         "name": "battingteam_sk",
         "type": "\"integer\""
        },
        {
         "metadata": "{}",
         "name": "bowlingteam_sk",
         "type": "\"integer\""
        },
        {
         "metadata": "{}",
         "name": "keeper_catch",
         "type": "\"boolean\""
        },
        {
         "metadata": "{}",
         "name": "player_out_sk",
         "type": "\"integer\""
        },
        {
         "metadata": "{}",
         "name": "matchdatesk",
         "type": "\"date\""
        }
       ],
       "type": "table"
      }
     },
     "output_type": "display_data"
    }
   ],
   "source": [
    "ball_by_ball_df = spark.read.format('csv')\\\n",
    "                            .option(\"header\",\"true\")\\\n",
    "                            .schema(ball_by_ball_schema)\\\n",
    "                            .option(\"dateFormat\",\"M/d/y\")\\\n",
    "                            .load(\"s3://ipldatabucket2017/Ball_By_Ball.csv\")\n",
    "\n",
    "ball_by_ball_df.limit(10).display()"
   ]
  },
  {
   "cell_type": "code",
   "execution_count": 0,
   "metadata": {
    "application/vnd.databricks.v1+cell": {
     "cellMetadata": {
      "byteLimit": 2048000,
      "rowLimit": 10000
     },
     "inputWidgets": {},
     "nuid": "d10e67c0-daca-40f8-9db9-0741101a5f63",
     "showTitle": false,
     "tableResultSettingsMap": {},
     "title": ""
    }
   },
   "outputs": [],
   "source": [
    "match_schema = StructType([\n",
    "    StructField(\"match_sk\", IntegerType(), True), \n",
    "    StructField(\"match_id\", IntegerType(), True), \n",
    "    StructField(\"team1\", StringType(), True), \n",
    "    StructField(\"team2\", StringType(), True), \n",
    "    StructField(\"match_date\", DateType(), True), \n",
    "    StructField(\"season_year\", IntegerType(), True),\n",
    "    StructField(\"venue_name\", StringType(), True), \n",
    "    StructField(\"city_name\", StringType(), True), \n",
    "    StructField(\"country_name\", StringType(), True), \n",
    "    StructField(\"toss_winner\", StringType(), True), \n",
    "    StructField(\"match_winner\", StringType(), True), \n",
    "    StructField(\"toss_name\", StringType(), True), \n",
    "    StructField(\"win_type\", StringType(), True), \n",
    "    StructField(\"outcome_type\", StringType(), True), \n",
    "    StructField(\"manofmach\", StringType(), True), \n",
    "    StructField(\"win_margin\", IntegerType(), True), \n",
    "    StructField(\"country_id\", IntegerType(), True)\n",
    "])"
   ]
  },
  {
   "cell_type": "code",
   "execution_count": 0,
   "metadata": {
    "application/vnd.databricks.v1+cell": {
     "cellMetadata": {
      "byteLimit": 2048000,
      "rowLimit": 10000
     },
     "inputWidgets": {},
     "nuid": "23e160ea-0f0f-479f-8095-67b41feac058",
     "showTitle": false,
     "tableResultSettingsMap": {},
     "title": ""
    }
   },
   "outputs": [
    {
     "output_type": "display_data",
     "data": {
      "text/html": [
       "<style scoped>\n",
       "  .table-result-container {\n",
       "    max-height: 300px;\n",
       "    overflow: auto;\n",
       "  }\n",
       "  table, th, td {\n",
       "    border: 1px solid black;\n",
       "    border-collapse: collapse;\n",
       "  }\n",
       "  th, td {\n",
       "    padding: 5px;\n",
       "  }\n",
       "  th {\n",
       "    text-align: left;\n",
       "  }\n",
       "</style><div class='table-result-container'><table class='table-result'><thead style='background-color: white'><tr><th>match_sk</th><th>match_id</th><th>team1</th><th>team2</th><th>match_date</th><th>season_year</th><th>venue_name</th><th>city_name</th><th>country_name</th><th>toss_winner</th><th>match_winner</th><th>toss_name</th><th>win_type</th><th>outcome_type</th><th>manofmach</th><th>win_margin</th><th>country_id</th></tr></thead><tbody><tr><td>0</td><td>335987</td><td>Royal Challengers Bangalore</td><td>Kolkata Knight Riders</td><td>2008-04-18</td><td>2008</td><td>M Chinnaswamy Stadium</td><td>Bangalore</td><td>India</td><td>Royal Challengers Bangalore</td><td>Kolkata Knight Riders</td><td>field</td><td>runs</td><td>Result</td><td>BB McCullum</td><td>140</td><td>1</td></tr><tr><td>1</td><td>335988</td><td>Kings XI Punjab</td><td>Chennai Super Kings</td><td>2008-04-19</td><td>2008</td><td>Punjab Cricket Association Stadium, Mohali</td><td>Chandigarh</td><td>India</td><td>Chennai Super Kings</td><td>Chennai Super Kings</td><td>bat</td><td>runs</td><td>Result</td><td>MEK Hussey</td><td>33</td><td>1</td></tr><tr><td>2</td><td>335989</td><td>Delhi Daredevils</td><td>Rajasthan Royals</td><td>2008-04-19</td><td>2008</td><td>Feroz Shah Kotla</td><td>Delhi</td><td>India</td><td>Rajasthan Royals</td><td>Delhi Daredevils</td><td>bat</td><td>wickets</td><td>Result</td><td>MF Maharoof</td><td>9</td><td>1</td></tr><tr><td>3</td><td>335990</td><td>Mumbai Indians</td><td>Royal Challengers Bangalore</td><td>2008-04-20</td><td>2008</td><td>Wankhede Stadium</td><td>Mumbai</td><td>India</td><td>Mumbai Indians</td><td>Royal Challengers Bangalore</td><td>bat</td><td>wickets</td><td>Result</td><td>MV Boucher</td><td>5</td><td>1</td></tr><tr><td>4</td><td>335991</td><td>Kolkata Knight Riders</td><td>Deccan Chargers</td><td>2008-04-20</td><td>2008</td><td>Eden Gardens</td><td>Kolkata</td><td>India</td><td>Deccan Chargers</td><td>Kolkata Knight Riders</td><td>bat</td><td>wickets</td><td>Result</td><td>DJ Hussey</td><td>5</td><td>1</td></tr><tr><td>5</td><td>335992</td><td>Rajasthan Royals</td><td>Kings XI Punjab</td><td>2008-04-21</td><td>2008</td><td>Sawai Mansingh Stadium</td><td>Jaipur</td><td>India</td><td>Kings XI Punjab</td><td>Rajasthan Royals</td><td>bat</td><td>wickets</td><td>Result</td><td>SR Watson</td><td>6</td><td>1</td></tr><tr><td>6</td><td>335993</td><td>Deccan Chargers</td><td>Delhi Daredevils</td><td>2008-04-22</td><td>2008</td><td>Rajiv Gandhi International Stadium, Uppal</td><td>Hyderabad</td><td>India</td><td>Deccan Chargers</td><td>Delhi Daredevils</td><td>bat</td><td>wickets</td><td>Result</td><td>V Sehwag</td><td>9</td><td>1</td></tr><tr><td>7</td><td>335994</td><td>Chennai Super Kings</td><td>Mumbai Indians</td><td>2008-04-23</td><td>2008</td><td>MA Chidambaram Stadium, Chepauk</td><td>Chennai</td><td>India</td><td>Mumbai Indians</td><td>Chennai Super Kings</td><td>field</td><td>runs</td><td>Result</td><td>ML Hayden</td><td>6</td><td>1</td></tr><tr><td>8</td><td>335995</td><td>Deccan Chargers</td><td>Rajasthan Royals</td><td>2008-04-24</td><td>2008</td><td>Rajiv Gandhi International Stadium, Uppal</td><td>Hyderabad</td><td>India</td><td>Rajasthan Royals</td><td>Rajasthan Royals</td><td>field</td><td>wickets</td><td>Result</td><td>YK Pathan</td><td>3</td><td>1</td></tr><tr><td>9</td><td>335996</td><td>Kings XI Punjab</td><td>Mumbai Indians</td><td>2008-04-25</td><td>2008</td><td>Punjab Cricket Association Stadium, Mohali</td><td>Chandigarh</td><td>India</td><td>Mumbai Indians</td><td>Kings XI Punjab</td><td>field</td><td>runs</td><td>Result</td><td>KC Sangakkara</td><td>66</td><td>1</td></tr></tbody></table></div>"
      ]
     },
     "metadata": {
      "application/vnd.databricks.v1+output": {
       "addedWidgets": {},
       "aggData": [],
       "aggError": "",
       "aggOverflow": false,
       "aggSchema": [],
       "aggSeriesLimitReached": false,
       "aggType": "",
       "arguments": {},
       "columnCustomDisplayInfos": {},
       "data": [
        [
         0,
         335987,
         "Royal Challengers Bangalore",
         "Kolkata Knight Riders",
         "2008-04-18",
         2008,
         "M Chinnaswamy Stadium",
         "Bangalore",
         "India",
         "Royal Challengers Bangalore",
         "Kolkata Knight Riders",
         "field",
         "runs",
         "Result",
         "BB McCullum",
         140,
         1
        ],
        [
         1,
         335988,
         "Kings XI Punjab",
         "Chennai Super Kings",
         "2008-04-19",
         2008,
         "Punjab Cricket Association Stadium, Mohali",
         "Chandigarh",
         "India",
         "Chennai Super Kings",
         "Chennai Super Kings",
         "bat",
         "runs",
         "Result",
         "MEK Hussey",
         33,
         1
        ],
        [
         2,
         335989,
         "Delhi Daredevils",
         "Rajasthan Royals",
         "2008-04-19",
         2008,
         "Feroz Shah Kotla",
         "Delhi",
         "India",
         "Rajasthan Royals",
         "Delhi Daredevils",
         "bat",
         "wickets",
         "Result",
         "MF Maharoof",
         9,
         1
        ],
        [
         3,
         335990,
         "Mumbai Indians",
         "Royal Challengers Bangalore",
         "2008-04-20",
         2008,
         "Wankhede Stadium",
         "Mumbai",
         "India",
         "Mumbai Indians",
         "Royal Challengers Bangalore",
         "bat",
         "wickets",
         "Result",
         "MV Boucher",
         5,
         1
        ],
        [
         4,
         335991,
         "Kolkata Knight Riders",
         "Deccan Chargers",
         "2008-04-20",
         2008,
         "Eden Gardens",
         "Kolkata",
         "India",
         "Deccan Chargers",
         "Kolkata Knight Riders",
         "bat",
         "wickets",
         "Result",
         "DJ Hussey",
         5,
         1
        ],
        [
         5,
         335992,
         "Rajasthan Royals",
         "Kings XI Punjab",
         "2008-04-21",
         2008,
         "Sawai Mansingh Stadium",
         "Jaipur",
         "India",
         "Kings XI Punjab",
         "Rajasthan Royals",
         "bat",
         "wickets",
         "Result",
         "SR Watson",
         6,
         1
        ],
        [
         6,
         335993,
         "Deccan Chargers",
         "Delhi Daredevils",
         "2008-04-22",
         2008,
         "Rajiv Gandhi International Stadium, Uppal",
         "Hyderabad",
         "India",
         "Deccan Chargers",
         "Delhi Daredevils",
         "bat",
         "wickets",
         "Result",
         "V Sehwag",
         9,
         1
        ],
        [
         7,
         335994,
         "Chennai Super Kings",
         "Mumbai Indians",
         "2008-04-23",
         2008,
         "MA Chidambaram Stadium, Chepauk",
         "Chennai",
         "India",
         "Mumbai Indians",
         "Chennai Super Kings",
         "field",
         "runs",
         "Result",
         "ML Hayden",
         6,
         1
        ],
        [
         8,
         335995,
         "Deccan Chargers",
         "Rajasthan Royals",
         "2008-04-24",
         2008,
         "Rajiv Gandhi International Stadium, Uppal",
         "Hyderabad",
         "India",
         "Rajasthan Royals",
         "Rajasthan Royals",
         "field",
         "wickets",
         "Result",
         "YK Pathan",
         3,
         1
        ],
        [
         9,
         335996,
         "Kings XI Punjab",
         "Mumbai Indians",
         "2008-04-25",
         2008,
         "Punjab Cricket Association Stadium, Mohali",
         "Chandigarh",
         "India",
         "Mumbai Indians",
         "Kings XI Punjab",
         "field",
         "runs",
         "Result",
         "KC Sangakkara",
         66,
         1
        ]
       ],
       "datasetInfos": [],
       "dbfsResultPath": null,
       "isJsonSchema": true,
       "metadata": {},
       "overflow": false,
       "plotOptions": {
        "customPlotOptions": {},
        "displayType": "table",
        "pivotAggregation": null,
        "pivotColumns": null,
        "xColumns": null,
        "yColumns": null
       },
       "removedWidgets": [],
       "schema": [
        {
         "metadata": "{}",
         "name": "match_sk",
         "type": "\"integer\""
        },
        {
         "metadata": "{}",
         "name": "match_id",
         "type": "\"integer\""
        },
        {
         "metadata": "{}",
         "name": "team1",
         "type": "\"string\""
        },
        {
         "metadata": "{}",
         "name": "team2",
         "type": "\"string\""
        },
        {
         "metadata": "{}",
         "name": "match_date",
         "type": "\"date\""
        },
        {
         "metadata": "{}",
         "name": "season_year",
         "type": "\"integer\""
        },
        {
         "metadata": "{}",
         "name": "venue_name",
         "type": "\"string\""
        },
        {
         "metadata": "{}",
         "name": "city_name",
         "type": "\"string\""
        },
        {
         "metadata": "{}",
         "name": "country_name",
         "type": "\"string\""
        },
        {
         "metadata": "{}",
         "name": "toss_winner",
         "type": "\"string\""
        },
        {
         "metadata": "{}",
         "name": "match_winner",
         "type": "\"string\""
        },
        {
         "metadata": "{}",
         "name": "toss_name",
         "type": "\"string\""
        },
        {
         "metadata": "{}",
         "name": "win_type",
         "type": "\"string\""
        },
        {
         "metadata": "{}",
         "name": "outcome_type",
         "type": "\"string\""
        },
        {
         "metadata": "{}",
         "name": "manofmach",
         "type": "\"string\""
        },
        {
         "metadata": "{}",
         "name": "win_margin",
         "type": "\"integer\""
        },
        {
         "metadata": "{}",
         "name": "country_id",
         "type": "\"integer\""
        }
       ],
       "type": "table"
      }
     },
     "output_type": "display_data"
    }
   ],
   "source": [
    "match_df = spark.read.format('csv')\\\n",
    "                            .option(\"header\",\"true\")\\\n",
    "                            .schema(match_schema)\\\n",
    "                            .option(\"dateFormat\",\"M/d/y\")\\\n",
    "                            .load(\"s3://ipldatabucket2017/Match.csv\")\n",
    "\n",
    "match_df.limit(10).display()"
   ]
  },
  {
   "cell_type": "code",
   "execution_count": 0,
   "metadata": {
    "application/vnd.databricks.v1+cell": {
     "cellMetadata": {
      "byteLimit": 2048000,
      "rowLimit": 10000
     },
     "inputWidgets": {},
     "nuid": "1ef33be4-5451-4ec7-bd14-18a9f3f679a1",
     "showTitle": false,
     "tableResultSettingsMap": {},
     "title": ""
    }
   },
   "outputs": [
    {
     "output_type": "stream",
     "name": "stdout",
     "output_type": "stream",
     "text": [
      "+--------------------+\n|        match_winner|\n+--------------------+\n| Sunrisers Hyderabad|\n| Chennai Super Kings|\n|                tied|\n|     Deccan Chargers|\n|Kochi Tuskers Kerala|\n|    Rajasthan Royals|\n|       Gujarat Lions|\n|Royal Challengers...|\n|Kolkata Knight Ri...|\n|           abandoned|\n|Rising Pune Super...|\n|     Kings XI Punjab|\n|       Pune Warriors|\n|    Delhi Daredevils|\n|      Mumbai Indians|\n|                NULL|\n+--------------------+\n\n+--------------------+\n|         toss_winner|\n+--------------------+\n| Sunrisers Hyderabad|\n| Chennai Super Kings|\n|                null|\n|Rising Pune Super...|\n|     Deccan Chargers|\n|Kochi Tuskers Kerala|\n|    Rajasthan Royals|\n|       Gujarat Lions|\n|Royal Challengers...|\n|Kolkata Knight Ri...|\n|Rising Pune Super...|\n|     Kings XI Punjab|\n|       Pune Warriors|\n|    Delhi Daredevils|\n|      Mumbai Indians|\n+--------------------+\n\n"
     ]
    }
   ],
   "source": [
    "match_df.select(\"match_winner\").distinct().show()\n",
    "match_df.select(\"toss_winner\").distinct().show()"
   ]
  },
  {
   "cell_type": "code",
   "execution_count": 0,
   "metadata": {
    "application/vnd.databricks.v1+cell": {
     "cellMetadata": {
      "byteLimit": 2048000,
      "rowLimit": 10000
     },
     "inputWidgets": {},
     "nuid": "438aa57c-3e7b-429d-a058-e347d3919f23",
     "showTitle": false,
     "tableResultSettingsMap": {},
     "title": ""
    }
   },
   "outputs": [],
   "source": [
    "#to handle null values in match df\n",
    "match_df = match_df.fillna({'match_winner': 'Not Applied'})\n",
    "match_df = match_df.fillna({'toss_winner': 'Not Applied'})"
   ]
  },
  {
   "cell_type": "code",
   "execution_count": 0,
   "metadata": {
    "application/vnd.databricks.v1+cell": {
     "cellMetadata": {
      "byteLimit": 2048000,
      "rowLimit": 10000
     },
     "inputWidgets": {},
     "nuid": "47cefe54-212e-4876-bfbf-7d8117250581",
     "showTitle": false,
     "tableResultSettingsMap": {},
     "title": ""
    }
   },
   "outputs": [],
   "source": [
    "player_match_schema = StructType([\n",
    "    StructField(\"player_match_sk\", IntegerType(), True), \n",
    "    StructField(\"playermatch_key\", StringType(), True), \n",
    "    StructField(\"match_id\", DecimalType(), True), \n",
    "    StructField(\"player_id\", IntegerType(), True), \n",
    "    StructField(\"player_name\", StringType(), True), \n",
    "    StructField(\"dob\", DateType(), True), \n",
    "    StructField(\"batting_hand\", StringType(), True), \n",
    "    StructField(\"bowling_skill\", StringType(), True), \n",
    "    StructField(\"country_name\", StringType(), True), \n",
    "    StructField(\"role_desc\", StringType(), True), \n",
    "    StructField(\"player_team\", StringType(), True), \n",
    "    StructField(\"opposit_team\", StringType(), True), \n",
    "    StructField(\"season_year\", IntegerType(), True), # Use StringType() for year \n",
    "    StructField(\"is_manofthematch\", BooleanType(), True), \n",
    "    StructField(\"age_as_on_match\", IntegerType(), True), \n",
    "    StructField(\"isplayers_team_won\", BooleanType(), True), \n",
    "    StructField(\"batting_status\", StringType(), True), \n",
    "    StructField(\"bowling_status\", StringType(), True), \n",
    "    StructField(\"player_captain\", StringType(), True), \n",
    "    StructField(\"opposit_captain\", StringType(), True), \n",
    "    StructField(\"player_keeper\", StringType(), True), \n",
    "    StructField(\"opposit_keeper\", StringType(), True)\n",
    "])"
   ]
  },
  {
   "cell_type": "code",
   "execution_count": 0,
   "metadata": {
    "application/vnd.databricks.v1+cell": {
     "cellMetadata": {
      "byteLimit": 2048000,
      "rowLimit": 10000
     },
     "inputWidgets": {},
     "nuid": "95f934f0-92a8-4261-ab87-b16489168d7d",
     "showTitle": false,
     "tableResultSettingsMap": {},
     "title": ""
    }
   },
   "outputs": [
    {
     "output_type": "display_data",
     "data": {
      "text/html": [
       "<style scoped>\n",
       "  .table-result-container {\n",
       "    max-height: 300px;\n",
       "    overflow: auto;\n",
       "  }\n",
       "  table, th, td {\n",
       "    border: 1px solid black;\n",
       "    border-collapse: collapse;\n",
       "  }\n",
       "  th, td {\n",
       "    padding: 5px;\n",
       "  }\n",
       "  th {\n",
       "    text-align: left;\n",
       "  }\n",
       "</style><div class='table-result-container'><table class='table-result'><thead style='background-color: white'><tr><th>player_match_sk</th><th>playermatch_key</th><th>match_id</th><th>player_id</th><th>player_name</th><th>dob</th><th>batting_hand</th><th>bowling_skill</th><th>country_name</th><th>role_desc</th><th>player_team</th><th>opposit_team</th><th>season_year</th><th>is_manofthematch</th><th>age_as_on_match</th><th>isplayers_team_won</th><th>batting_status</th><th>bowling_status</th><th>player_captain</th><th>opposit_captain</th><th>player_keeper</th><th>opposit_keeper</th></tr></thead><tbody><tr><td>12694</td><td>33598700006</td><td>335987</td><td>6</td><td>R Dravid</td><td>1973-01-11</td><td>Right-hand bat</td><td>Right-arm offbreak</td><td>India</td><td>Captain</td><td>Royal Challengers Bangalore</td><td>Kolkata Knight Riders</td><td>2008</td><td>false</td><td>35</td><td>false</td><td>null</td><td>null</td><td>R Dravid</td><td>SC Ganguly</td><td>MV Boucher</td><td>WP Saha</td></tr><tr><td>12695</td><td>33598700007</td><td>335987</td><td>7</td><td>W Jaffer</td><td>1978-02-16</td><td>Right-hand bat</td><td>Right-arm offbreak</td><td>India</td><td>Player</td><td>Royal Challengers Bangalore</td><td>Kolkata Knight Riders</td><td>2008</td><td>false</td><td>30</td><td>false</td><td>null</td><td>null</td><td>R Dravid</td><td>SC Ganguly</td><td>MV Boucher</td><td>WP Saha</td></tr><tr><td>12696</td><td>33598700008</td><td>335987</td><td>8</td><td>V Kohli</td><td>1988-11-05</td><td>Right-hand bat</td><td>Right-arm medium</td><td>India</td><td>Player</td><td>Royal Challengers Bangalore</td><td>Kolkata Knight Riders</td><td>2008</td><td>false</td><td>20</td><td>false</td><td>null</td><td>null</td><td>R Dravid</td><td>SC Ganguly</td><td>MV Boucher</td><td>WP Saha</td></tr><tr><td>12697</td><td>33598700009</td><td>335987</td><td>9</td><td>JH Kallis</td><td>1975-10-16</td><td>Right-hand bat</td><td>Right-arm fast-medium</td><td>South Africa</td><td>Player</td><td>Royal Challengers Bangalore</td><td>Kolkata Knight Riders</td><td>2008</td><td>false</td><td>33</td><td>false</td><td>null</td><td>null</td><td>R Dravid</td><td>SC Ganguly</td><td>MV Boucher</td><td>WP Saha</td></tr><tr><td>12698</td><td>33598700010</td><td>335987</td><td>10</td><td>CL White</td><td>1983-08-18</td><td>Right-hand bat</td><td>Legbreak googly</td><td>Australia</td><td>Player</td><td>Royal Challengers Bangalore</td><td>Kolkata Knight Riders</td><td>2008</td><td>false</td><td>25</td><td>false</td><td>null</td><td>null</td><td>R Dravid</td><td>SC Ganguly</td><td>MV Boucher</td><td>WP Saha</td></tr><tr><td>12699</td><td>33598700011</td><td>335987</td><td>11</td><td>MV Boucher</td><td>1976-12-03</td><td>Right-hand bat</td><td>Right-arm medium</td><td>South Africa</td><td>Keeper</td><td>Royal Challengers Bangalore</td><td>Kolkata Knight Riders</td><td>2008</td><td>false</td><td>32</td><td>false</td><td>null</td><td>null</td><td>R Dravid</td><td>SC Ganguly</td><td>MV Boucher</td><td>WP Saha</td></tr><tr><td>12700</td><td>33598700012</td><td>335987</td><td>12</td><td>B Akhil</td><td>1977-10-07</td><td>Right-hand bat</td><td>Right-arm medium-fast</td><td>India</td><td>Player</td><td>Royal Challengers Bangalore</td><td>Kolkata Knight Riders</td><td>2008</td><td>false</td><td>31</td><td>false</td><td>null</td><td>null</td><td>R Dravid</td><td>SC Ganguly</td><td>MV Boucher</td><td>WP Saha</td></tr><tr><td>12701</td><td>33598700013</td><td>335987</td><td>13</td><td>AA Noffke</td><td>1977-04-30</td><td>Right-hand bat</td><td>Right-arm fast-medium</td><td>Australia</td><td>Player</td><td>Royal Challengers Bangalore</td><td>Kolkata Knight Riders</td><td>2008</td><td>false</td><td>31</td><td>false</td><td>null</td><td>null</td><td>R Dravid</td><td>SC Ganguly</td><td>MV Boucher</td><td>WP Saha</td></tr><tr><td>12702</td><td>33598700014</td><td>335987</td><td>14</td><td>P Kumar</td><td>1986-10-02</td><td>Right-hand bat</td><td>Right-arm medium</td><td>India</td><td>Player</td><td>Royal Challengers Bangalore</td><td>Kolkata Knight Riders</td><td>2008</td><td>false</td><td>22</td><td>false</td><td>null</td><td>null</td><td>R Dravid</td><td>SC Ganguly</td><td>MV Boucher</td><td>WP Saha</td></tr><tr><td>12703</td><td>33598700015</td><td>335987</td><td>15</td><td>Z Khan</td><td>1978-10-07</td><td>Right-hand bat</td><td>Left-arm fast-medium</td><td>India</td><td>Player</td><td>Royal Challengers Bangalore</td><td>Kolkata Knight Riders</td><td>2008</td><td>false</td><td>30</td><td>false</td><td>null</td><td>null</td><td>R Dravid</td><td>SC Ganguly</td><td>MV Boucher</td><td>WP Saha</td></tr></tbody></table></div>"
      ]
     },
     "metadata": {
      "application/vnd.databricks.v1+output": {
       "addedWidgets": {},
       "aggData": [],
       "aggError": "",
       "aggOverflow": false,
       "aggSchema": [],
       "aggSeriesLimitReached": false,
       "aggType": "",
       "arguments": {},
       "columnCustomDisplayInfos": {},
       "data": [
        [
         12694,
         "33598700006",
         "335987",
         6,
         "R Dravid",
         "1973-01-11",
         "Right-hand bat",
         "Right-arm offbreak",
         "India",
         "Captain",
         "Royal Challengers Bangalore",
         "Kolkata Knight Riders",
         2008,
         false,
         35,
         false,
         null,
         null,
         "R Dravid",
         "SC Ganguly",
         "MV Boucher",
         "WP Saha"
        ],
        [
         12695,
         "33598700007",
         "335987",
         7,
         "W Jaffer",
         "1978-02-16",
         "Right-hand bat",
         "Right-arm offbreak",
         "India",
         "Player",
         "Royal Challengers Bangalore",
         "Kolkata Knight Riders",
         2008,
         false,
         30,
         false,
         null,
         null,
         "R Dravid",
         "SC Ganguly",
         "MV Boucher",
         "WP Saha"
        ],
        [
         12696,
         "33598700008",
         "335987",
         8,
         "V Kohli",
         "1988-11-05",
         "Right-hand bat",
         "Right-arm medium",
         "India",
         "Player",
         "Royal Challengers Bangalore",
         "Kolkata Knight Riders",
         2008,
         false,
         20,
         false,
         null,
         null,
         "R Dravid",
         "SC Ganguly",
         "MV Boucher",
         "WP Saha"
        ],
        [
         12697,
         "33598700009",
         "335987",
         9,
         "JH Kallis",
         "1975-10-16",
         "Right-hand bat",
         "Right-arm fast-medium",
         "South Africa",
         "Player",
         "Royal Challengers Bangalore",
         "Kolkata Knight Riders",
         2008,
         false,
         33,
         false,
         null,
         null,
         "R Dravid",
         "SC Ganguly",
         "MV Boucher",
         "WP Saha"
        ],
        [
         12698,
         "33598700010",
         "335987",
         10,
         "CL White",
         "1983-08-18",
         "Right-hand bat",
         "Legbreak googly",
         "Australia",
         "Player",
         "Royal Challengers Bangalore",
         "Kolkata Knight Riders",
         2008,
         false,
         25,
         false,
         null,
         null,
         "R Dravid",
         "SC Ganguly",
         "MV Boucher",
         "WP Saha"
        ],
        [
         12699,
         "33598700011",
         "335987",
         11,
         "MV Boucher",
         "1976-12-03",
         "Right-hand bat",
         "Right-arm medium",
         "South Africa",
         "Keeper",
         "Royal Challengers Bangalore",
         "Kolkata Knight Riders",
         2008,
         false,
         32,
         false,
         null,
         null,
         "R Dravid",
         "SC Ganguly",
         "MV Boucher",
         "WP Saha"
        ],
        [
         12700,
         "33598700012",
         "335987",
         12,
         "B Akhil",
         "1977-10-07",
         "Right-hand bat",
         "Right-arm medium-fast",
         "India",
         "Player",
         "Royal Challengers Bangalore",
         "Kolkata Knight Riders",
         2008,
         false,
         31,
         false,
         null,
         null,
         "R Dravid",
         "SC Ganguly",
         "MV Boucher",
         "WP Saha"
        ],
        [
         12701,
         "33598700013",
         "335987",
         13,
         "AA Noffke",
         "1977-04-30",
         "Right-hand bat",
         "Right-arm fast-medium",
         "Australia",
         "Player",
         "Royal Challengers Bangalore",
         "Kolkata Knight Riders",
         2008,
         false,
         31,
         false,
         null,
         null,
         "R Dravid",
         "SC Ganguly",
         "MV Boucher",
         "WP Saha"
        ],
        [
         12702,
         "33598700014",
         "335987",
         14,
         "P Kumar",
         "1986-10-02",
         "Right-hand bat",
         "Right-arm medium",
         "India",
         "Player",
         "Royal Challengers Bangalore",
         "Kolkata Knight Riders",
         2008,
         false,
         22,
         false,
         null,
         null,
         "R Dravid",
         "SC Ganguly",
         "MV Boucher",
         "WP Saha"
        ],
        [
         12703,
         "33598700015",
         "335987",
         15,
         "Z Khan",
         "1978-10-07",
         "Right-hand bat",
         "Left-arm fast-medium",
         "India",
         "Player",
         "Royal Challengers Bangalore",
         "Kolkata Knight Riders",
         2008,
         false,
         30,
         false,
         null,
         null,
         "R Dravid",
         "SC Ganguly",
         "MV Boucher",
         "WP Saha"
        ]
       ],
       "datasetInfos": [],
       "dbfsResultPath": null,
       "isJsonSchema": true,
       "metadata": {},
       "overflow": false,
       "plotOptions": {
        "customPlotOptions": {},
        "displayType": "table",
        "pivotAggregation": null,
        "pivotColumns": null,
        "xColumns": null,
        "yColumns": null
       },
       "removedWidgets": [],
       "schema": [
        {
         "metadata": "{}",
         "name": "player_match_sk",
         "type": "\"integer\""
        },
        {
         "metadata": "{}",
         "name": "playermatch_key",
         "type": "\"string\""
        },
        {
         "metadata": "{}",
         "name": "match_id",
         "type": "\"decimal(10,0)\""
        },
        {
         "metadata": "{}",
         "name": "player_id",
         "type": "\"integer\""
        },
        {
         "metadata": "{}",
         "name": "player_name",
         "type": "\"string\""
        },
        {
         "metadata": "{}",
         "name": "dob",
         "type": "\"date\""
        },
        {
         "metadata": "{}",
         "name": "batting_hand",
         "type": "\"string\""
        },
        {
         "metadata": "{}",
         "name": "bowling_skill",
         "type": "\"string\""
        },
        {
         "metadata": "{}",
         "name": "country_name",
         "type": "\"string\""
        },
        {
         "metadata": "{}",
         "name": "role_desc",
         "type": "\"string\""
        },
        {
         "metadata": "{}",
         "name": "player_team",
         "type": "\"string\""
        },
        {
         "metadata": "{}",
         "name": "opposit_team",
         "type": "\"string\""
        },
        {
         "metadata": "{}",
         "name": "season_year",
         "type": "\"integer\""
        },
        {
         "metadata": "{}",
         "name": "is_manofthematch",
         "type": "\"boolean\""
        },
        {
         "metadata": "{}",
         "name": "age_as_on_match",
         "type": "\"integer\""
        },
        {
         "metadata": "{}",
         "name": "isplayers_team_won",
         "type": "\"boolean\""
        },
        {
         "metadata": "{}",
         "name": "batting_status",
         "type": "\"string\""
        },
        {
         "metadata": "{}",
         "name": "bowling_status",
         "type": "\"string\""
        },
        {
         "metadata": "{}",
         "name": "player_captain",
         "type": "\"string\""
        },
        {
         "metadata": "{}",
         "name": "opposit_captain",
         "type": "\"string\""
        },
        {
         "metadata": "{}",
         "name": "player_keeper",
         "type": "\"string\""
        },
        {
         "metadata": "{}",
         "name": "opposit_keeper",
         "type": "\"string\""
        }
       ],
       "type": "table"
      }
     },
     "output_type": "display_data"
    }
   ],
   "source": [
    "player_match_df = spark.read.format('csv').option(\"header\", \"true\")\\\n",
    "                                          .schema(player_match_schema)\\\n",
    "                                          .option(\"dateFormat\",'M/d/y')\\\n",
    "                                          .load(\"s3://ipldatabucket2017/Player_match.csv\")\n",
    "player_match_df.limit(10).display()"
   ]
  },
  {
   "cell_type": "code",
   "execution_count": 0,
   "metadata": {
    "application/vnd.databricks.v1+cell": {
     "cellMetadata": {
      "byteLimit": 2048000,
      "rowLimit": 10000
     },
     "inputWidgets": {},
     "nuid": "058ede76-1460-4199-b352-4526b542fd81",
     "showTitle": false,
     "tableResultSettingsMap": {},
     "title": ""
    }
   },
   "outputs": [],
   "source": [
    "team_schema = StructType([\n",
    "    StructField(\"team_sk\", IntegerType(), True),\n",
    "    StructField(\"team_id\", IntegerType(), True),\n",
    "    StructField(\"team_name\", StringType(), True)\n",
    "])"
   ]
  },
  {
   "cell_type": "code",
   "execution_count": 0,
   "metadata": {
    "application/vnd.databricks.v1+cell": {
     "cellMetadata": {
      "byteLimit": 2048000,
      "rowLimit": 10000
     },
     "inputWidgets": {},
     "nuid": "76cff961-8cc3-4b8d-b139-9b70ebea775d",
     "showTitle": false,
     "tableResultSettingsMap": {},
     "title": ""
    }
   },
   "outputs": [
    {
     "output_type": "display_data",
     "data": {
      "text/html": [
       "<style scoped>\n",
       "  .table-result-container {\n",
       "    max-height: 300px;\n",
       "    overflow: auto;\n",
       "  }\n",
       "  table, th, td {\n",
       "    border: 1px solid black;\n",
       "    border-collapse: collapse;\n",
       "  }\n",
       "  th, td {\n",
       "    padding: 5px;\n",
       "  }\n",
       "  th {\n",
       "    text-align: left;\n",
       "  }\n",
       "</style><div class='table-result-container'><table class='table-result'><thead style='background-color: white'><tr><th>team_sk</th><th>team_id</th><th>team_name</th></tr></thead><tbody><tr><td>0</td><td>1</td><td>Kolkata Knight Riders</td></tr><tr><td>1</td><td>2</td><td>Royal Challengers Bangalore</td></tr><tr><td>2</td><td>3</td><td>Chennai Super Kings</td></tr><tr><td>3</td><td>4</td><td>Kings XI Punjab</td></tr><tr><td>4</td><td>5</td><td>Rajasthan Royals</td></tr><tr><td>5</td><td>6</td><td>Delhi Daredevils</td></tr><tr><td>6</td><td>7</td><td>Mumbai Indians</td></tr><tr><td>7</td><td>8</td><td>Deccan Chargers</td></tr><tr><td>8</td><td>9</td><td>Kochi Tuskers Kerala</td></tr><tr><td>9</td><td>10</td><td>Pune Warriors</td></tr><tr><td>10</td><td>11</td><td>Sunrisers Hyderabad</td></tr><tr><td>11</td><td>12</td><td>Rising Pune Supergiants</td></tr><tr><td>12</td><td>13</td><td>Gujarat Lions</td></tr></tbody></table></div>"
      ]
     },
     "metadata": {
      "application/vnd.databricks.v1+output": {
       "addedWidgets": {},
       "aggData": [],
       "aggError": "",
       "aggOverflow": false,
       "aggSchema": [],
       "aggSeriesLimitReached": false,
       "aggType": "",
       "arguments": {},
       "columnCustomDisplayInfos": {},
       "data": [
        [
         0,
         1,
         "Kolkata Knight Riders"
        ],
        [
         1,
         2,
         "Royal Challengers Bangalore"
        ],
        [
         2,
         3,
         "Chennai Super Kings"
        ],
        [
         3,
         4,
         "Kings XI Punjab"
        ],
        [
         4,
         5,
         "Rajasthan Royals"
        ],
        [
         5,
         6,
         "Delhi Daredevils"
        ],
        [
         6,
         7,
         "Mumbai Indians"
        ],
        [
         7,
         8,
         "Deccan Chargers"
        ],
        [
         8,
         9,
         "Kochi Tuskers Kerala"
        ],
        [
         9,
         10,
         "Pune Warriors"
        ],
        [
         10,
         11,
         "Sunrisers Hyderabad"
        ],
        [
         11,
         12,
         "Rising Pune Supergiants"
        ],
        [
         12,
         13,
         "Gujarat Lions"
        ]
       ],
       "datasetInfos": [],
       "dbfsResultPath": null,
       "isJsonSchema": true,
       "metadata": {},
       "overflow": false,
       "plotOptions": {
        "customPlotOptions": {},
        "displayType": "table",
        "pivotAggregation": null,
        "pivotColumns": null,
        "xColumns": null,
        "yColumns": null
       },
       "removedWidgets": [],
       "schema": [
        {
         "metadata": "{}",
         "name": "team_sk",
         "type": "\"integer\""
        },
        {
         "metadata": "{}",
         "name": "team_id",
         "type": "\"integer\""
        },
        {
         "metadata": "{}",
         "name": "team_name",
         "type": "\"string\""
        }
       ],
       "type": "table"
      }
     },
     "output_type": "display_data"
    }
   ],
   "source": [
    "team_df = spark.read.format('csv')\\\n",
    "                    .option(\"header\",\"true\")\\\n",
    "                    .schema(team_schema)\\\n",
    "                    .load('s3://ipldatabucket2017/Team.csv')\n",
    "\n",
    "team_df.display()"
   ]
  },
  {
   "cell_type": "code",
   "execution_count": 0,
   "metadata": {
    "application/vnd.databricks.v1+cell": {
     "cellMetadata": {
      "byteLimit": 2048000,
      "rowLimit": 10000
     },
     "inputWidgets": {},
     "nuid": "9e3f4373-30c5-4fab-9fb9-36a96b55fa02",
     "showTitle": false,
     "tableResultSettingsMap": {},
     "title": ""
    }
   },
   "outputs": [],
   "source": [
    "player_schema = StructType([\n",
    "    StructField(\"player_sk\", IntegerType(),True),\n",
    "    StructField(\"player_id\", IntegerType(),True),\n",
    "    StructField(\"player_name\", StringType(),True),\n",
    "    StructField(\"dob\", DateType(),True),\n",
    "    StructField(\"batting_hand\", StringType(),True),\n",
    "    StructField(\"bowling_skill\", StringType(),True),\n",
    "    StructField(\"country_name\", StringType(),True),\n",
    "])"
   ]
  },
  {
   "cell_type": "code",
   "execution_count": 0,
   "metadata": {
    "application/vnd.databricks.v1+cell": {
     "cellMetadata": {
      "byteLimit": 2048000,
      "rowLimit": 10000
     },
     "inputWidgets": {},
     "nuid": "fe691e91-2e9b-4b01-8761-43a53c23c053",
     "showTitle": false,
     "tableResultSettingsMap": {},
     "title": ""
    }
   },
   "outputs": [
    {
     "output_type": "display_data",
     "data": {
      "text/html": [
       "<style scoped>\n",
       "  .table-result-container {\n",
       "    max-height: 300px;\n",
       "    overflow: auto;\n",
       "  }\n",
       "  table, th, td {\n",
       "    border: 1px solid black;\n",
       "    border-collapse: collapse;\n",
       "  }\n",
       "  th, td {\n",
       "    padding: 5px;\n",
       "  }\n",
       "  th {\n",
       "    text-align: left;\n",
       "  }\n",
       "</style><div class='table-result-container'><table class='table-result'><thead style='background-color: white'><tr><th>player_sk</th><th>player_id</th><th>player_name</th><th>dob</th><th>batting_hand</th><th>bowling_skill</th><th>country_name</th></tr></thead><tbody><tr><td>0</td><td>1</td><td>SC Ganguly</td><td>1972-07-08</td><td>Left-hand bat</td><td>Right-arm medium</td><td>India</td></tr><tr><td>1</td><td>2</td><td>BB McCullum</td><td>1981-09-27</td><td>Right-hand bat</td><td>Right-arm medium</td><td>New Zealand</td></tr><tr><td>2</td><td>3</td><td>RT Ponting</td><td>1974-12-19</td><td>Right-hand bat</td><td>Right-arm medium</td><td>Australia</td></tr><tr><td>3</td><td>4</td><td>DJ Hussey</td><td>1977-07-15</td><td>Right-hand bat</td><td>Right-arm offbreak</td><td>Australia</td></tr><tr><td>4</td><td>5</td><td>Mohammad Hafeez</td><td>1980-10-17</td><td>Right-hand bat</td><td>Right-arm offbreak</td><td>Pakistan</td></tr><tr><td>5</td><td>6</td><td>R Dravid</td><td>1973-01-11</td><td>Right-hand bat</td><td>Right-arm offbreak</td><td>India</td></tr><tr><td>6</td><td>7</td><td>W Jaffer</td><td>1978-02-16</td><td>Right-hand bat</td><td>Right-arm offbreak</td><td>India</td></tr><tr><td>7</td><td>8</td><td>V Kohli</td><td>1988-11-05</td><td>Right-hand bat</td><td>Right-arm medium</td><td>India</td></tr><tr><td>8</td><td>9</td><td>JH Kallis</td><td>1975-10-16</td><td>Right-hand bat</td><td>Right-arm fast-medium</td><td>South Africa</td></tr><tr><td>9</td><td>10</td><td>CL White</td><td>1983-08-18</td><td>Right-hand bat</td><td>Legbreak googly</td><td>Australia</td></tr></tbody></table></div>"
      ]
     },
     "metadata": {
      "application/vnd.databricks.v1+output": {
       "addedWidgets": {},
       "aggData": [],
       "aggError": "",
       "aggOverflow": false,
       "aggSchema": [],
       "aggSeriesLimitReached": false,
       "aggType": "",
       "arguments": {},
       "columnCustomDisplayInfos": {},
       "data": [
        [
         0,
         1,
         "SC Ganguly",
         "1972-07-08",
         "Left-hand bat",
         "Right-arm medium",
         "India"
        ],
        [
         1,
         2,
         "BB McCullum",
         "1981-09-27",
         "Right-hand bat",
         "Right-arm medium",
         "New Zealand"
        ],
        [
         2,
         3,
         "RT Ponting",
         "1974-12-19",
         "Right-hand bat",
         "Right-arm medium",
         "Australia"
        ],
        [
         3,
         4,
         "DJ Hussey",
         "1977-07-15",
         "Right-hand bat",
         "Right-arm offbreak",
         "Australia"
        ],
        [
         4,
         5,
         "Mohammad Hafeez",
         "1980-10-17",
         "Right-hand bat",
         "Right-arm offbreak",
         "Pakistan"
        ],
        [
         5,
         6,
         "R Dravid",
         "1973-01-11",
         "Right-hand bat",
         "Right-arm offbreak",
         "India"
        ],
        [
         6,
         7,
         "W Jaffer",
         "1978-02-16",
         "Right-hand bat",
         "Right-arm offbreak",
         "India"
        ],
        [
         7,
         8,
         "V Kohli",
         "1988-11-05",
         "Right-hand bat",
         "Right-arm medium",
         "India"
        ],
        [
         8,
         9,
         "JH Kallis",
         "1975-10-16",
         "Right-hand bat",
         "Right-arm fast-medium",
         "South Africa"
        ],
        [
         9,
         10,
         "CL White",
         "1983-08-18",
         "Right-hand bat",
         "Legbreak googly",
         "Australia"
        ]
       ],
       "datasetInfos": [],
       "dbfsResultPath": null,
       "isJsonSchema": true,
       "metadata": {},
       "overflow": false,
       "plotOptions": {
        "customPlotOptions": {},
        "displayType": "table",
        "pivotAggregation": null,
        "pivotColumns": null,
        "xColumns": null,
        "yColumns": null
       },
       "removedWidgets": [],
       "schema": [
        {
         "metadata": "{}",
         "name": "player_sk",
         "type": "\"integer\""
        },
        {
         "metadata": "{}",
         "name": "player_id",
         "type": "\"integer\""
        },
        {
         "metadata": "{}",
         "name": "player_name",
         "type": "\"string\""
        },
        {
         "metadata": "{}",
         "name": "dob",
         "type": "\"date\""
        },
        {
         "metadata": "{}",
         "name": "batting_hand",
         "type": "\"string\""
        },
        {
         "metadata": "{}",
         "name": "bowling_skill",
         "type": "\"string\""
        },
        {
         "metadata": "{}",
         "name": "country_name",
         "type": "\"string\""
        }
       ],
       "type": "table"
      }
     },
     "output_type": "display_data"
    }
   ],
   "source": [
    "player_df = spark.read.format('csv')\\\n",
    "                      .option('header',\"true\")\\\n",
    "                      .schema(player_schema)\\\n",
    "                      .option(\"dateFormat\",'M/d/y')\\\n",
    "                      .load('s3://ipldatabucket2017/Player.csv')\n",
    "\n",
    "player_df.limit(10).display()"
   ]
  },
  {
   "cell_type": "markdown",
   "metadata": {
    "application/vnd.databricks.v1+cell": {
     "cellMetadata": {
      "byteLimit": 2048000,
      "rowLimit": 10000
     },
     "inputWidgets": {},
     "nuid": "85185ec6-7c0f-40a6-ae49-de047564278d",
     "showTitle": false,
     "tableResultSettingsMap": {},
     "title": ""
    }
   },
   "source": [
    "####Spark Data Transformations to make it suitable for the analysis"
   ]
  },
  {
   "cell_type": "code",
   "execution_count": 0,
   "metadata": {
    "application/vnd.databricks.v1+cell": {
     "cellMetadata": {
      "byteLimit": 2048000,
      "rowLimit": 10000
     },
     "inputWidgets": {},
     "nuid": "b2dfa23a-640e-4c63-ac31-9d6fb64c2aed",
     "showTitle": false,
     "tableResultSettingsMap": {},
     "title": ""
    }
   },
   "outputs": [],
   "source": [
    "from pyspark.sql.functions import *\n",
    "\n",
    "#Filter to include only valid deliveries(excludng wide and no balls)\n",
    "ball_by_ball_df = ball_by_ball_df.filter((col(\"wides\") == 0) & (col(\"noballs\") == 0))\n",
    "\n",
    "#Aggregation : Calculate the total and average runs scored in each match and inning\n",
    "total = ball_by_ball_df.groupBy(\"match_id\",\"innings_no\").agg(\n",
    "    sum(\"runs_scored\").alias(\"total_runs\"),\n",
    "    avg(\"runs_scored\").alias(\"average_runs\")\n",
    ")"
   ]
  },
  {
   "cell_type": "code",
   "execution_count": 0,
   "metadata": {
    "application/vnd.databricks.v1+cell": {
     "cellMetadata": {
      "byteLimit": 2048000,
      "rowLimit": 10000
     },
     "inputWidgets": {},
     "nuid": "1d643f64-4705-4a3a-8f90-c3b8986797fb",
     "showTitle": false,
     "tableResultSettingsMap": {},
     "title": ""
    }
   },
   "outputs": [],
   "source": [
    "#Window Function : Calculate running total of runs in each match for each over\n",
    "from pyspark.sql.window import Window\n",
    "windowSpec = Window.partitionBy(\"match_id\",\"innings_no\").orderBy(col(\"over_id\").desc())\n",
    "ball_by_ball_df=ball_by_ball_df.withColumn(\"RunningRuns\",sum(\"runs_scored\").over(windowSpec))\n"
   ]
  },
  {
   "cell_type": "code",
   "execution_count": 0,
   "metadata": {
    "application/vnd.databricks.v1+cell": {
     "cellMetadata": {
      "byteLimit": 2048000,
      "rowLimit": 10000
     },
     "inputWidgets": {},
     "nuid": "7fbfd8a1-6623-4e58-b40c-08e842c03085",
     "showTitle": false,
     "tableResultSettingsMap": {},
     "title": ""
    }
   },
   "outputs": [],
   "source": [
    " #Conditional Column : Flag for high impact balls (Either a wicket or more than 6 runs including extras)\n",
    " ball_by_ball_df = ball_by_ball_df.withColumn(\n",
    "     \"high_impact\",\n",
    "     when(\n",
    "         (col(\"runs_scored\") + col(\"extra_runs\") > 6) | (col(\"bowler_wicket\") == True), True\n",
    "     ).otherwise(False)\n",
    " )"
   ]
  },
  {
   "cell_type": "code",
   "execution_count": 0,
   "metadata": {
    "application/vnd.databricks.v1+cell": {
     "cellMetadata": {
      "byteLimit": 2048000,
      "rowLimit": 10000
     },
     "inputWidgets": {},
     "nuid": "714806c3-34c8-4731-80ed-3db57122c7a2",
     "showTitle": false,
     "tableResultSettingsMap": {},
     "title": ""
    }
   },
   "outputs": [
    {
     "output_type": "display_data",
     "data": {
      "text/html": [
       "<style scoped>\n",
       "  .table-result-container {\n",
       "    max-height: 300px;\n",
       "    overflow: auto;\n",
       "  }\n",
       "  table, th, td {\n",
       "    border: 1px solid black;\n",
       "    border-collapse: collapse;\n",
       "  }\n",
       "  th, td {\n",
       "    padding: 5px;\n",
       "  }\n",
       "  th {\n",
       "    text-align: left;\n",
       "  }\n",
       "</style><div class='table-result-container'><table class='table-result'><thead style='background-color: white'><tr><th>match_id</th><th>over_id</th><th>ball_id</th><th>innings_no</th><th>team_batting</th><th>team_bowling</th><th>striker_batting_position</th><th>extra_type</th><th>runs_scored</th><th>extra_runs</th><th>wides</th><th>legbyes</th><th>byes</th><th>noballs</th><th>penalty</th><th>bowler_extras</th><th>out_type</th><th>caught</th><th>bowled</th><th>run_out</th><th>lbw</th><th>retired_hurt</th><th>stumped</th><th>caught_and_bowled</th><th>hit_wicket</th><th>obstructingfeild</th><th>bowler_wicket</th><th>match_date</th><th>season</th><th>striker</th><th>non_striker</th><th>bowler</th><th>player_out</th><th>fielders</th><th>striker_match_sk</th><th>strikersk</th><th>nonstriker_match_sk</th><th>nonstriker_sk</th><th>fielder_match_sk</th><th>fielder_sk</th><th>bowler_match_sk</th><th>bowler_sk</th><th>playerout_match_sk</th><th>battingteam_sk</th><th>bowlingteam_sk</th><th>keeper_catch</th><th>player_out_sk</th><th>matchdatesk</th><th>RunningRuns</th><th>high_impact</th></tr></thead><tbody><tr><td>335987</td><td>20</td><td>1</td><td>1</td><td>1</td><td>2</td><td>2</td><td>No Extras</td><td>6</td><td>0</td><td>0</td><td>0</td><td>0</td><td>0</td><td>0</td><td>0</td><td>Not Applicable</td><td>false</td><td>false</td><td>false</td><td>false</td><td>false</td><td>false</td><td>false</td><td>false</td><td>false</td><td>false</td><td>2008-04-18</td><td>2008</td><td>2</td><td>5</td><td>14</td><td>null</td><td>null</td><td>12706</td><td>1</td><td>12709</td><td>4</td><td>-1</td><td>-1</td><td>12702</td><td>13</td><td>-1</td><td>0</td><td>1</td><td>false</td><td>0</td><td>null</td><td>22</td><td>false</td></tr><tr><td>335987</td><td>20</td><td>2</td><td>1</td><td>1</td><td>2</td><td>2</td><td>No Extras</td><td>6</td><td>0</td><td>0</td><td>0</td><td>0</td><td>0</td><td>0</td><td>0</td><td>Not Applicable</td><td>false</td><td>false</td><td>false</td><td>false</td><td>false</td><td>false</td><td>false</td><td>false</td><td>false</td><td>false</td><td>2008-04-18</td><td>2008</td><td>2</td><td>5</td><td>14</td><td>null</td><td>null</td><td>12706</td><td>1</td><td>12709</td><td>4</td><td>-1</td><td>-1</td><td>12702</td><td>13</td><td>-1</td><td>0</td><td>1</td><td>false</td><td>0</td><td>null</td><td>22</td><td>false</td></tr><tr><td>335987</td><td>20</td><td>3</td><td>1</td><td>1</td><td>2</td><td>2</td><td>No Extras</td><td>2</td><td>0</td><td>0</td><td>0</td><td>0</td><td>0</td><td>0</td><td>0</td><td>Not Applicable</td><td>false</td><td>false</td><td>false</td><td>false</td><td>false</td><td>false</td><td>false</td><td>false</td><td>false</td><td>false</td><td>2008-04-18</td><td>2008</td><td>2</td><td>5</td><td>14</td><td>null</td><td>null</td><td>12706</td><td>1</td><td>12709</td><td>4</td><td>-1</td><td>-1</td><td>12702</td><td>13</td><td>-1</td><td>0</td><td>1</td><td>false</td><td>0</td><td>null</td><td>22</td><td>false</td></tr><tr><td>335987</td><td>20</td><td>4</td><td>1</td><td>1</td><td>2</td><td>2</td><td>No Extras</td><td>0</td><td>0</td><td>0</td><td>0</td><td>0</td><td>0</td><td>0</td><td>0</td><td>Not Applicable</td><td>false</td><td>false</td><td>false</td><td>false</td><td>false</td><td>false</td><td>false</td><td>false</td><td>false</td><td>false</td><td>2008-04-18</td><td>2008</td><td>2</td><td>5</td><td>14</td><td>null</td><td>null</td><td>12706</td><td>1</td><td>12709</td><td>4</td><td>-1</td><td>-1</td><td>12702</td><td>13</td><td>-1</td><td>0</td><td>1</td><td>false</td><td>0</td><td>null</td><td>22</td><td>false</td></tr><tr><td>335987</td><td>20</td><td>5</td><td>1</td><td>1</td><td>2</td><td>2</td><td>No Extras</td><td>2</td><td>0</td><td>0</td><td>0</td><td>0</td><td>0</td><td>0</td><td>0</td><td>Not Applicable</td><td>false</td><td>false</td><td>false</td><td>false</td><td>false</td><td>false</td><td>false</td><td>false</td><td>false</td><td>false</td><td>2008-04-18</td><td>2008</td><td>2</td><td>5</td><td>14</td><td>null</td><td>null</td><td>12706</td><td>1</td><td>12709</td><td>4</td><td>-1</td><td>-1</td><td>12702</td><td>13</td><td>-1</td><td>0</td><td>1</td><td>false</td><td>0</td><td>null</td><td>22</td><td>false</td></tr><tr><td>335987</td><td>20</td><td>6</td><td>1</td><td>1</td><td>2</td><td>2</td><td>No Extras</td><td>6</td><td>0</td><td>0</td><td>0</td><td>0</td><td>0</td><td>0</td><td>0</td><td>Not Applicable</td><td>false</td><td>false</td><td>false</td><td>false</td><td>false</td><td>false</td><td>false</td><td>false</td><td>false</td><td>false</td><td>2008-04-18</td><td>2008</td><td>2</td><td>5</td><td>14</td><td>null</td><td>null</td><td>12706</td><td>1</td><td>12709</td><td>4</td><td>-1</td><td>-1</td><td>12702</td><td>13</td><td>-1</td><td>0</td><td>1</td><td>false</td><td>0</td><td>null</td><td>22</td><td>false</td></tr><tr><td>335987</td><td>19</td><td>1</td><td>1</td><td>1</td><td>2</td><td>2</td><td>No Extras</td><td>6</td><td>0</td><td>0</td><td>0</td><td>0</td><td>0</td><td>0</td><td>0</td><td>Not Applicable</td><td>false</td><td>false</td><td>false</td><td>false</td><td>false</td><td>false</td><td>false</td><td>false</td><td>false</td><td>false</td><td>2008-04-18</td><td>2008</td><td>2</td><td>5</td><td>9</td><td>null</td><td>null</td><td>12706</td><td>1</td><td>12709</td><td>4</td><td>-1</td><td>-1</td><td>12697</td><td>8</td><td>-1</td><td>0</td><td>1</td><td>false</td><td>0</td><td>null</td><td>43</td><td>false</td></tr><tr><td>335987</td><td>19</td><td>2</td><td>1</td><td>1</td><td>2</td><td>2</td><td>No Extras</td><td>0</td><td>0</td><td>0</td><td>0</td><td>0</td><td>0</td><td>0</td><td>0</td><td>Not Applicable</td><td>false</td><td>false</td><td>false</td><td>false</td><td>false</td><td>false</td><td>false</td><td>false</td><td>false</td><td>false</td><td>2008-04-18</td><td>2008</td><td>2</td><td>5</td><td>9</td><td>null</td><td>null</td><td>12706</td><td>1</td><td>12709</td><td>4</td><td>-1</td><td>-1</td><td>12697</td><td>8</td><td>-1</td><td>0</td><td>1</td><td>false</td><td>0</td><td>null</td><td>43</td><td>false</td></tr><tr><td>335987</td><td>19</td><td>3</td><td>1</td><td>1</td><td>2</td><td>2</td><td>No Extras</td><td>6</td><td>0</td><td>0</td><td>0</td><td>0</td><td>0</td><td>0</td><td>0</td><td>Not Applicable</td><td>false</td><td>false</td><td>false</td><td>false</td><td>false</td><td>false</td><td>false</td><td>false</td><td>false</td><td>false</td><td>2008-04-18</td><td>2008</td><td>2</td><td>5</td><td>9</td><td>null</td><td>null</td><td>12706</td><td>1</td><td>12709</td><td>4</td><td>-1</td><td>-1</td><td>12697</td><td>8</td><td>-1</td><td>0</td><td>1</td><td>false</td><td>0</td><td>null</td><td>43</td><td>false</td></tr><tr><td>335987</td><td>19</td><td>4</td><td>1</td><td>1</td><td>2</td><td>2</td><td>No Extras</td><td>4</td><td>0</td><td>0</td><td>0</td><td>0</td><td>0</td><td>0</td><td>0</td><td>Not Applicable</td><td>false</td><td>false</td><td>false</td><td>false</td><td>false</td><td>false</td><td>false</td><td>false</td><td>false</td><td>false</td><td>2008-04-18</td><td>2008</td><td>2</td><td>5</td><td>9</td><td>null</td><td>null</td><td>12706</td><td>1</td><td>12709</td><td>4</td><td>-1</td><td>-1</td><td>12697</td><td>8</td><td>-1</td><td>0</td><td>1</td><td>false</td><td>0</td><td>null</td><td>43</td><td>false</td></tr></tbody></table></div>"
      ]
     },
     "metadata": {
      "application/vnd.databricks.v1+output": {
       "addedWidgets": {},
       "aggData": [],
       "aggError": "",
       "aggOverflow": false,
       "aggSchema": [],
       "aggSeriesLimitReached": false,
       "aggType": "",
       "arguments": {},
       "columnCustomDisplayInfos": {},
       "data": [
        [
         335987,
         20,
         1,
         1,
         1,
         2,
         2,
         "No Extras",
         6,
         0,
         0,
         0,
         0,
         0,
         0,
         0,
         "Not Applicable",
         false,
         false,
         false,
         false,
         false,
         false,
         false,
         false,
         false,
         false,
         "2008-04-18",
         2008,
         2,
         5,
         14,
         null,
         null,
         12706,
         1,
         12709,
         4,
         -1,
         -1,
         12702,
         13,
         -1,
         0,
         1,
         false,
         0,
         null,
         22,
         false
        ],
        [
         335987,
         20,
         2,
         1,
         1,
         2,
         2,
         "No Extras",
         6,
         0,
         0,
         0,
         0,
         0,
         0,
         0,
         "Not Applicable",
         false,
         false,
         false,
         false,
         false,
         false,
         false,
         false,
         false,
         false,
         "2008-04-18",
         2008,
         2,
         5,
         14,
         null,
         null,
         12706,
         1,
         12709,
         4,
         -1,
         -1,
         12702,
         13,
         -1,
         0,
         1,
         false,
         0,
         null,
         22,
         false
        ],
        [
         335987,
         20,
         3,
         1,
         1,
         2,
         2,
         "No Extras",
         2,
         0,
         0,
         0,
         0,
         0,
         0,
         0,
         "Not Applicable",
         false,
         false,
         false,
         false,
         false,
         false,
         false,
         false,
         false,
         false,
         "2008-04-18",
         2008,
         2,
         5,
         14,
         null,
         null,
         12706,
         1,
         12709,
         4,
         -1,
         -1,
         12702,
         13,
         -1,
         0,
         1,
         false,
         0,
         null,
         22,
         false
        ],
        [
         335987,
         20,
         4,
         1,
         1,
         2,
         2,
         "No Extras",
         0,
         0,
         0,
         0,
         0,
         0,
         0,
         0,
         "Not Applicable",
         false,
         false,
         false,
         false,
         false,
         false,
         false,
         false,
         false,
         false,
         "2008-04-18",
         2008,
         2,
         5,
         14,
         null,
         null,
         12706,
         1,
         12709,
         4,
         -1,
         -1,
         12702,
         13,
         -1,
         0,
         1,
         false,
         0,
         null,
         22,
         false
        ],
        [
         335987,
         20,
         5,
         1,
         1,
         2,
         2,
         "No Extras",
         2,
         0,
         0,
         0,
         0,
         0,
         0,
         0,
         "Not Applicable",
         false,
         false,
         false,
         false,
         false,
         false,
         false,
         false,
         false,
         false,
         "2008-04-18",
         2008,
         2,
         5,
         14,
         null,
         null,
         12706,
         1,
         12709,
         4,
         -1,
         -1,
         12702,
         13,
         -1,
         0,
         1,
         false,
         0,
         null,
         22,
         false
        ],
        [
         335987,
         20,
         6,
         1,
         1,
         2,
         2,
         "No Extras",
         6,
         0,
         0,
         0,
         0,
         0,
         0,
         0,
         "Not Applicable",
         false,
         false,
         false,
         false,
         false,
         false,
         false,
         false,
         false,
         false,
         "2008-04-18",
         2008,
         2,
         5,
         14,
         null,
         null,
         12706,
         1,
         12709,
         4,
         -1,
         -1,
         12702,
         13,
         -1,
         0,
         1,
         false,
         0,
         null,
         22,
         false
        ],
        [
         335987,
         19,
         1,
         1,
         1,
         2,
         2,
         "No Extras",
         6,
         0,
         0,
         0,
         0,
         0,
         0,
         0,
         "Not Applicable",
         false,
         false,
         false,
         false,
         false,
         false,
         false,
         false,
         false,
         false,
         "2008-04-18",
         2008,
         2,
         5,
         9,
         null,
         null,
         12706,
         1,
         12709,
         4,
         -1,
         -1,
         12697,
         8,
         -1,
         0,
         1,
         false,
         0,
         null,
         43,
         false
        ],
        [
         335987,
         19,
         2,
         1,
         1,
         2,
         2,
         "No Extras",
         0,
         0,
         0,
         0,
         0,
         0,
         0,
         0,
         "Not Applicable",
         false,
         false,
         false,
         false,
         false,
         false,
         false,
         false,
         false,
         false,
         "2008-04-18",
         2008,
         2,
         5,
         9,
         null,
         null,
         12706,
         1,
         12709,
         4,
         -1,
         -1,
         12697,
         8,
         -1,
         0,
         1,
         false,
         0,
         null,
         43,
         false
        ],
        [
         335987,
         19,
         3,
         1,
         1,
         2,
         2,
         "No Extras",
         6,
         0,
         0,
         0,
         0,
         0,
         0,
         0,
         "Not Applicable",
         false,
         false,
         false,
         false,
         false,
         false,
         false,
         false,
         false,
         false,
         "2008-04-18",
         2008,
         2,
         5,
         9,
         null,
         null,
         12706,
         1,
         12709,
         4,
         -1,
         -1,
         12697,
         8,
         -1,
         0,
         1,
         false,
         0,
         null,
         43,
         false
        ],
        [
         335987,
         19,
         4,
         1,
         1,
         2,
         2,
         "No Extras",
         4,
         0,
         0,
         0,
         0,
         0,
         0,
         0,
         "Not Applicable",
         false,
         false,
         false,
         false,
         false,
         false,
         false,
         false,
         false,
         false,
         "2008-04-18",
         2008,
         2,
         5,
         9,
         null,
         null,
         12706,
         1,
         12709,
         4,
         -1,
         -1,
         12697,
         8,
         -1,
         0,
         1,
         false,
         0,
         null,
         43,
         false
        ]
       ],
       "datasetInfos": [],
       "dbfsResultPath": null,
       "isJsonSchema": true,
       "metadata": {},
       "overflow": false,
       "plotOptions": {
        "customPlotOptions": {},
        "displayType": "table",
        "pivotAggregation": null,
        "pivotColumns": null,
        "xColumns": null,
        "yColumns": null
       },
       "removedWidgets": [],
       "schema": [
        {
         "metadata": "{}",
         "name": "match_id",
         "type": "\"integer\""
        },
        {
         "metadata": "{}",
         "name": "over_id",
         "type": "\"integer\""
        },
        {
         "metadata": "{}",
         "name": "ball_id",
         "type": "\"integer\""
        },
        {
         "metadata": "{}",
         "name": "innings_no",
         "type": "\"integer\""
        },
        {
         "metadata": "{}",
         "name": "team_batting",
         "type": "\"integer\""
        },
        {
         "metadata": "{}",
         "name": "team_bowling",
         "type": "\"integer\""
        },
        {
         "metadata": "{}",
         "name": "striker_batting_position",
         "type": "\"integer\""
        },
        {
         "metadata": "{}",
         "name": "extra_type",
         "type": "\"string\""
        },
        {
         "metadata": "{}",
         "name": "runs_scored",
         "type": "\"integer\""
        },
        {
         "metadata": "{}",
         "name": "extra_runs",
         "type": "\"integer\""
        },
        {
         "metadata": "{}",
         "name": "wides",
         "type": "\"integer\""
        },
        {
         "metadata": "{}",
         "name": "legbyes",
         "type": "\"integer\""
        },
        {
         "metadata": "{}",
         "name": "byes",
         "type": "\"integer\""
        },
        {
         "metadata": "{}",
         "name": "noballs",
         "type": "\"integer\""
        },
        {
         "metadata": "{}",
         "name": "penalty",
         "type": "\"integer\""
        },
        {
         "metadata": "{}",
         "name": "bowler_extras",
         "type": "\"integer\""
        },
        {
         "metadata": "{}",
         "name": "out_type",
         "type": "\"string\""
        },
        {
         "metadata": "{}",
         "name": "caught",
         "type": "\"boolean\""
        },
        {
         "metadata": "{}",
         "name": "bowled",
         "type": "\"boolean\""
        },
        {
         "metadata": "{}",
         "name": "run_out",
         "type": "\"boolean\""
        },
        {
         "metadata": "{}",
         "name": "lbw",
         "type": "\"boolean\""
        },
        {
         "metadata": "{}",
         "name": "retired_hurt",
         "type": "\"boolean\""
        },
        {
         "metadata": "{}",
         "name": "stumped",
         "type": "\"boolean\""
        },
        {
         "metadata": "{}",
         "name": "caught_and_bowled",
         "type": "\"boolean\""
        },
        {
         "metadata": "{}",
         "name": "hit_wicket",
         "type": "\"boolean\""
        },
        {
         "metadata": "{}",
         "name": "obstructingfeild",
         "type": "\"boolean\""
        },
        {
         "metadata": "{}",
         "name": "bowler_wicket",
         "type": "\"boolean\""
        },
        {
         "metadata": "{}",
         "name": "match_date",
         "type": "\"date\""
        },
        {
         "metadata": "{}",
         "name": "season",
         "type": "\"integer\""
        },
        {
         "metadata": "{}",
         "name": "striker",
         "type": "\"integer\""
        },
        {
         "metadata": "{}",
         "name": "non_striker",
         "type": "\"integer\""
        },
        {
         "metadata": "{}",
         "name": "bowler",
         "type": "\"integer\""
        },
        {
         "metadata": "{}",
         "name": "player_out",
         "type": "\"integer\""
        },
        {
         "metadata": "{}",
         "name": "fielders",
         "type": "\"integer\""
        },
        {
         "metadata": "{}",
         "name": "striker_match_sk",
         "type": "\"integer\""
        },
        {
         "metadata": "{}",
         "name": "strikersk",
         "type": "\"integer\""
        },
        {
         "metadata": "{}",
         "name": "nonstriker_match_sk",
         "type": "\"integer\""
        },
        {
         "metadata": "{}",
         "name": "nonstriker_sk",
         "type": "\"integer\""
        },
        {
         "metadata": "{}",
         "name": "fielder_match_sk",
         "type": "\"integer\""
        },
        {
         "metadata": "{}",
         "name": "fielder_sk",
         "type": "\"integer\""
        },
        {
         "metadata": "{}",
         "name": "bowler_match_sk",
         "type": "\"integer\""
        },
        {
         "metadata": "{}",
         "name": "bowler_sk",
         "type": "\"integer\""
        },
        {
         "metadata": "{}",
         "name": "playerout_match_sk",
         "type": "\"integer\""
        },
        {
         "metadata": "{}",
         "name": "battingteam_sk",
         "type": "\"integer\""
        },
        {
         "metadata": "{}",
         "name": "bowlingteam_sk",
         "type": "\"integer\""
        },
        {
         "metadata": "{}",
         "name": "keeper_catch",
         "type": "\"boolean\""
        },
        {
         "metadata": "{}",
         "name": "player_out_sk",
         "type": "\"integer\""
        },
        {
         "metadata": "{}",
         "name": "matchdatesk",
         "type": "\"date\""
        },
        {
         "metadata": "{}",
         "name": "RunningRuns",
         "type": "\"long\""
        },
        {
         "metadata": "{}",
         "name": "high_impact",
         "type": "\"boolean\""
        }
       ],
       "type": "table"
      }
     },
     "output_type": "display_data"
    }
   ],
   "source": [
    "ball_by_ball_df.limit(10).display()\n",
    "#all transformations will happen when it's executed (Action) called lazy evaluation"
   ]
  },
  {
   "cell_type": "code",
   "execution_count": 0,
   "metadata": {
    "application/vnd.databricks.v1+cell": {
     "cellMetadata": {
      "byteLimit": 2048000,
      "rowLimit": 10000
     },
     "inputWidgets": {},
     "nuid": "3429389b-ee7b-4777-a92c-2694bd80a8dd",
     "showTitle": false,
     "tableResultSettingsMap": {},
     "title": ""
    }
   },
   "outputs": [],
   "source": [
    "# Function to make a string into Short form (eg 'Royal Challengers Bangalore' into 'RCB'\n",
    "def inShort(str):\n",
    "    str = str.split(\" \")\n",
    "    lst = []\n",
    "    for i in str:\n",
    "        if(i not in ['tied','abandoned','NULL','null']):\n",
    "            lst.append(i[0])\n",
    "        else:\n",
    "            lst.append(i)\n",
    "    newStr =  ''.join(lst)\n",
    "    return newStr\n",
    "# inShort('nulls')\n",
    "inShort_udf = udf(inShort, StringType())"
   ]
  },
  {
   "cell_type": "code",
   "execution_count": 0,
   "metadata": {
    "application/vnd.databricks.v1+cell": {
     "cellMetadata": {
      "byteLimit": 2048000,
      "rowLimit": 10000
     },
     "inputWidgets": {},
     "nuid": "17b127b5-811f-4d48-9d6a-e063161f343b",
     "showTitle": false,
     "tableResultSettingsMap": {},
     "title": ""
    }
   },
   "outputs": [
    {
     "output_type": "display_data",
     "data": {
      "text/html": [
       "<style scoped>\n",
       "  .table-result-container {\n",
       "    max-height: 300px;\n",
       "    overflow: auto;\n",
       "  }\n",
       "  table, th, td {\n",
       "    border: 1px solid black;\n",
       "    border-collapse: collapse;\n",
       "  }\n",
       "  th, td {\n",
       "    padding: 5px;\n",
       "  }\n",
       "  th {\n",
       "    text-align: left;\n",
       "  }\n",
       "</style><div class='table-result-container'><table class='table-result'><thead style='background-color: white'><tr><th>match_sk</th><th>match_id</th><th>team1</th><th>team2</th><th>match_date</th><th>season_year</th><th>venue_name</th><th>city_name</th><th>country_name</th><th>toss_winner</th><th>match_winner</th><th>toss_name</th><th>win_type</th><th>outcome_type</th><th>manofmach</th><th>win_margin</th><th>country_id</th><th>year</th><th>month</th><th>day</th><th>win_margin_category</th><th>toss_match_winner</th><th>team1_in_short</th><th>team2_in_short</th><th>toss_winner_in_short</th><th>match_winner_in_short</th></tr></thead><tbody><tr><td>0</td><td>335987</td><td>Royal Challengers Bangalore</td><td>Kolkata Knight Riders</td><td>2008-04-18</td><td>2008</td><td>M Chinnaswamy Stadium</td><td>Bangalore</td><td>India</td><td>Royal Challengers Bangalore</td><td>Kolkata Knight Riders</td><td>field</td><td>runs</td><td>Result</td><td>BB McCullum</td><td>140</td><td>1</td><td>2008</td><td>4</td><td>18</td><td>High</td><td>No</td><td>RCB</td><td>KKR</td><td>RCB</td><td>KKR</td></tr><tr><td>1</td><td>335988</td><td>Kings XI Punjab</td><td>Chennai Super Kings</td><td>2008-04-19</td><td>2008</td><td>Punjab Cricket Association Stadium, Mohali</td><td>Chandigarh</td><td>India</td><td>Chennai Super Kings</td><td>Chennai Super Kings</td><td>bat</td><td>runs</td><td>Result</td><td>MEK Hussey</td><td>33</td><td>1</td><td>2008</td><td>4</td><td>19</td><td>Low</td><td>Yes</td><td>KXP</td><td>CSK</td><td>CSK</td><td>CSK</td></tr><tr><td>2</td><td>335989</td><td>Delhi Daredevils</td><td>Rajasthan Royals</td><td>2008-04-19</td><td>2008</td><td>Feroz Shah Kotla</td><td>Delhi</td><td>India</td><td>Rajasthan Royals</td><td>Delhi Daredevils</td><td>bat</td><td>wickets</td><td>Result</td><td>MF Maharoof</td><td>9</td><td>1</td><td>2008</td><td>4</td><td>19</td><td>Low</td><td>No</td><td>DD</td><td>RR</td><td>RR</td><td>DD</td></tr><tr><td>3</td><td>335990</td><td>Mumbai Indians</td><td>Royal Challengers Bangalore</td><td>2008-04-20</td><td>2008</td><td>Wankhede Stadium</td><td>Mumbai</td><td>India</td><td>Mumbai Indians</td><td>Royal Challengers Bangalore</td><td>bat</td><td>wickets</td><td>Result</td><td>MV Boucher</td><td>5</td><td>1</td><td>2008</td><td>4</td><td>20</td><td>Low</td><td>No</td><td>MI</td><td>RCB</td><td>MI</td><td>RCB</td></tr><tr><td>4</td><td>335991</td><td>Kolkata Knight Riders</td><td>Deccan Chargers</td><td>2008-04-20</td><td>2008</td><td>Eden Gardens</td><td>Kolkata</td><td>India</td><td>Deccan Chargers</td><td>Kolkata Knight Riders</td><td>bat</td><td>wickets</td><td>Result</td><td>DJ Hussey</td><td>5</td><td>1</td><td>2008</td><td>4</td><td>20</td><td>Low</td><td>No</td><td>KKR</td><td>DC</td><td>DC</td><td>KKR</td></tr><tr><td>5</td><td>335992</td><td>Rajasthan Royals</td><td>Kings XI Punjab</td><td>2008-04-21</td><td>2008</td><td>Sawai Mansingh Stadium</td><td>Jaipur</td><td>India</td><td>Kings XI Punjab</td><td>Rajasthan Royals</td><td>bat</td><td>wickets</td><td>Result</td><td>SR Watson</td><td>6</td><td>1</td><td>2008</td><td>4</td><td>21</td><td>Low</td><td>No</td><td>RR</td><td>KXP</td><td>KXP</td><td>RR</td></tr><tr><td>6</td><td>335993</td><td>Deccan Chargers</td><td>Delhi Daredevils</td><td>2008-04-22</td><td>2008</td><td>Rajiv Gandhi International Stadium, Uppal</td><td>Hyderabad</td><td>India</td><td>Deccan Chargers</td><td>Delhi Daredevils</td><td>bat</td><td>wickets</td><td>Result</td><td>V Sehwag</td><td>9</td><td>1</td><td>2008</td><td>4</td><td>22</td><td>Low</td><td>No</td><td>DC</td><td>DD</td><td>DC</td><td>DD</td></tr><tr><td>7</td><td>335994</td><td>Chennai Super Kings</td><td>Mumbai Indians</td><td>2008-04-23</td><td>2008</td><td>MA Chidambaram Stadium, Chepauk</td><td>Chennai</td><td>India</td><td>Mumbai Indians</td><td>Chennai Super Kings</td><td>field</td><td>runs</td><td>Result</td><td>ML Hayden</td><td>6</td><td>1</td><td>2008</td><td>4</td><td>23</td><td>Low</td><td>No</td><td>CSK</td><td>MI</td><td>MI</td><td>CSK</td></tr><tr><td>8</td><td>335995</td><td>Deccan Chargers</td><td>Rajasthan Royals</td><td>2008-04-24</td><td>2008</td><td>Rajiv Gandhi International Stadium, Uppal</td><td>Hyderabad</td><td>India</td><td>Rajasthan Royals</td><td>Rajasthan Royals</td><td>field</td><td>wickets</td><td>Result</td><td>YK Pathan</td><td>3</td><td>1</td><td>2008</td><td>4</td><td>24</td><td>Low</td><td>Yes</td><td>DC</td><td>RR</td><td>RR</td><td>RR</td></tr><tr><td>9</td><td>335996</td><td>Kings XI Punjab</td><td>Mumbai Indians</td><td>2008-04-25</td><td>2008</td><td>Punjab Cricket Association Stadium, Mohali</td><td>Chandigarh</td><td>India</td><td>Mumbai Indians</td><td>Kings XI Punjab</td><td>field</td><td>runs</td><td>Result</td><td>KC Sangakkara</td><td>66</td><td>1</td><td>2008</td><td>4</td><td>25</td><td>Medium</td><td>No</td><td>KXP</td><td>MI</td><td>MI</td><td>KXP</td></tr></tbody></table></div>"
      ]
     },
     "metadata": {
      "application/vnd.databricks.v1+output": {
       "addedWidgets": {},
       "aggData": [],
       "aggError": "",
       "aggOverflow": false,
       "aggSchema": [],
       "aggSeriesLimitReached": false,
       "aggType": "",
       "arguments": {},
       "columnCustomDisplayInfos": {},
       "data": [
        [
         0,
         335987,
         "Royal Challengers Bangalore",
         "Kolkata Knight Riders",
         "2008-04-18",
         2008,
         "M Chinnaswamy Stadium",
         "Bangalore",
         "India",
         "Royal Challengers Bangalore",
         "Kolkata Knight Riders",
         "field",
         "runs",
         "Result",
         "BB McCullum",
         140,
         1,
         2008,
         4,
         18,
         "High",
         "No",
         "RCB",
         "KKR",
         "RCB",
         "KKR"
        ],
        [
         1,
         335988,
         "Kings XI Punjab",
         "Chennai Super Kings",
         "2008-04-19",
         2008,
         "Punjab Cricket Association Stadium, Mohali",
         "Chandigarh",
         "India",
         "Chennai Super Kings",
         "Chennai Super Kings",
         "bat",
         "runs",
         "Result",
         "MEK Hussey",
         33,
         1,
         2008,
         4,
         19,
         "Low",
         "Yes",
         "KXP",
         "CSK",
         "CSK",
         "CSK"
        ],
        [
         2,
         335989,
         "Delhi Daredevils",
         "Rajasthan Royals",
         "2008-04-19",
         2008,
         "Feroz Shah Kotla",
         "Delhi",
         "India",
         "Rajasthan Royals",
         "Delhi Daredevils",
         "bat",
         "wickets",
         "Result",
         "MF Maharoof",
         9,
         1,
         2008,
         4,
         19,
         "Low",
         "No",
         "DD",
         "RR",
         "RR",
         "DD"
        ],
        [
         3,
         335990,
         "Mumbai Indians",
         "Royal Challengers Bangalore",
         "2008-04-20",
         2008,
         "Wankhede Stadium",
         "Mumbai",
         "India",
         "Mumbai Indians",
         "Royal Challengers Bangalore",
         "bat",
         "wickets",
         "Result",
         "MV Boucher",
         5,
         1,
         2008,
         4,
         20,
         "Low",
         "No",
         "MI",
         "RCB",
         "MI",
         "RCB"
        ],
        [
         4,
         335991,
         "Kolkata Knight Riders",
         "Deccan Chargers",
         "2008-04-20",
         2008,
         "Eden Gardens",
         "Kolkata",
         "India",
         "Deccan Chargers",
         "Kolkata Knight Riders",
         "bat",
         "wickets",
         "Result",
         "DJ Hussey",
         5,
         1,
         2008,
         4,
         20,
         "Low",
         "No",
         "KKR",
         "DC",
         "DC",
         "KKR"
        ],
        [
         5,
         335992,
         "Rajasthan Royals",
         "Kings XI Punjab",
         "2008-04-21",
         2008,
         "Sawai Mansingh Stadium",
         "Jaipur",
         "India",
         "Kings XI Punjab",
         "Rajasthan Royals",
         "bat",
         "wickets",
         "Result",
         "SR Watson",
         6,
         1,
         2008,
         4,
         21,
         "Low",
         "No",
         "RR",
         "KXP",
         "KXP",
         "RR"
        ],
        [
         6,
         335993,
         "Deccan Chargers",
         "Delhi Daredevils",
         "2008-04-22",
         2008,
         "Rajiv Gandhi International Stadium, Uppal",
         "Hyderabad",
         "India",
         "Deccan Chargers",
         "Delhi Daredevils",
         "bat",
         "wickets",
         "Result",
         "V Sehwag",
         9,
         1,
         2008,
         4,
         22,
         "Low",
         "No",
         "DC",
         "DD",
         "DC",
         "DD"
        ],
        [
         7,
         335994,
         "Chennai Super Kings",
         "Mumbai Indians",
         "2008-04-23",
         2008,
         "MA Chidambaram Stadium, Chepauk",
         "Chennai",
         "India",
         "Mumbai Indians",
         "Chennai Super Kings",
         "field",
         "runs",
         "Result",
         "ML Hayden",
         6,
         1,
         2008,
         4,
         23,
         "Low",
         "No",
         "CSK",
         "MI",
         "MI",
         "CSK"
        ],
        [
         8,
         335995,
         "Deccan Chargers",
         "Rajasthan Royals",
         "2008-04-24",
         2008,
         "Rajiv Gandhi International Stadium, Uppal",
         "Hyderabad",
         "India",
         "Rajasthan Royals",
         "Rajasthan Royals",
         "field",
         "wickets",
         "Result",
         "YK Pathan",
         3,
         1,
         2008,
         4,
         24,
         "Low",
         "Yes",
         "DC",
         "RR",
         "RR",
         "RR"
        ],
        [
         9,
         335996,
         "Kings XI Punjab",
         "Mumbai Indians",
         "2008-04-25",
         2008,
         "Punjab Cricket Association Stadium, Mohali",
         "Chandigarh",
         "India",
         "Mumbai Indians",
         "Kings XI Punjab",
         "field",
         "runs",
         "Result",
         "KC Sangakkara",
         66,
         1,
         2008,
         4,
         25,
         "Medium",
         "No",
         "KXP",
         "MI",
         "MI",
         "KXP"
        ]
       ],
       "datasetInfos": [],
       "dbfsResultPath": null,
       "isJsonSchema": true,
       "metadata": {},
       "overflow": false,
       "plotOptions": {
        "customPlotOptions": {},
        "displayType": "table",
        "pivotAggregation": null,
        "pivotColumns": null,
        "xColumns": null,
        "yColumns": null
       },
       "removedWidgets": [],
       "schema": [
        {
         "metadata": "{}",
         "name": "match_sk",
         "type": "\"integer\""
        },
        {
         "metadata": "{}",
         "name": "match_id",
         "type": "\"integer\""
        },
        {
         "metadata": "{}",
         "name": "team1",
         "type": "\"string\""
        },
        {
         "metadata": "{}",
         "name": "team2",
         "type": "\"string\""
        },
        {
         "metadata": "{}",
         "name": "match_date",
         "type": "\"date\""
        },
        {
         "metadata": "{}",
         "name": "season_year",
         "type": "\"integer\""
        },
        {
         "metadata": "{}",
         "name": "venue_name",
         "type": "\"string\""
        },
        {
         "metadata": "{}",
         "name": "city_name",
         "type": "\"string\""
        },
        {
         "metadata": "{}",
         "name": "country_name",
         "type": "\"string\""
        },
        {
         "metadata": "{}",
         "name": "toss_winner",
         "type": "\"string\""
        },
        {
         "metadata": "{}",
         "name": "match_winner",
         "type": "\"string\""
        },
        {
         "metadata": "{}",
         "name": "toss_name",
         "type": "\"string\""
        },
        {
         "metadata": "{}",
         "name": "win_type",
         "type": "\"string\""
        },
        {
         "metadata": "{}",
         "name": "outcome_type",
         "type": "\"string\""
        },
        {
         "metadata": "{}",
         "name": "manofmach",
         "type": "\"string\""
        },
        {
         "metadata": "{}",
         "name": "win_margin",
         "type": "\"integer\""
        },
        {
         "metadata": "{}",
         "name": "country_id",
         "type": "\"integer\""
        },
        {
         "metadata": "{}",
         "name": "year",
         "type": "\"integer\""
        },
        {
         "metadata": "{}",
         "name": "month",
         "type": "\"integer\""
        },
        {
         "metadata": "{}",
         "name": "day",
         "type": "\"integer\""
        },
        {
         "metadata": "{}",
         "name": "win_margin_category",
         "type": "\"string\""
        },
        {
         "metadata": "{}",
         "name": "toss_match_winner",
         "type": "\"string\""
        },
        {
         "metadata": "{}",
         "name": "team1_in_short",
         "type": "\"string\""
        },
        {
         "metadata": "{}",
         "name": "team2_in_short",
         "type": "\"string\""
        },
        {
         "metadata": "{}",
         "name": "toss_winner_in_short",
         "type": "\"string\""
        },
        {
         "metadata": "{}",
         "name": "match_winner_in_short",
         "type": "\"string\""
        }
       ],
       "type": "table"
      }
     },
     "output_type": "display_data"
    }
   ],
   "source": [
    "from pyspark.sql.functions import year,month,dayofmonth,when\n",
    "\n",
    "#extracting year,month, and day from the match date \n",
    "match_df = match_df.withColumn(\"year\", year(\"match_date\"))\n",
    "match_df = match_df.withColumn(\"month\", month(\"match_date\"))\n",
    "match_df = match_df.withColumn(\"day\", dayofmonth(\"match_date\"))\n",
    "\n",
    "#High margin win:  categorizing win margins into high, medium, and low.\n",
    "match_df = match_df.withColumn(\n",
    "    \"win_margin_category\",\n",
    "    when(col(\"win_margin\") >= 100, 'High')\n",
    "    .when((col(\"win_margin\") >= 50) & (col(\"win_margin\") < 100),'Medium')\n",
    "    .otherwise('Low')\n",
    "    )\n",
    "\n",
    "#Analyse the impact of the toss : who wins the toss and the match\n",
    "match_df = match_df.withColumn(\n",
    "    \"toss_match_winner\",\n",
    "    when(col('toss_winner') == col('match_winner'), \"Yes\").otherwise(\"No\")\n",
    ") \n",
    "#Adding column for Short Name of each team so that we can use efficiently in plotting graph\n",
    "match_df = match_df.withColumn(\n",
    "    \"team1_in_short\",\n",
    "    inShort_udf(match_df[\"team1\"])\n",
    ") \n",
    "match_df = match_df.withColumn(\n",
    "    \"team2_in_short\",\n",
    "    inShort_udf(match_df[\"team2\"])\n",
    ") \n",
    "match_df = match_df.withColumn(\n",
    "    \"toss_winner_in_short\",\n",
    "    inShort_udf(match_df[\"toss_winner\"])\n",
    ") \n",
    "match_df = match_df.withColumn(\n",
    "    \"match_winner_in_short\",\n",
    "    inShort_udf(match_df[\"match_winner\"])\n",
    ") \n",
    "\n",
    "\n",
    "match_df.limit(10).display()\n"
   ]
  },
  {
   "cell_type": "code",
   "execution_count": 0,
   "metadata": {
    "application/vnd.databricks.v1+cell": {
     "cellMetadata": {
      "byteLimit": 2048000,
      "rowLimit": 10000
     },
     "inputWidgets": {},
     "nuid": "77894ed3-6f87-4b98-a9aa-86119c8e5d12",
     "showTitle": false,
     "tableResultSettingsMap": {},
     "title": ""
    }
   },
   "outputs": [
    {
     "output_type": "stream",
     "name": "stdout",
     "output_type": "stream",
     "text": [
      "+---------------------+\n|match_winner_in_short|\n+---------------------+\n|                  KKR|\n|                   DC|\n|                   GL|\n|                   RR|\n|                  KXP|\n|                   MI|\n|                   DD|\n|                 tied|\n|                  CSK|\n|                  RCB|\n|            abandoned|\n|                   SH|\n|                  RPS|\n|                  KTK|\n|                   PW|\n|                 NULL|\n+---------------------+\n\n"
     ]
    }
   ],
   "source": [
    "match_df.select('match_winner_in_short').distinct().show()\n",
    "# match_df.select('match_winner').distinct().show()"
   ]
  },
  {
   "cell_type": "code",
   "execution_count": 0,
   "metadata": {
    "application/vnd.databricks.v1+cell": {
     "cellMetadata": {
      "byteLimit": 2048000,
      "rowLimit": 10000
     },
     "inputWidgets": {},
     "nuid": "1159f496-5bc2-4882-9309-c0df4f4a1f61",
     "showTitle": false,
     "tableResultSettingsMap": {},
     "title": ""
    }
   },
   "outputs": [
    {
     "output_type": "stream",
     "name": "stdout",
     "output_type": "stream",
     "text": [
      "+---------------+\n|   batting_hand|\n+---------------+\n|  Left-hand bat|\n|�Right-hand bat|\n| Right-hand bat|\n| �Left-hand bat|\n|   Right-handed|\n+---------------+\n\n"
     ]
    }
   ],
   "source": [
    "player_df.select(\"batting_hand\").distinct().show()"
   ]
  },
  {
   "cell_type": "code",
   "execution_count": 0,
   "metadata": {
    "application/vnd.databricks.v1+cell": {
     "cellMetadata": {
      "byteLimit": 2048000,
      "rowLimit": 10000
     },
     "inputWidgets": {},
     "nuid": "b24b4cde-da9f-47f3-be0b-06d3008cf3f5",
     "showTitle": false,
     "tableResultSettingsMap": {},
     "title": ""
    }
   },
   "outputs": [
    {
     "output_type": "display_data",
     "data": {
      "text/html": [
       "<style scoped>\n",
       "  .table-result-container {\n",
       "    max-height: 300px;\n",
       "    overflow: auto;\n",
       "  }\n",
       "  table, th, td {\n",
       "    border: 1px solid black;\n",
       "    border-collapse: collapse;\n",
       "  }\n",
       "  th, td {\n",
       "    padding: 5px;\n",
       "  }\n",
       "  th {\n",
       "    text-align: left;\n",
       "  }\n",
       "</style><div class='table-result-container'><table class='table-result'><thead style='background-color: white'><tr><th>player_sk</th><th>player_id</th><th>player_name</th><th>dob</th><th>batting_hand</th><th>bowling_skill</th><th>country_name</th><th>batting_hand_new</th></tr></thead><tbody><tr><td>0</td><td>1</td><td>SC Ganguly</td><td>1972-07-08</td><td>Left-hand bat</td><td>Right-arm medium</td><td>India</td><td>Left-handed</td></tr><tr><td>1</td><td>2</td><td>BB McCullum</td><td>1981-09-27</td><td>Right-hand bat</td><td>Right-arm medium</td><td>New Zealand</td><td>Right-handed</td></tr><tr><td>2</td><td>3</td><td>RT Ponting</td><td>1974-12-19</td><td>Right-hand bat</td><td>Right-arm medium</td><td>Australia</td><td>Right-handed</td></tr><tr><td>3</td><td>4</td><td>DJ Hussey</td><td>1977-07-15</td><td>Right-hand bat</td><td>Right-arm offbreak</td><td>Australia</td><td>Right-handed</td></tr><tr><td>4</td><td>5</td><td>Mohammad Hafeez</td><td>1980-10-17</td><td>Right-hand bat</td><td>Right-arm offbreak</td><td>Pakistan</td><td>Right-handed</td></tr><tr><td>5</td><td>6</td><td>R Dravid</td><td>1973-01-11</td><td>Right-hand bat</td><td>Right-arm offbreak</td><td>India</td><td>Right-handed</td></tr><tr><td>6</td><td>7</td><td>W Jaffer</td><td>1978-02-16</td><td>Right-hand bat</td><td>Right-arm offbreak</td><td>India</td><td>Right-handed</td></tr><tr><td>7</td><td>8</td><td>V Kohli</td><td>1988-11-05</td><td>Right-hand bat</td><td>Right-arm medium</td><td>India</td><td>Right-handed</td></tr><tr><td>8</td><td>9</td><td>JH Kallis</td><td>1975-10-16</td><td>Right-hand bat</td><td>Right-arm fast-medium</td><td>South Africa</td><td>Right-handed</td></tr><tr><td>9</td><td>10</td><td>CL White</td><td>1983-08-18</td><td>Right-hand bat</td><td>Legbreak googly</td><td>Australia</td><td>Right-handed</td></tr></tbody></table></div>"
      ]
     },
     "metadata": {
      "application/vnd.databricks.v1+output": {
       "addedWidgets": {},
       "aggData": [],
       "aggError": "",
       "aggOverflow": false,
       "aggSchema": [],
       "aggSeriesLimitReached": false,
       "aggType": "",
       "arguments": {},
       "columnCustomDisplayInfos": {},
       "data": [
        [
         0,
         1,
         "SC Ganguly",
         "1972-07-08",
         "Left-hand bat",
         "Right-arm medium",
         "India",
         "Left-handed"
        ],
        [
         1,
         2,
         "BB McCullum",
         "1981-09-27",
         "Right-hand bat",
         "Right-arm medium",
         "New Zealand",
         "Right-handed"
        ],
        [
         2,
         3,
         "RT Ponting",
         "1974-12-19",
         "Right-hand bat",
         "Right-arm medium",
         "Australia",
         "Right-handed"
        ],
        [
         3,
         4,
         "DJ Hussey",
         "1977-07-15",
         "Right-hand bat",
         "Right-arm offbreak",
         "Australia",
         "Right-handed"
        ],
        [
         4,
         5,
         "Mohammad Hafeez",
         "1980-10-17",
         "Right-hand bat",
         "Right-arm offbreak",
         "Pakistan",
         "Right-handed"
        ],
        [
         5,
         6,
         "R Dravid",
         "1973-01-11",
         "Right-hand bat",
         "Right-arm offbreak",
         "India",
         "Right-handed"
        ],
        [
         6,
         7,
         "W Jaffer",
         "1978-02-16",
         "Right-hand bat",
         "Right-arm offbreak",
         "India",
         "Right-handed"
        ],
        [
         7,
         8,
         "V Kohli",
         "1988-11-05",
         "Right-hand bat",
         "Right-arm medium",
         "India",
         "Right-handed"
        ],
        [
         8,
         9,
         "JH Kallis",
         "1975-10-16",
         "Right-hand bat",
         "Right-arm fast-medium",
         "South Africa",
         "Right-handed"
        ],
        [
         9,
         10,
         "CL White",
         "1983-08-18",
         "Right-hand bat",
         "Legbreak googly",
         "Australia",
         "Right-handed"
        ]
       ],
       "datasetInfos": [],
       "dbfsResultPath": null,
       "isJsonSchema": true,
       "metadata": {},
       "overflow": false,
       "plotOptions": {
        "customPlotOptions": {},
        "displayType": "table",
        "pivotAggregation": null,
        "pivotColumns": null,
        "xColumns": null,
        "yColumns": null
       },
       "removedWidgets": [],
       "schema": [
        {
         "metadata": "{}",
         "name": "player_sk",
         "type": "\"integer\""
        },
        {
         "metadata": "{}",
         "name": "player_id",
         "type": "\"integer\""
        },
        {
         "metadata": "{}",
         "name": "player_name",
         "type": "\"string\""
        },
        {
         "metadata": "{}",
         "name": "dob",
         "type": "\"date\""
        },
        {
         "metadata": "{}",
         "name": "batting_hand",
         "type": "\"string\""
        },
        {
         "metadata": "{}",
         "name": "bowling_skill",
         "type": "\"string\""
        },
        {
         "metadata": "{}",
         "name": "country_name",
         "type": "\"string\""
        },
        {
         "metadata": "{}",
         "name": "batting_hand_new",
         "type": "\"string\""
        }
       ],
       "type": "table"
      }
     },
     "output_type": "display_data"
    }
   ],
   "source": [
    "from pyspark.sql.functions import lower,regexp_replace\n",
    "\n",
    "#Normalise and clean batting_hand column values\n",
    "player_df = player_df.withColumn(\n",
    "    \"batting_hand0\",\n",
    "    lower(regexp_replace(\"batting_hand\", \"[^a-zA-Z0-9]\", \"\")) \n",
    "    #Here, it’s replacing any characters in batting hand col that are not letters (a-z, A-Z) or numbers (0-9) with an empty string, effectively removing them.\n",
    ")\n",
    "player_df = player_df.withColumn(\n",
    "    \"batting_hand_new\",\n",
    "    when(\n",
    "        col(\"batting_hand0\").contains(\"left\"), \"Left-handed\"\n",
    "    ).otherwise(\"Right-handed\") #will only conatain two distinct values\n",
    ")\n",
    "player_df = player_df.drop(\"batting_hand0\")\n",
    "\n",
    "player_df.limit(10).display()"
   ]
  },
  {
   "cell_type": "code",
   "execution_count": 0,
   "metadata": {
    "application/vnd.databricks.v1+cell": {
     "cellMetadata": {
      "byteLimit": 2048000,
      "rowLimit": 10000
     },
     "inputWidgets": {},
     "nuid": "721d3c6c-f459-4053-9641-00f694d59d88",
     "showTitle": false,
     "tableResultSettingsMap": {},
     "title": ""
    }
   },
   "outputs": [
    {
     "output_type": "display_data",
     "data": {
      "text/html": [
       "<style scoped>\n",
       "  .table-result-container {\n",
       "    max-height: 300px;\n",
       "    overflow: auto;\n",
       "  }\n",
       "  table, th, td {\n",
       "    border: 1px solid black;\n",
       "    border-collapse: collapse;\n",
       "  }\n",
       "  th, td {\n",
       "    padding: 5px;\n",
       "  }\n",
       "  th {\n",
       "    text-align: left;\n",
       "  }\n",
       "</style><div class='table-result-container'><table class='table-result'><thead style='background-color: white'><tr><th>player_match_sk</th><th>playermatch_key</th><th>match_id</th><th>player_id</th><th>player_name</th><th>dob</th><th>batting_hand</th><th>bowling_skill</th><th>country_name</th><th>role_desc</th><th>player_team</th><th>opposit_team</th><th>season_year</th><th>is_manofthematch</th><th>age_as_on_match</th><th>isplayers_team_won</th><th>batting_status</th><th>bowling_status</th><th>player_captain</th><th>opposit_captain</th><th>player_keeper</th><th>opposit_keeper</th><th>veteran_status</th><th>years_since_debut</th></tr></thead><tbody><tr><td>12694</td><td>33598700006</td><td>335987</td><td>6</td><td>R Dravid</td><td>1973-01-11</td><td>Right-hand bat</td><td>Right-arm offbreak</td><td>India</td><td>Captain</td><td>Royal Challengers Bangalore</td><td>Kolkata Knight Riders</td><td>2008</td><td>false</td><td>35</td><td>false</td><td>null</td><td>null</td><td>R Dravid</td><td>SC Ganguly</td><td>MV Boucher</td><td>WP Saha</td><td>Veteran</td><td>16</td></tr><tr><td>12695</td><td>33598700007</td><td>335987</td><td>7</td><td>W Jaffer</td><td>1978-02-16</td><td>Right-hand bat</td><td>Right-arm offbreak</td><td>India</td><td>Player</td><td>Royal Challengers Bangalore</td><td>Kolkata Knight Riders</td><td>2008</td><td>false</td><td>30</td><td>false</td><td>null</td><td>null</td><td>R Dravid</td><td>SC Ganguly</td><td>MV Boucher</td><td>WP Saha</td><td>Non-Vetran</td><td>16</td></tr><tr><td>12696</td><td>33598700008</td><td>335987</td><td>8</td><td>V Kohli</td><td>1988-11-05</td><td>Right-hand bat</td><td>Right-arm medium</td><td>India</td><td>Player</td><td>Royal Challengers Bangalore</td><td>Kolkata Knight Riders</td><td>2008</td><td>false</td><td>20</td><td>false</td><td>null</td><td>null</td><td>R Dravid</td><td>SC Ganguly</td><td>MV Boucher</td><td>WP Saha</td><td>Non-Vetran</td><td>16</td></tr><tr><td>12697</td><td>33598700009</td><td>335987</td><td>9</td><td>JH Kallis</td><td>1975-10-16</td><td>Right-hand bat</td><td>Right-arm fast-medium</td><td>South Africa</td><td>Player</td><td>Royal Challengers Bangalore</td><td>Kolkata Knight Riders</td><td>2008</td><td>false</td><td>33</td><td>false</td><td>null</td><td>null</td><td>R Dravid</td><td>SC Ganguly</td><td>MV Boucher</td><td>WP Saha</td><td>Non-Vetran</td><td>16</td></tr><tr><td>12698</td><td>33598700010</td><td>335987</td><td>10</td><td>CL White</td><td>1983-08-18</td><td>Right-hand bat</td><td>Legbreak googly</td><td>Australia</td><td>Player</td><td>Royal Challengers Bangalore</td><td>Kolkata Knight Riders</td><td>2008</td><td>false</td><td>25</td><td>false</td><td>null</td><td>null</td><td>R Dravid</td><td>SC Ganguly</td><td>MV Boucher</td><td>WP Saha</td><td>Non-Vetran</td><td>16</td></tr><tr><td>12699</td><td>33598700011</td><td>335987</td><td>11</td><td>MV Boucher</td><td>1976-12-03</td><td>Right-hand bat</td><td>Right-arm medium</td><td>South Africa</td><td>Keeper</td><td>Royal Challengers Bangalore</td><td>Kolkata Knight Riders</td><td>2008</td><td>false</td><td>32</td><td>false</td><td>null</td><td>null</td><td>R Dravid</td><td>SC Ganguly</td><td>MV Boucher</td><td>WP Saha</td><td>Non-Vetran</td><td>16</td></tr><tr><td>12700</td><td>33598700012</td><td>335987</td><td>12</td><td>B Akhil</td><td>1977-10-07</td><td>Right-hand bat</td><td>Right-arm medium-fast</td><td>India</td><td>Player</td><td>Royal Challengers Bangalore</td><td>Kolkata Knight Riders</td><td>2008</td><td>false</td><td>31</td><td>false</td><td>null</td><td>null</td><td>R Dravid</td><td>SC Ganguly</td><td>MV Boucher</td><td>WP Saha</td><td>Non-Vetran</td><td>16</td></tr><tr><td>12701</td><td>33598700013</td><td>335987</td><td>13</td><td>AA Noffke</td><td>1977-04-30</td><td>Right-hand bat</td><td>Right-arm fast-medium</td><td>Australia</td><td>Player</td><td>Royal Challengers Bangalore</td><td>Kolkata Knight Riders</td><td>2008</td><td>false</td><td>31</td><td>false</td><td>null</td><td>null</td><td>R Dravid</td><td>SC Ganguly</td><td>MV Boucher</td><td>WP Saha</td><td>Non-Vetran</td><td>16</td></tr><tr><td>12702</td><td>33598700014</td><td>335987</td><td>14</td><td>P Kumar</td><td>1986-10-02</td><td>Right-hand bat</td><td>Right-arm medium</td><td>India</td><td>Player</td><td>Royal Challengers Bangalore</td><td>Kolkata Knight Riders</td><td>2008</td><td>false</td><td>22</td><td>false</td><td>null</td><td>null</td><td>R Dravid</td><td>SC Ganguly</td><td>MV Boucher</td><td>WP Saha</td><td>Non-Vetran</td><td>16</td></tr><tr><td>12703</td><td>33598700015</td><td>335987</td><td>15</td><td>Z Khan</td><td>1978-10-07</td><td>Right-hand bat</td><td>Left-arm fast-medium</td><td>India</td><td>Player</td><td>Royal Challengers Bangalore</td><td>Kolkata Knight Riders</td><td>2008</td><td>false</td><td>30</td><td>false</td><td>null</td><td>null</td><td>R Dravid</td><td>SC Ganguly</td><td>MV Boucher</td><td>WP Saha</td><td>Non-Vetran</td><td>16</td></tr></tbody></table></div>"
      ]
     },
     "metadata": {
      "application/vnd.databricks.v1+output": {
       "addedWidgets": {},
       "aggData": [],
       "aggError": "",
       "aggOverflow": false,
       "aggSchema": [],
       "aggSeriesLimitReached": false,
       "aggType": "",
       "arguments": {},
       "columnCustomDisplayInfos": {},
       "data": [
        [
         12694,
         "33598700006",
         "335987",
         6,
         "R Dravid",
         "1973-01-11",
         "Right-hand bat",
         "Right-arm offbreak",
         "India",
         "Captain",
         "Royal Challengers Bangalore",
         "Kolkata Knight Riders",
         2008,
         false,
         35,
         false,
         null,
         null,
         "R Dravid",
         "SC Ganguly",
         "MV Boucher",
         "WP Saha",
         "Veteran",
         16
        ],
        [
         12695,
         "33598700007",
         "335987",
         7,
         "W Jaffer",
         "1978-02-16",
         "Right-hand bat",
         "Right-arm offbreak",
         "India",
         "Player",
         "Royal Challengers Bangalore",
         "Kolkata Knight Riders",
         2008,
         false,
         30,
         false,
         null,
         null,
         "R Dravid",
         "SC Ganguly",
         "MV Boucher",
         "WP Saha",
         "Non-Vetran",
         16
        ],
        [
         12696,
         "33598700008",
         "335987",
         8,
         "V Kohli",
         "1988-11-05",
         "Right-hand bat",
         "Right-arm medium",
         "India",
         "Player",
         "Royal Challengers Bangalore",
         "Kolkata Knight Riders",
         2008,
         false,
         20,
         false,
         null,
         null,
         "R Dravid",
         "SC Ganguly",
         "MV Boucher",
         "WP Saha",
         "Non-Vetran",
         16
        ],
        [
         12697,
         "33598700009",
         "335987",
         9,
         "JH Kallis",
         "1975-10-16",
         "Right-hand bat",
         "Right-arm fast-medium",
         "South Africa",
         "Player",
         "Royal Challengers Bangalore",
         "Kolkata Knight Riders",
         2008,
         false,
         33,
         false,
         null,
         null,
         "R Dravid",
         "SC Ganguly",
         "MV Boucher",
         "WP Saha",
         "Non-Vetran",
         16
        ],
        [
         12698,
         "33598700010",
         "335987",
         10,
         "CL White",
         "1983-08-18",
         "Right-hand bat",
         "Legbreak googly",
         "Australia",
         "Player",
         "Royal Challengers Bangalore",
         "Kolkata Knight Riders",
         2008,
         false,
         25,
         false,
         null,
         null,
         "R Dravid",
         "SC Ganguly",
         "MV Boucher",
         "WP Saha",
         "Non-Vetran",
         16
        ],
        [
         12699,
         "33598700011",
         "335987",
         11,
         "MV Boucher",
         "1976-12-03",
         "Right-hand bat",
         "Right-arm medium",
         "South Africa",
         "Keeper",
         "Royal Challengers Bangalore",
         "Kolkata Knight Riders",
         2008,
         false,
         32,
         false,
         null,
         null,
         "R Dravid",
         "SC Ganguly",
         "MV Boucher",
         "WP Saha",
         "Non-Vetran",
         16
        ],
        [
         12700,
         "33598700012",
         "335987",
         12,
         "B Akhil",
         "1977-10-07",
         "Right-hand bat",
         "Right-arm medium-fast",
         "India",
         "Player",
         "Royal Challengers Bangalore",
         "Kolkata Knight Riders",
         2008,
         false,
         31,
         false,
         null,
         null,
         "R Dravid",
         "SC Ganguly",
         "MV Boucher",
         "WP Saha",
         "Non-Vetran",
         16
        ],
        [
         12701,
         "33598700013",
         "335987",
         13,
         "AA Noffke",
         "1977-04-30",
         "Right-hand bat",
         "Right-arm fast-medium",
         "Australia",
         "Player",
         "Royal Challengers Bangalore",
         "Kolkata Knight Riders",
         2008,
         false,
         31,
         false,
         null,
         null,
         "R Dravid",
         "SC Ganguly",
         "MV Boucher",
         "WP Saha",
         "Non-Vetran",
         16
        ],
        [
         12702,
         "33598700014",
         "335987",
         14,
         "P Kumar",
         "1986-10-02",
         "Right-hand bat",
         "Right-arm medium",
         "India",
         "Player",
         "Royal Challengers Bangalore",
         "Kolkata Knight Riders",
         2008,
         false,
         22,
         false,
         null,
         null,
         "R Dravid",
         "SC Ganguly",
         "MV Boucher",
         "WP Saha",
         "Non-Vetran",
         16
        ],
        [
         12703,
         "33598700015",
         "335987",
         15,
         "Z Khan",
         "1978-10-07",
         "Right-hand bat",
         "Left-arm fast-medium",
         "India",
         "Player",
         "Royal Challengers Bangalore",
         "Kolkata Knight Riders",
         2008,
         false,
         30,
         false,
         null,
         null,
         "R Dravid",
         "SC Ganguly",
         "MV Boucher",
         "WP Saha",
         "Non-Vetran",
         16
        ]
       ],
       "datasetInfos": [],
       "dbfsResultPath": null,
       "isJsonSchema": true,
       "metadata": {},
       "overflow": false,
       "plotOptions": {
        "customPlotOptions": {},
        "displayType": "table",
        "pivotAggregation": null,
        "pivotColumns": null,
        "xColumns": null,
        "yColumns": null
       },
       "removedWidgets": [],
       "schema": [
        {
         "metadata": "{}",
         "name": "player_match_sk",
         "type": "\"integer\""
        },
        {
         "metadata": "{}",
         "name": "playermatch_key",
         "type": "\"string\""
        },
        {
         "metadata": "{}",
         "name": "match_id",
         "type": "\"decimal(10,0)\""
        },
        {
         "metadata": "{}",
         "name": "player_id",
         "type": "\"integer\""
        },
        {
         "metadata": "{}",
         "name": "player_name",
         "type": "\"string\""
        },
        {
         "metadata": "{}",
         "name": "dob",
         "type": "\"date\""
        },
        {
         "metadata": "{}",
         "name": "batting_hand",
         "type": "\"string\""
        },
        {
         "metadata": "{}",
         "name": "bowling_skill",
         "type": "\"string\""
        },
        {
         "metadata": "{}",
         "name": "country_name",
         "type": "\"string\""
        },
        {
         "metadata": "{}",
         "name": "role_desc",
         "type": "\"string\""
        },
        {
         "metadata": "{}",
         "name": "player_team",
         "type": "\"string\""
        },
        {
         "metadata": "{}",
         "name": "opposit_team",
         "type": "\"string\""
        },
        {
         "metadata": "{}",
         "name": "season_year",
         "type": "\"integer\""
        },
        {
         "metadata": "{}",
         "name": "is_manofthematch",
         "type": "\"boolean\""
        },
        {
         "metadata": "{}",
         "name": "age_as_on_match",
         "type": "\"integer\""
        },
        {
         "metadata": "{}",
         "name": "isplayers_team_won",
         "type": "\"boolean\""
        },
        {
         "metadata": "{}",
         "name": "batting_status",
         "type": "\"string\""
        },
        {
         "metadata": "{}",
         "name": "bowling_status",
         "type": "\"string\""
        },
        {
         "metadata": "{}",
         "name": "player_captain",
         "type": "\"string\""
        },
        {
         "metadata": "{}",
         "name": "opposit_captain",
         "type": "\"string\""
        },
        {
         "metadata": "{}",
         "name": "player_keeper",
         "type": "\"string\""
        },
        {
         "metadata": "{}",
         "name": "opposit_keeper",
         "type": "\"string\""
        },
        {
         "metadata": "{}",
         "name": "veteran_status",
         "type": "\"string\""
        },
        {
         "metadata": "{}",
         "name": "years_since_debut",
         "type": "\"integer\""
        }
       ],
       "type": "table"
      }
     },
     "output_type": "display_data"
    }
   ],
   "source": [
    "from pyspark.sql.functions import when,col,current_date\n",
    "\n",
    "#Add veteran status column based on player's age\n",
    "player_match_df = player_match_df.withColumn(\n",
    "    \"veteran_status\",\n",
    "    when(col(\"age_as_on_match\") >=35, \"Veteran\").otherwise(\"Non-Vetran\")\n",
    ")\n",
    "\n",
    "#Dynamic column to calculate year since debut\n",
    "player_match_df = player_match_df.withColumn(\n",
    "    \"years_since_debut\",\n",
    "    (year(current_date()) - col(\"season_year\"))\n",
    ")\n",
    "\n",
    "player_match_df.limit(10).display()"
   ]
  },
  {
   "cell_type": "code",
   "execution_count": 0,
   "metadata": {
    "application/vnd.databricks.v1+cell": {
     "cellMetadata": {
      "byteLimit": 2048000,
      "rowLimit": 10000
     },
     "inputWidgets": {},
     "nuid": "dc02dcff-3511-4199-bb50-3b18b637c803",
     "showTitle": false,
     "tableResultSettingsMap": {},
     "title": ""
    }
   },
   "outputs": [],
   "source": [
    "#Converting all df into sql table so that we can query\n",
    "ball_by_ball_df.createOrReplaceTempView(\"ball_by_ball\")\n",
    "match_df.createOrReplaceTempView(\"match\")\n",
    "player_df.createOrReplaceTempView(\"player\")\n",
    "player_match_df.createOrReplaceTempView(\"player_match\")\n",
    "team_df.createOrReplaceTempView(\"team\")"
   ]
  },
  {
   "cell_type": "code",
   "execution_count": 0,
   "metadata": {
    "application/vnd.databricks.v1+cell": {
     "cellMetadata": {
      "byteLimit": 2048000,
      "rowLimit": 10000
     },
     "inputWidgets": {},
     "nuid": "d405ca4f-e2ee-4801-91c5-2dc3d4fc18aa",
     "showTitle": false,
     "tableResultSettingsMap": {},
     "title": ""
    }
   },
   "outputs": [
    {
     "output_type": "stream",
     "name": "stdout",
     "output_type": "stream",
     "text": [
      "+-------------+-----------+----------+\n|  player_name|season_year|total_runs|\n+-------------+-----------+----------+\n|     SE Marsh|       2008|       614|\n|    G Gambhir|       2008|       532|\n|ST Jayasuriya|       2008|       508|\n|    SR Watson|       2008|       463|\n|     GC Smith|       2008|       437|\n| AC Gilchrist|       2008|       431|\n|    YK Pathan|       2008|       430|\n|     SK Raina|       2008|       420|\n|     MS Dhoni|       2008|       414|\n|     V Sehwag|       2008|       399|\n|    RG Sharma|       2008|       399|\n|     R Dravid|       2008|       370|\n|   SC Ganguly|       2008|       349|\n|     S Dhawan|       2008|       340|\n|KC Sangakkara|       2008|       319|\n|    DJ Hussey|       2008|       318|\n|   RV Uthappa|       2008|       316|\n|  SA Asnodkar|       2008|       311|\n| Yuvraj Singh|       2008|       299|\n|     PA Patel|       2008|       297|\n+-------------+-----------+----------+\nonly showing top 20 rows\n\n"
     ]
    }
   ],
   "source": [
    "top_scoring_batsman_per_season = spark.sql(\"\"\"\n",
    "       SELECT p.player_name,m.season_year,SUM(b.runs_scored) as total_runs\n",
    "       FROM ball_by_ball b\n",
    "       JOIN match m ON b.match_id = m.match_id  \n",
    "       JOIN player_match pm ON m.match_id = pm.match_id AND b.striker = pm.player_id\n",
    "       JOIN player p ON p.player_id = pm.player_id \n",
    "       GROUP BY p.player_name,m.season_year\n",
    "       ORDER BY m.season_year,total_runs DESC                                  \n",
    "                                           \"\"\")\n",
    "top_scoring_batsman_per_season.show()"
   ]
  },
  {
   "cell_type": "code",
   "execution_count": 0,
   "metadata": {
    "application/vnd.databricks.v1+cell": {
     "cellMetadata": {
      "byteLimit": 2048000,
      "rowLimit": 10000
     },
     "inputWidgets": {},
     "nuid": "a960cfc7-cd16-430c-903f-0b9a0421552d",
     "showTitle": false,
     "tableResultSettingsMap": {},
     "title": ""
    }
   },
   "outputs": [
    {
     "output_type": "stream",
     "name": "stdout",
     "output_type": "stream",
     "text": [
      "+--------+--------------------+---------+---------------------+-------------+\n|match_id|toss_winner_in_short|toss_name|match_winner_in_short|match_outcome|\n+--------+--------------------+---------+---------------------+-------------+\n|  335987|                 RCB|    field|                  KKR|         Lost|\n|  335988|                 CSK|      bat|                  CSK|          Won|\n|  335989|                  RR|      bat|                   DD|         Lost|\n|  335990|                  MI|      bat|                  RCB|         Lost|\n|  335991|                  DC|      bat|                  KKR|         Lost|\n|  335992|                 KXP|      bat|                   RR|         Lost|\n|  335993|                  DC|      bat|                   DD|         Lost|\n|  335994|                  MI|    field|                  CSK|         Lost|\n|  335995|                  RR|    field|                   RR|          Won|\n|  335996|                  MI|    field|                  KXP|         Lost|\n|  335997|                  RR|    field|                   RR|          Won|\n|  335998|                 KKR|      bat|                  CSK|         Lost|\n|  335999|                  DC|    field|                   DC|          Won|\n|  336000|                  DD|      bat|                  KXP|         Lost|\n|  336001|                 CSK|      bat|                  CSK|          Won|\n|  336002|                 KKR|      bat|                   MI|         Lost|\n|  336003|                 RCB|    field|                   DD|         Lost|\n|  336004|                 KXP|    field|                  KXP|          Won|\n|  336005|                  RR|      bat|                   RR|          Won|\n|  336006|                 CSK|      bat|                   DD|         Lost|\n+--------+--------------------+---------+---------------------+-------------+\nonly showing top 20 rows\n\n"
     ]
    }
   ],
   "source": [
    "toss_impact_individual_matches = spark.sql(\"\"\"\n",
    "    SELECT m.match_id, m.toss_winner_in_short, m.toss_name, m.match_winner_in_short,\n",
    "        CASE WHEN m.toss_winner_in_short = m.match_winner_in_short THEN 'Won' ELSE 'Lost' END AS match_outcome\n",
    "    FROM match m\n",
    "    WHERE m.toss_name IS NOT NULL\n",
    "    ORDER BY m.match_id\n",
    "                                           \"\"\")\n",
    "toss_impact_individual_matches.show()\n",
    "\n",
    "                            "
   ]
  },
  {
   "cell_type": "code",
   "execution_count": 0,
   "metadata": {
    "application/vnd.databricks.v1+cell": {
     "cellMetadata": {
      "byteLimit": 2048000,
      "rowLimit": 10000
     },
     "inputWidgets": {},
     "nuid": "c96a91d5-ddc3-48e0-b2eb-58ff3014af57",
     "showTitle": false,
     "tableResultSettingsMap": {},
     "title": ""
    }
   },
   "outputs": [
    {
     "output_type": "stream",
     "name": "stdout",
     "output_type": "stream",
     "text": [
      "Out[75]: <function matplotlib.pyplot.show(close=None, block=None)>"
     ]
    },
    {
     "output_type": "display_data",
     "data": {
      "image/png": "[encoded data removed]"
     },
     "metadata": {
      "application/vnd.databricks.v1+output": {
       "addedWidgets": {},
       "arguments": {},
       "data": "data:image/png;base64,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\n",
       "datasetInfos": [],
       "metadata": {},
       "removedWidgets": [],
       "type": "image"
      }
     },
     "output_type": "display_data"
    }
   ],
   "source": [
    "import matplotlib.pyplot as plt\n",
    "import seaborn as sns\n",
    "toss_impact_pd = toss_impact_individual_matches.toPandas()\n",
    "\n",
    "#Creating a countplot to show win/loss after winning toss\n",
    "plt.figure(figsize=(15,6)) #defines area taken by the graph\n",
    "sns.countplot(x='toss_winner_in_short', hue='match_outcome',data=toss_impact_pd)\n",
    "plt.title(\"Impact of Winning Toss on Match Outcome\")\n",
    "plt.xlabel('Toss Winner_in_short')\n",
    "plt.ylabel('Number of Matches')\n",
    "plt.legend(title = 'Match Outcome')\n",
    "# plt.xticks(rotation = 90) #to rotate x axis labels to 90 degree for better readability\n",
    "plt.tight_layout()\n",
    "plt.show"
   ]
  },
  {
   "cell_type": "markdown",
   "metadata": {
    "application/vnd.databricks.v1+cell": {
     "cellMetadata": {
      "byteLimit": 2048000,
      "rowLimit": 10000
     },
     "inputWidgets": {},
     "nuid": "47e54a25-20b8-4169-a6ac-640b28f7c5d9",
     "showTitle": false,
     "tableResultSettingsMap": {},
     "title": ""
    }
   },
   "source": [
    "From this graph we can conclude that whenever CSK won toss they likely loses the game and when KXP wins toss they likely win the match \n"
   ]
  },
  {
   "cell_type": "code",
   "execution_count": 0,
   "metadata": {
    "application/vnd.databricks.v1+cell": {
     "cellMetadata": {
      "byteLimit": 2048000,
      "rowLimit": 10000
     },
     "inputWidgets": {},
     "nuid": "cd164ec7-c73c-462c-9b38-1fd2a694e675",
     "showTitle": false,
     "tableResultSettingsMap": {},
     "title": ""
    }
   },
   "outputs": [
    {
     "output_type": "display_data",
     "data": {
      "text/html": [
       "<style scoped>\n",
       "  .table-result-container {\n",
       "    max-height: 300px;\n",
       "    overflow: auto;\n",
       "  }\n",
       "  table, th, td {\n",
       "    border: 1px solid black;\n",
       "    border-collapse: collapse;\n",
       "  }\n",
       "  th, td {\n",
       "    padding: 5px;\n",
       "  }\n",
       "  th {\n",
       "    text-align: left;\n",
       "  }\n",
       "</style><div class='table-result-container'><table class='table-result'><thead style='background-color: white'><tr><th>venue_name</th><th>average_score</th><th>highest_score</th></tr></thead><tbody><tr><td>OUTsurance Oval</td><td>238.0</td><td>261</td></tr><tr><td>Buffalo Park</td><td>246.66666666666666</td><td>265</td></tr><tr><td>Vidarbha Cricket Association Stadium, Jamtha</td><td>272.3333333333333</td><td>290</td></tr><tr><td>St George's Park</td><td>271.7142857142857</td><td>290</td></tr><tr><td>Nehru Stadium</td><td>255.4</td><td>291</td></tr><tr><td>New Wanderers Stadium</td><td>270.0</td><td>303</td></tr><tr><td>Shaheed Veer Narayan Singh International Stadium</td><td>277.1666666666667</td><td>312</td></tr><tr><td>De Beers Diamond Oval</td><td>285.0</td><td>319</td></tr><tr><td>Newlands</td><td>239.71428571428572</td><td>328</td></tr><tr><td>Dr. Y.S. Rajasekhara Reddy ACA-VDCA Cricket Stadium</td><td>272.27272727272725</td><td>333</td></tr><tr><td>Subrata Roy Sahara Stadium</td><td>264.2352941176471</td><td>339</td></tr><tr><td>Punjab Cricket Association IS Bindra Stadium, Mohali</td><td>317.42857142857144</td><td>341</td></tr><tr><td>SuperSport Park</td><td>284.1666666666667</td><td>348</td></tr><tr><td>Dubai International Cricket Stadium</td><td>276.42857142857144</td><td>352</td></tr><tr><td>Kingsmead</td><td>270.6666666666667</td><td>353</td></tr><tr><td>Dr DY Patil Sports Academy</td><td>262.6470588235294</td><td>355</td></tr><tr><td>JSCA International Stadium Complex</td><td>279.2857142857143</td><td>361</td></tr><tr><td>Rajiv Gandhi International Stadium Uppal</td><td>302.0</td><td>365</td></tr><tr><td>Sharjah Cricket Stadium</td><td>286.1666666666667</td><td>365</td></tr><tr><td>Himachal Pradesh Cricket Association Stadium</td><td>301.1111111111111</td><td>371</td></tr><tr><td>Holkar Cricket Stadium</td><td>296.2</td><td>371</td></tr><tr><td>Sawai Mansingh Stadium</td><td>278.1212121212121</td><td>374</td></tr><tr><td>Sardar Patel Stadium, Motera</td><td>298.0</td><td>377</td></tr><tr><td>Maharashtra Cricket Association Stadium</td><td>302.06666666666666</td><td>377</td></tr><tr><td>Green Park</td><td>308.0</td><td>378</td></tr><tr><td>Punjab Cricket Association IS Bindra Stadium Mohali</td><td>296.0</td><td>380</td></tr><tr><td>Eden Gardens</td><td>279.8688524590164</td><td>386</td></tr><tr><td>M Chinnaswamy Stadium</td><td>292.7878787878788</td><td>387</td></tr><tr><td>Sheikh Zayed Stadium</td><td>261.7142857142857</td><td>390</td></tr><tr><td>Saurashtra Cricket Association Stadium</td><td>319.1</td><td>393</td></tr><tr><td>Brabourne Stadium</td><td>325.8181818181818</td><td>399</td></tr><tr><td>Barabati Stadium</td><td>311.57142857142856</td><td>404</td></tr><tr><td>Feroz Shah Kotla</td><td>290.46666666666664</td><td>408</td></tr><tr><td>Rajiv Gandhi International Stadium, Uppal</td><td>284.4146341463415</td><td>417</td></tr><tr><td>Wankhede Stadium</td><td>296.4736842105263</td><td>419</td></tr><tr><td>Punjab Cricket Association Stadium, Mohali</td><td>296.77142857142854</td><td>426</td></tr><tr><td>MA Chidambaram Stadium, Chepauk</td><td>299.7291666666667</td><td>447</td></tr></tbody></table></div>"
      ]
     },
     "metadata": {
      "application/vnd.databricks.v1+output": {
       "addedWidgets": {},
       "aggData": [],
       "aggError": "",
       "aggOverflow": false,
       "aggSchema": [],
       "aggSeriesLimitReached": false,
       "aggType": "",
       "arguments": {},
       "columnCustomDisplayInfos": {},
       "data": [
        [
         "OUTsurance Oval",
         238.0,
         261
        ],
        [
         "Buffalo Park",
         246.66666666666666,
         265
        ],
        [
         "Vidarbha Cricket Association Stadium, Jamtha",
         272.3333333333333,
         290
        ],
        [
         "St George's Park",
         271.7142857142857,
         290
        ],
        [
         "Nehru Stadium",
         255.4,
         291
        ],
        [
         "New Wanderers Stadium",
         270.0,
         303
        ],
        [
         "Shaheed Veer Narayan Singh International Stadium",
         277.1666666666667,
         312
        ],
        [
         "De Beers Diamond Oval",
         285.0,
         319
        ],
        [
         "Newlands",
         239.71428571428572,
         328
        ],
        [
         "Dr. Y.S. Rajasekhara Reddy ACA-VDCA Cricket Stadium",
         272.27272727272725,
         333
        ],
        [
         "Subrata Roy Sahara Stadium",
         264.2352941176471,
         339
        ],
        [
         "Punjab Cricket Association IS Bindra Stadium, Mohali",
         317.42857142857144,
         341
        ],
        [
         "SuperSport Park",
         284.1666666666667,
         348
        ],
        [
         "Dubai International Cricket Stadium",
         276.42857142857144,
         352
        ],
        [
         "Kingsmead",
         270.6666666666667,
         353
        ],
        [
         "Dr DY Patil Sports Academy",
         262.6470588235294,
         355
        ],
        [
         "JSCA International Stadium Complex",
         279.2857142857143,
         361
        ],
        [
         "Rajiv Gandhi International Stadium Uppal",
         302.0,
         365
        ],
        [
         "Sharjah Cricket Stadium",
         286.1666666666667,
         365
        ],
        [
         "Himachal Pradesh Cricket Association Stadium",
         301.1111111111111,
         371
        ],
        [
         "Holkar Cricket Stadium",
         296.2,
         371
        ],
        [
         "Sawai Mansingh Stadium",
         278.1212121212121,
         374
        ],
        [
         "Sardar Patel Stadium, Motera",
         298.0,
         377
        ],
        [
         "Maharashtra Cricket Association Stadium",
         302.06666666666666,
         377
        ],
        [
         "Green Park",
         308.0,
         378
        ],
        [
         "Punjab Cricket Association IS Bindra Stadium Mohali",
         296.0,
         380
        ],
        [
         "Eden Gardens",
         279.8688524590164,
         386
        ],
        [
         "M Chinnaswamy Stadium",
         292.7878787878788,
         387
        ],
        [
         "Sheikh Zayed Stadium",
         261.7142857142857,
         390
        ],
        [
         "Saurashtra Cricket Association Stadium",
         319.1,
         393
        ],
        [
         "Brabourne Stadium",
         325.8181818181818,
         399
        ],
        [
         "Barabati Stadium",
         311.57142857142856,
         404
        ],
        [
         "Feroz Shah Kotla",
         290.46666666666664,
         408
        ],
        [
         "Rajiv Gandhi International Stadium, Uppal",
         284.4146341463415,
         417
        ],
        [
         "Wankhede Stadium",
         296.4736842105263,
         419
        ],
        [
         "Punjab Cricket Association Stadium, Mohali",
         296.77142857142854,
         426
        ],
        [
         "MA Chidambaram Stadium, Chepauk",
         299.7291666666667,
         447
        ]
       ],
       "datasetInfos": [],
       "dbfsResultPath": null,
       "isJsonSchema": true,
       "metadata": {},
       "overflow": false,
       "plotOptions": {
        "customPlotOptions": {},
        "displayType": "table",
        "pivotAggregation": null,
        "pivotColumns": null,
        "xColumns": null,
        "yColumns": null
       },
       "removedWidgets": [],
       "schema": [
        {
         "metadata": "{}",
         "name": "venue_name",
         "type": "\"string\""
        },
        {
         "metadata": "{}",
         "name": "average_score",
         "type": "\"double\""
        },
        {
         "metadata": "{}",
         "name": "highest_score",
         "type": "\"long\""
        }
       ],
       "type": "table"
      }
     },
     "output_type": "display_data"
    }
   ],
   "source": [
    "scores_by_venue = spark.sql(\"\"\"\n",
    "     SELECT venue_name,AVG(total_runs) AS average_score, MAX(total_runs) AS highest_score\n",
    "     FROM(\n",
    "       SELECT ball_by_ball.match_id, match.venue_name,SUM(runs_scored) as total_runs\n",
    "       FROM ball_by_ball\n",
    "       JOIN match ON ball_by_ball.match_id = match.match_id\n",
    "       GROUP BY ball_by_ball.match_id,match.venue_name\n",
    "     )            \n",
    "     GROUP BY venue_name\n",
    "     ORDER BY highest_score ASC           \n",
    "                            \"\"\")\n",
    "\n",
    "scores_by_venue.display()"
   ]
  },
  {
   "cell_type": "code",
   "execution_count": 0,
   "metadata": {
    "application/vnd.databricks.v1+cell": {
     "cellMetadata": {
      "byteLimit": 2048000,
      "rowLimit": 10000
     },
     "inputWidgets": {},
     "nuid": "a7bbcf0a-b155-4a2f-8daa-1913ccc41769",
     "showTitle": false,
     "tableResultSettingsMap": {},
     "title": ""
    }
   },
   "outputs": [
    {
     "output_type": "stream",
     "name": "stdout",
     "output_type": "stream",
     "text": [
      "Out[77]: <function matplotlib.pyplot.show(close=None, block=None)>"
     ]
    },
    {
     "output_type": "display_data",
     "data": {
      "image/png": "[encoded data removed]"
     },
     "metadata": {
      "application/vnd.databricks.v1+output": {
       "addedWidgets": {},
       "arguments": {},
       "data": "data:image/png;base64,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\n",
       "datasetInfos": [],
       "metadata": {},
       "removedWidgets": [],
       "type": "image"
      }
     },
     "output_type": "display_data"
    }
   ],
   "source": [
    "import matplotlib.pyplot as plt\n",
    "import seaborn as sns\n",
    "scores_by_venue_pd = scores_by_venue.toPandas()\n",
    "\n",
    "# Plot\n",
    "plt.figure(figsize=(20,15)) #defines area taken by the graph\n",
    "bars = sns.barplot(x='highest_score', y='venue_name',data=scores_by_venue_pd)\n",
    "\n",
    "plt.title(\"Scores by Venue\")\n",
    "plt.xlabel('Average Score')\n",
    "plt.ylabel('Venue')\n",
    "# plt.xticks(rotation = 90) #to rotate x axis labels to 90 degree for better readability\n",
    "plt.tight_layout()\n",
    "plt.show"
   ]
  },
  {
   "cell_type": "code",
   "execution_count": 0,
   "metadata": {
    "application/vnd.databricks.v1+cell": {
     "cellMetadata": {
      "byteLimit": 2048000,
      "rowLimit": 10000
     },
     "inputWidgets": {},
     "nuid": "ccc257d1-d498-429a-bc18-3d3cf1600ac3",
     "showTitle": false,
     "tableResultSettingsMap": {},
     "title": ""
    }
   },
   "outputs": [
    {
     "output_type": "stream",
     "name": "stdout",
     "output_type": "stream",
     "text": [
      "+--------------+--------------+--------------+\n|team1_in_short|matches_played|win_after_toss|\n+--------------+--------------+--------------+\n|           KTK|             4|             2|\n|            PW|            10|             2|\n|            GL|             7|             3|\n|           RPS|             7|             5|\n|            DC|            22|             6|\n|            SH|            16|             8|\n|           KXP|            32|            14|\n|            RR|            25|            16|\n|            DD|            36|            17|\n|           RCB|            34|            19|\n|           KKR|            36|            24|\n|            MI|            42|            26|\n|           CSK|            37|            27|\n+--------------+--------------+--------------+\n\n"
     ]
    }
   ],
   "source": [
    "team_toss_win_performance = spark.sql(\"\"\"\n",
    "      SELECT team1_in_short,count(*) AS matches_played,\n",
    "      SUM(CASE WHEN toss_winner_in_short = match_winner_in_short THEN 1 ELSE 0 END) AS win_after_toss\n",
    "      FROM match\n",
    "      WHERE toss_winner_in_short = team1_in_short        \n",
    "      GROUP BY team1_in_short\n",
    "      ORDER BY win_after_toss                        \n",
    "                                      \"\"\")\n",
    "team_toss_win_performance.show()"
   ]
  },
  {
   "cell_type": "code",
   "execution_count": 0,
   "metadata": {
    "application/vnd.databricks.v1+cell": {
     "cellMetadata": {
      "byteLimit": 2048000,
      "rowLimit": 10000
     },
     "inputWidgets": {},
     "nuid": "4d177abb-ceeb-4823-9009-f1b3fb4f4bd7",
     "showTitle": false,
     "tableResultSettingsMap": {},
     "title": ""
    }
   },
   "outputs": [
    {
     "output_type": "stream",
     "name": "stdout",
     "output_type": "stream",
     "text": [
      "Out[79]: <function matplotlib.pyplot.show(close=None, block=None)>"
     ]
    },
    {
     "output_type": "display_data",
     "data": {
      "image/png": "[encoded data removed]"
     },
     "metadata": {
      "application/vnd.databricks.v1+output": {
       "addedWidgets": {},
       "arguments": {},
       "data": "data:image/png;base64,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\n",
       "datasetInfos": [],
       "metadata": {},
       "removedWidgets": [],
       "type": "image"
      }
     },
     "output_type": "display_data"
    }
   ],
   "source": [
    "import matplotlib.pyplot as plt\n",
    "import seaborn as sns\n",
    "team_toss_win_performance_pd = team_toss_win_performance.toPandas()\n",
    "\n",
    "#Creating a countplot to show win/loss after winning toss\n",
    "plt.figure(figsize=(12,6)) #defines area taken by the graph\n",
    "sns.barplot(y='win_after_toss', x='team1_in_short',data=team_toss_win_performance_pd)\n",
    "plt.title(\"Team Performance After Winning Toss\")\n",
    "plt.ylabel('Wins After Winning Toss')\n",
    "plt.xlabel('Team')\n",
    "# plt.xticks(rotation = 90) #to rotate x axis labels to 90 degree for better readability\n",
    "plt.tight_layout()\n",
    "plt.show\n"
   ]
  },
  {
   "cell_type": "markdown",
   "metadata": {
    "application/vnd.databricks.v1+cell": {
     "cellMetadata": {
      "byteLimit": 2048000,
      "rowLimit": 10000
     },
     "inputWidgets": {},
     "nuid": "a2866801-f361-43be-b954-d20187362ab4",
     "showTitle": false,
     "tableResultSettingsMap": {},
     "title": ""
    }
   },
   "source": [
    "CSK performed the best when they won the toss"
   ]
  },
  {
   "cell_type": "code",
   "execution_count": 0,
   "metadata": {
    "application/vnd.databricks.v1+cell": {
     "cellMetadata": {
      "byteLimit": 2048000,
      "rowLimit": 10000
     },
     "inputWidgets": {},
     "nuid": "856b4cb8-3a50-4bed-b359-401afadd0816",
     "showTitle": false,
     "tableResultSettingsMap": {},
     "title": ""
    }
   },
   "outputs": [
    {
     "output_type": "stream",
     "name": "stdout",
     "output_type": "stream",
     "text": [
      "+--------------------+\n|               team1|\n+--------------------+\n| Sunrisers Hyderabad|\n| Chennai Super Kings|\n|     Deccan Chargers|\n|Kochi Tuskers Kerala|\n|    Rajasthan Royals|\n|       Gujarat Lions|\n|Royal Challengers...|\n|Kolkata Knight Ri...|\n|Rising Pune Super...|\n|     Kings XI Punjab|\n|       Pune Warriors|\n|    Delhi Daredevils|\n|      Mumbai Indians|\n+--------------------+\n\n"
     ]
    }
   ],
   "source": [
    "# match_df.display()\n",
    "match_df.select(\"team1\").distinct().show()"
   ]
  },
  {
   "cell_type": "code",
   "execution_count": 0,
   "metadata": {
    "application/vnd.databricks.v1+cell": {
     "cellMetadata": {
      "byteLimit": 2048000,
      "rowLimit": 10000
     },
     "inputWidgets": {},
     "nuid": "8ba30969-21b6-4d6f-a495-e9bd8340dbfb",
     "showTitle": false,
     "tableResultSettingsMap": {},
     "title": ""
    }
   },
   "outputs": [
    {
     "output_type": "stream",
     "name": "stdout",
     "output_type": "stream",
     "text": [
      "+--------------------+-----------+----+\n|               team1|season_year|wins|\n+--------------------+-----------+----+\n|Kolkata Knight Ri...|       2017|   4|\n|     Kings XI Punjab|       2017|   4|\n|      Mumbai Indians|       2017|   7|\n|       Gujarat Lions|       2017|   1|\n| Sunrisers Hyderabad|       2017|   6|\n|    Delhi Daredevils|       2017|   4|\n|Royal Challengers...|       2017|   1|\n|Rising Pune Super...|       2017|   5|\n|Rising Pune Super...|       2016|   2|\n|Kolkata Knight Ri...|       2016|   4|\n| Sunrisers Hyderabad|       2016|   5|\n|       Gujarat Lions|       2016|   4|\n|     Kings XI Punjab|       2016|   2|\n|    Delhi Daredevils|       2016|   4|\n|Royal Challengers...|       2016|   4|\n|      Mumbai Indians|       2016|   3|\n|    Rajasthan Royals|       2015|   4|\n|    Delhi Daredevils|       2015|   3|\n| Chennai Super Kings|       2015|   7|\n|      Mumbai Indians|       2015|   5|\n+--------------------+-----------+----+\nonly showing top 20 rows\n\n"
     ]
    }
   ],
   "source": [
    "season_wise_team_performance = spark.sql(\"\"\"\n",
    "      SELECT team1, season_year,\n",
    "      SUM(CASE WHEN team1 = match_winner THEN 1 ELSE 0 END) AS wins\n",
    "      FROM match \n",
    "      GROUP BY team1,season_year\n",
    "      ORDER BY season_year DESC                            \n",
    "                                         \"\"\")\n",
    "season_wise_team_performance.show()"
   ]
  },
  {
   "cell_type": "code",
   "execution_count": 0,
   "metadata": {
    "application/vnd.databricks.v1+cell": {
     "cellMetadata": {
      "byteLimit": 2048000,
      "rowLimit": 10000
     },
     "inputWidgets": {},
     "nuid": "b88d53bd-43a3-4cee-b156-658c5019715a",
     "showTitle": false,
     "tableResultSettingsMap": {},
     "title": ""
    }
   },
   "outputs": [
    {
     "output_type": "display_data",
     "data": {
      "image/png": "[encoded data removed]"
     },
     "metadata": {
      "application/vnd.databricks.v1+output": {
       "addedWidgets": {},
       "arguments": {},
       "data": "data:image/png;base64,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\n",
       "datasetInfos": [],
       "metadata": {},
       "removedWidgets": [],
       "type": "image"
      }
     },
     "output_type": "display_data"
    }
   ],
   "source": [
    "import pandas as pd\n",
    "import seaborn as sns\n",
    "import matplotlib.pyplot as plt\n",
    "\n",
    "season_wise_team_performance_df = season_wise_team_performance.toPandas()\n",
    "\n",
    "# Create bar plot\n",
    "plt.figure(figsize=(20, 12))\n",
    "\n",
    "# Define custom color palette \n",
    "custom_palette = custom_palette = { \n",
    "                                   'Sunrisers Hyderabad': '#FF4500', \n",
    "                                   'Chennai Super Kings': '#1E90FF', \n",
    "                                   'Deccan Chargers': '#0000FF', \n",
    "                                   'Kochi Tuskers Kerala': '#FF7F50', \n",
    "                                   'Rajasthan Royals': '#FFD700', \n",
    "                                   'Gujarat Lions': '#FF6347', \n",
    "                                   'Royal Challengers Bangalore': '#000000', \n",
    "                                   'Kolkata Knight Riders': '#800080', \n",
    "                                   'Rising Pune Supergiants': '#FF6347', \n",
    "                                   'Kings XI Punjab': '#FFD700', \n",
    "                                   'Pune Warriors': '#DC143C', \n",
    "                                   'Delhi Daredevils': '#FF4500', \n",
    "                                   'Mumbai Indians': '#FFD700' }\n",
    "\n",
    "barplot = sns.barplot(x='season_year', y='wins', hue='team1', data=season_wise_team_performance_df, palette=custom_palette)\n",
    "\n",
    "# Add numbers on bars\n",
    "for p in barplot.patches:\n",
    "    barplot.annotate(format(p.get_height(), '.1f'),\n",
    "                     (p.get_x() + p.get_width() / 2., p.get_height()),\n",
    "                     ha = 'center', va = 'center',\n",
    "                     xytext = (0, 9),\n",
    "                     textcoords = 'offset points')\n",
    "\n",
    "# Add title and labels\n",
    "plt.title('Number of Wins Per Team Per Season')\n",
    "plt.xlabel('Season Year')\n",
    "plt.ylabel('Number of Wins')\n",
    "plt.legend(title='Teams', bbox_to_anchor=(1.01, 1), loc='upper left')\n",
    "\n",
    "# Display the plot\n",
    "plt.tight_layout()\n",
    "plt.show()\n"
   ]
  },
  {
   "cell_type": "code",
   "execution_count": 0,
   "metadata": {
    "application/vnd.databricks.v1+cell": {
     "cellMetadata": {
      "byteLimit": 2048000,
      "rowLimit": 10000
     },
     "inputWidgets": {},
     "nuid": "a81e6e2f-6fdc-4faf-83a6-6e5d42214b5e",
     "showTitle": false,
     "tableResultSettingsMap": {},
     "title": ""
    }
   },
   "outputs": [],
   "source": []
  }
 ],
 "metadata": {
  "application/vnd.databricks.v1+notebook": {
   "dashboards": [],
   "environmentMetadata": null,
   "language": "python",
   "notebookMetadata": {
    "pythonIndentUnit": 4
   },
   "notebookName": "IPL_DAATA_ANALYSIS_SPARK",
   "widgets": {}
  }
 },
 "nbformat": 4,
 "nbformat_minor": 0
}
