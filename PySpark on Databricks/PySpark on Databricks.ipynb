{
 "cells": [
  {
   "cell_type": "markdown",
   "metadata": {
    "application/vnd.databricks.v1+cell": {
     "cellMetadata": {
      "byteLimit": 2048000,
      "rowLimit": 10000
     },
     "inputWidgets": {},
     "nuid": "2d776953-0524-414b-918c-58c07af6c7df",
     "showTitle": false,
     "tableResultSettingsMap": {},
     "title": ""
    }
   },
   "source": [
    "## Project Description\n",
    "**Objective**:  \n",
    "- Clean and prepare sales and store data\n",
    "- Add derived columns for advanced insights\n",
    "- Store performance and product trends\n",
    "\n",
    "**Datasets**  \n",
    ">  **Sales data**(CSV file)  \n",
    "> - sale_id: unique id for each sale\n",
    "> - store_id: store where the sale occured\n",
    "> - product_id: product sold\n",
    "> - sale_date: date of the sale\n",
    "> - quantity: numbe rof items sold\n",
    "> - total_amount: total amount of the sales(USD)\n",
    "\n",
    "> **Store data**(CSV file)   \n",
    "> - store_id: unique id of the store\n",
    "> - store_region: region where the store is located\n",
    "> - store_size: size of the store in square feet\n",
    "> - open_date: date when the store was opened\n",
    "\n",
    "**Project Requirements**  \n",
    "- Handle null values in both of the datsets\n",
    "- Remove duplicates and invalid rows\n",
    "\n",
    "**Data Tranformations:**  \n",
    "- Join the sales and store datasets  \n",
    "- Create new columns\n",
    "- per square foot : calculate total sales divided by the store size\n",
    "- year: extract the year from the date col\n",
    "- Aggregate sales and quantity by store and region\n",
    "\n",
    "**Analysis**:\n",
    "- Identify the top five stores based on total sales\n",
    "- Find the top five products by total quantity sold\n",
    "\n",
    "**Save results:**\n",
    "- Save the transformed and aggregated results as parquet files\n"
   ]
  },
  {
   "cell_type": "code",
   "execution_count": 0,
   "metadata": {
    "application/vnd.databricks.v1+cell": {
     "cellMetadata": {
      "byteLimit": 2048000,
      "rowLimit": 10000
     },
     "inputWidgets": {},
     "nuid": "0847c58e-4e27-4190-9cfa-38c460bf5eba",
     "showTitle": false,
     "tableResultSettingsMap": {},
     "title": ""
    }
   },
   "outputs": [
    {
     "output_type": "display_data",
     "data": {
      "text/html": [
       "<style scoped>\n",
       "  .table-result-container {\n",
       "    max-height: 300px;\n",
       "    overflow: auto;\n",
       "  }\n",
       "  table, th, td {\n",
       "    border: 1px solid black;\n",
       "    border-collapse: collapse;\n",
       "  }\n",
       "  th, td {\n",
       "    padding: 5px;\n",
       "  }\n",
       "  th {\n",
       "    text-align: left;\n",
       "  }\n",
       "</style><div class='table-result-container'><table class='table-result'><thead style='background-color: white'><tr><th>path</th><th>name</th><th>size</th><th>modificationTime</th></tr></thead><tbody><tr><td>dbfs:/FileStore/tables/Child_notebook.ipynb</td><td>Child_notebook.ipynb</td><td>921</td><td>1742536467000</td></tr><tr><td>dbfs:/FileStore/tables/Customer_Analysis.ipynb</td><td>Customer_Analysis.ipynb</td><td>2802130</td><td>1742536469000</td></tr><tr><td>dbfs:/FileStore/tables/Delta_lake.ipynb</td><td>Delta_lake.ipynb</td><td>3951955</td><td>1742536470000</td></tr><tr><td>dbfs:/FileStore/tables/FirstExample.ipynb</td><td>FirstExample.ipynb</td><td>5099</td><td>1742536470000</td></tr><tr><td>dbfs:/FileStore/tables/Joins.ipynb</td><td>Joins.ipynb</td><td>1319362</td><td>1742536471000</td></tr><tr><td>dbfs:/FileStore/tables/New_Dir_by_utils/</td><td>New_Dir_by_utils/</td><td>0</td><td>0</td></tr><tr><td>dbfs:/FileStore/tables/New_Dir_using_magic_command/</td><td>New_Dir_using_magic_command/</td><td>0</td><td>0</td></tr><tr><td>dbfs:/FileStore/tables/Parent_notebook.ipynb</td><td>Parent_notebook.ipynb</td><td>1811</td><td>1742536471000</td></tr><tr><td>dbfs:/FileStore/tables/Product_analysis.ipynb</td><td>Product_analysis.ipynb</td><td>366544</td><td>1742536471000</td></tr><tr><td>dbfs:/FileStore/tables/RetailProject_DataCleaning.ipynb</td><td>RetailProject_DataCleaning.ipynb</td><td>815530</td><td>1742536472000</td></tr><tr><td>dbfs:/FileStore/tables/SampleNested.json</td><td>SampleNested.json</td><td>291</td><td>1742536472000</td></tr><tr><td>dbfs:/FileStore/tables/SampleNestedJson.ipynb</td><td>SampleNestedJson.ipynb</td><td>3781</td><td>1742536472000</td></tr><tr><td>dbfs:/FileStore/tables/Spark_SQL.ipynb</td><td>Spark_SQL.ipynb</td><td>2606690</td><td>1742536473000</td></tr><tr><td>dbfs:/FileStore/tables/Transaction_analysis.ipynb</td><td>Transaction_analysis.ipynb</td><td>3741198</td><td>1742536474000</td></tr><tr><td>dbfs:/FileStore/tables/customer.csv</td><td>customer.csv</td><td>123654</td><td>1742536468000</td></tr><tr><td>dbfs:/FileStore/tables/customer_bucket/</td><td>customer_bucket/</td><td>0</td><td>0</td></tr><tr><td>dbfs:/FileStore/tables/dbutils.ipynb</td><td>dbutils.ipynb</td><td>33928</td><td>1742536468000</td></tr><tr><td>dbfs:/FileStore/tables/product.json</td><td>product.json</td><td>198924</td><td>1742536471000</td></tr><tr><td>dbfs:/FileStore/tables/sales_data.csv</td><td>sales_data.csv</td><td>35624</td><td>1742536472000</td></tr><tr><td>dbfs:/FileStore/tables/store_data.csv</td><td>store_data.csv</td><td>523</td><td>1742536473000</td></tr><tr><td>dbfs:/FileStore/tables/top_products/</td><td>top_products/</td><td>0</td><td>0</td></tr><tr><td>dbfs:/FileStore/tables/top_stores/</td><td>top_stores/</td><td>0</td><td>0</td></tr><tr><td>dbfs:/FileStore/tables/transactions_snappy.parquet</td><td>transactions_snappy.parquet</td><td>156864</td><td>1742536474000</td></tr></tbody></table></div>"
      ]
     },
     "metadata": {
      "application/vnd.databricks.v1+output": {
       "addedWidgets": {},
       "aggData": [],
       "aggError": "",
       "aggOverflow": false,
       "aggSchema": [],
       "aggSeriesLimitReached": false,
       "aggType": "",
       "arguments": {},
       "columnCustomDisplayInfos": {},
       "data": [
        [
         "dbfs:/FileStore/tables/Child_notebook.ipynb",
         "Child_notebook.ipynb",
         921,
         1742536467000
        ],
        [
         "dbfs:/FileStore/tables/Customer_Analysis.ipynb",
         "Customer_Analysis.ipynb",
         2802130,
         1742536469000
        ],
        [
         "dbfs:/FileStore/tables/Delta_lake.ipynb",
         "Delta_lake.ipynb",
         3951955,
         1742536470000
        ],
        [
         "dbfs:/FileStore/tables/FirstExample.ipynb",
         "FirstExample.ipynb",
         5099,
         1742536470000
        ],
        [
         "dbfs:/FileStore/tables/Joins.ipynb",
         "Joins.ipynb",
         1319362,
         1742536471000
        ],
        [
         "dbfs:/FileStore/tables/New_Dir_by_utils/",
         "New_Dir_by_utils/",
         0,
         0
        ],
        [
         "dbfs:/FileStore/tables/New_Dir_using_magic_command/",
         "New_Dir_using_magic_command/",
         0,
         0
        ],
        [
         "dbfs:/FileStore/tables/Parent_notebook.ipynb",
         "Parent_notebook.ipynb",
         1811,
         1742536471000
        ],
        [
         "dbfs:/FileStore/tables/Product_analysis.ipynb",
         "Product_analysis.ipynb",
         366544,
         1742536471000
        ],
        [
         "dbfs:/FileStore/tables/RetailProject_DataCleaning.ipynb",
         "RetailProject_DataCleaning.ipynb",
         815530,
         1742536472000
        ],
        [
         "dbfs:/FileStore/tables/SampleNested.json",
         "SampleNested.json",
         291,
         1742536472000
        ],
        [
         "dbfs:/FileStore/tables/SampleNestedJson.ipynb",
         "SampleNestedJson.ipynb",
         3781,
         1742536472000
        ],
        [
         "dbfs:/FileStore/tables/Spark_SQL.ipynb",
         "Spark_SQL.ipynb",
         2606690,
         1742536473000
        ],
        [
         "dbfs:/FileStore/tables/Transaction_analysis.ipynb",
         "Transaction_analysis.ipynb",
         3741198,
         1742536474000
        ],
        [
         "dbfs:/FileStore/tables/customer.csv",
         "customer.csv",
         123654,
         1742536468000
        ],
        [
         "dbfs:/FileStore/tables/customer_bucket/",
         "customer_bucket/",
         0,
         0
        ],
        [
         "dbfs:/FileStore/tables/dbutils.ipynb",
         "dbutils.ipynb",
         33928,
         1742536468000
        ],
        [
         "dbfs:/FileStore/tables/product.json",
         "product.json",
         198924,
         1742536471000
        ],
        [
         "dbfs:/FileStore/tables/sales_data.csv",
         "sales_data.csv",
         35624,
         1742536472000
        ],
        [
         "dbfs:/FileStore/tables/store_data.csv",
         "store_data.csv",
         523,
         1742536473000
        ],
        [
         "dbfs:/FileStore/tables/top_products/",
         "top_products/",
         0,
         0
        ],
        [
         "dbfs:/FileStore/tables/top_stores/",
         "top_stores/",
         0,
         0
        ],
        [
         "dbfs:/FileStore/tables/transactions_snappy.parquet",
         "transactions_snappy.parquet",
         156864,
         1742536474000
        ]
       ],
       "datasetInfos": [],
       "dbfsResultPath": null,
       "isJsonSchema": true,
       "metadata": {},
       "overflow": false,
       "plotOptions": {
        "customPlotOptions": {},
        "displayType": "table",
        "pivotAggregation": null,
        "pivotColumns": null,
        "xColumns": null,
        "yColumns": null
       },
       "removedWidgets": [],
       "schema": [
        {
         "metadata": "{}",
         "name": "path",
         "type": "\"string\""
        },
        {
         "metadata": "{}",
         "name": "name",
         "type": "\"string\""
        },
        {
         "metadata": "{}",
         "name": "size",
         "type": "\"long\""
        },
        {
         "metadata": "{}",
         "name": "modificationTime",
         "type": "\"long\""
        }
       ],
       "type": "table"
      }
     },
     "output_type": "display_data"
    }
   ],
   "source": [
    "display(dbutils.fs.ls(\"/FileStore/tables/\"))"
   ]
  },
  {
   "cell_type": "code",
   "execution_count": 0,
   "metadata": {
    "application/vnd.databricks.v1+cell": {
     "cellMetadata": {
      "byteLimit": 2048000,
      "rowLimit": 10000
     },
     "inputWidgets": {},
     "nuid": "ec9ecbeb-bfc5-4e98-9d55-b5c94e53ba47",
     "showTitle": false,
     "tableResultSettingsMap": {},
     "title": ""
    }
   },
   "outputs": [],
   "source": [
    "df_sales = spark.read.csv(\"/FileStore/tables/sales_data.csv\",inferSchema = True,header = True)\n",
    "df_store = spark.read.csv(\"/FileStore/tables/store_data.csv\",inferSchema = True,header = True)"
   ]
  },
  {
   "cell_type": "code",
   "execution_count": 0,
   "metadata": {
    "application/vnd.databricks.v1+cell": {
     "cellMetadata": {
      "byteLimit": 2048000,
      "rowLimit": 10000
     },
     "inputWidgets": {},
     "nuid": "2517366f-f59d-403a-8b72-bdca59517be9",
     "showTitle": false,
     "tableResultSettingsMap": {},
     "title": ""
    }
   },
   "outputs": [
    {
     "output_type": "display_data",
     "data": {
      "text/html": [
       "<style scoped>\n",
       "  .table-result-container {\n",
       "    max-height: 300px;\n",
       "    overflow: auto;\n",
       "  }\n",
       "  table, th, td {\n",
       "    border: 1px solid black;\n",
       "    border-collapse: collapse;\n",
       "  }\n",
       "  th, td {\n",
       "    padding: 5px;\n",
       "  }\n",
       "  th {\n",
       "    text-align: left;\n",
       "  }\n",
       "</style><div class='table-result-container'><table class='table-result'><thead style='background-color: white'><tr><th>sale_id</th><th>store_id</th><th>product_id</th><th>sale_date</th><th>quantity</th><th>total_amount</th></tr></thead><tbody><tr><td>sale_1</td><td>19.0</td><td>46</td><td>2022-08-19</td><td>96</td><td>3024.78</td></tr><tr><td>sale_2</td><td>9.0</td><td>43</td><td>2021-03-15</td><td>100</td><td>4549.74</td></tr><tr><td>sale_3</td><td>3.0</td><td>20</td><td>2020-05-25</td><td>88</td><td>1477.8</td></tr><tr><td>sale_4</td><td>2.0</td><td>26</td><td>2022-06-25</td><td>30</td><td>231.85</td></tr><tr><td>sale_5</td><td>1.0</td><td>15</td><td>2021-06-15</td><td>83</td><td>2568.68</td></tr><tr><td>sale_6</td><td>14.0</td><td>3</td><td>2022-08-20</td><td>83</td><td>522.16</td></tr><tr><td>sale_7</td><td>8.0</td><td>14</td><td>2021-06-12</td><td>31</td><td>1301.42</td></tr><tr><td>sale_8</td><td>18.0</td><td>4</td><td>2021-12-01</td><td>95</td><td>680.5</td></tr><tr><td>sale_9</td><td>null</td><td>37</td><td>2022-01-18</td><td>78</td><td>1698.47</td></tr><tr><td>sale_10</td><td>15.0</td><td>45</td><td>2022-02-07</td><td>34</td><td>385.49</td></tr></tbody></table></div>"
      ]
     },
     "metadata": {
      "application/vnd.databricks.v1+output": {
       "addedWidgets": {},
       "aggData": [],
       "aggError": "",
       "aggOverflow": false,
       "aggSchema": [],
       "aggSeriesLimitReached": false,
       "aggType": "",
       "arguments": {},
       "columnCustomDisplayInfos": {},
       "data": [
        [
         "sale_1",
         19.0,
         46,
         "2022-08-19",
         96,
         3024.78
        ],
        [
         "sale_2",
         9.0,
         43,
         "2021-03-15",
         100,
         4549.74
        ],
        [
         "sale_3",
         3.0,
         20,
         "2020-05-25",
         88,
         1477.8
        ],
        [
         "sale_4",
         2.0,
         26,
         "2022-06-25",
         30,
         231.85
        ],
        [
         "sale_5",
         1.0,
         15,
         "2021-06-15",
         83,
         2568.68
        ],
        [
         "sale_6",
         14.0,
         3,
         "2022-08-20",
         83,
         522.16
        ],
        [
         "sale_7",
         8.0,
         14,
         "2021-06-12",
         31,
         1301.42
        ],
        [
         "sale_8",
         18.0,
         4,
         "2021-12-01",
         95,
         680.5
        ],
        [
         "sale_9",
         null,
         37,
         "2022-01-18",
         78,
         1698.47
        ],
        [
         "sale_10",
         15.0,
         45,
         "2022-02-07",
         34,
         385.49
        ]
       ],
       "datasetInfos": [],
       "dbfsResultPath": null,
       "isJsonSchema": true,
       "metadata": {},
       "overflow": false,
       "plotOptions": {
        "customPlotOptions": {},
        "displayType": "table",
        "pivotAggregation": null,
        "pivotColumns": null,
        "xColumns": null,
        "yColumns": null
       },
       "removedWidgets": [],
       "schema": [
        {
         "metadata": "{}",
         "name": "sale_id",
         "type": "\"string\""
        },
        {
         "metadata": "{}",
         "name": "store_id",
         "type": "\"double\""
        },
        {
         "metadata": "{}",
         "name": "product_id",
         "type": "\"integer\""
        },
        {
         "metadata": "{\"__detected_date_formats\":\"yyyy-M-d\"}",
         "name": "sale_date",
         "type": "\"date\""
        },
        {
         "metadata": "{}",
         "name": "quantity",
         "type": "\"integer\""
        },
        {
         "metadata": "{}",
         "name": "total_amount",
         "type": "\"double\""
        }
       ],
       "type": "table"
      }
     },
     "output_type": "display_data"
    }
   ],
   "source": [
    "display(df_sales.limit(10))"
   ]
  },
  {
   "cell_type": "code",
   "execution_count": 0,
   "metadata": {
    "application/vnd.databricks.v1+cell": {
     "cellMetadata": {
      "byteLimit": 2048000,
      "rowLimit": 10000
     },
     "inputWidgets": {},
     "nuid": "e938c321-1701-4141-a34b-47bc79c827c9",
     "showTitle": false,
     "tableResultSettingsMap": {},
     "title": ""
    }
   },
   "outputs": [
    {
     "output_type": "display_data",
     "data": {
      "text/html": [
       "<style scoped>\n",
       "  .table-result-container {\n",
       "    max-height: 300px;\n",
       "    overflow: auto;\n",
       "  }\n",
       "  table, th, td {\n",
       "    border: 1px solid black;\n",
       "    border-collapse: collapse;\n",
       "  }\n",
       "  th, td {\n",
       "    padding: 5px;\n",
       "  }\n",
       "  th {\n",
       "    text-align: left;\n",
       "  }\n",
       "</style><div class='table-result-container'><table class='table-result'><thead style='background-color: white'><tr><th>sale_id</th><th>store_id</th><th>product_id</th><th>sale_date</th><th>quantity</th><th>total_amount</th></tr></thead><tbody><tr><td>sale_12</td><td>1.0</td><td>35</td><td>null</td><td>56</td><td>2017.73</td></tr><tr><td>sale_23</td><td>2.0</td><td>48</td><td>null</td><td>84</td><td>1076.87</td></tr><tr><td>sale_26</td><td>14.0</td><td>1</td><td>null</td><td>9</td><td>148.27</td></tr><tr><td>sale_36</td><td>4.0</td><td>17</td><td>null</td><td>73</td><td>2985.87</td></tr><tr><td>sale_38</td><td>9.0</td><td>42</td><td>null</td><td>56</td><td>1668.19</td></tr><tr><td>sale_40</td><td>2.0</td><td>11</td><td>null</td><td>94</td><td>4293.04</td></tr><tr><td>sale_48</td><td>2.0</td><td>4</td><td>null</td><td>16</td><td>88.11</td></tr><tr><td>sale_56</td><td>1.0</td><td>15</td><td>null</td><td>-2</td><td>0.0</td></tr><tr><td>sale_57</td><td>19.0</td><td>2</td><td>null</td><td>15</td><td>78.65</td></tr><tr><td>null</td><td>9.0</td><td>3</td><td>null</td><td>65</td><td>3002.72</td></tr></tbody></table></div>"
      ]
     },
     "metadata": {
      "application/vnd.databricks.v1+output": {
       "addedWidgets": {},
       "aggData": [],
       "aggError": "",
       "aggOverflow": false,
       "aggSchema": [],
       "aggSeriesLimitReached": false,
       "aggType": "",
       "arguments": {},
       "columnCustomDisplayInfos": {},
       "data": [
        [
         "sale_12",
         1.0,
         35,
         null,
         56,
         2017.73
        ],
        [
         "sale_23",
         2.0,
         48,
         null,
         84,
         1076.87
        ],
        [
         "sale_26",
         14.0,
         1,
         null,
         9,
         148.27
        ],
        [
         "sale_36",
         4.0,
         17,
         null,
         73,
         2985.87
        ],
        [
         "sale_38",
         9.0,
         42,
         null,
         56,
         1668.19
        ],
        [
         "sale_40",
         2.0,
         11,
         null,
         94,
         4293.04
        ],
        [
         "sale_48",
         2.0,
         4,
         null,
         16,
         88.11
        ],
        [
         "sale_56",
         1.0,
         15,
         null,
         -2,
         0.0
        ],
        [
         "sale_57",
         19.0,
         2,
         null,
         15,
         78.65
        ],
        [
         null,
         9.0,
         3,
         null,
         65,
         3002.72
        ]
       ],
       "datasetInfos": [],
       "dbfsResultPath": null,
       "isJsonSchema": true,
       "metadata": {},
       "overflow": false,
       "plotOptions": {
        "customPlotOptions": {},
        "displayType": "table",
        "pivotAggregation": null,
        "pivotColumns": null,
        "xColumns": null,
        "yColumns": null
       },
       "removedWidgets": [],
       "schema": [
        {
         "metadata": "{}",
         "name": "sale_id",
         "type": "\"string\""
        },
        {
         "metadata": "{}",
         "name": "store_id",
         "type": "\"double\""
        },
        {
         "metadata": "{}",
         "name": "product_id",
         "type": "\"integer\""
        },
        {
         "metadata": "{\"__detected_date_formats\":\"yyyy-M-d\"}",
         "name": "sale_date",
         "type": "\"date\""
        },
        {
         "metadata": "{}",
         "name": "quantity",
         "type": "\"integer\""
        },
        {
         "metadata": "{}",
         "name": "total_amount",
         "type": "\"double\""
        }
       ],
       "type": "table"
      }
     },
     "output_type": "display_data"
    }
   ],
   "source": [
    "from pyspark.sql.functions import col\n",
    "filtered_df = df_sales.filter(col(\"sale_date\").isNull())\n",
    "\n",
    "display(filtered_df.limit(10))\n",
    "# sale_id,store_id,sale_date has null values"
   ]
  },
  {
   "cell_type": "code",
   "execution_count": 0,
   "metadata": {
    "application/vnd.databricks.v1+cell": {
     "cellMetadata": {
      "byteLimit": 2048000,
      "rowLimit": 10000
     },
     "inputWidgets": {},
     "nuid": "d8bed8b8-52a3-4f40-90c8-41a32665ba73",
     "showTitle": false,
     "tableResultSettingsMap": {},
     "title": ""
    }
   },
   "outputs": [
    {
     "output_type": "display_data",
     "data": {
      "text/html": [
       "<style scoped>\n",
       "  .table-result-container {\n",
       "    max-height: 300px;\n",
       "    overflow: auto;\n",
       "  }\n",
       "  table, th, td {\n",
       "    border: 1px solid black;\n",
       "    border-collapse: collapse;\n",
       "  }\n",
       "  th, td {\n",
       "    padding: 5px;\n",
       "  }\n",
       "  th {\n",
       "    text-align: left;\n",
       "  }\n",
       "</style><div class='table-result-container'><table class='table-result'><thead style='background-color: white'><tr><th>sale_id</th><th>store_id</th><th>product_id</th><th>sale_date</th><th>quantity</th><th>total_amount</th></tr></thead><tbody><tr><td>sale_1</td><td>19.0</td><td>46</td><td>2022-08-19</td><td>96</td><td>3024.78</td></tr><tr><td>sale_2</td><td>9.0</td><td>43</td><td>2021-03-15</td><td>100</td><td>4549.74</td></tr><tr><td>sale_3</td><td>3.0</td><td>20</td><td>2020-05-25</td><td>88</td><td>1477.8</td></tr><tr><td>sale_4</td><td>2.0</td><td>26</td><td>2022-06-25</td><td>30</td><td>231.85</td></tr><tr><td>sale_5</td><td>1.0</td><td>15</td><td>2021-06-15</td><td>83</td><td>2568.68</td></tr><tr><td>sale_6</td><td>14.0</td><td>3</td><td>2022-08-20</td><td>83</td><td>522.16</td></tr><tr><td>sale_7</td><td>8.0</td><td>14</td><td>2021-06-12</td><td>31</td><td>1301.42</td></tr><tr><td>sale_8</td><td>18.0</td><td>4</td><td>2021-12-01</td><td>95</td><td>680.5</td></tr><tr><td>sale_10</td><td>15.0</td><td>45</td><td>2022-02-07</td><td>34</td><td>385.49</td></tr><tr><td>sale_11</td><td>10.0</td><td>11</td><td>2021-01-06</td><td>100</td><td>4283.9</td></tr></tbody></table></div>"
      ]
     },
     "metadata": {
      "application/vnd.databricks.v1+output": {
       "addedWidgets": {},
       "aggData": [],
       "aggError": "",
       "aggOverflow": false,
       "aggSchema": [],
       "aggSeriesLimitReached": false,
       "aggType": "",
       "arguments": {},
       "columnCustomDisplayInfos": {},
       "data": [
        [
         "sale_1",
         19.0,
         46,
         "2022-08-19",
         96,
         3024.78
        ],
        [
         "sale_2",
         9.0,
         43,
         "2021-03-15",
         100,
         4549.74
        ],
        [
         "sale_3",
         3.0,
         20,
         "2020-05-25",
         88,
         1477.8
        ],
        [
         "sale_4",
         2.0,
         26,
         "2022-06-25",
         30,
         231.85
        ],
        [
         "sale_5",
         1.0,
         15,
         "2021-06-15",
         83,
         2568.68
        ],
        [
         "sale_6",
         14.0,
         3,
         "2022-08-20",
         83,
         522.16
        ],
        [
         "sale_7",
         8.0,
         14,
         "2021-06-12",
         31,
         1301.42
        ],
        [
         "sale_8",
         18.0,
         4,
         "2021-12-01",
         95,
         680.5
        ],
        [
         "sale_10",
         15.0,
         45,
         "2022-02-07",
         34,
         385.49
        ],
        [
         "sale_11",
         10.0,
         11,
         "2021-01-06",
         100,
         4283.9
        ]
       ],
       "datasetInfos": [],
       "dbfsResultPath": null,
       "isJsonSchema": true,
       "metadata": {},
       "overflow": false,
       "plotOptions": {
        "customPlotOptions": {},
        "displayType": "table",
        "pivotAggregation": null,
        "pivotColumns": null,
        "xColumns": null,
        "yColumns": null
       },
       "removedWidgets": [],
       "schema": [
        {
         "metadata": "{}",
         "name": "sale_id",
         "type": "\"string\""
        },
        {
         "metadata": "{}",
         "name": "store_id",
         "type": "\"double\""
        },
        {
         "metadata": "{}",
         "name": "product_id",
         "type": "\"integer\""
        },
        {
         "metadata": "{\"__detected_date_formats\":\"yyyy-M-d\"}",
         "name": "sale_date",
         "type": "\"date\""
        },
        {
         "metadata": "{}",
         "name": "quantity",
         "type": "\"integer\""
        },
        {
         "metadata": "{}",
         "name": "total_amount",
         "type": "\"double\""
        }
       ],
       "type": "table"
      }
     },
     "output_type": "display_data"
    }
   ],
   "source": [
    "from pyspark.sql.functions import col\n",
    "\n",
    "df_sales = df_sales.filter(col(\"sale_id\").isNotNull())\n",
    "df_sales = df_sales.filter(col(\"store_id\").isNotNull())\n",
    "df_sales = df_sales.filter(col(\"sale_date\").isNotNull())\n",
    "df_sales = df_sales.filter((col(\"quantity\")>0) & (col(\"total_amount\")>0))\n",
    "#  or\n",
    "# df_sales = df_sales.na.drop()\n",
    "\n",
    "display(df_sales.limit(10))"
   ]
  },
  {
   "cell_type": "code",
   "execution_count": 0,
   "metadata": {
    "application/vnd.databricks.v1+cell": {
     "cellMetadata": {
      "byteLimit": 2048000,
      "rowLimit": 10000
     },
     "inputWidgets": {},
     "nuid": "104c274a-dee0-449c-a839-53141fce6ed2",
     "showTitle": false,
     "tableResultSettingsMap": {},
     "title": ""
    }
   },
   "outputs": [
    {
     "output_type": "display_data",
     "data": {
      "text/html": [
       "<style scoped>\n",
       "  .table-result-container {\n",
       "    max-height: 300px;\n",
       "    overflow: auto;\n",
       "  }\n",
       "  table, th, td {\n",
       "    border: 1px solid black;\n",
       "    border-collapse: collapse;\n",
       "  }\n",
       "  th, td {\n",
       "    padding: 5px;\n",
       "  }\n",
       "  th {\n",
       "    text-align: left;\n",
       "  }\n",
       "</style><div class='table-result-container'><table class='table-result'><thead style='background-color: white'><tr><th>sale_id</th><th>store_id</th><th>product_id</th><th>sale_date</th><th>quantity</th><th>total_amount</th></tr></thead><tbody></tbody></table></div>"
      ]
     },
     "metadata": {
      "application/vnd.databricks.v1+output": {
       "addedWidgets": {},
       "aggData": [],
       "aggError": "",
       "aggOverflow": false,
       "aggSchema": [],
       "aggSeriesLimitReached": false,
       "aggType": "",
       "arguments": {},
       "columnCustomDisplayInfos": {},
       "data": [],
       "datasetInfos": [],
       "dbfsResultPath": null,
       "isJsonSchema": true,
       "metadata": {},
       "overflow": false,
       "plotOptions": {
        "customPlotOptions": {},
        "displayType": "table",
        "pivotAggregation": null,
        "pivotColumns": null,
        "xColumns": null,
        "yColumns": null
       },
       "removedWidgets": [],
       "schema": [
        {
         "metadata": "{}",
         "name": "sale_id",
         "type": "\"string\""
        },
        {
         "metadata": "{}",
         "name": "store_id",
         "type": "\"double\""
        },
        {
         "metadata": "{}",
         "name": "product_id",
         "type": "\"integer\""
        },
        {
         "metadata": "{\"__detected_date_formats\":\"yyyy-M-d\"}",
         "name": "sale_date",
         "type": "\"date\""
        },
        {
         "metadata": "{}",
         "name": "quantity",
         "type": "\"integer\""
        },
        {
         "metadata": "{}",
         "name": "total_amount",
         "type": "\"double\""
        }
       ],
       "type": "table"
      }
     },
     "output_type": "display_data"
    }
   ],
   "source": [
    "filtered_df = df_sales.filter(col(\"sale_id\").isNull())\n",
    "display(filtered_df.limit(10))"
   ]
  },
  {
   "cell_type": "code",
   "execution_count": 0,
   "metadata": {
    "application/vnd.databricks.v1+cell": {
     "cellMetadata": {
      "byteLimit": 2048000,
      "rowLimit": 10000
     },
     "inputWidgets": {},
     "nuid": "989737d3-1ec1-4f1d-8084-410872e803c9",
     "showTitle": false,
     "tableResultSettingsMap": {},
     "title": ""
    }
   },
   "outputs": [
    {
     "output_type": "stream",
     "name": "stdout",
     "output_type": "stream",
     "text": [
      "0"
     ]
    }
   ],
   "source": [
    "display(df_sales.filter(col(\"quantity\") <= 0).count())\n",
    "# df_sales=df_sales.filter(col(\"quantity\") >0)"
   ]
  },
  {
   "cell_type": "code",
   "execution_count": 0,
   "metadata": {
    "application/vnd.databricks.v1+cell": {
     "cellMetadata": {
      "byteLimit": 2048000,
      "rowLimit": 10000
     },
     "inputWidgets": {},
     "nuid": "76f7fc55-66d5-4dd3-9e4d-ced920edc754",
     "showTitle": false,
     "tableResultSettingsMap": {},
     "title": ""
    }
   },
   "outputs": [],
   "source": [
    "# checking duplicate values\n",
    "\n",
    "# row_count=df_sales.count()\n",
    "# print(row_count)\n",
    "# distinct_row_count=df_sales.distinct().count()\n",
    "# print(distinct_row_count)\n",
    "# sale_id_count=df_sales.select(\"sale_id\").count()\n",
    "# print(sale_id_count)\n",
    "# distinct_sale_id_count=df_sales.select(\"sale_id\").distinct().count()\n",
    "# print(distinct_sale_id_count)\n",
    "#  or\n",
    "df_sales=df_sales.dropDuplicates()"
   ]
  },
  {
   "cell_type": "code",
   "execution_count": 0,
   "metadata": {
    "application/vnd.databricks.v1+cell": {
     "cellMetadata": {
      "byteLimit": 2048000,
      "rowLimit": 10000
     },
     "inputWidgets": {},
     "nuid": "5b2172cb-e795-4dab-b8b1-3d4da406abe4",
     "showTitle": false,
     "tableResultSettingsMap": {},
     "title": ""
    }
   },
   "outputs": [
    {
     "output_type": "display_data",
     "data": {
      "text/html": [
       "<style scoped>\n",
       "  .table-result-container {\n",
       "    max-height: 300px;\n",
       "    overflow: auto;\n",
       "  }\n",
       "  table, th, td {\n",
       "    border: 1px solid black;\n",
       "    border-collapse: collapse;\n",
       "  }\n",
       "  th, td {\n",
       "    padding: 5px;\n",
       "  }\n",
       "  th {\n",
       "    text-align: left;\n",
       "  }\n",
       "</style><div class='table-result-container'><table class='table-result'><thead style='background-color: white'><tr><th>store_id</th><th>store_region</th><th>store_size</th><th>open_date</th></tr></thead><tbody><tr><td>1.0</td><td>West</td><td>2263.0</td><td>null</td></tr><tr><td>2.0</td><td>West</td><td>1510.0</td><td>2009-07-07</td></tr><tr><td>3.0</td><td>West</td><td>4989.0</td><td>2000-08-23</td></tr><tr><td>4.0</td><td>West</td><td>4942.0</td><td>2016-08-12</td></tr><tr><td>5.0</td><td>North</td><td>null</td><td>2002-06-09</td></tr><tr><td>null</td><td>East</td><td>3107.0</td><td>2007-03-28</td></tr><tr><td>7.0</td><td>North</td><td>null</td><td>2005-07-19</td></tr><tr><td>8.0</td><td>West</td><td>691.0</td><td>null</td></tr><tr><td>9.0</td><td>North</td><td>3653.0</td><td>2018-12-24</td></tr><tr><td>10.0</td><td>East</td><td>null</td><td>2006-01-18</td></tr><tr><td>11.0</td><td>East</td><td>null</td><td>2018-04-22</td></tr><tr><td>12.0</td><td>West</td><td>840.0</td><td>2000-03-22</td></tr><tr><td>13.0</td><td>West</td><td>null</td><td>2009-10-03</td></tr><tr><td>14.0</td><td>North</td><td>1116.0</td><td>2003-06-30</td></tr><tr><td>null</td><td>West</td><td>1968.0</td><td>2001-04-08</td></tr><tr><td>16.0</td><td>East</td><td>null</td><td>2003-10-01</td></tr><tr><td>17.0</td><td>East</td><td>null</td><td>2010-09-23</td></tr><tr><td>18.0</td><td>West</td><td>1191.0</td><td>2016-01-23</td></tr><tr><td>19.0</td><td>North</td><td>null</td><td>2018-10-12</td></tr><tr><td>20.0</td><td>North</td><td>4867.0</td><td>2019-11-25</td></tr></tbody></table></div>"
      ]
     },
     "metadata": {
      "application/vnd.databricks.v1+output": {
       "addedWidgets": {},
       "aggData": [],
       "aggError": "",
       "aggOverflow": false,
       "aggSchema": [],
       "aggSeriesLimitReached": false,
       "aggType": "",
       "arguments": {},
       "columnCustomDisplayInfos": {},
       "data": [
        [
         1.0,
         "West",
         2263.0,
         null
        ],
        [
         2.0,
         "West",
         1510.0,
         "2009-07-07"
        ],
        [
         3.0,
         "West",
         4989.0,
         "2000-08-23"
        ],
        [
         4.0,
         "West",
         4942.0,
         "2016-08-12"
        ],
        [
         5.0,
         "North",
         null,
         "2002-06-09"
        ],
        [
         null,
         "East",
         3107.0,
         "2007-03-28"
        ],
        [
         7.0,
         "North",
         null,
         "2005-07-19"
        ],
        [
         8.0,
         "West",
         691.0,
         null
        ],
        [
         9.0,
         "North",
         3653.0,
         "2018-12-24"
        ],
        [
         10.0,
         "East",
         null,
         "2006-01-18"
        ],
        [
         11.0,
         "East",
         null,
         "2018-04-22"
        ],
        [
         12.0,
         "West",
         840.0,
         "2000-03-22"
        ],
        [
         13.0,
         "West",
         null,
         "2009-10-03"
        ],
        [
         14.0,
         "North",
         1116.0,
         "2003-06-30"
        ],
        [
         null,
         "West",
         1968.0,
         "2001-04-08"
        ],
        [
         16.0,
         "East",
         null,
         "2003-10-01"
        ],
        [
         17.0,
         "East",
         null,
         "2010-09-23"
        ],
        [
         18.0,
         "West",
         1191.0,
         "2016-01-23"
        ],
        [
         19.0,
         "North",
         null,
         "2018-10-12"
        ],
        [
         20.0,
         "North",
         4867.0,
         "2019-11-25"
        ]
       ],
       "datasetInfos": [],
       "dbfsResultPath": null,
       "isJsonSchema": true,
       "metadata": {},
       "overflow": false,
       "plotOptions": {
        "customPlotOptions": {},
        "displayType": "table",
        "pivotAggregation": null,
        "pivotColumns": null,
        "xColumns": null,
        "yColumns": null
       },
       "removedWidgets": [],
       "schema": [
        {
         "metadata": "{}",
         "name": "store_id",
         "type": "\"double\""
        },
        {
         "metadata": "{}",
         "name": "store_region",
         "type": "\"string\""
        },
        {
         "metadata": "{}",
         "name": "store_size",
         "type": "\"double\""
        },
        {
         "metadata": "{\"__detected_date_formats\":\"yyyy-M-d\"}",
         "name": "open_date",
         "type": "\"date\""
        }
       ],
       "type": "table"
      }
     },
     "output_type": "display_data"
    }
   ],
   "source": [
    "display(df_store)"
   ]
  },
  {
   "cell_type": "code",
   "execution_count": 0,
   "metadata": {
    "application/vnd.databricks.v1+cell": {
     "cellMetadata": {
      "byteLimit": 2048000,
      "rowLimit": 10000
     },
     "inputWidgets": {},
     "nuid": "faa2cf0a-87d2-44a2-ae9f-4b2b7b4d9d36",
     "showTitle": false,
     "tableResultSettingsMap": {},
     "title": ""
    }
   },
   "outputs": [
    {
     "output_type": "display_data",
     "data": {
      "text/html": [
       "<style scoped>\n",
       "  .table-result-container {\n",
       "    max-height: 300px;\n",
       "    overflow: auto;\n",
       "  }\n",
       "  table, th, td {\n",
       "    border: 1px solid black;\n",
       "    border-collapse: collapse;\n",
       "  }\n",
       "  th, td {\n",
       "    padding: 5px;\n",
       "  }\n",
       "  th {\n",
       "    text-align: left;\n",
       "  }\n",
       "</style><div class='table-result-container'><table class='table-result'><thead style='background-color: white'><tr><th>store_id</th><th>store_region</th><th>store_size</th><th>open_date</th></tr></thead><tbody><tr><td>2.0</td><td>West</td><td>1510.0</td><td>2009-07-07</td></tr><tr><td>3.0</td><td>West</td><td>4989.0</td><td>2000-08-23</td></tr><tr><td>4.0</td><td>West</td><td>4942.0</td><td>2016-08-12</td></tr><tr><td>5.0</td><td>North</td><td>2606.2</td><td>2002-06-09</td></tr><tr><td>7.0</td><td>North</td><td>2606.2</td><td>2005-07-19</td></tr><tr><td>9.0</td><td>North</td><td>3653.0</td><td>2018-12-24</td></tr><tr><td>10.0</td><td>East</td><td>2606.2</td><td>2006-01-18</td></tr><tr><td>11.0</td><td>East</td><td>2606.2</td><td>2018-04-22</td></tr><tr><td>12.0</td><td>West</td><td>840.0</td><td>2000-03-22</td></tr><tr><td>13.0</td><td>West</td><td>2606.2</td><td>2009-10-03</td></tr><tr><td>14.0</td><td>North</td><td>1116.0</td><td>2003-06-30</td></tr><tr><td>16.0</td><td>East</td><td>2606.2</td><td>2003-10-01</td></tr><tr><td>17.0</td><td>East</td><td>2606.2</td><td>2010-09-23</td></tr><tr><td>18.0</td><td>West</td><td>1191.0</td><td>2016-01-23</td></tr><tr><td>19.0</td><td>North</td><td>2606.2</td><td>2018-10-12</td></tr><tr><td>20.0</td><td>North</td><td>4867.0</td><td>2019-11-25</td></tr></tbody></table></div>"
      ]
     },
     "metadata": {
      "application/vnd.databricks.v1+output": {
       "addedWidgets": {},
       "aggData": [],
       "aggError": "",
       "aggOverflow": false,
       "aggSchema": [],
       "aggSeriesLimitReached": false,
       "aggType": "",
       "arguments": {},
       "columnCustomDisplayInfos": {},
       "data": [
        [
         2.0,
         "West",
         1510.0,
         "2009-07-07"
        ],
        [
         3.0,
         "West",
         4989.0,
         "2000-08-23"
        ],
        [
         4.0,
         "West",
         4942.0,
         "2016-08-12"
        ],
        [
         5.0,
         "North",
         2606.2,
         "2002-06-09"
        ],
        [
         7.0,
         "North",
         2606.2,
         "2005-07-19"
        ],
        [
         9.0,
         "North",
         3653.0,
         "2018-12-24"
        ],
        [
         10.0,
         "East",
         2606.2,
         "2006-01-18"
        ],
        [
         11.0,
         "East",
         2606.2,
         "2018-04-22"
        ],
        [
         12.0,
         "West",
         840.0,
         "2000-03-22"
        ],
        [
         13.0,
         "West",
         2606.2,
         "2009-10-03"
        ],
        [
         14.0,
         "North",
         1116.0,
         "2003-06-30"
        ],
        [
         16.0,
         "East",
         2606.2,
         "2003-10-01"
        ],
        [
         17.0,
         "East",
         2606.2,
         "2010-09-23"
        ],
        [
         18.0,
         "West",
         1191.0,
         "2016-01-23"
        ],
        [
         19.0,
         "North",
         2606.2,
         "2018-10-12"
        ],
        [
         20.0,
         "North",
         4867.0,
         "2019-11-25"
        ]
       ],
       "datasetInfos": [],
       "dbfsResultPath": null,
       "isJsonSchema": true,
       "metadata": {},
       "overflow": false,
       "plotOptions": {
        "customPlotOptions": {},
        "displayType": "table",
        "pivotAggregation": null,
        "pivotColumns": null,
        "xColumns": null,
        "yColumns": null
       },
       "removedWidgets": [],
       "schema": [
        {
         "metadata": "{}",
         "name": "store_id",
         "type": "\"double\""
        },
        {
         "metadata": "{}",
         "name": "store_region",
         "type": "\"string\""
        },
        {
         "metadata": "{}",
         "name": "store_size",
         "type": "\"double\""
        },
        {
         "metadata": "{\"__detected_date_formats\":\"yyyy-M-d\"}",
         "name": "open_date",
         "type": "\"date\""
        }
       ],
       "type": "table"
      }
     },
     "output_type": "display_data"
    }
   ],
   "source": [
    "from pyspark.sql.functions import avg\n",
    "\n",
    "df_store = df_store.filter(col(\"store_id\").isNotNull())\n",
    "avg_store_size = df_store.select(avg(\"store_size\")).collect()[0][0]\n",
    "df_store = df_store.na.fill({\"store_size\":avg_store_size})\n",
    "df_store = df_store.filter(col(\"open_date\").isNotNull())\n",
    "display(df_store)"
   ]
  },
  {
   "cell_type": "code",
   "execution_count": 0,
   "metadata": {
    "application/vnd.databricks.v1+cell": {
     "cellMetadata": {
      "byteLimit": 2048000,
      "rowLimit": 10000
     },
     "inputWidgets": {},
     "nuid": "48cccd25-47d3-4068-96f1-154f39b5da6a",
     "showTitle": false,
     "tableResultSettingsMap": {},
     "title": ""
    }
   },
   "outputs": [
    {
     "output_type": "stream",
     "name": "stdout",
     "output_type": "stream",
     "text": [
      "Out[12]: 16"
     ]
    }
   ],
   "source": [
    "#checking duplicate values\n",
    "\n",
    "# row_count=df_store.count()\n",
    "# print(row_count)\n",
    "# distinct_row_count=df_store.distinct().count()\n",
    "# print(distinct_row_count)\n",
    "# df_store_count=df_store.select(\"store_id\").count()\n",
    "# print(df_store_count)\n",
    "# distinct_df_store_count=df_store.select(\"store_id\").distinct().count()\n",
    "# print(distinct_df_store_count)\n",
    "\n",
    "# or\n",
    "df_store = df_store.dropDuplicates()\n",
    "df_store.count()\n"
   ]
  },
  {
   "cell_type": "code",
   "execution_count": 0,
   "metadata": {
    "application/vnd.databricks.v1+cell": {
     "cellMetadata": {
      "byteLimit": 2048000,
      "rowLimit": 10000
     },
     "inputWidgets": {},
     "nuid": "0e05ebac-7250-48bb-837f-21e745d20a1c",
     "showTitle": false,
     "tableResultSettingsMap": {},
     "title": ""
    }
   },
   "outputs": [
    {
     "output_type": "display_data",
     "data": {
      "text/html": [
       "<style scoped>\n",
       "  .table-result-container {\n",
       "    max-height: 300px;\n",
       "    overflow: auto;\n",
       "  }\n",
       "  table, th, td {\n",
       "    border: 1px solid black;\n",
       "    border-collapse: collapse;\n",
       "  }\n",
       "  th, td {\n",
       "    padding: 5px;\n",
       "  }\n",
       "  th {\n",
       "    text-align: left;\n",
       "  }\n",
       "</style><div class='table-result-container'><table class='table-result'><thead style='background-color: white'><tr><th>store_id</th><th>sale_id</th><th>product_id</th><th>sale_date</th><th>quantity</th><th>total_amount</th><th>store_region</th><th>store_size</th><th>open_date</th></tr></thead><tbody><tr><td>5.0</td><td>sale_420</td><td>6</td><td>2022-07-16</td><td>37</td><td>295.1</td><td>North</td><td>2606.2</td><td>2002-06-09</td></tr><tr><td>4.0</td><td>sale_755</td><td>49</td><td>2021-05-04</td><td>12</td><td>505.45</td><td>West</td><td>4942.0</td><td>2016-08-12</td></tr><tr><td>20.0</td><td>sale_576</td><td>33</td><td>2021-02-07</td><td>2</td><td>89.61</td><td>North</td><td>4867.0</td><td>2019-11-25</td></tr><tr><td>19.0</td><td>sale_845</td><td>24</td><td>2020-06-16</td><td>97</td><td>2289.33</td><td>North</td><td>2606.2</td><td>2018-10-12</td></tr><tr><td>18.0</td><td>sale_999</td><td>11</td><td>2020-03-08</td><td>63</td><td>810.25</td><td>West</td><td>1191.0</td><td>2016-01-23</td></tr><tr><td>5.0</td><td>sale_364</td><td>5</td><td>2021-10-02</td><td>63</td><td>2923.55</td><td>North</td><td>2606.2</td><td>2002-06-09</td></tr><tr><td>11.0</td><td>sale_228</td><td>37</td><td>2021-11-27</td><td>37</td><td>394.83</td><td>East</td><td>2606.2</td><td>2018-04-22</td></tr><tr><td>5.0</td><td>sale_717</td><td>37</td><td>2020-02-05</td><td>66</td><td>2603.03</td><td>North</td><td>2606.2</td><td>2002-06-09</td></tr><tr><td>9.0</td><td>sale_2</td><td>43</td><td>2021-03-15</td><td>100</td><td>4549.74</td><td>North</td><td>3653.0</td><td>2018-12-24</td></tr><tr><td>13.0</td><td>sale_33</td><td>50</td><td>2022-05-02</td><td>67</td><td>1882.4</td><td>West</td><td>2606.2</td><td>2009-10-03</td></tr></tbody></table></div>"
      ]
     },
     "metadata": {
      "application/vnd.databricks.v1+output": {
       "addedWidgets": {},
       "aggData": [],
       "aggError": "",
       "aggOverflow": false,
       "aggSchema": [],
       "aggSeriesLimitReached": false,
       "aggType": "",
       "arguments": {},
       "columnCustomDisplayInfos": {},
       "data": [
        [
         5.0,
         "sale_420",
         6,
         "2022-07-16",
         37,
         295.1,
         "North",
         2606.2,
         "2002-06-09"
        ],
        [
         4.0,
         "sale_755",
         49,
         "2021-05-04",
         12,
         505.45,
         "West",
         4942.0,
         "2016-08-12"
        ],
        [
         20.0,
         "sale_576",
         33,
         "2021-02-07",
         2,
         89.61,
         "North",
         4867.0,
         "2019-11-25"
        ],
        [
         19.0,
         "sale_845",
         24,
         "2020-06-16",
         97,
         2289.33,
         "North",
         2606.2,
         "2018-10-12"
        ],
        [
         18.0,
         "sale_999",
         11,
         "2020-03-08",
         63,
         810.25,
         "West",
         1191.0,
         "2016-01-23"
        ],
        [
         5.0,
         "sale_364",
         5,
         "2021-10-02",
         63,
         2923.55,
         "North",
         2606.2,
         "2002-06-09"
        ],
        [
         11.0,
         "sale_228",
         37,
         "2021-11-27",
         37,
         394.83,
         "East",
         2606.2,
         "2018-04-22"
        ],
        [
         5.0,
         "sale_717",
         37,
         "2020-02-05",
         66,
         2603.03,
         "North",
         2606.2,
         "2002-06-09"
        ],
        [
         9.0,
         "sale_2",
         43,
         "2021-03-15",
         100,
         4549.74,
         "North",
         3653.0,
         "2018-12-24"
        ],
        [
         13.0,
         "sale_33",
         50,
         "2022-05-02",
         67,
         1882.4,
         "West",
         2606.2,
         "2009-10-03"
        ]
       ],
       "datasetInfos": [],
       "dbfsResultPath": null,
       "isJsonSchema": true,
       "metadata": {},
       "overflow": false,
       "plotOptions": {
        "customPlotOptions": {},
        "displayType": "table",
        "pivotAggregation": null,
        "pivotColumns": null,
        "xColumns": null,
        "yColumns": null
       },
       "removedWidgets": [],
       "schema": [
        {
         "metadata": "{}",
         "name": "store_id",
         "type": "\"double\""
        },
        {
         "metadata": "{}",
         "name": "sale_id",
         "type": "\"string\""
        },
        {
         "metadata": "{}",
         "name": "product_id",
         "type": "\"integer\""
        },
        {
         "metadata": "{\"__detected_date_formats\":\"yyyy-M-d\"}",
         "name": "sale_date",
         "type": "\"date\""
        },
        {
         "metadata": "{}",
         "name": "quantity",
         "type": "\"integer\""
        },
        {
         "metadata": "{}",
         "name": "total_amount",
         "type": "\"double\""
        },
        {
         "metadata": "{}",
         "name": "store_region",
         "type": "\"string\""
        },
        {
         "metadata": "{}",
         "name": "store_size",
         "type": "\"double\""
        },
        {
         "metadata": "{\"__detected_date_formats\":\"yyyy-M-d\"}",
         "name": "open_date",
         "type": "\"date\""
        }
       ],
       "type": "table"
      }
     },
     "output_type": "display_data"
    }
   ],
   "source": [
    "main_df=df_sales.join(df_store, on=\"store_id\",how='inner')\n",
    "display(main_df.limit(10))"
   ]
  },
  {
   "cell_type": "code",
   "execution_count": 0,
   "metadata": {
    "application/vnd.databricks.v1+cell": {
     "cellMetadata": {
      "byteLimit": 2048000,
      "rowLimit": 10000
     },
     "inputWidgets": {},
     "nuid": "f1e62433-4f03-43cf-a6d8-459c0ce2f015",
     "showTitle": false,
     "tableResultSettingsMap": {},
     "title": ""
    }
   },
   "outputs": [
    {
     "output_type": "display_data",
     "data": {
      "text/html": [
       "<style scoped>\n",
       "  .table-result-container {\n",
       "    max-height: 300px;\n",
       "    overflow: auto;\n",
       "  }\n",
       "  table, th, td {\n",
       "    border: 1px solid black;\n",
       "    border-collapse: collapse;\n",
       "  }\n",
       "  th, td {\n",
       "    padding: 5px;\n",
       "  }\n",
       "  th {\n",
       "    text-align: left;\n",
       "  }\n",
       "</style><div class='table-result-container'><table class='table-result'><thead style='background-color: white'><tr><th>store_id</th><th>sale_id</th><th>product_id</th><th>sale_date</th><th>quantity</th><th>total_amount</th><th>store_region</th><th>store_size</th><th>open_date</th><th>SalePerSqrFoot</th><th>sale_year</th></tr></thead><tbody><tr><td>5.0</td><td>sale_420</td><td>6</td><td>2022-07-16</td><td>37</td><td>295.1</td><td>North</td><td>2606.2</td><td>2002-06-09</td><td>0.11</td><td>2022</td></tr><tr><td>4.0</td><td>sale_755</td><td>49</td><td>2021-05-04</td><td>12</td><td>505.45</td><td>West</td><td>4942.0</td><td>2016-08-12</td><td>0.1</td><td>2021</td></tr><tr><td>20.0</td><td>sale_576</td><td>33</td><td>2021-02-07</td><td>2</td><td>89.61</td><td>North</td><td>4867.0</td><td>2019-11-25</td><td>0.02</td><td>2021</td></tr><tr><td>19.0</td><td>sale_845</td><td>24</td><td>2020-06-16</td><td>97</td><td>2289.33</td><td>North</td><td>2606.2</td><td>2018-10-12</td><td>0.88</td><td>2020</td></tr><tr><td>18.0</td><td>sale_999</td><td>11</td><td>2020-03-08</td><td>63</td><td>810.25</td><td>West</td><td>1191.0</td><td>2016-01-23</td><td>0.68</td><td>2020</td></tr><tr><td>5.0</td><td>sale_364</td><td>5</td><td>2021-10-02</td><td>63</td><td>2923.55</td><td>North</td><td>2606.2</td><td>2002-06-09</td><td>1.12</td><td>2021</td></tr><tr><td>11.0</td><td>sale_228</td><td>37</td><td>2021-11-27</td><td>37</td><td>394.83</td><td>East</td><td>2606.2</td><td>2018-04-22</td><td>0.15</td><td>2021</td></tr><tr><td>5.0</td><td>sale_717</td><td>37</td><td>2020-02-05</td><td>66</td><td>2603.03</td><td>North</td><td>2606.2</td><td>2002-06-09</td><td>1.0</td><td>2020</td></tr><tr><td>9.0</td><td>sale_2</td><td>43</td><td>2021-03-15</td><td>100</td><td>4549.74</td><td>North</td><td>3653.0</td><td>2018-12-24</td><td>1.25</td><td>2021</td></tr><tr><td>13.0</td><td>sale_33</td><td>50</td><td>2022-05-02</td><td>67</td><td>1882.4</td><td>West</td><td>2606.2</td><td>2009-10-03</td><td>0.72</td><td>2022</td></tr></tbody></table></div>"
      ]
     },
     "metadata": {
      "application/vnd.databricks.v1+output": {
       "addedWidgets": {},
       "aggData": [],
       "aggError": "",
       "aggOverflow": false,
       "aggSchema": [],
       "aggSeriesLimitReached": false,
       "aggType": "",
       "arguments": {},
       "columnCustomDisplayInfos": {},
       "data": [
        [
         5.0,
         "sale_420",
         6,
         "2022-07-16",
         37,
         295.1,
         "North",
         2606.2,
         "2002-06-09",
         0.11,
         2022
        ],
        [
         4.0,
         "sale_755",
         49,
         "2021-05-04",
         12,
         505.45,
         "West",
         4942.0,
         "2016-08-12",
         0.1,
         2021
        ],
        [
         20.0,
         "sale_576",
         33,
         "2021-02-07",
         2,
         89.61,
         "North",
         4867.0,
         "2019-11-25",
         0.02,
         2021
        ],
        [
         19.0,
         "sale_845",
         24,
         "2020-06-16",
         97,
         2289.33,
         "North",
         2606.2,
         "2018-10-12",
         0.88,
         2020
        ],
        [
         18.0,
         "sale_999",
         11,
         "2020-03-08",
         63,
         810.25,
         "West",
         1191.0,
         "2016-01-23",
         0.68,
         2020
        ],
        [
         5.0,
         "sale_364",
         5,
         "2021-10-02",
         63,
         2923.55,
         "North",
         2606.2,
         "2002-06-09",
         1.12,
         2021
        ],
        [
         11.0,
         "sale_228",
         37,
         "2021-11-27",
         37,
         394.83,
         "East",
         2606.2,
         "2018-04-22",
         0.15,
         2021
        ],
        [
         5.0,
         "sale_717",
         37,
         "2020-02-05",
         66,
         2603.03,
         "North",
         2606.2,
         "2002-06-09",
         1.0,
         2020
        ],
        [
         9.0,
         "sale_2",
         43,
         "2021-03-15",
         100,
         4549.74,
         "North",
         3653.0,
         "2018-12-24",
         1.25,
         2021
        ],
        [
         13.0,
         "sale_33",
         50,
         "2022-05-02",
         67,
         1882.4,
         "West",
         2606.2,
         "2009-10-03",
         0.72,
         2022
        ]
       ],
       "datasetInfos": [],
       "dbfsResultPath": null,
       "isJsonSchema": true,
       "metadata": {},
       "overflow": false,
       "plotOptions": {
        "customPlotOptions": {},
        "displayType": "table",
        "pivotAggregation": null,
        "pivotColumns": null,
        "xColumns": null,
        "yColumns": null
       },
       "removedWidgets": [],
       "schema": [
        {
         "metadata": "{}",
         "name": "store_id",
         "type": "\"double\""
        },
        {
         "metadata": "{}",
         "name": "sale_id",
         "type": "\"string\""
        },
        {
         "metadata": "{}",
         "name": "product_id",
         "type": "\"integer\""
        },
        {
         "metadata": "{\"__detected_date_formats\":\"yyyy-M-d\"}",
         "name": "sale_date",
         "type": "\"date\""
        },
        {
         "metadata": "{}",
         "name": "quantity",
         "type": "\"integer\""
        },
        {
         "metadata": "{}",
         "name": "total_amount",
         "type": "\"double\""
        },
        {
         "metadata": "{}",
         "name": "store_region",
         "type": "\"string\""
        },
        {
         "metadata": "{}",
         "name": "store_size",
         "type": "\"double\""
        },
        {
         "metadata": "{\"__detected_date_formats\":\"yyyy-M-d\"}",
         "name": "open_date",
         "type": "\"date\""
        },
        {
         "metadata": "{}",
         "name": "SalePerSqrFoot",
         "type": "\"double\""
        },
        {
         "metadata": "{}",
         "name": "sale_year",
         "type": "\"integer\""
        }
       ],
       "type": "table"
      }
     },
     "output_type": "display_data"
    }
   ],
   "source": [
    "from pyspark.sql.functions import round,year\n",
    "new_df = main_df.withColumn(\"SalePerSqrFoot\",round(main_df.total_amount/main_df.store_size,2))\n",
    "new_df = new_df.withColumn(\"sale_year\",year(\"sale_date\"))\n",
    "\n",
    "display(new_df.limit(10))"
   ]
  },
  {
   "cell_type": "code",
   "execution_count": 0,
   "metadata": {
    "application/vnd.databricks.v1+cell": {
     "cellMetadata": {
      "byteLimit": 2048000,
      "rowLimit": 10000
     },
     "inputWidgets": {},
     "nuid": "09bbc737-146b-4f1c-a859-bfc00b80fe30",
     "showTitle": false,
     "tableResultSettingsMap": {},
     "title": ""
    }
   },
   "outputs": [
    {
     "output_type": "stream",
     "name": "stdout",
     "output_type": "stream",
     "text": [
      "Out[24]: DataFrame[store_id: double, sale_id: string, product_id: int, sale_date: date, quantity: int, total_amount: double, store_region: string, store_size: double, open_date: date, SalePerSqrFoot: double, sale_year: int]"
     ]
    }
   ],
   "source": [
    "new_df"
   ]
  },
  {
   "cell_type": "code",
   "execution_count": 0,
   "metadata": {
    "application/vnd.databricks.v1+cell": {
     "cellMetadata": {
      "byteLimit": 2048000,
      "rowLimit": 10000
     },
     "inputWidgets": {},
     "nuid": "d7551a80-5dfb-4b25-89fc-5a4ba7e8e652",
     "showTitle": false,
     "tableResultSettingsMap": {},
     "title": ""
    }
   },
   "outputs": [
    {
     "output_type": "stream",
     "name": "stdout",
     "output_type": "stream",
     "text": [
      "+----------+--------------+\n|product_id|total_quantity|\n+----------+--------------+\n|        14|          1028|\n|        30|          1000|\n|        15|           911|\n|        46|           881|\n|        18|           876|\n+----------+--------------+\n\n"
     ]
    }
   ],
   "source": [
    "# top 5 products by total quantity sold\n",
    "from pyspark.sql.functions import col, sum\n",
    "top5products = new_df.groupBy(\"product_id\") \\\n",
    "          .agg(sum(col(\"quantity\")).alias(\"total_quantity\")) \\\n",
    "          .orderBy(col(\"total_quantity\").desc()) \\\n",
    "          .limit(5)\n",
    "\n",
    "top5products.show()"
   ]
  },
  {
   "cell_type": "code",
   "execution_count": 0,
   "metadata": {
    "application/vnd.databricks.v1+cell": {
     "cellMetadata": {
      "byteLimit": 2048000,
      "rowLimit": 10000
     },
     "inputWidgets": {},
     "nuid": "0d6b5e5e-7173-4fff-8981-c2dfda3596f4",
     "showTitle": false,
     "tableResultSettingsMap": {},
     "title": ""
    }
   },
   "outputs": [
    {
     "output_type": "stream",
     "name": "stdout",
     "output_type": "stream",
     "text": [
      "+--------+------------------+\n|store_id|       total_sales|\n+--------+------------------+\n|    10.0| 72579.89000000001|\n|    11.0|          66396.06|\n|    13.0| 65943.80000000002|\n|    17.0| 54421.82000000001|\n|    20.0|53057.229999999996|\n+--------+------------------+\n\n"
     ]
    }
   ],
   "source": [
    "# top 5 stores based on sales\n",
    "\n",
    "top5stores = new_df.groupBy(col(\"store_id\"))\\\n",
    "                .agg(sum(col(\"total_amount\")).alias(\"total_sales\"))\\\n",
    "                .orderBy(col(\"total_sales\").desc()).limit(5)\n",
    "\n",
    "top5stores.show() "
   ]
  },
  {
   "cell_type": "code",
   "execution_count": 0,
   "metadata": {
    "application/vnd.databricks.v1+cell": {
     "cellMetadata": {
      "byteLimit": 2048000,
      "rowLimit": 10000
     },
     "inputWidgets": {},
     "nuid": "1395769a-a432-4a46-bf52-338f9479ce65",
     "showTitle": false,
     "tableResultSettingsMap": {},
     "title": ""
    }
   },
   "outputs": [
    {
     "output_type": "display_data",
     "data": {
      "text/html": [
       "<style scoped>\n",
       "  .table-result-container {\n",
       "    max-height: 300px;\n",
       "    overflow: auto;\n",
       "  }\n",
       "  table, th, td {\n",
       "    border: 1px solid black;\n",
       "    border-collapse: collapse;\n",
       "  }\n",
       "  th, td {\n",
       "    padding: 5px;\n",
       "  }\n",
       "  th {\n",
       "    text-align: left;\n",
       "  }\n",
       "</style><div class='table-result-container'><table class='table-result'><thead style='background-color: white'><tr><th>store_id</th><th>store_region</th><th>total_sales</th><th>total_quantity</th></tr></thead><tbody><tr><td>2.0</td><td>West</td><td>47392.2</td><td>1648</td></tr><tr><td>4.0</td><td>West</td><td>38284.52</td><td>1240</td></tr><tr><td>11.0</td><td>East</td><td>66396.06</td><td>2178</td></tr><tr><td>14.0</td><td>North</td><td>41333.42</td><td>1778</td></tr><tr><td>13.0</td><td>West</td><td>65943.8</td><td>2351</td></tr><tr><td>5.0</td><td>North</td><td>49333.47</td><td>1818</td></tr><tr><td>20.0</td><td>North</td><td>53057.23</td><td>2138</td></tr><tr><td>16.0</td><td>East</td><td>40136.36</td><td>1554</td></tr><tr><td>7.0</td><td>North</td><td>52866.74</td><td>1948</td></tr><tr><td>10.0</td><td>East</td><td>72579.89</td><td>2453</td></tr><tr><td>12.0</td><td>West</td><td>34734.9</td><td>1372</td></tr><tr><td>9.0</td><td>North</td><td>49838.1</td><td>1902</td></tr><tr><td>3.0</td><td>West</td><td>40979.65</td><td>1638</td></tr><tr><td>17.0</td><td>East</td><td>54421.82</td><td>2236</td></tr><tr><td>18.0</td><td>West</td><td>32691.26</td><td>1503</td></tr><tr><td>19.0</td><td>North</td><td>49990.34</td><td>1991</td></tr></tbody></table></div>"
      ]
     },
     "metadata": {
      "application/vnd.databricks.v1+output": {
       "addedWidgets": {},
       "aggData": [],
       "aggError": "",
       "aggOverflow": false,
       "aggSchema": [],
       "aggSeriesLimitReached": false,
       "aggType": "",
       "arguments": {},
       "columnCustomDisplayInfos": {},
       "data": [
        [
         2.0,
         "West",
         47392.2,
         1648
        ],
        [
         4.0,
         "West",
         38284.52,
         1240
        ],
        [
         11.0,
         "East",
         66396.06,
         2178
        ],
        [
         14.0,
         "North",
         41333.42,
         1778
        ],
        [
         13.0,
         "West",
         65943.8,
         2351
        ],
        [
         5.0,
         "North",
         49333.47,
         1818
        ],
        [
         20.0,
         "North",
         53057.23,
         2138
        ],
        [
         16.0,
         "East",
         40136.36,
         1554
        ],
        [
         7.0,
         "North",
         52866.74,
         1948
        ],
        [
         10.0,
         "East",
         72579.89,
         2453
        ],
        [
         12.0,
         "West",
         34734.9,
         1372
        ],
        [
         9.0,
         "North",
         49838.1,
         1902
        ],
        [
         3.0,
         "West",
         40979.65,
         1638
        ],
        [
         17.0,
         "East",
         54421.82,
         2236
        ],
        [
         18.0,
         "West",
         32691.26,
         1503
        ],
        [
         19.0,
         "North",
         49990.34,
         1991
        ]
       ],
       "datasetInfos": [],
       "dbfsResultPath": null,
       "isJsonSchema": true,
       "metadata": {},
       "overflow": false,
       "plotOptions": {
        "customPlotOptions": {},
        "displayType": "table",
        "pivotAggregation": null,
        "pivotColumns": null,
        "xColumns": null,
        "yColumns": null
       },
       "removedWidgets": [],
       "schema": [
        {
         "metadata": "{}",
         "name": "store_id",
         "type": "\"double\""
        },
        {
         "metadata": "{}",
         "name": "store_region",
         "type": "\"string\""
        },
        {
         "metadata": "{}",
         "name": "total_sales",
         "type": "\"double\""
        },
        {
         "metadata": "{}",
         "name": "total_quantity",
         "type": "\"long\""
        }
       ],
       "type": "table"
      }
     },
     "output_type": "display_data"
    }
   ],
   "source": [
    "# aggregate sale and quantity by store and region\n",
    "new_df.createOrReplaceTempView(\"combined\")\n",
    "\n",
    "aggregated = spark.sql(\n",
    "    \"\"\"\n",
    "    SELECT store_id,store_region,ROUND(SUM(total_amount),2) as total_sales,SUM(quantity) as total_quantity\n",
    "    FROM combined\n",
    "    GROUP BY store_id,store_region\n",
    "    \"\"\"\n",
    ")\n",
    "\n",
    "display(aggregated)"
   ]
  },
  {
   "cell_type": "code",
   "execution_count": 0,
   "metadata": {
    "application/vnd.databricks.v1+cell": {
     "cellMetadata": {
      "byteLimit": 2048000,
      "rowLimit": 10000
     },
     "inputWidgets": {},
     "nuid": "110ee388-e870-4c36-9a44-c51026093cce",
     "showTitle": false,
     "tableResultSettingsMap": {},
     "title": ""
    }
   },
   "outputs": [
    {
     "output_type": "display_data",
     "data": {
      "text/html": [
       "<style scoped>\n",
       "  .table-result-container {\n",
       "    max-height: 300px;\n",
       "    overflow: auto;\n",
       "  }\n",
       "  table, th, td {\n",
       "    border: 1px solid black;\n",
       "    border-collapse: collapse;\n",
       "  }\n",
       "  th, td {\n",
       "    padding: 5px;\n",
       "  }\n",
       "  th {\n",
       "    text-align: left;\n",
       "  }\n",
       "</style><div class='table-result-container'><table class='table-result'><thead style='background-color: white'><tr><th>product_id</th><th>total_quantity</th></tr></thead><tbody><tr><td>14</td><td>1028</td></tr><tr><td>30</td><td>1000</td></tr><tr><td>15</td><td>911</td></tr><tr><td>46</td><td>881</td></tr><tr><td>18</td><td>876</td></tr></tbody></table></div>"
      ]
     },
     "metadata": {
      "application/vnd.databricks.v1+output": {
       "addedWidgets": {},
       "aggData": [],
       "aggError": "",
       "aggOverflow": false,
       "aggSchema": [],
       "aggSeriesLimitReached": false,
       "aggType": "",
       "arguments": {},
       "columnCustomDisplayInfos": {},
       "data": [
        [
         14,
         1028
        ],
        [
         30,
         1000
        ],
        [
         15,
         911
        ],
        [
         46,
         881
        ],
        [
         18,
         876
        ]
       ],
       "datasetInfos": [],
       "dbfsResultPath": null,
       "isJsonSchema": true,
       "metadata": {},
       "overflow": false,
       "plotOptions": {
        "customPlotOptions": {},
        "displayType": "table",
        "pivotAggregation": null,
        "pivotColumns": null,
        "xColumns": null,
        "yColumns": null
       },
       "removedWidgets": [],
       "schema": [
        {
         "metadata": "{}",
         "name": "product_id",
         "type": "\"integer\""
        },
        {
         "metadata": "{}",
         "name": "total_quantity",
         "type": "\"long\""
        }
       ],
       "type": "table"
      }
     },
     "output_type": "display_data"
    }
   ],
   "source": [
    "#top 5 product based on quantity sold\n",
    "top5products = spark.sql(\n",
    "    \"\"\"\n",
    "    SELECT product_id,SUM(quantity) AS total_quantity\n",
    "    FROM combined \n",
    "    GROUP BY product_id\n",
    "    ORDER BY total_quantity DESC\n",
    "    LIMIT 5\n",
    "    \"\"\"\n",
    ")\n",
    "display(top5products)"
   ]
  },
  {
   "cell_type": "code",
   "execution_count": 0,
   "metadata": {
    "application/vnd.databricks.v1+cell": {
     "cellMetadata": {
      "byteLimit": 2048000,
      "rowLimit": 10000
     },
     "inputWidgets": {},
     "nuid": "c37ac8ac-9c7d-49c9-a5d7-c461e7b0d7ec",
     "showTitle": false,
     "tableResultSettingsMap": {},
     "title": ""
    }
   },
   "outputs": [
    {
     "output_type": "display_data",
     "data": {
      "text/html": [
       "<style scoped>\n",
       "  .table-result-container {\n",
       "    max-height: 300px;\n",
       "    overflow: auto;\n",
       "  }\n",
       "  table, th, td {\n",
       "    border: 1px solid black;\n",
       "    border-collapse: collapse;\n",
       "  }\n",
       "  th, td {\n",
       "    padding: 5px;\n",
       "  }\n",
       "  th {\n",
       "    text-align: left;\n",
       "  }\n",
       "</style><div class='table-result-container'><table class='table-result'><thead style='background-color: white'><tr><th>store_id</th><th>total_sales</th></tr></thead><tbody><tr><td>10.0</td><td>72579.89</td></tr><tr><td>11.0</td><td>66396.06</td></tr><tr><td>13.0</td><td>65943.8</td></tr><tr><td>17.0</td><td>54421.82</td></tr><tr><td>20.0</td><td>53057.23</td></tr></tbody></table></div>"
      ]
     },
     "metadata": {
      "application/vnd.databricks.v1+output": {
       "addedWidgets": {},
       "aggData": [],
       "aggError": "",
       "aggOverflow": false,
       "aggSchema": [],
       "aggSeriesLimitReached": false,
       "aggType": "",
       "arguments": {},
       "columnCustomDisplayInfos": {},
       "data": [
        [
         10.0,
         72579.89
        ],
        [
         11.0,
         66396.06
        ],
        [
         13.0,
         65943.8
        ],
        [
         17.0,
         54421.82
        ],
        [
         20.0,
         53057.23
        ]
       ],
       "datasetInfos": [],
       "dbfsResultPath": null,
       "isJsonSchema": true,
       "metadata": {},
       "overflow": false,
       "plotOptions": {
        "customPlotOptions": {},
        "displayType": "table",
        "pivotAggregation": null,
        "pivotColumns": null,
        "xColumns": null,
        "yColumns": null
       },
       "removedWidgets": [],
       "schema": [
        {
         "metadata": "{}",
         "name": "store_id",
         "type": "\"double\""
        },
        {
         "metadata": "{}",
         "name": "total_sales",
         "type": "\"double\""
        }
       ],
       "type": "table"
      }
     },
     "output_type": "display_data"
    }
   ],
   "source": [
    "# top 5 stores based on sales\n",
    "top5_store = spark.sql(\n",
    "    \"\"\"\n",
    "    SELECT store_id,ROUND(SUM(total_amount),2) AS total_sales\n",
    "    FROM combined \n",
    "    GROUP BY store_id\n",
    "    ORDER BY total_sales DESC \n",
    "    LIMIT 5\n",
    "    \"\"\"\n",
    "    )\n",
    "display(top5_store)"
   ]
  },
  {
   "cell_type": "code",
   "execution_count": 0,
   "metadata": {
    "application/vnd.databricks.v1+cell": {
     "cellMetadata": {
      "byteLimit": 2048000,
      "rowLimit": 10000
     },
     "inputWidgets": {},
     "nuid": "e6e06763-5707-4332-96f7-4b5c4393076e",
     "showTitle": false,
     "tableResultSettingsMap": {},
     "title": ""
    }
   },
   "outputs": [],
   "source": [
    "top5products.write.mode(\"overwrite\").parquet(\"/FileStore/tables/top_products\")\n",
    "top5_store.write.mode(\"overwrite\").parquet(\"/FileStore/tables/top_stores\")"
   ]
  }
 ],
 "metadata": {
  "application/vnd.databricks.v1+notebook": {
   "computePreferences": null,
   "dashboards": [],
   "environmentMetadata": {
    "base_environment": "",
    "environment_version": "1"
   },
   "inputWidgetPreferences": null,
   "language": "python",
   "notebookMetadata": {
    "pythonIndentUnit": 4
   },
   "notebookName": "Project",
   "widgets": {}
  }
 },
 "nbformat": 4,
 "nbformat_minor": 0
}