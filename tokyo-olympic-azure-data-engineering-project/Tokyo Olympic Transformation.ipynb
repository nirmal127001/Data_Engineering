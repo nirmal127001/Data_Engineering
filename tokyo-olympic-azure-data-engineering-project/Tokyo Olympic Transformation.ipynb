{
 "cells": [
  {
   "cell_type": "code",
   "execution_count": 0,
   "metadata": {
    "application/vnd.databricks.v1+cell": {
     "cellMetadata": {
      "byteLimit": 2048000,
      "rowLimit": 10000
     },
     "inputWidgets": {},
     "nuid": "d6cd1291-5df5-4cd7-bc06-8095d4a5f242",
     "showTitle": false,
     "tableResultSettingsMap": {},
     "title": ""
    }
   },
   "outputs": [
    {
     "output_type": "display_data",
     "data": {
      "text/html": [
       "<div class = \"ansiout\">\n",
       "Provides utilities for leveraging secrets within notebooks.\n",
       "Databricks documentation for more info.\n",
       "    <h3></h3><b>get(scope: String, key: String): String</b> -> Gets the string representation of a secret value with scope and key<br /><b>getBytes(scope: String, key: String): byte[]</b> -> Gets the bytes representation of a secret value with scope and key<br /><b>list(scope: String): Seq</b> -> Lists secret metadata for secrets within a scope<br /><b>listScopes: Seq</b> -> Lists secret scopes<br /><br /></div>"
      ]
     },
     "metadata": {},
     "output_type": "display_data"
    }
   ],
   "source": [
    "dbutils.secrets.help()"
   ]
  },
  {
   "cell_type": "code",
   "execution_count": 0,
   "metadata": {
    "application/vnd.databricks.v1+cell": {
     "cellMetadata": {
      "byteLimit": 2048000,
      "rowLimit": 10000
     },
     "inputWidgets": {},
     "nuid": "5569624c-b112-4aab-ada8-72d394e38505",
     "showTitle": false,
     "tableResultSettingsMap": {},
     "title": ""
    }
   },
   "outputs": [
    {
     "output_type": "execute_result",
     "data": {
      "text/plain": [
       "[SecretMetadata(key='Application-Client-ID'),\n",
       " SecretMetadata(key='Directory-Tenant-ID'),\n",
       " SecretMetadata(key='Object-ID'),\n",
       " SecretMetadata(key='secret-key')]"
      ]
     },
     "execution_count": 14,
     "metadata": {},
     "output_type": "execute_result"
    }
   ],
   "source": [
    "# Secrets created in Azure key vault\n",
    "\n",
    "dbutils.secrets.list('DB-Scope')"
   ]
  },
  {
   "cell_type": "code",
   "execution_count": 0,
   "metadata": {
    "application/vnd.databricks.v1+cell": {
     "cellMetadata": {
      "byteLimit": 2048000,
      "rowLimit": 10000
     },
     "inputWidgets": {},
     "nuid": "f89b0a11-5764-49b7-9596-e950418f0f60",
     "showTitle": false,
     "tableResultSettingsMap": {},
     "title": ""
    }
   },
   "outputs": [
    {
     "output_type": "stream",
     "name": "stdout",
     "output_type": "stream",
     "text": [
      "/mnt/olympicdata has been unmounted.\n"
     ]
    },
    {
     "output_type": "execute_result",
     "data": {
      "text/plain": [
       "True"
      ]
     },
     "execution_count": 15,
     "metadata": {},
     "output_type": "execute_result"
    }
   ],
   "source": [
    "# run only if already mounted\n",
    "dbutils.fs.unmount(\"/mnt/olympicdata\")"
   ]
  },
  {
   "cell_type": "code",
   "execution_count": 0,
   "metadata": {
    "application/vnd.databricks.v1+cell": {
     "cellMetadata": {
      "byteLimit": 2048000,
      "rowLimit": 10000
     },
     "inputWidgets": {},
     "nuid": "74ee89ec-2b65-41f7-9c72-2bb6aa30d98c",
     "showTitle": false,
     "tableResultSettingsMap": {},
     "title": ""
    }
   },
   "outputs": [
    {
     "output_type": "execute_result",
     "data": {
      "text/plain": [
       "True"
      ]
     },
     "execution_count": 16,
     "metadata": {},
     "output_type": "execute_result"
    }
   ],
   "source": [
    "#Basic connection configuration for databricks to ADLS\n",
    "\n",
    "Application_Client_ID = dbutils.secrets.get('DB-Scope', 'Application-Client-ID')\n",
    "Directory_Tenant_ID = dbutils.secrets.get('DB-Scope', 'Directory-Tenant-ID')\n",
    "Object_ID = dbutils.secrets.get('DB-Scope', 'Object-ID')\n",
    "secret_key = dbutils.secrets.get('DB-Scope', 'secret-key')\n",
    "\n",
    "configs = {\"fs.azure.account.auth.type\": \"OAuth\",\n",
    "\"fs.azure.account.oauth.provider.type\": \"org.apache.hadoop.fs.azurebfs.oauth2.ClientCredsTokenProvider\",\n",
    "\"fs.azure.account.oauth2.client.id\": Application_Client_ID,\n",
    "\"fs.azure.account.oauth2.client.secret\": secret_key,\n",
    "\"fs.azure.account.oauth2.client.endpoint\": f\"https://login.microsoftonline.com/{Directory_Tenant_ID}/oauth2/token\"}\n",
    "\n",
    "dbutils.fs.mount(\n",
    "    source=\"abfss://olympicdata@tokyoolympicnirmal.dfs.core.windows.net/\", # container@storageAccountName\n",
    "    mount_point=\"/mnt/olympicdata\",\n",
    "    extra_configs=configs\n",
    ")"
   ]
  },
  {
   "cell_type": "code",
   "execution_count": 0,
   "metadata": {
    "application/vnd.databricks.v1+cell": {
     "cellMetadata": {
      "byteLimit": 2048000,
      "rowLimit": 10000
     },
     "inputWidgets": {},
     "nuid": "2fc83c8c-9dd8-44cc-b7f6-3503dbd89832",
     "showTitle": false,
     "tableResultSettingsMap": {},
     "title": ""
    }
   },
   "outputs": [
    {
     "output_type": "display_data",
     "data": {
      "text/html": [
       "<style scoped>\n",
       "  .table-result-container {\n",
       "    max-height: 300px;\n",
       "    overflow: auto;\n",
       "  }\n",
       "  table, th, td {\n",
       "    border: 1px solid black;\n",
       "    border-collapse: collapse;\n",
       "  }\n",
       "  th, td {\n",
       "    padding: 5px;\n",
       "  }\n",
       "  th {\n",
       "    text-align: left;\n",
       "  }\n",
       "</style><div class='table-result-container'><table class='table-result'><thead style='background-color: white'><tr><th>path</th><th>name</th><th>size</th><th>modificationTime</th></tr></thead><tbody><tr><td>dbfs:/mnt/olympicdata/raw-data/</td><td>raw-data/</td><td>0</td><td>1732430731000</td></tr><tr><td>dbfs:/mnt/olympicdata/transformed-data/</td><td>transformed-data/</td><td>0</td><td>1732430743000</td></tr></tbody></table></div>"
      ]
     },
     "metadata": {
      "application/vnd.databricks.v1+output": {
       "addedWidgets": {},
       "aggData": [],
       "aggError": "",
       "aggOverflow": false,
       "aggSchema": [],
       "aggSeriesLimitReached": false,
       "aggType": "",
       "arguments": {},
       "columnCustomDisplayInfos": {},
       "data": [
        [
         "dbfs:/mnt/olympicdata/raw-data/",
         "raw-data/",
         0,
         1732430731000
        ],
        [
         "dbfs:/mnt/olympicdata/transformed-data/",
         "transformed-data/",
         0,
         1732430743000
        ]
       ],
       "datasetInfos": [],
       "dbfsResultPath": null,
       "isJsonSchema": true,
       "metadata": {
        "isDbfsCommandResult": false
       },
       "overflow": false,
       "plotOptions": {
        "customPlotOptions": {},
        "displayType": "table",
        "pivotAggregation": null,
        "pivotColumns": null,
        "xColumns": null,
        "yColumns": null
       },
       "removedWidgets": [],
       "schema": [
        {
         "metadata": "{}",
         "name": "path",
         "type": "\"string\""
        },
        {
         "metadata": "{}",
         "name": "name",
         "type": "\"string\""
        },
        {
         "metadata": "{}",
         "name": "size",
         "type": "\"long\""
        },
        {
         "metadata": "{}",
         "name": "modificationTime",
         "type": "\"long\""
        }
       ],
       "type": "table"
      }
     },
     "output_type": "display_data"
    }
   ],
   "source": [
    "%fs\n",
    "ls \"/mnt/olympicdata\""
   ]
  },
  {
   "cell_type": "code",
   "execution_count": 0,
   "metadata": {
    "application/vnd.databricks.v1+cell": {
     "cellMetadata": {
      "byteLimit": 2048000,
      "rowLimit": 10000
     },
     "inputWidgets": {},
     "nuid": "5192d2ef-2da8-4e2a-94c3-5e21335746b5",
     "showTitle": false,
     "tableResultSettingsMap": {},
     "title": ""
    }
   },
   "outputs": [],
   "source": [
    "athletes = spark.read.format(\"csv\").option(\"header\", \"true\").option(\"inferSchema\", \"true\").load(\"/mnt/olympicdata/raw-data/athletes.csv\")\n",
    "coaches = spark.read.format(\"csv\").option(\"header\", \"true\").option(\"inferSchema\", \"true\").load(\"/mnt/olympicdata/raw-data/coaches.csv\")\n",
    "entriesGender = spark.read.format(\"csv\").option(\"header\", \"true\").load(\"/mnt/olympicdata/raw-data/entriesGender.csv\")\n",
    "medals = spark.read.format(\"csv\").option(\"header\", \"true\").option(\"inferSchema\", \"true\").load(\"/mnt/olympicdata/raw-data/medals.csv\")\n",
    "teams = spark.read.format(\"csv\").option(\"header\", \"true\").option(\"inferSchema\", \"true\").load(\"/mnt/olympicdata/raw-data/teams.csv\")"
   ]
  },
  {
   "cell_type": "code",
   "execution_count": 0,
   "metadata": {
    "application/vnd.databricks.v1+cell": {
     "cellMetadata": {
      "byteLimit": 2048000,
      "rowLimit": 10000
     },
     "inputWidgets": {},
     "nuid": "fb92b64e-bcc4-4e6c-986f-0e3f3d42b3c4",
     "showTitle": false,
     "tableResultSettingsMap": {},
     "title": ""
    }
   },
   "outputs": [
    {
     "output_type": "display_data",
     "data": {
      "text/html": [
       "<style scoped>\n",
       "  .table-result-container {\n",
       "    max-height: 300px;\n",
       "    overflow: auto;\n",
       "  }\n",
       "  table, th, td {\n",
       "    border: 1px solid black;\n",
       "    border-collapse: collapse;\n",
       "  }\n",
       "  th, td {\n",
       "    padding: 5px;\n",
       "  }\n",
       "  th {\n",
       "    text-align: left;\n",
       "  }\n",
       "</style><div class='table-result-container'><table class='table-result'><thead style='background-color: white'><tr><th>Rank</th><th>TeamCountry</th><th>Gold</th><th>Silver</th><th>Bronze</th><th>Total</th><th>Rank by Total</th></tr></thead><tbody><tr><td>1</td><td>United States of America</td><td>39</td><td>41</td><td>33</td><td>113</td><td>1</td></tr><tr><td>2</td><td>People's Republic of China</td><td>38</td><td>32</td><td>18</td><td>88</td><td>2</td></tr><tr><td>3</td><td>Japan</td><td>27</td><td>14</td><td>17</td><td>58</td><td>5</td></tr><tr><td>4</td><td>Great Britain</td><td>22</td><td>21</td><td>22</td><td>65</td><td>4</td></tr><tr><td>5</td><td>ROC</td><td>20</td><td>28</td><td>23</td><td>71</td><td>3</td></tr><tr><td>6</td><td>Australia</td><td>17</td><td>7</td><td>22</td><td>46</td><td>6</td></tr><tr><td>7</td><td>Netherlands</td><td>10</td><td>12</td><td>14</td><td>36</td><td>9</td></tr><tr><td>8</td><td>France</td><td>10</td><td>12</td><td>11</td><td>33</td><td>10</td></tr><tr><td>9</td><td>Germany</td><td>10</td><td>11</td><td>16</td><td>37</td><td>8</td></tr><tr><td>10</td><td>Italy</td><td>10</td><td>10</td><td>20</td><td>40</td><td>7</td></tr></tbody></table></div>"
      ]
     },
     "metadata": {
      "application/vnd.databricks.v1+output": {
       "addedWidgets": {},
       "aggData": [],
       "aggError": "",
       "aggOverflow": false,
       "aggSchema": [],
       "aggSeriesLimitReached": false,
       "aggType": "",
       "arguments": {},
       "columnCustomDisplayInfos": {},
       "data": [
        [
         1,
         "United States of America",
         39,
         41,
         33,
         113,
         1
        ],
        [
         2,
         "People's Republic of China",
         38,
         32,
         18,
         88,
         2
        ],
        [
         3,
         "Japan",
         27,
         14,
         17,
         58,
         5
        ],
        [
         4,
         "Great Britain",
         22,
         21,
         22,
         65,
         4
        ],
        [
         5,
         "ROC",
         20,
         28,
         23,
         71,
         3
        ],
        [
         6,
         "Australia",
         17,
         7,
         22,
         46,
         6
        ],
        [
         7,
         "Netherlands",
         10,
         12,
         14,
         36,
         9
        ],
        [
         8,
         "France",
         10,
         12,
         11,
         33,
         10
        ],
        [
         9,
         "Germany",
         10,
         11,
         16,
         37,
         8
        ],
        [
         10,
         "Italy",
         10,
         10,
         20,
         40,
         7
        ]
       ],
       "datasetInfos": [],
       "dbfsResultPath": null,
       "isJsonSchema": true,
       "metadata": {},
       "overflow": false,
       "plotOptions": {
        "customPlotOptions": {},
        "displayType": "table",
        "pivotAggregation": null,
        "pivotColumns": null,
        "xColumns": null,
        "yColumns": null
       },
       "removedWidgets": [],
       "schema": [
        {
         "metadata": "{}",
         "name": "Rank",
         "type": "\"integer\""
        },
        {
         "metadata": "{}",
         "name": "TeamCountry",
         "type": "\"string\""
        },
        {
         "metadata": "{}",
         "name": "Gold",
         "type": "\"integer\""
        },
        {
         "metadata": "{}",
         "name": "Silver",
         "type": "\"integer\""
        },
        {
         "metadata": "{}",
         "name": "Bronze",
         "type": "\"integer\""
        },
        {
         "metadata": "{}",
         "name": "Total",
         "type": "\"integer\""
        },
        {
         "metadata": "{}",
         "name": "Rank by Total",
         "type": "\"integer\""
        }
       ],
       "type": "table"
      }
     },
     "output_type": "display_data"
    }
   ],
   "source": [
    "medals.limit(10).display()"
   ]
  },
  {
   "cell_type": "code",
   "execution_count": 0,
   "metadata": {
    "application/vnd.databricks.v1+cell": {
     "cellMetadata": {
      "byteLimit": 2048000,
      "rowLimit": 10000
     },
     "inputWidgets": {},
     "nuid": "a1cdc1d9-e4b6-4ba0-8f70-5aa2e590fb23",
     "showTitle": false,
     "tableResultSettingsMap": {},
     "title": ""
    }
   },
   "outputs": [
    {
     "output_type": "stream",
     "name": "stdout",
     "output_type": "stream",
     "text": [
      "root\n |-- Rank: integer (nullable = true)\n |-- TeamCountry: string (nullable = true)\n |-- Gold: integer (nullable = true)\n |-- Silver: integer (nullable = true)\n |-- Bronze: integer (nullable = true)\n |-- Total: integer (nullable = true)\n |-- Rank by Total: integer (nullable = true)\n\n"
     ]
    }
   ],
   "source": [
    "medals.printSchema()"
   ]
  },
  {
   "cell_type": "code",
   "execution_count": 0,
   "metadata": {
    "application/vnd.databricks.v1+cell": {
     "cellMetadata": {
      "byteLimit": 2048000,
      "rowLimit": 10000
     },
     "inputWidgets": {},
     "nuid": "f6b94032-bdf2-4ce5-a3c0-675b3a0387f3",
     "showTitle": false,
     "tableResultSettingsMap": {},
     "title": ""
    }
   },
   "outputs": [
    {
     "output_type": "stream",
     "name": "stdout",
     "output_type": "stream",
     "text": [
      "+----+\n|Rank|\n+----+\n|  48|\n+----+\n\n"
     ]
    }
   ],
   "source": [
    "res = medals.select(\"Rank\").where(medals[\"TeamCountry\"] == \"India\")\n",
    "res.show()"
   ]
  },
  {
   "cell_type": "code",
   "execution_count": 0,
   "metadata": {
    "application/vnd.databricks.v1+cell": {
     "cellMetadata": {
      "byteLimit": 2048000,
      "rowLimit": 10000
     },
     "inputWidgets": {},
     "nuid": "f49d5126-c637-4320-82b3-060fd2c23d03",
     "showTitle": false,
     "tableResultSettingsMap": {},
     "title": ""
    }
   },
   "outputs": [
    {
     "output_type": "display_data",
     "data": {
      "text/html": [
       "<style scoped>\n",
       "  .table-result-container {\n",
       "    max-height: 300px;\n",
       "    overflow: auto;\n",
       "  }\n",
       "  table, th, td {\n",
       "    border: 1px solid black;\n",
       "    border-collapse: collapse;\n",
       "  }\n",
       "  th, td {\n",
       "    padding: 5px;\n",
       "  }\n",
       "  th {\n",
       "    text-align: left;\n",
       "  }\n",
       "</style><div class='table-result-container'><table class='table-result'><thead style='background-color: white'><tr><th>PersonName</th><th>Country</th><th>Discipline</th></tr></thead><tbody><tr><td>AALERUD Katrine</td><td>Norway</td><td>Cycling Road</td></tr><tr><td>ABAD Nestor</td><td>Spain</td><td>Artistic Gymnastics</td></tr><tr><td>ABAGNALE Giovanni</td><td>Italy</td><td>Rowing</td></tr><tr><td>ABALDE Alberto</td><td>Spain</td><td>Basketball</td></tr><tr><td>ABALDE Tamara</td><td>Spain</td><td>Basketball</td></tr><tr><td>ABALO Luc</td><td>France</td><td>Handball</td></tr><tr><td>ABAROA Cesar</td><td>Chile</td><td>Rowing</td></tr><tr><td>ABASS Abobakr</td><td>Sudan</td><td>Swimming</td></tr><tr><td>ABBASALI Hamideh</td><td>Islamic Republic of Iran</td><td>Karate</td></tr><tr><td>ABBASOV Islam</td><td>Azerbaijan</td><td>Wrestling</td></tr></tbody></table></div>"
      ]
     },
     "metadata": {
      "application/vnd.databricks.v1+output": {
       "addedWidgets": {},
       "aggData": [],
       "aggError": "",
       "aggOverflow": false,
       "aggSchema": [],
       "aggSeriesLimitReached": false,
       "aggType": "",
       "arguments": {},
       "columnCustomDisplayInfos": {},
       "data": [
        [
         "AALERUD Katrine",
         "Norway",
         "Cycling Road"
        ],
        [
         "ABAD Nestor",
         "Spain",
         "Artistic Gymnastics"
        ],
        [
         "ABAGNALE Giovanni",
         "Italy",
         "Rowing"
        ],
        [
         "ABALDE Alberto",
         "Spain",
         "Basketball"
        ],
        [
         "ABALDE Tamara",
         "Spain",
         "Basketball"
        ],
        [
         "ABALO Luc",
         "France",
         "Handball"
        ],
        [
         "ABAROA Cesar",
         "Chile",
         "Rowing"
        ],
        [
         "ABASS Abobakr",
         "Sudan",
         "Swimming"
        ],
        [
         "ABBASALI Hamideh",
         "Islamic Republic of Iran",
         "Karate"
        ],
        [
         "ABBASOV Islam",
         "Azerbaijan",
         "Wrestling"
        ]
       ],
       "datasetInfos": [],
       "dbfsResultPath": null,
       "isJsonSchema": true,
       "metadata": {},
       "overflow": false,
       "plotOptions": {
        "customPlotOptions": {},
        "displayType": "table",
        "pivotAggregation": null,
        "pivotColumns": null,
        "xColumns": null,
        "yColumns": null
       },
       "removedWidgets": [],
       "schema": [
        {
         "metadata": "{}",
         "name": "PersonName",
         "type": "\"string\""
        },
        {
         "metadata": "{}",
         "name": "Country",
         "type": "\"string\""
        },
        {
         "metadata": "{}",
         "name": "Discipline",
         "type": "\"string\""
        }
       ],
       "type": "table"
      }
     },
     "output_type": "display_data"
    }
   ],
   "source": [
    "athletes.limit(10).display()"
   ]
  },
  {
   "cell_type": "code",
   "execution_count": 0,
   "metadata": {
    "application/vnd.databricks.v1+cell": {
     "cellMetadata": {
      "byteLimit": 2048000,
      "rowLimit": 10000
     },
     "inputWidgets": {},
     "nuid": "7354def6-4c38-4644-ba6d-56942b1c83c5",
     "showTitle": false,
     "tableResultSettingsMap": {},
     "title": ""
    }
   },
   "outputs": [
    {
     "output_type": "stream",
     "name": "stdout",
     "output_type": "stream",
     "text": [
      "+--------------------+\n|             Country|\n+--------------------+\n|Islamic Republic ...|\n|            Malaysia|\n|           Singapore|\n|             Germany|\n|            Maldives|\n|               Sudan|\n|              France|\n|             Belgium|\n|               Qatar|\n|               Chile|\n|               Italy|\n|              Norway|\n|               Spain|\n|United States of ...|\n|           Indonesia|\n|          Azerbaijan|\n|        Saudi Arabia|\n|          Uzbekistan|\n|           Australia|\n|               Egypt|\n+--------------------+\nonly showing top 20 rows\n\n"
     ]
    }
   ],
   "source": [
    "athletes.select(\"Country\").distinct().show()"
   ]
  },
  {
   "cell_type": "code",
   "execution_count": 0,
   "metadata": {
    "application/vnd.databricks.v1+cell": {
     "cellMetadata": {
      "byteLimit": 2048000,
      "rowLimit": 10000
     },
     "inputWidgets": {},
     "nuid": "3baac14b-826c-4f38-88c2-bf5c09e7a15d",
     "showTitle": false,
     "tableResultSettingsMap": {},
     "title": ""
    }
   },
   "outputs": [
    {
     "output_type": "stream",
     "name": "stdout",
     "output_type": "stream",
     "text": [
      "+--------------------+------+----+-----+\n|          Discipline|Female|Male|Total|\n+--------------------+------+----+-----+\n|      3x3 Basketball|    32|  32|   64|\n|             Archery|    64|  64|  128|\n| Artistic Gymnastics|    98|  98|  196|\n|   Artistic Swimming|   105|   0|  105|\n|           Athletics|   969|1072| 2041|\n|           Badminton|    86|  87|  173|\n|   Baseball/Softball|    90| 144|  234|\n|          Basketball|   144| 144|  288|\n|    Beach Volleyball|    48|  48|   96|\n|              Boxing|   102| 187|  289|\n|        Canoe Slalom|    41|  41|   82|\n|        Canoe Sprint|   123| 126|  249|\n|Cycling BMX Frees...|    10|   9|   19|\n|  Cycling BMX Racing|    24|  24|   48|\n|Cycling Mountain ...|    38|  38|   76|\n|        Cycling Road|    70| 131|  201|\n|       Cycling Track|    90|  99|  189|\n|              Diving|    72|  71|  143|\n|          Equestrian|    73| 125|  198|\n|             Fencing|   107| 108|  215|\n+--------------------+------+----+-----+\nonly showing top 20 rows\n\n"
     ]
    }
   ],
   "source": [
    "entriesGender.show()"
   ]
  },
  {
   "cell_type": "code",
   "execution_count": 0,
   "metadata": {
    "application/vnd.databricks.v1+cell": {
     "cellMetadata": {
      "byteLimit": 2048000,
      "rowLimit": 10000
     },
     "inputWidgets": {},
     "nuid": "8d9ab2e4-4e57-4846-bade-8237c2d21789",
     "showTitle": false,
     "tableResultSettingsMap": {},
     "title": ""
    }
   },
   "outputs": [
    {
     "output_type": "stream",
     "name": "stdout",
     "output_type": "stream",
     "text": [
      "root\n |-- Discipline: string (nullable = true)\n |-- Female: string (nullable = true)\n |-- Male: string (nullable = true)\n |-- Total: string (nullable = true)\n\n"
     ]
    }
   ],
   "source": [
    "entriesGender.printSchema()"
   ]
  },
  {
   "cell_type": "markdown",
   "metadata": {
    "application/vnd.databricks.v1+cell": {
     "cellMetadata": {},
     "inputWidgets": {},
     "nuid": "fd2a92b5-8caf-48b9-bff4-9955e125570c",
     "showTitle": false,
     "tableResultSettingsMap": {},
     "title": ""
    }
   },
   "source": [
    "Changing data type"
   ]
  },
  {
   "cell_type": "code",
   "execution_count": 0,
   "metadata": {
    "application/vnd.databricks.v1+cell": {
     "cellMetadata": {
      "byteLimit": 2048000,
      "rowLimit": 10000
     },
     "inputWidgets": {},
     "nuid": "7b1ac59e-1676-4224-acdc-ca61a9774189",
     "showTitle": false,
     "tableResultSettingsMap": {},
     "title": ""
    }
   },
   "outputs": [
    {
     "output_type": "stream",
     "name": "stdout",
     "output_type": "stream",
     "text": [
      "root\n |-- Discipline: string (nullable = true)\n |-- Female: integer (nullable = true)\n |-- Male: integer (nullable = true)\n |-- Total: integer (nullable = true)\n\n"
     ]
    }
   ],
   "source": [
    "from pyspark.sql.functions import col\n",
    "from pyspark.sql.types import IntegerType\n",
    "\n",
    "entriesGender = entriesGender.withColumn(\n",
    "    \"Female\",\n",
    "    col(\"Female\").cast(IntegerType())\n",
    ").withColumn(\n",
    "    \"Male\",\n",
    "    col(\"Male\").cast(IntegerType())\n",
    ").withColumn(\n",
    "    \"Total\",\n",
    "    col(\"Total\").cast(IntegerType())\n",
    ")\n",
    "entriesGender.printSchema()"
   ]
  },
  {
   "cell_type": "markdown",
   "metadata": {
    "application/vnd.databricks.v1+cell": {
     "cellMetadata": {},
     "inputWidgets": {},
     "nuid": "5a84225a-215a-473f-825e-7cdaeaa684c9",
     "showTitle": false,
     "tableResultSettingsMap": {},
     "title": ""
    }
   },
   "source": [
    "Find the top countries with the highest number of gold medals"
   ]
  },
  {
   "cell_type": "code",
   "execution_count": 0,
   "metadata": {
    "application/vnd.databricks.v1+cell": {
     "cellMetadata": {
      "byteLimit": 2048000,
      "rowLimit": 10000
     },
     "inputWidgets": {},
     "nuid": "2bf25dbc-decb-4f94-bd82-6c3875882a70",
     "showTitle": false,
     "tableResultSettingsMap": {},
     "title": ""
    }
   },
   "outputs": [
    {
     "output_type": "stream",
     "name": "stdout",
     "output_type": "stream",
     "text": [
      "+--------------------+----+\n|         TeamCountry|Gold|\n+--------------------+----+\n|United States of ...|  39|\n|People's Republic...|  38|\n|               Japan|  27|\n|       Great Britain|  22|\n|                 ROC|  20|\n|           Australia|  17|\n|         Netherlands|  10|\n|              France|  10|\n|             Germany|  10|\n|               Italy|  10|\n|              Canada|   7|\n|              Brazil|   7|\n|         New Zealand|   7|\n|                Cuba|   7|\n|             Hungary|   6|\n|   Republic of Korea|   6|\n|              Poland|   4|\n|      Czech Republic|   4|\n|               Kenya|   4|\n|              Norway|   4|\n+--------------------+----+\nonly showing top 20 rows\n\n"
     ]
    }
   ],
   "source": [
    "from pyspark.sql.functions import desc\n",
    "\n",
    "top_countries_gold_medals = medals.select(\"TeamCountry\", \"Gold\").orderBy(desc(\"Gold\"))\n",
    "top_countries_gold_medals.show()"
   ]
  },
  {
   "cell_type": "markdown",
   "metadata": {
    "application/vnd.databricks.v1+cell": {
     "cellMetadata": {},
     "inputWidgets": {},
     "nuid": "c1f8afc0-15e4-4ed9-be61-7290e183effb",
     "showTitle": false,
     "tableResultSettingsMap": {},
     "title": ""
    }
   },
   "source": [
    "Calculate the avg number of entries by gender for each discipline "
   ]
  },
  {
   "cell_type": "code",
   "execution_count": 0,
   "metadata": {
    "application/vnd.databricks.v1+cell": {
     "cellMetadata": {
      "byteLimit": 2048000,
      "rowLimit": 10000
     },
     "inputWidgets": {},
     "nuid": "b3eefdf4-c3d0-4b8c-80a8-31d9d8bebe19",
     "showTitle": false,
     "tableResultSettingsMap": {},
     "title": ""
    }
   },
   "outputs": [
    {
     "output_type": "stream",
     "name": "stdout",
     "output_type": "stream",
     "text": [
      "+--------------------+------+----+-----+--------+----------+\n|          Discipline|Female|Male|Total|Avg_Male|Avg_Female|\n+--------------------+------+----+-----+--------+----------+\n|      3x3 Basketball|    32|  32|   64|     0.5|       0.5|\n|             Archery|    64|  64|  128|     0.5|       0.5|\n| Artistic Gymnastics|    98|  98|  196|     0.5|       0.5|\n|   Artistic Swimming|   105|   0|  105|     0.0|       1.0|\n|           Athletics|   969|1072| 2041|    0.53|      0.47|\n|           Badminton|    86|  87|  173|     0.5|       0.5|\n|   Baseball/Softball|    90| 144|  234|    0.62|      0.38|\n|          Basketball|   144| 144|  288|     0.5|       0.5|\n|    Beach Volleyball|    48|  48|   96|     0.5|       0.5|\n|              Boxing|   102| 187|  289|    0.65|      0.35|\n|        Canoe Slalom|    41|  41|   82|     0.5|       0.5|\n|        Canoe Sprint|   123| 126|  249|    0.51|      0.49|\n|Cycling BMX Frees...|    10|   9|   19|    0.47|      0.53|\n|  Cycling BMX Racing|    24|  24|   48|     0.5|       0.5|\n|Cycling Mountain ...|    38|  38|   76|     0.5|       0.5|\n|        Cycling Road|    70| 131|  201|    0.65|      0.35|\n|       Cycling Track|    90|  99|  189|    0.52|      0.48|\n|              Diving|    72|  71|  143|     0.5|       0.5|\n|          Equestrian|    73| 125|  198|    0.63|      0.37|\n|             Fencing|   107| 108|  215|     0.5|       0.5|\n+--------------------+------+----+-----+--------+----------+\nonly showing top 20 rows\n\n"
     ]
    }
   ],
   "source": [
    "from pyspark.sql.functions import avg,round,col\n",
    "entriesGender_avg = entriesGender.withColumn(\n",
    "    'Avg_Male',\n",
    "    round(col(\"Male\") / col(\"Total\"),2)\n",
    ").withColumn(\n",
    "    'Avg_Female',\n",
    "    round(col(\"Female\") / col(\"Total\"),2)\n",
    ")\n",
    "entriesGender_avg.show()"
   ]
  },
  {
   "cell_type": "markdown",
   "metadata": {
    "application/vnd.databricks.v1+cell": {
     "cellMetadata": {},
     "inputWidgets": {},
     "nuid": "ae0c1c75-c347-42c9-b4e7-91793b8642fe",
     "showTitle": false,
     "tableResultSettingsMap": {},
     "title": ""
    }
   },
   "source": [
    "Writing the transformed data back into data lake"
   ]
  },
  {
   "cell_type": "code",
   "execution_count": 0,
   "metadata": {
    "application/vnd.databricks.v1+cell": {
     "cellMetadata": {
      "byteLimit": 2048000,
      "rowLimit": 10000
     },
     "inputWidgets": {},
     "nuid": "d832203f-5857-42d6-9258-0d75cfd18ab4",
     "showTitle": false,
     "tableResultSettingsMap": {},
     "title": ""
    }
   },
   "outputs": [],
   "source": [
    "athletes.repartition(1).write.mode(\"overwrite\").option(\"header\", \"true\").csv(\"dbfs:/mnt/olympicdata/transformed-data/athletes.csv\")\n",
    "coaches.repartition(1).write.mode(\"overwrite\").option(\"header\", \"true\").csv(\"dbfs:/mnt/olympicdata/transformed-data/coaches.csv\")\n",
    "teams.repartition(1).write.mode(\"overwrite\").option(\"header\", \"true\").csv(\"dbfs:/mnt/olympicdata/transformed-data/teams.csv\")\n",
    "entriesGender_avg.repartition(1).write.mode(\"overwrite\").option(\"header\", \"true\").csv(\"dbfs:/mnt/olympicdata/transformed-data/entriesGender_avg.csv\")\n",
    "medals.repartition(1).write.mode(\"overwrite\").option(\"header\", \"true\").csv(\"dbfs:/mnt/olympicdata/transformed-data/medals.csv\")"
   ]
  }
 ],
 "metadata": {
  "application/vnd.databricks.v1+notebook": {
   "dashboards": [],
   "environmentMetadata": {
    "base_environment": "",
    "client": "1"
   },
   "language": "python",
   "notebookMetadata": {
    "mostRecentlyExecutedCommandWithImplicitDF": {
     "commandId": 2082342475572405,
     "dataframes": [
      "_sqldf"
     ]
    },
    "pythonIndentUnit": 4
   },
   "notebookName": "Tokyo Olympic Transformation",
   "widgets": {}
  },
  "language_info": {
   "name": "python"
  }
 },
 "nbformat": 4,
 "nbformat_minor": 0
}
