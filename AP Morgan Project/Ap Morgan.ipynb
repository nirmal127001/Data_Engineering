{
 "cells": [
  {
   "cell_type": "code",
   "execution_count": 0,
   "metadata": {
    "application/vnd.databricks.v1+cell": {
     "cellMetadata": {
      "byteLimit": 2048000,
      "rowLimit": 10000
     },
     "inputWidgets": {},
     "nuid": "58fbf49e-f6a3-4be2-a21f-087946ac0595",
     "showTitle": false,
     "tableResultSettingsMap": {},
     "title": ""
    }
   },
   "outputs": [
    {
     "output_type": "stream",
     "name": "stdout",
     "output_type": "stream",
     "text": [
      "Product\n"
     ]
    }
   ],
   "source": [
    "#get the file name from the adf\n",
    "fileName = dbutils.widgets.get('fileName')\n",
    "fileNameWithoutExt = fileName.split('.')[0]\n",
    "print(fileNameWithoutExt)"
   ]
  },
  {
   "cell_type": "code",
   "execution_count": 0,
   "metadata": {
    "application/vnd.databricks.v1+cell": {
     "cellMetadata": {
      "byteLimit": 2048000,
      "rowLimit": 10000
     },
     "inputWidgets": {},
     "nuid": "6259a115-ab8d-46f2-9a36-7bda72962b56",
     "showTitle": false,
     "tableResultSettingsMap": {},
     "title": ""
    }
   },
   "outputs": [],
   "source": [
    "import pyspark.sql.functions as F\n",
    "#from datetime import datetme as dt\n",
    "\n",
    "#Just change all the values here based on the resource name you have created in your environemnt and workspace.\n",
    "\n",
    "sqlDbName = 'ap-morgan-db'\n",
    "sqlTableName = 'dbo.FileDetailsFormat'\n",
    "dbUserName = 'connected'\n",
    "passwordKey = 'sql-db-pass'\n",
    "stgAccountSASTokenKey = 'sas-token-for-strg'\n",
    "landingFileName =fileName #'Product'  #dbutils.widgets.get('Product')\n",
    "databricksScopeName ='ap-morgan-scope'\n",
    "dbServer = 'connected-vehicle'\n",
    "dbServerPortNumber ='1433'\n",
    "storageContainer ='input'\n",
    "storageAccount='apmorganraw'\n",
    "landingMountPoint ='/mnt'\n"
   ]
  },
  {
   "cell_type": "code",
   "execution_count": 0,
   "metadata": {
    "application/vnd.databricks.v1+cell": {
     "cellMetadata": {
      "byteLimit": 2048000,
      "rowLimit": 10000
     },
     "inputWidgets": {},
     "nuid": "1791d71e-246d-4fb9-ab59-9283fc2a0267",
     "showTitle": false,
     "tableResultSettingsMap": {},
     "title": ""
    }
   },
   "outputs": [
    {
     "output_type": "stream",
     "name": "stdout",
     "output_type": "stream",
     "text": [
      "Storage account already mounted\n"
     ]
    }
   ],
   "source": [
    "if not any(mount.mountPoint == landingMountPoint for mount in dbutils.fs.mounts()):\n",
    "    dbutils.fs.mount( source = 'wasbs://{}@{}.blob.core.windows.net'.format(storageContainer, storageAccount), mount_point= landingMountPoint, extra_configs ={'fs.azure.sas.{}.{}.blob.core.windows.net'.format(storageContainer,storageAccount):dbutils.secrets.get(scope = databricksScopeName, key= stgAccountSASTokenKey)})\n",
    "    print('Mounted the storage account successfully')\n",
    "else:\n",
    "    print('Storage account already mounted')"
   ]
  },
  {
   "cell_type": "code",
   "execution_count": 0,
   "metadata": {
    "application/vnd.databricks.v1+cell": {
     "cellMetadata": {
      "byteLimit": 2048000,
      "rowLimit": 10000
     },
     "inputWidgets": {},
     "nuid": "18c6546c-33a0-465f-bd9e-152248c5de11",
     "showTitle": false,
     "tableResultSettingsMap": {},
     "title": ""
    }
   },
   "outputs": [
    {
     "output_type": "display_data",
     "data": {
      "text/html": [
       "<style scoped>\n",
       "  .table-result-container {\n",
       "    max-height: 300px;\n",
       "    overflow: auto;\n",
       "  }\n",
       "  table, th, td {\n",
       "    border: 1px solid black;\n",
       "    border-collapse: collapse;\n",
       "  }\n",
       "  th, td {\n",
       "    padding: 5px;\n",
       "  }\n",
       "  th {\n",
       "    text-align: left;\n",
       "  }\n",
       "</style><div class='table-result-container'><table class='table-result'><thead style='background-color: white'><tr><th>path</th><th>name</th><th>size</th><th>modificationTime</th></tr></thead><tbody><tr><td>dbfs:/mnt/landing/</td><td>landing/</td><td>0</td><td>0</td></tr><tr><td>dbfs:/mnt/rejected/</td><td>rejected/</td><td>0</td><td>0</td></tr><tr><td>dbfs:/mnt/staging/</td><td>staging/</td><td>0</td><td>0</td></tr></tbody></table></div>"
      ]
     },
     "metadata": {
      "application/vnd.databricks.v1+output": {
       "addedWidgets": {},
       "aggData": [],
       "aggError": "",
       "aggOverflow": false,
       "aggSchema": [],
       "aggSeriesLimitReached": false,
       "aggType": "",
       "arguments": {},
       "columnCustomDisplayInfos": {},
       "data": [
        [
         "dbfs:/mnt/landing/",
         "landing/",
         0,
         0
        ],
        [
         "dbfs:/mnt/rejected/",
         "rejected/",
         0,
         0
        ],
        [
         "dbfs:/mnt/staging/",
         "staging/",
         0,
         0
        ]
       ],
       "datasetInfos": [],
       "dbfsResultPath": null,
       "isJsonSchema": true,
       "metadata": {},
       "overflow": false,
       "plotOptions": {
        "customPlotOptions": {},
        "displayType": "table",
        "pivotAggregation": null,
        "pivotColumns": null,
        "xColumns": null,
        "yColumns": null
       },
       "removedWidgets": [],
       "schema": [
        {
         "metadata": "{}",
         "name": "path",
         "type": "\"string\""
        },
        {
         "metadata": "{}",
         "name": "name",
         "type": "\"string\""
        },
        {
         "metadata": "{}",
         "name": "size",
         "type": "\"long\""
        },
        {
         "metadata": "{}",
         "name": "modificationTime",
         "type": "\"long\""
        }
       ],
       "type": "table"
      }
     },
     "output_type": "display_data"
    }
   ],
   "source": [
    "mounted_files = dbutils.fs.ls(landingMountPoint)\n",
    "display(mounted_files)"
   ]
  },
  {
   "cell_type": "code",
   "execution_count": 0,
   "metadata": {
    "application/vnd.databricks.v1+cell": {
     "cellMetadata": {
      "byteLimit": 2048000,
      "rowLimit": 10000
     },
     "inputWidgets": {},
     "nuid": "be56aba3-aee9-4567-8590-49cbf7dc6eb9",
     "showTitle": false,
     "tableResultSettingsMap": {},
     "title": ""
    }
   },
   "outputs": [
    {
     "output_type": "display_data",
     "data": {
      "text/html": [
       "<style scoped>\n",
       "  .table-result-container {\n",
       "    max-height: 300px;\n",
       "    overflow: auto;\n",
       "  }\n",
       "  table, th, td {\n",
       "    border: 1px solid black;\n",
       "    border-collapse: collapse;\n",
       "  }\n",
       "  th, td {\n",
       "    padding: 5px;\n",
       "  }\n",
       "  th {\n",
       "    text-align: left;\n",
       "  }\n",
       "</style><div class='table-result-container'><table class='table-result'><thead style='background-color: white'><tr><th>FileNo</th><th>FileName</th><th>ColumnName</th><th>ColumnDateFormat</th><th>ColumnIsNull</th><th>ModifiedDate</th></tr></thead><tbody><tr><td>1</td><td>Product</td><td>StartDate</td><td>MM-dd-yyyy</td><td>true</td><td>2012-06-18T22:34:09Z</td></tr><tr><td>1</td><td>Product</td><td>EndDate</td><td>MM/dd/yyyy</td><td>true</td><td>2012-06-18T22:34:09Z</td></tr><tr><td>1</td><td>Product</td><td>CreateDate</td><td>MM/dd/yyyy</td><td>true</td><td>2012-06-18T22:34:09Z</td></tr><tr><td>1</td><td>Product</td><td>ModifiedDate</td><td>MM/dd/yyyy</td><td>true</td><td>2012-06-18T22:34:09Z</td></tr><tr><td>2</td><td>ProductDescription</td><td>ModifiedDate</td><td>MM/dd/yyyy</td><td>true</td><td>2012-06-18T22:34:09Z</td></tr><tr><td>2</td><td>ProductDescription</td><td>StartDate</td><td>MM/dd/yyyy</td><td>true</td><td>2012-06-18T22:34:09Z</td></tr><tr><td>2</td><td>ProductDescription</td><td>EndDate</td><td>MM/dd/yyyy</td><td>true</td><td>2012-06-18T22:34:09Z</td></tr><tr><td>3</td><td>CustomerDetail</td><td>CreateDate</td><td>MM/dd/yyyy</td><td>true</td><td>2012-06-18T22:34:09Z</td></tr><tr><td>3</td><td>CustomerDetail</td><td>ActiveDate</td><td>MM/dd/yyyy</td><td>true</td><td>2012-06-18T22:34:09Z</td></tr></tbody></table></div>"
      ]
     },
     "metadata": {
      "application/vnd.databricks.v1+output": {
       "addedWidgets": {},
       "aggData": [],
       "aggError": "",
       "aggOverflow": false,
       "aggSchema": [],
       "aggSeriesLimitReached": false,
       "aggType": "",
       "arguments": {},
       "columnCustomDisplayInfos": {},
       "data": [
        [
         1,
         "Product",
         "StartDate",
         "MM-dd-yyyy",
         "true",
         "2012-06-18T22:34:09Z"
        ],
        [
         1,
         "Product",
         "EndDate",
         "MM/dd/yyyy",
         "true",
         "2012-06-18T22:34:09Z"
        ],
        [
         1,
         "Product",
         "CreateDate",
         "MM/dd/yyyy",
         "true",
         "2012-06-18T22:34:09Z"
        ],
        [
         1,
         "Product",
         "ModifiedDate",
         "MM/dd/yyyy",
         "true",
         "2012-06-18T22:34:09Z"
        ],
        [
         2,
         "ProductDescription",
         "ModifiedDate",
         "MM/dd/yyyy",
         "true",
         "2012-06-18T22:34:09Z"
        ],
        [
         2,
         "ProductDescription",
         "StartDate",
         "MM/dd/yyyy",
         "true",
         "2012-06-18T22:34:09Z"
        ],
        [
         2,
         "ProductDescription",
         "EndDate",
         "MM/dd/yyyy",
         "true",
         "2012-06-18T22:34:09Z"
        ],
        [
         3,
         "CustomerDetail",
         "CreateDate",
         "MM/dd/yyyy",
         "true",
         "2012-06-18T22:34:09Z"
        ],
        [
         3,
         "CustomerDetail",
         "ActiveDate",
         "MM/dd/yyyy",
         "true",
         "2012-06-18T22:34:09Z"
        ]
       ],
       "datasetInfos": [],
       "dbfsResultPath": null,
       "isJsonSchema": true,
       "metadata": {},
       "overflow": false,
       "plotOptions": {
        "customPlotOptions": {},
        "displayType": "table",
        "pivotAggregation": null,
        "pivotColumns": [],
        "xColumns": [],
        "yColumns": []
       },
       "removedWidgets": [],
       "schema": [
        {
         "metadata": "{\"isTimestampNTZ\":false,\"signed\":true,\"scale\":0}",
         "name": "FileNo",
         "type": "\"integer\""
        },
        {
         "metadata": "{\"isTimestampNTZ\":false,\"signed\":false,\"scale\":0}",
         "name": "FileName",
         "type": "\"string\""
        },
        {
         "metadata": "{\"isTimestampNTZ\":false,\"signed\":false,\"scale\":0}",
         "name": "ColumnName",
         "type": "\"string\""
        },
        {
         "metadata": "{\"isTimestampNTZ\":false,\"signed\":false,\"scale\":0}",
         "name": "ColumnDateFormat",
         "type": "\"string\""
        },
        {
         "metadata": "{\"isTimestampNTZ\":false,\"signed\":false,\"scale\":0}",
         "name": "ColumnIsNull",
         "type": "\"string\""
        },
        {
         "metadata": "{\"isTimestampNTZ\":false,\"signed\":false,\"scale\":3}",
         "name": "ModifiedDate",
         "type": "\"timestamp\""
        }
       ],
       "type": "table"
      }
     },
     "output_type": "display_data"
    }
   ],
   "source": [
    "#connect to Azure SQL DB\n",
    "dbPassword = dbutils.secrets.get(scope = databricksScopeName, key= passwordKey)\n",
    "serverurl = 'jdbc:sqlserver://{}.database.windows.net:{};database={};user={};'.format(dbServer, dbServerPortNumber,sqlDbName,dbUserName)\n",
    "connectionProperties = {\n",
    "    'password':dbPassword,\n",
    "    'driver':'com.microsoft.sqlserver.jdbc.SQLServerDriver'\n",
    "}\n",
    "df = spark.read.jdbc(url = serverurl, table = sqlTableName, properties= connectionProperties)\n",
    "display(df)\n"
   ]
  },
  {
   "cell_type": "code",
   "execution_count": 0,
   "metadata": {
    "application/vnd.databricks.v1+cell": {
     "cellMetadata": {
      "byteLimit": 2048000,
      "rowLimit": 10000
     },
     "inputWidgets": {},
     "nuid": "fcf28e31-539c-4b85-82ae-3ec944b209e3",
     "showTitle": false,
     "tableResultSettingsMap": {},
     "title": ""
    }
   },
   "outputs": [
    {
     "output_type": "display_data",
     "data": {
      "text/html": [
       "<style scoped>\n",
       "  .table-result-container {\n",
       "    max-height: 300px;\n",
       "    overflow: auto;\n",
       "  }\n",
       "  table, th, td {\n",
       "    border: 1px solid black;\n",
       "    border-collapse: collapse;\n",
       "  }\n",
       "  th, td {\n",
       "    padding: 5px;\n",
       "  }\n",
       "  th {\n",
       "    text-align: left;\n",
       "  }\n",
       "</style><div class='table-result-container'><table class='table-result'><thead style='background-color: white'><tr><th>ProductId</th><th>Price</th><th>guid</th><th>StartDate</th><th>EndDate</th><th>CreateDate</th><th>ModifiedDate</th></tr></thead><tbody><tr><td>NO6034318860278</td><td>67 822</td><td>14A53EFA-97A9-D852-39F9-E1A366AED2E8</td><td>2021-07-27</td><td>04/22/2022</td><td>12-07-2019</td><td>06/16/2020</td></tr><tr><td>LU744388398764786734</td><td>41 965</td><td>07C6BA82-8664-4446-0D52-963BE523C5C7</td><td>2022-01-08</td><td>03/26/2022</td><td>01-01-2020</td><td>12-01-2020</td></tr><tr><td>IL622786216445251297137</td><td>79 352</td><td>A4B97E53-2B68-8271-B4C2-F598D1525D92</td><td>2021-06-21</td><td>04/13/2022</td><td>10/23/2019</td><td>09/26/2020</td></tr><tr><td>HU73530772784633198693907654</td><td>93 661</td><td>670A2B65-76A4-4B70-B13B-16240274C539</td><td>2021-07-29</td><td>04-09-2022</td><td>02/20/2020</td><td>10/19/2020</td></tr><tr><td>MT93HZCQ15847141393282243268486</td><td>51 231</td><td>A2C6ADE3-ABB1-8EC1-5414-8A895C5CA2A4</td><td>2021-01-20</td><td>03/28/2022</td><td>12/22/2019</td><td>07/20/2020</td></tr><tr><td>ES5071462808326222586356</td><td>62 696</td><td>E30FC4A9-A2A2-AAB0-58A2-C1382B647D46</td><td>2021-09-30</td><td>02/26/2022</td><td>01-03-2020</td><td>06/13/2020</td></tr><tr><td>BG44MNMM33864028879242</td><td>37 332</td><td>E762D650-18D0-3860-A67F-21F0CCE483CD</td><td>2021-04-28</td><td>06/23/2022</td><td>04-12-2020</td><td>12/15/2020</td></tr><tr><td>EE034518283401745714</td><td>85 982</td><td>E591D646-4190-4860-8974-D0CC4DE965C6</td><td>2021-04-28</td><td>12-10-2022</td><td>09/25/2019</td><td>06/29/2020</td></tr><tr><td>IS171916556906574422538815</td><td>1 040</td><td>C5BAC88D-81A3-3B45-DD0B-6C89EEF896BA</td><td>2021-04-27</td><td>12-01-2022</td><td>09-07-2019</td><td>11-06-2020</td></tr><tr><td>IE08OFCR35332787214285</td><td>82 632</td><td>70746AD7-A219-0023-87BF-66F35FC9D77C</td><td>2021-01-13</td><td>09-01-2022</td><td>09/20/2019</td><td>11-11-2020</td></tr><tr><td>IT341SMIJI45392576391648131</td><td>28 250</td><td>974C913B-9AA6-76A1-5EF1-272413C48B96</td><td>2021-08-10</td><td>02-01-2022</td><td>12/20/2019</td><td>10/28/2020</td></tr><tr><td>RS54478177128153438250</td><td>3 640</td><td>FBD26599-FC99-C1E7-D071-1C13F53E69A7</td><td>2021-10-24</td><td>12/18/2022</td><td>03/16/2020</td><td>10/19/2020</td></tr><tr><td>DE02807725915261727582</td><td>32 639</td><td>5621C4D2-7F05-34E5-72D6-0C495B399584</td><td>2021-09-29</td><td>12/24/2022</td><td>03/16/2020</td><td>08-08-2020</td></tr><tr><td>IL175142853591415592811</td><td>66 074</td><td>3597B8A7-72B6-D9E8-CAFE-27387C4F3883</td><td>2021-07-24</td><td>02/18/2022</td><td>09-11-2019</td><td>09/21/2020</td></tr><tr><td>NL65ACGW3711597491</td><td>48 032</td><td>61B7997B-3E4C-A174-6334-B34563359353</td><td>2021-09-27</td><td>04-10-2022</td><td>02/26/2020</td><td>08-01-2020</td></tr><tr><td>SK5846425637067253690242</td><td>4 307</td><td>99677182-2AE2-86AB-355C-8B2D9929C36E</td><td>2021-04-23</td><td>06/29/2022</td><td>03/25/2020</td><td>08-08-2020</td></tr><tr><td>LT757119267356708661</td><td>48 560</td><td>FC646D13-2337-4895-040B-834D4A714F9B</td><td>2021-04-28</td><td>04-02-2022</td><td>04-02-2020</td><td>09-07-2020</td></tr><tr><td>IS033575848530277787917336</td><td>35 735</td><td>56E9913A-1C13-5C4B-7CA7-B7D5B674A08E</td><td>2021-10-17</td><td>03/28/2022</td><td>04-11-2020</td><td>09-03-2020</td></tr><tr><td>IT644WWHUI41551393125617462</td><td>54 778</td><td>4DF9C1B4-365A-1BF1-18C5-20EC2CF48C6B</td><td>2022-01-24</td><td>02/15/2022</td><td>12-08-2019</td><td>07/27/2020</td></tr><tr><td>PL08196273679325447428092284</td><td>82 014</td><td>753BCB69-4A59-C1A8-147C-21CC3B99825E</td><td>2021-09-26</td><td>07-05-2022</td><td>02/28/2020</td><td>11-02-2020</td></tr><tr><td>SI43571181853141544</td><td>64 113</td><td>E0B3AD31-27BE-EA83-B80D-689D4071A06B</td><td>2021-06-26</td><td>04/29/2022</td><td>05/22/2020</td><td>06/21/2020</td></tr><tr><td>PK3214772829328054455226</td><td>22 200</td><td>6E9DD492-BCA8-1A49-0917-B762F63346C6</td><td>2021-05-03</td><td>09/28/2022</td><td>11-08-2019</td><td>08/17/2020</td></tr><tr><td>LB94498778723178182164225163</td><td>27 487</td><td>58BF58F4-38C4-D0AD-32E3-C82845746820</td><td>2021-06-16</td><td>05-08-2022</td><td>12/25/2019</td><td>12/22/2020</td></tr><tr><td>BG97VIEI29664579859946</td><td>30 588</td><td>2FAA83D4-815D-4673-AF41-D871BE1B1C2D</td><td>2021-04-06</td><td>07-08-2022</td><td>04-09-2020</td><td>12/19/2020</td></tr><tr><td>SE6486817253112581918341</td><td>6 351</td><td>879296F4-C68A-A412-8A1D-91C47BC9572A</td><td>2021-09-20</td><td>08-11-2022</td><td>11/19/2019</td><td>07-08-2020</td></tr><tr><td>GT49448457284435741435266127</td><td>10 247</td><td>6AD39750-4DA5-44E7-3CDF-6BF1B7CC4D86</td><td>2021-02-07</td><td>12/16/2022</td><td>04-10-2020</td><td>11-02-2020</td></tr><tr><td>MT61RIUY22012363021323467347744</td><td>492</td><td>824414A1-FD96-E6B2-CD9B-6AD402F15275</td><td>2021-02-02</td><td>12-11-2022</td><td>05/16/2020</td><td>07/28/2020</td></tr><tr><td>MT14LNDH29571226356823187493875</td><td>13 189</td><td>1B97E921-499E-3618-E56D-47E9F8DD9421</td><td>2021-08-24</td><td>05-10-2022</td><td>03/14/2020</td><td>10/13/2020</td></tr><tr><td>FO7955524667214606</td><td>11 169</td><td>47CED637-6A2D-821D-A5E2-CC1D5CAE88DC</td><td>2021-10-28</td><td>03-12-2022</td><td>04-02-2020</td><td>10/16/2020</td></tr><tr><td>AT625565268989564933</td><td>89 257</td><td>92D1F2C2-C1EA-7B1B-6345-E0C4FB9566BF</td><td>2021-10-07</td><td>11/25/2022</td><td>10/17/2019</td><td>12/21/2020</td></tr><tr><td>GT78804434582074816337332705</td><td>15 372</td><td>42818AAA-9FA1-2144-8EA3-68788029FAD6</td><td>2021-12-09</td><td>06-02-2022</td><td>05-10-2020</td><td>12/28/2020</td></tr><tr><td>IT669WOKHI34253286247718475</td><td>51 344</td><td>AD88BAC1-B7B1-9179-2ED9-C9C295C22D4A</td><td>2021-07-02</td><td>10/13/2022</td><td>03/27/2020</td><td>09/18/2020</td></tr><tr><td>PK3666882612559337685371</td><td>880</td><td>B32FBC38-A873-8258-8534-54CC6692D387</td><td>2021-10-04</td><td>01-08-2023</td><td>11/26/2019</td><td>11/23/2020</td></tr><tr><td>LV72PRHH4074937636728</td><td>60 045</td><td>92CDC995-7EEA-AD97-5B66-6BFBCCC47A31</td><td>2021-04-20</td><td>08/24/2022</td><td>10/21/2019</td><td>08/14/2020</td></tr><tr><td>SM4303321977826254577562642</td><td>67 505</td><td>ABBEA6CF-37D8-D7AA-187B-54D8DA580365</td><td>2021-11-10</td><td>08/25/2022</td><td>11/30/2019</td><td>12/15/2020</td></tr><tr><td>DE52521660522923344664</td><td>17 546</td><td>9E33547C-6B06-904F-ABCB-D02482E2D484</td><td>2022-01-20</td><td>08/24/2022</td><td>09/28/2019</td><td>10/15/2020</td></tr><tr><td>MT78BKKQ78376021246331271546672</td><td>16 880</td><td>B2C62105-5BD1-75FE-957D-BEF3C2C28722</td><td>2021-05-05</td><td>02/14/2022</td><td>02/25/2020</td><td>10/19/2020</td></tr><tr><td>MT70JQBS80633933822692282418107</td><td>15 936</td><td>EED4DC0E-CA93-E350-31D0-12CAC242E706</td><td>2021-12-30</td><td>05-11-2022</td><td>10/29/2019</td><td>10-05-2020</td></tr><tr><td>IE40JLDR21911021348064</td><td>44 709</td><td>AC1DDDB6-7C8A-6248-BDAA-16DDC9CD7D2C</td><td>2021-12-05</td><td>11-09-2022</td><td>03/31/2020</td><td>07/14/2020</td></tr><tr><td>AL64577823362873343132273202</td><td>31 809</td><td>A2E2436B-4B46-1E4D-1773-99B9E9AB5A16</td><td>2021-11-10</td><td>11/25/2022</td><td>04-08-2020</td><td>06-12-2020</td></tr><tr><td>LB73196767262559578871175077</td><td>85 166</td><td>2B259149-D956-BEE9-44BC-354D19649CF3</td><td>2021-10-29</td><td>10/14/2022</td><td>03/29/2020</td><td>11-01-2020</td></tr><tr><td>AT356889111603403817</td><td>4 061</td><td>57578EE2-7AD2-239A-72C1-EBD8B8A1A7BB</td><td>2021-07-10</td><td>02-07-2022</td><td>11/18/2019</td><td>08-08-2020</td></tr><tr><td>HR3441450597060489512</td><td>28 447</td><td>CBAEE3B4-0C32-1B22-6165-BD2D41E36A1B</td><td>2021-12-04</td><td>03-06-2022</td><td>03/15/2020</td><td>06-09-2020</td></tr><tr><td>MT71ERUC57161318920455745388235</td><td>82 703</td><td>78279C74-1E2A-4854-1806-79B1B88E91C1</td><td>2021-11-18</td><td>05/26/2022</td><td>05/28/2020</td><td>06-03-2020</td></tr><tr><td>TN2808458252674805383511</td><td>14 094</td><td>5774B3C6-1D96-B847-C7A2-AA9DA77ABE61</td><td>2021-04-26</td><td>09-03-2022</td><td>12-10-2019</td><td>06/25/2020</td></tr><tr><td>DE37362944392853042044</td><td>11 704</td><td>37BEA29C-E03A-CC74-DE30-E93A3C7ED5BD</td><td>2021-07-20</td><td>02/27/2022</td><td>02/28/2020</td><td>07-07-2020</td></tr><tr><td>MU5063837711277162162189113579</td><td>42 768</td><td>98B7A267-A198-7718-6219-59F366EB8848</td><td>2021-07-09</td><td>08-02-2022</td><td>11/13/2019</td><td>06/14/2020</td></tr><tr><td>DE48585423510433165972</td><td>63 523</td><td>88EBC079-941D-A272-719B-16CB40C4E356</td><td>2021-08-15</td><td>10-11-2022</td><td>03/20/2020</td><td>07/14/2020</td></tr><tr><td>SM5514884835727582311239574</td><td>24 425</td><td>9651B815-2EC8-F775-BE94-B3EA2731114A</td><td>2021-04-25</td><td>07/18/2022</td><td>11-01-2019</td><td>06-03-2020</td></tr><tr><td>IE11VGKO42140831855477</td><td>34 002</td><td>9B548965-54EE-9D5E-0D0F-C564DBB7DE89</td><td>2021-06-19</td><td>11/14/2022</td><td>02-12-2020</td><td>11/18/2020</td></tr><tr><td>RO88LUIP9845112551137017</td><td>89 542</td><td>7A793B1B-2D83-980B-9AEE-BB975E5A2222</td><td>2021-08-12</td><td>02-09-2022</td><td>09/18/2019</td><td>12/18/2020</td></tr><tr><td>MK34112244173504166</td><td>14 445</td><td>A6398D8D-58AD-1DE1-D198-E2DC2C346BF8</td><td>2022-01-11</td><td>07-01-2022</td><td>03/13/2020</td><td>11-08-2020</td></tr><tr><td>LV41OGFI9484877584583</td><td>51 625</td><td>331919B9-C2D1-5356-62D0-9ED9DBE8BA74</td><td>2021-02-08</td><td>10/21/2022</td><td>04-03-2020</td><td>10/19/2020</td></tr><tr><td>GB95CWEM86642744461613</td><td>12 904</td><td>1BAC8653-55E9-622B-0FCA-3A28CC8890AD</td><td>2021-06-23</td><td>11-02-2022</td><td>10-07-2019</td><td>09/17/2020</td></tr><tr><td>MD1829032654733836867342</td><td>76 342</td><td>52D57811-5AED-4D84-2773-7828EF2734E3</td><td>2021-04-21</td><td>01-05-2023</td><td>12/21/2019</td><td>06/15/2020</td></tr><tr><td>HU09519245817691683461745525</td><td>38 154</td><td>F4EC7D4A-DD4D-1951-124D-C0E26E3D26B4</td><td>2021-02-10</td><td>09/17/2022</td><td>12-01-2019</td><td>07/20/2020</td></tr><tr><td>NL21JFFW8543745930</td><td>49 220</td><td>7A571491-A260-FCF9-8A47-C83D9699B471</td><td>2021-09-24</td><td>04-09-2022</td><td>11-01-2019</td><td>09/18/2020</td></tr><tr><td>AD8126565632762244852966</td><td>88 538</td><td>82E692D7-678A-5B81-4E5A-86830EEC234C</td><td>2021-11-19</td><td>09-05-2022</td><td>03/14/2020</td><td>12-03-2020</td></tr><tr><td>SE0875977021969583614624</td><td>46 237</td><td>338B3628-F961-7186-C5A8-F53D48945422</td><td>2021-03-09</td><td>04/24/2022</td><td>12-04-2019</td><td>06-01-2020</td></tr><tr><td>NL69TCSB2039262641</td><td>52 468</td><td>DE54ADA0-847B-B16C-3A5D-D8486DB5A7A0</td><td>2021-07-17</td><td>05-05-2022</td><td>10/24/2019</td><td>08/25/2020</td></tr><tr><td>TN0479453684337308393445</td><td>21 243</td><td>44EADC00-9397-C963-6836-EB66B54662DE</td><td>2022-01-02</td><td>07/29/2022</td><td>05/22/2020</td><td>12/14/2020</td></tr><tr><td>TN8150827702781533319267</td><td>75 285</td><td>470FCCFC-7473-19C5-AE8B-96BD1C368E3A</td><td>2021-04-29</td><td>04/24/2022</td><td>04/26/2020</td><td>09-03-2020</td></tr><tr><td>KZ579660662772069492</td><td>39 938</td><td>00EA9C2E-98E2-E68D-589C-ED5735C2783A</td><td>2021-12-28</td><td>03/16/2022</td><td>04/21/2020</td><td>09/20/2020</td></tr><tr><td>DO34403814683172380326157683</td><td>86 200</td><td>DE123AA9-C23D-1644-1667-4C4A643E2534</td><td>2021-07-27</td><td>12/18/2022</td><td>01/25/2020</td><td>06-10-2020</td></tr><tr><td>SE8245445885255801173645</td><td>44 837</td><td>52BAEFCF-3ADE-4427-FFD0-1C47D359BEB5</td><td>2021-03-15</td><td>02/21/2022</td><td>04/22/2020</td><td>10-02-2020</td></tr><tr><td>ME41415136175498363406</td><td>71 535</td><td>83E4F76E-1B6B-3D2B-1B3B-A96667E2171C</td><td>2021-12-12</td><td>10/23/2022</td><td>01-07-2020</td><td>08/28/2020</td></tr><tr><td>DK8523953269633681</td><td>59 313</td><td>91D5FB0C-7833-9952-35C1-5BDD43A24BB4</td><td>2021-02-10</td><td>04/22/2022</td><td>11-05-2019</td><td>11-07-2020</td></tr><tr><td>FO8387960168039117</td><td>67 417</td><td>AEEF9B28-8698-261B-FED3-0562455E7DEF</td><td>2021-05-23</td><td>07/23/2022</td><td>02-06-2020</td><td>12/16/2020</td></tr><tr><td>SK8352965782751475131236</td><td>21 430</td><td>C60BD765-B1E4-2D20-9AA1-A467D6482349</td><td>2022-01-21</td><td>11/13/2022</td><td>11-01-2019</td><td>10/23/2020</td></tr><tr><td>DO69834474822357438766414462</td><td>42 772</td><td>FAFDFB9C-6C18-C470-21B8-187E866D9C2B</td><td>2021-09-21</td><td>06-10-2022</td><td>02/23/2020</td><td>11/29/2020</td></tr><tr><td>IS897516234726610761174743</td><td>18 037</td><td>7AB526A6-F0D1-F8AD-2E3D-9F1A7FF347BA</td><td>2021-09-29</td><td>07/30/2022</td><td>03-07-2020</td><td>12-08-2020</td></tr><tr><td>BA434737211562791726</td><td>51 771</td><td>C9BEE4C2-AE7D-D122-72DD-07B3694C01ED</td><td>2021-12-06</td><td>12-10-2022</td><td>01/17/2020</td><td>08-03-2020</td></tr><tr><td>BH65800484301604752336</td><td>61 139</td><td>2DF6AEA3-579D-2BAE-5915-687A1276E808</td><td>2021-10-23</td><td>02-06-2022</td><td>01/23/2020</td><td>12-12-2020</td></tr><tr><td>SE9150577535534770902479</td><td>15 956</td><td>8B98CDF8-A16A-9597-8456-4BAC123C2CD5</td><td>2022-01-21</td><td>04/30/2022</td><td>05-04-2020</td><td>07/31/2020</td></tr><tr><td>AE681579382303452723486</td><td>70 839</td><td>041CB83C-7A3F-8ECE-A873-B27A975EF44C</td><td>2021-09-08</td><td>03/31/2022</td><td>10-11-2019</td><td>09/17/2020</td></tr><tr><td>DE45845321941626512332</td><td>90 445</td><td>BD114AA5-4AFE-F7A6-4646-C4E07A936DA8</td><td>2021-06-10</td><td>08/19/2022</td><td>05-12-2020</td><td>07-02-2020</td></tr><tr><td>GL7687023172002511</td><td>36 973</td><td>4D7660FE-4AC2-F5DD-047F-16E1A1EE042D</td><td>2021-07-20</td><td>09-07-2022</td><td>01-12-2020</td><td>08-04-2020</td></tr><tr><td>GB51UGEM86562495151276</td><td>74 546</td><td>D62F4639-DFB3-9399-2DF1-48E93ED1B1A6</td><td>2021-08-28</td><td>05/13/2022</td><td>11/25/2019</td><td>06-03-2020</td></tr><tr><td>LT955666888836136068</td><td>61 074</td><td>A91B7122-62EC-9138-C757-A164D1424A21</td><td>2021-03-11</td><td>03/21/2022</td><td>09/14/2019</td><td>11/29/2020</td></tr><tr><td>ES4230282375653667499863</td><td>51 647</td><td>61A83F59-5204-236C-595A-F443EA30D38E</td><td>2021-06-21</td><td>09-02-2022</td><td>04-04-2020</td><td>07/24/2020</td></tr><tr><td>AD6786344533791461537186</td><td>87 069</td><td>B9AC1D19-79A6-12A2-9A05-125A29EE558E</td><td>2021-03-15</td><td>12/24/2022</td><td>12-06-2019</td><td>12-09-2020</td></tr><tr><td>DK2750415616232861</td><td>51 684</td><td>D7C34202-4F2C-8271-9F67-4E949FD3B834</td><td>2021-08-08</td><td>02-03-2022</td><td>12/24/2019</td><td>12-01-2020</td></tr><tr><td>AL87678477183485327783437378</td><td>90 462</td><td>B96F28A9-0BB9-E6EA-4CDA-9877E2A67CD9</td><td>2021-12-17</td><td>03-08-2022</td><td>09-04-2019</td><td>09-04-2020</td></tr><tr><td>FO9648267544257652</td><td>54 224</td><td>0D4819AB-CC7F-3417-33CB-531C9F688434</td><td>2021-11-01</td><td>03/17/2022</td><td>11-05-2019</td><td>12-10-2020</td></tr><tr><td>MR8767838625411527107538723</td><td>15 700</td><td>FB2F3D9F-EE4F-1E25-6255-728C7C4DA47B</td><td>2021-04-25</td><td>03/27/2022</td><td>02/24/2020</td><td>08/27/2020</td></tr><tr><td>RS55427141940171313450</td><td>89 656</td><td>2D7E7685-8A19-B8AA-4B03-08AAAE3451C5</td><td>2021-05-04</td><td>02/28/2022</td><td>11/26/2019</td><td>06/26/2020</td></tr><tr><td>AZ82573164113831798517236355</td><td>822</td><td>498AA844-210B-58D8-D6BF-38204EF84E33</td><td>2021-07-14</td><td>10-08-2022</td><td>11/16/2019</td><td>10/23/2020</td></tr><tr><td>VG3922762831147386813370</td><td>49 109</td><td>6E1A3178-8057-0EAA-08FD-CE248E375719</td><td>2021-11-02</td><td>02/24/2022</td><td>02/15/2020</td><td>07-11-2020</td></tr><tr><td>PT41153759747136659828383</td><td>72 540</td><td>1526E2E2-131B-2A6E-8436-1990ADDCC4EB</td><td>2021-05-23</td><td>04/16/2022</td><td>01-06-2020</td><td>06-10-2020</td></tr><tr><td>AE342689374553739455375</td><td>21 005</td><td>47F6BD1C-265B-A585-5A72-242B433C78A9</td><td>2021-07-06</td><td>07/20/2022</td><td>02/15/2020</td><td>12/18/2020</td></tr><tr><td>SM6282776411551533524628578</td><td>79 661</td><td>7373A829-3634-E717-65AE-A90224864596</td><td>2021-06-04</td><td>03/19/2022</td><td>10-05-2019</td><td>11/21/2020</td></tr><tr><td>CH4948301274446716731</td><td>84 909</td><td>57C24510-1D1E-5785-1ABE-16DF19C26670</td><td>2021-06-23</td><td>11-01-2022</td><td>12/31/2019</td><td>06/15/2020</td></tr><tr><td>AZ25561352152376284050657528</td><td>52 059</td><td>404CA2A2-DE14-7161-8D8E-D1B8C5211EAA</td><td>2021-09-05</td><td>03/23/2022</td><td>10-09-2019</td><td>08/13/2020</td></tr><tr><td>RO04OWUP2283045418813373</td><td>3 041</td><td>7BEA3875-CD92-5C2B-3A78-49E9D7DDC318</td><td>2021-01-24</td><td>11/30/2022</td><td>04/19/2020</td><td>07-12-2020</td></tr><tr><td>MU1937715446528481925334683111</td><td>78 526</td><td>39D2D6B7-4E83-651A-7674-52C9778CBD3D</td><td>2021-01-26</td><td>04/20/2022</td><td>10/14/2019</td><td>10/27/2020</td></tr><tr><td>IT156ABMKI28354085260709419</td><td>14 140</td><td>06583AC8-77CC-41DE-9E68-485F4908D066</td><td>2021-03-04</td><td>03/20/2022</td><td>03-08-2020</td><td>11/27/2020</td></tr><tr><td>BE19177241231769</td><td>53 899</td><td>2C52C63F-9021-D3C8-D074-C448A915537D</td><td>2021-03-31</td><td>11-08-2022</td><td>12/29/2019</td><td>12-10-2020</td></tr><tr><td>PT73818416242750553774027</td><td>49 677</td><td>8132ADBB-6DA1-78C6-B05B-EA318B17B3BE</td><td>2021-09-23</td><td>02/16/2022</td><td>05/23/2020</td><td>08/15/2020</td></tr><tr><td>BG48EFEF22415003143552</td><td>42 336</td><td>47A91C4A-CE66-6912-B611-AA691354115B</td><td>2021-03-12</td><td>03/21/2022</td><td>02/22/2020</td><td>11-01-2020</td></tr><tr><td>FO3747749468288757</td><td>75 001</td><td>F734C6FB-4288-CA10-8C98-08E40451E6D9</td><td>2021-02-21</td><td>06/24/2022</td><td>11/18/2019</td><td>06/30/2020</td></tr><tr><td>LU697176763385554358</td><td>25 220</td><td>4628E514-E5EA-BCE7-77B7-6055648D12ED</td><td>2021-05-29</td><td>10/26/2022</td><td>10/29/2019</td><td>09/24/2020</td></tr><tr><td>CR6987112527098239805</td><td>12 059</td><td>396A3A85-4AD3-5974-C5A9-D2617CD8BAFA</td><td>2022-01-31</td><td>08-01-2022</td><td>12/25/2019</td><td>11/30/2020</td></tr><tr><td>CZ1278347741263471252553</td><td>64 913</td><td>62758B96-FD8B-A769-57BE-8C26C76F9498</td><td>2021-06-08</td><td>01-03-2023</td><td>09-05-2019</td><td>10-11-2020</td></tr><tr><td>BG15YQKO69347283786361</td><td>88 086</td><td>6DC4A64A-13D8-F98C-8EE3-C914443E345C</td><td>2021-02-08</td><td>04-09-2022</td><td>12/28/2019</td><td>10/14/2020</td></tr><tr><td>MD6852383867320847188312</td><td>38 229</td><td>5473C117-2A55-5823-9354-37A3024DABBC</td><td>2021-04-15</td><td>09-04-2022</td><td>10/28/2019</td><td>10-01-2020</td></tr><tr><td>LV54JKHM1668671646888</td><td>59 991</td><td>54A9341D-FBD6-DDDA-9BAE-537B9E69EC80</td><td>2021-10-31</td><td>03/31/2022</td><td>03-08-2020</td><td>11/13/2020</td></tr><tr><td>FR1916566882334581071882806</td><td>35 166</td><td>EAA06628-BF91-763A-2F39-B6F918833AE3</td><td>2021-10-12</td><td>09-02-2022</td><td>04/26/2020</td><td>07/19/2020</td></tr><tr><td>AT557582877840436274</td><td>47 286</td><td>689E02AC-E549-41CC-8998-DC291B155597</td><td>2021-06-23</td><td>06/30/2022</td><td>10-01-2019</td><td>12/16/2020</td></tr><tr><td>CZ7993439700623364517543</td><td>93 558</td><td>B16C496C-DB80-C4AA-9B55-E6532458885F</td><td>2021-11-26</td><td>05-06-2022</td><td>03-02-2020</td><td>11-07-2020</td></tr><tr><td>ES1925793550183168354579</td><td>21 594</td><td>5A27BD3A-70B5-1E3E-3897-DD167833669D</td><td>2022-01-02</td><td>03-12-2022</td><td>11/21/2019</td><td>07/21/2020</td></tr><tr><td>GB97RMHJ82833561429825</td><td>83 160</td><td>26D53233-F0E9-5934-2E7C-536CA59BA604</td><td>2021-10-24</td><td>09/25/2022</td><td>03/22/2020</td><td>07/16/2020</td></tr><tr><td>VG8266587794246838655783</td><td>83 430</td><td>7ED751B2-C18C-F2DA-7B9A-A5BA55254843</td><td>2021-12-21</td><td>07/14/2022</td><td>03/27/2020</td><td>07/21/2020</td></tr><tr><td>ME61321216169424783451</td><td>32 011</td><td>D244C1E4-254C-2AB3-CD56-052FC6EA3576</td><td>2021-08-12</td><td>11-12-2022</td><td>09/16/2019</td><td>06/25/2020</td></tr><tr><td>PK6029411967519907657762</td><td>81 773</td><td>A8724833-E491-00FE-D9A7-39512A2E91A5</td><td>2022-01-12</td><td>12-09-2022</td><td>03-04-2020</td><td>11/25/2020</td></tr><tr><td>KW3058626867389056449514701615</td><td>34 233</td><td>B451E32B-637B-FAC1-357D-96A55F1D5173</td><td>2021-04-09</td><td>07/19/2022</td><td>02/25/2020</td><td>11-06-2020</td></tr><tr><td>GE88767006682746465961</td><td>12 642</td><td>93D66EDC-B36C-B03C-A514-341CBFE4AE19</td><td>2021-10-07</td><td>11/14/2022</td><td>01-03-2020</td><td>11/28/2020</td></tr><tr><td>LI0224604270151888285</td><td>88 758</td><td>2EA5323D-BDC3-2019-D6C7-EF73D9E6E426</td><td>2021-06-08</td><td>09-07-2022</td><td>02-08-2020</td><td>07/28/2020</td></tr><tr><td>DK4528782055516248</td><td>26 395</td><td>89A4E53C-45D3-7ED7-86AD-089398D106DE</td><td>2021-08-24</td><td>05/19/2022</td><td>01/15/2020</td><td>06-08-2020</td></tr><tr><td>SE0641182487356164121153</td><td>31 833</td><td>A895A513-3DB1-719D-B835-D0192C2EFDFC</td><td>2021-09-23</td><td>06/24/2022</td><td>04-11-2020</td><td>08/24/2020</td></tr><tr><td>ES6018918658233360625615</td><td>21 915</td><td>B571DF61-3703-76AA-1484-6B65E2584424</td><td>2021-09-28</td><td>12/23/2022</td><td>11-07-2019</td><td>10/28/2020</td></tr><tr><td>CZ0307982478848224068010</td><td>55 825</td><td>94BA6C94-7245-D24B-0219-B62F2CA522DC</td><td>2021-03-29</td><td>12/17/2022</td><td>12/18/2019</td><td>07-01-2020</td></tr><tr><td>SK9867312624663537153102</td><td>57 111</td><td>9308AFF8-10C2-E6AB-8B52-3BECD7C305B9</td><td>2021-10-10</td><td>10-06-2022</td><td>12/31/2019</td><td>10/30/2020</td></tr><tr><td>TN8783450569055588618340</td><td>3 837</td><td>C2487D94-A6B9-6833-21F9-AD73091F542D</td><td>2021-06-22</td><td>01-06-2023</td><td>05-11-2020</td><td>12/24/2020</td></tr><tr><td>RO93BMVY7627737811431397</td><td>38 665</td><td>9C63E116-D3D9-8A80-3671-C6AC34FCA427</td><td>2022-01-03</td><td>03-07-2022</td><td>12-09-2019</td><td>10/24/2020</td></tr><tr><td>SE0461383742809370677856</td><td>32 572</td><td>8DCF294B-3D4E-AEB4-D2D9-3A0D18AC5802</td><td>2021-05-22</td><td>04/23/2022</td><td>02-04-2020</td><td>09/23/2020</td></tr><tr><td>GE84467077804567623526</td><td>42 539</td><td>C417372D-5276-31EC-F272-98B6C17E3C57</td><td>2021-10-03</td><td>12/16/2022</td><td>03/20/2020</td><td>10/25/2020</td></tr><tr><td>GR2136934834066412965135673</td><td>47 813</td><td>238DA505-17DA-C32E-C907-66AA76272716</td><td>2021-08-07</td><td>02-07-2022</td><td>04-06-2020</td><td>06-09-2020</td></tr><tr><td>IE26UOEH71216257221628</td><td>12 041</td><td>E761C1A2-B011-09C1-C77B-C48C3C81D296</td><td>2021-12-14</td><td>07/31/2022</td><td>12/26/2019</td><td>11/24/2020</td></tr><tr><td>IE73YLWH41473285231241</td><td>33 650</td><td>A7EA6B64-0229-530B-E93E-D16F36C67242</td><td>2021-07-22</td><td>01-11-2023</td><td>11-09-2019</td><td>10/22/2020</td></tr><tr><td>IE56XSMO64071816820351</td><td>99 089</td><td>5925A319-540D-5378-DDA2-426721AD76A1</td><td>2021-08-04</td><td>06/30/2022</td><td>12/27/2019</td><td>09-09-2020</td></tr><tr><td>GE75807681635026591266</td><td>14 556</td><td>D2CDD04C-59E6-FC27-2633-CB5C309185A7</td><td>2021-03-06</td><td>09-07-2022</td><td>12-02-2019</td><td>09-12-2020</td></tr><tr><td>TR341763443553582865326645</td><td>14 359</td><td>AC89B84D-5398-2FEE-9B3D-43A9234D73F8</td><td>2021-07-19</td><td>10-04-2022</td><td>09-12-2019</td><td>10/19/2020</td></tr><tr><td>CZ8343949528942123053152</td><td>16 606</td><td>4BE5A450-96AE-4D93-E249-BA5A8EC3293C</td><td>2021-01-14</td><td>03/22/2022</td><td>10-07-2019</td><td>11/27/2020</td></tr><tr><td>BG22GWKK84201137574320</td><td>88 400</td><td>149AA3FE-CA8F-1B35-BC47-CC3523C2E1C2</td><td>2021-12-01</td><td>11-11-2022</td><td>12-06-2019</td><td>06/22/2020</td></tr><tr><td>TR290510119578367297815474</td><td>33 239</td><td>99527AD4-4797-6246-0D88-78C52E0F1447</td><td>2021-03-05</td><td>06-10-2022</td><td>04/23/2020</td><td>09/14/2020</td></tr><tr><td>BH13782243877334875185</td><td>7 062</td><td>55B772C6-3D1A-F5BB-7E62-305681E8E655</td><td>2021-05-09</td><td>05/15/2022</td><td>10-10-2019</td><td>11/22/2020</td></tr><tr><td>BG29BUCM66538596737446</td><td>94 180</td><td>D231D6AB-1877-979E-4DAD-7F108A93AF5E</td><td>2021-11-24</td><td>04-04-2022</td><td>01/19/2020</td><td>07/19/2020</td></tr><tr><td>AT588322123532332486</td><td>18 424</td><td>F1858D1B-842E-1BAA-137D-B1FDB7837D33</td><td>2021-12-08</td><td>08/27/2022</td><td>11-09-2019</td><td>08-10-2020</td></tr><tr><td>AZ66251839955608433806129535</td><td>42 860</td><td>8D387C28-9C78-2E65-93E6-7296AF9E5B13</td><td>2022-01-21</td><td>08-02-2022</td><td>05/16/2020</td><td>10/31/2020</td></tr><tr><td>DE35320072298618375113</td><td>97 180</td><td>4CE3F435-3A34-06B1-8B37-ACA52B85B9AA</td><td>2021-12-05</td><td>09-05-2022</td><td>01/15/2020</td><td>10/18/2020</td></tr><tr><td>AD9637955327556276294218</td><td>62 932</td><td>24B285B4-8C93-47C5-27CC-913223EA2575</td><td>2022-01-03</td><td>07-02-2022</td><td>11/21/2019</td><td>08/24/2020</td></tr><tr><td>EE874617766473853388</td><td>58 661</td><td>E313A241-6C86-5DF1-FB66-2F51944DDE32</td><td>2021-09-30</td><td>02/21/2022</td><td>11-03-2019</td><td>06/28/2020</td></tr><tr><td>IS159810930468868364458187</td><td>23 192</td><td>8C8B841C-6685-FE5C-25AC-2645787B10A7</td><td>2021-01-16</td><td>03/22/2022</td><td>04-06-2020</td><td>10-09-2020</td></tr><tr><td>BA526313748897123346</td><td>57 386</td><td>5B1258AC-58D4-77DE-45B4-6DC9399682B3</td><td>2021-08-03</td><td>10/23/2022</td><td>09-03-2019</td><td>06-12-2020</td></tr><tr><td>EE764537114478243784</td><td>84 886</td><td>453A5BA1-BD24-2E64-6BC0-3008557B1C8C</td><td>2021-07-15</td><td>11/16/2022</td><td>11-04-2019</td><td>10/17/2020</td></tr><tr><td>NO4048673176524</td><td>54 504</td><td>31B103A8-1DD2-CE65-C828-6D3548F5B9F5</td><td>2021-05-19</td><td>12/23/2022</td><td>02-07-2020</td><td>12/17/2020</td></tr><tr><td>BA897112482666633257</td><td>11 921</td><td>E7DE6C54-1E6B-942A-0A29-B17D15188A80</td><td>2021-05-18</td><td>03-03-2022</td><td>04-06-2020</td><td>10/22/2020</td></tr><tr><td>BG19NXHM02515986744660</td><td>37 396</td><td>3544E309-3552-E60A-DA77-981AA388D209</td><td>2021-02-28</td><td>06/27/2022</td><td>10/22/2019</td><td>10/13/2020</td></tr><tr><td>GT21779318422629898038716416</td><td>17 570</td><td>B9B4AF1D-0BF9-5A93-6CF1-69DE3839957B</td><td>2021-08-18</td><td>10/24/2022</td><td>05-02-2020</td><td>06/14/2020</td></tr><tr><td>GB34HKKL33376821153677</td><td>19 598</td><td>C8A7CAA7-797C-0699-B716-2273437E6857</td><td>2021-10-31</td><td>07-03-2022</td><td>12-07-2019</td><td>09/27/2020</td></tr><tr><td>CH9221654271125692577</td><td>77 430</td><td>D493E428-A426-3ED1-A9DD-6FB7654F11E7</td><td>2021-05-16</td><td>02/24/2022</td><td>12/14/2019</td><td>11/17/2020</td></tr><tr><td>IS321866011672774381236549</td><td>74 440</td><td>18368144-3BFA-54E5-222C-B1E46625BDA1</td><td>2021-07-26</td><td>11-07-2022</td><td>10/13/2019</td><td>07/26/2020</td></tr><tr><td>KZ988273575233825206</td><td>82 536</td><td>4AA349A5-2593-B8E6-98BC-1589A852C085</td><td>2021-08-13</td><td>06/30/2022</td><td>04-07-2020</td><td>07-12-2020</td></tr><tr><td>SA6496699884908860442834</td><td>48 248</td><td>DB41D349-9EA8-4719-261C-16A8A35C47C8</td><td>2021-03-10</td><td>08-10-2022</td><td>11-11-2019</td><td>08/13/2020</td></tr><tr><td>GE48235267846083620264</td><td>35 058</td><td>62CC3342-4F78-05D4-3BB3-5A7A38AFE11E</td><td>2021-03-30</td><td>11/16/2022</td><td>10-08-2019</td><td>10-08-2020</td></tr><tr><td>GE89665341318324825298</td><td>12 828</td><td>72A5E7C2-9419-C81D-1BCA-AC2D7748560E</td><td>2021-11-18</td><td>08-12-2022</td><td>03-02-2020</td><td>06/29/2020</td></tr><tr><td>NL66HWBW6364263668</td><td>54 544</td><td>1B83A4EB-E8C2-361D-B785-B4E6EC2EEDB3</td><td>2021-04-09</td><td>12/18/2022</td><td>05/26/2020</td><td>10/13/2020</td></tr><tr><td>MK66426527465951116</td><td>5 981</td><td>D628AD69-58D6-D5D9-67FB-F7D7E1D964B3</td><td>2021-09-02</td><td>07/21/2022</td><td>12/28/2019</td><td>06/15/2020</td></tr><tr><td>MR7950712811581581745486595</td><td>37 077</td><td>A12A6537-5FA1-335C-96BB-3B4DA97D5D76</td><td>2022-01-06</td><td>12-11-2022</td><td>05-05-2020</td><td>11/18/2020</td></tr><tr><td>IE83ATJF34856957128186</td><td>57 170</td><td>E3198E1C-FC6E-26DC-2D23-AA3D6681573E</td><td>2021-03-18</td><td>12/28/2022</td><td>03-02-2020</td><td>11/19/2020</td></tr><tr><td>SE5654251051436262422164</td><td>69 736</td><td>8A6C16F6-878D-C295-955E-D8544322A79F</td><td>2021-12-16</td><td>06/13/2022</td><td>03-02-2020</td><td>06/15/2020</td></tr><tr><td>ME88272122366268840152</td><td>19 186</td><td>A5A0D843-8CB4-3D65-E6BF-5E01B399F8FE</td><td>2021-09-15</td><td>05/23/2022</td><td>12/22/2019</td><td>10-10-2020</td></tr><tr><td>ES0364579174832632115827</td><td>29 042</td><td>AEF8A4BC-CD31-24D1-AAA7-922DC5E3F309</td><td>2021-07-15</td><td>10/21/2022</td><td>12-11-2019</td><td>10-12-2020</td></tr><tr><td>MR8381484864212937129544451</td><td>61 553</td><td>D4341EB8-67E3-46C7-B7EC-9A3EDB897C52</td><td>2021-12-30</td><td>09/19/2022</td><td>05/31/2020</td><td>07-02-2020</td></tr><tr><td>AD9212023053558507136524</td><td>34 473</td><td>D2424A88-F410-4DB8-019E-46B2DEAFCAE8</td><td>2021-02-05</td><td>03/29/2022</td><td>04-02-2020</td><td>09/15/2020</td></tr><tr><td>IL255552131824470369856</td><td>64 232</td><td>363BD91B-4EFE-241E-2938-93A3C91BE864</td><td>2021-05-01</td><td>03/15/2022</td><td>09-06-2019</td><td>10-02-2020</td></tr><tr><td>GT52328722222878296118575268</td><td>6 226</td><td>70136A13-7B2E-B1D7-8258-8BEA6177B45B</td><td>2021-12-25</td><td>11/24/2022</td><td>03-01-2020</td><td>08/18/2020</td></tr><tr><td>BH41723605473384668310</td><td>1 261</td><td>C5D3ED6C-D6B4-D577-9E41-1B8791B7B9CC</td><td>2021-04-22</td><td>09-11-2022</td><td>03/18/2020</td><td>06/17/2020</td></tr><tr><td>BH65767428394662599118</td><td>34 349</td><td>BB431AB0-1448-83C9-7C69-1AEB973BFC6D</td><td>2021-06-04</td><td>06-09-2022</td><td>02/20/2020</td><td>07-10-2020</td></tr><tr><td>PL02877264425111438817368476</td><td>86 545</td><td>6765CF83-E8C8-5B97-7EE5-F6A8200AD975</td><td>2021-09-28</td><td>03/15/2022</td><td>11-11-2019</td><td>08-06-2020</td></tr><tr><td>AL16078157761611407354448584</td><td>72 951</td><td>A33281B8-1BC6-2EFD-8CBB-738CD21BEC76</td><td>2021-04-05</td><td>09/30/2022</td><td>11/19/2019</td><td>07/18/2020</td></tr><tr><td>NO3142925166109</td><td>24 834</td><td>2CAB5911-3943-80A2-3E8E-2E7329224922</td><td>2021-03-23</td><td>10/26/2022</td><td>09/23/2019</td><td>10-11-2020</td></tr><tr><td>BE72000769201819</td><td>27 880</td><td>A94C68D3-986B-41A3-71E6-CDF7C9B8B08A</td><td>2021-02-22</td><td>06/17/2022</td><td>01/18/2020</td><td>06-12-2020</td></tr><tr><td>PT55422481420602120710121</td><td>45 637</td><td>316D892C-ECC6-EC29-9BE8-1128F610B6DC</td><td>2021-10-23</td><td>05/27/2022</td><td>11-11-2019</td><td>12/16/2020</td></tr><tr><td>MT53LOSP75196944842636567355652</td><td>97 149</td><td>8D62185A-B524-1E28-E5DC-8CD36B982484</td><td>2021-02-05</td><td>11/29/2022</td><td>11-10-2019</td><td>11-04-2020</td></tr><tr><td>FI9552465474732520</td><td>19 952</td><td>C24B9928-5411-7330-EA28-D920C4E64619</td><td>2021-05-16</td><td>06/15/2022</td><td>11/16/2019</td><td>09/13/2020</td></tr><tr><td>FO0336528822663362</td><td>75 622</td><td>40C9D63E-C63A-267D-E483-51DDE418C0B7</td><td>2021-06-10</td><td>09/18/2022</td><td>10/29/2019</td><td>07/15/2020</td></tr><tr><td>LB42893766282184766541657864</td><td>55 033</td><td>59817ADA-7B75-A0D2-7C5F-7FCD28AD668D</td><td>2021-10-09</td><td>08/21/2022</td><td>12/21/2019</td><td>08-12-2020</td></tr><tr><td>MU2628768146307463237850787617</td><td>61 501</td><td>322B4841-D4BB-ED76-774C-9A7E7494D6BD</td><td>2021-10-19</td><td>03/16/2022</td><td>04/16/2020</td><td>10/31/2020</td></tr><tr><td>SK5466575188523685024062</td><td>64 884</td><td>A0AC8270-6825-58EA-2CD5-C96B374DD1A0</td><td>2021-03-25</td><td>08/13/2022</td><td>11/15/2019</td><td>11/26/2020</td></tr><tr><td>HU29851807770613755054746121</td><td>40 133</td><td>9B333925-5A58-372A-6BAE-84D8934C2EBC</td><td>2021-06-09</td><td>06/18/2022</td><td>01-09-2020</td><td>08/22/2020</td></tr><tr><td>GB67OTME10970330433834</td><td>94 734</td><td>80E41A7F-340B-75D9-ACDD-54E5C69EC7EB</td><td>2022-01-21</td><td>05/24/2022</td><td>04-06-2020</td><td>12/21/2020</td></tr><tr><td>IE11YLTB81923578116955</td><td>7 875</td><td>DB371B72-0AE8-2C40-BBD7-738C380C7777</td><td>2021-08-01</td><td>01-10-2023</td><td>10/14/2019</td><td>10/16/2020</td></tr><tr><td>DK0880872885465758</td><td>61 890</td><td>38A39EBD-CA91-7877-5E29-74559556DE5D</td><td>2021-01-29</td><td>10/24/2022</td><td>03-11-2020</td><td>06/25/2020</td></tr><tr><td>PL95156262335434418535769515</td><td>5 383</td><td>B8AC5398-69A9-DFD0-D37C-0822A082755C</td><td>2021-12-12</td><td>02/22/2022</td><td>12/24/2019</td><td>11/16/2020</td></tr><tr><td>SM5093683693732878697846883</td><td>72 010</td><td>763F96E2-3AC1-B8AB-2CD2-53B15590E769</td><td>2021-11-18</td><td>09/29/2022</td><td>02/23/2020</td><td>06-02-2020</td></tr><tr><td>NL91EECD2240675347</td><td>91 893</td><td>7D456973-79C0-AE8D-492C-062B97D62F1D</td><td>2021-04-13</td><td>09/15/2022</td><td>12-04-2019</td><td>10-05-2020</td></tr><tr><td>PK9553328964279441733652</td><td>83 142</td><td>C9C5CDB5-A5D4-F5B3-E1D4-992A4BC2A7B7</td><td>2021-07-30</td><td>11/15/2022</td><td>12/30/2019</td><td>06/22/2020</td></tr><tr><td>FO7248612792417653</td><td>80 708</td><td>5AE84BFE-A511-14E3-33E1-96AC52A74625</td><td>2021-05-28</td><td>11-01-2022</td><td>01/17/2020</td><td>12/27/2020</td></tr><tr><td>EE556183767146513732</td><td>69 791</td><td>1FF6E84A-7B63-2E80-5901-2AC275E79ADD</td><td>2021-12-01</td><td>06/25/2022</td><td>12-04-2019</td><td>09-10-2020</td></tr><tr><td>CZ2676772366810411225426</td><td>73 903</td><td>45CA239D-7C51-8B33-B648-EAD4BDF78511</td><td>2021-02-21</td><td>09/25/2022</td><td>09/16/2019</td><td>10-01-2020</td></tr><tr><td>NL68VAEB4105982104</td><td>72 305</td><td>6E92A8D3-12BC-A8BE-C7B6-3107AD987BCC</td><td>2021-07-13</td><td>04-12-2022</td><td>03/19/2020</td><td>07/16/2020</td></tr><tr><td>DO65658788692128894777028948</td><td>21 910</td><td>843A4A25-FA7F-631C-2DDA-CDCDBC72EBFA</td><td>2021-03-30</td><td>09-08-2022</td><td>05/16/2020</td><td>08/17/2020</td></tr><tr><td>HR8501187638108162712</td><td>67 761</td><td>13ECF55E-7B22-B5D3-13E1-0EDB8922747D</td><td>2021-05-04</td><td>06-12-2022</td><td>11/24/2019</td><td>10/28/2020</td></tr><tr><td>AD7154815531173884539225</td><td>81 426</td><td>5DEA4829-E1B3-E60A-C85F-22337FEE3C69</td><td>2021-01-17</td><td>09/28/2022</td><td>10/27/2019</td><td>11/13/2020</td></tr><tr><td>IL623130873328511961237</td><td>71 398</td><td>2CA5931C-15EC-B96F-FBBC-97E9C42B1226</td><td>2021-03-03</td><td>06/16/2022</td><td>11/24/2019</td><td>10-01-2020</td></tr><tr><td>RO53WSGQ8184333704332132</td><td>94 423</td><td>FDC5FD96-FF81-A7B8-6123-F694C86AD692</td><td>2021-03-05</td><td>08-09-2022</td><td>04-05-2020</td><td>06/30/2020</td></tr><tr><td>PT27545561456900435477955</td><td>11 083</td><td>9672183E-EB3C-6ABC-1DA4-D8CD0A23DE3C</td><td>2021-08-15</td><td>12-01-2022</td><td>02/14/2020</td><td>12/25/2020</td></tr><tr><td>FR2053282318821024549553369</td><td>24 068</td><td>64733687-3294-E31E-AE75-19578D9F7948</td><td>2021-09-13</td><td>08/30/2022</td><td>12-08-2019</td><td>08/19/2020</td></tr><tr><td>GT17033481474142429522471393</td><td>67 579</td><td>EB664914-8196-9D94-9BC7-E51CAC499124</td><td>2021-02-22</td><td>09/24/2022</td><td>03/24/2020</td><td>10-05-2020</td></tr><tr><td>AT347276405182597025</td><td>10 685</td><td>8F144C8C-B339-514C-1C91-12CDA93ECEB4</td><td>2021-07-04</td><td>10-11-2022</td><td>10-03-2019</td><td>10/24/2020</td></tr><tr><td>HU57571355741345088518166156</td><td>62 503</td><td>13B85F57-FDCA-2BE0-A1D3-16916FF52C59</td><td>2021-11-08</td><td>12/18/2022</td><td>12/26/2019</td><td>10/27/2020</td></tr><tr><td>AD8245016076003706705731</td><td>97 595</td><td>24AA2E80-EC64-CAAC-5DA2-6AB1B123B7A6</td><td>2021-09-24</td><td>04-02-2022</td><td>05/13/2020</td><td>11/22/2020</td></tr><tr><td>NL69XXLI6586064410</td><td>35 543</td><td>91453859-789A-5F9A-34A3-821774F98A9D</td><td>2021-04-30</td><td>08/14/2022</td><td>09/27/2019</td><td>10/25/2020</td></tr><tr><td>PT33518257401120247352318</td><td>57 643</td><td>893D1EBA-EA90-90BC-5F87-B9B067D1CB73</td><td>2021-09-06</td><td>10-05-2022</td><td>05/23/2020</td><td>07/31/2020</td></tr><tr><td>BH49743774694586250864</td><td>19 877</td><td>BC8E639C-3C15-28FE-E327-99FB3E75692E</td><td>2021-02-16</td><td>08-07-2022</td><td>10-08-2019</td><td>09/26/2020</td></tr><tr><td>HR2783652214254110236</td><td>28 283</td><td>5AA7381F-6625-ED71-FD8F-4E98C2A556E5</td><td>2022-01-15</td><td>07-04-2022</td><td>09/20/2019</td><td>07/29/2020</td></tr><tr><td>GL4925087076196051</td><td>35 278</td><td>2D5E1388-C77E-84B9-7D87-6EB3BA886E3E</td><td>2021-01-30</td><td>01-05-2023</td><td>02-03-2020</td><td>08/22/2020</td></tr><tr><td>ES0347784660397731568031</td><td>70 319</td><td>C94B8BE1-9CD1-388C-52B2-7EF5E58E82DB</td><td>2021-06-03</td><td>11/23/2022</td><td>11-04-2019</td><td>07-10-2020</td></tr><tr><td>MT02GCER13126655116414426092882</td><td>92 472</td><td>2927BCCD-AF44-DED1-A2F3-85342913E85A</td><td>2021-05-23</td><td>09/16/2022</td><td>10/31/2019</td><td>07-12-2020</td></tr><tr><td>GE12544148026249234678</td><td>56 709</td><td>9BD4DCAC-4CEE-8D3B-F8D8-1AEDEE23AACF</td><td>2021-12-30</td><td>04-09-2022</td><td>03/18/2020</td><td>10-11-2020</td></tr><tr><td>DE04417623966623558656</td><td>70 802</td><td>347563AB-03C4-AA83-C581-5D13378695DF</td><td>2021-05-10</td><td>02/25/2022</td><td>03/29/2020</td><td>06-09-2020</td></tr><tr><td>FO2856325312562013</td><td>6 924</td><td>13E24213-843B-D7B9-C32C-3D153B238491</td><td>2021-10-13</td><td>03-08-2022</td><td>04-03-2020</td><td>08-03-2020</td></tr><tr><td>BH76611761367965352040</td><td>13 198</td><td>09E4175E-A393-D38A-5ABB-510C958D6338</td><td>2022-01-18</td><td>01-08-2023</td><td>04/23/2020</td><td>10-11-2020</td></tr><tr><td>BG20QHPN25377745936446</td><td>58 526</td><td>C6897A9E-F470-41E2-7555-E57CE14D2BE7</td><td>2021-10-28</td><td>01-07-2023</td><td>03-11-2020</td><td>09/29/2020</td></tr><tr><td>BG09PWTH10721734760679</td><td>60 318</td><td>FCBCEDAB-E23E-84CA-B374-49D3030E2E86</td><td>2022-01-21</td><td>03/13/2022</td><td>03/24/2020</td><td>07/25/2020</td></tr><tr><td>IS216288946276343915419252</td><td>19 300</td><td>0D3267C8-FDD6-E3CC-D55D-E9C15AA2F6B1</td><td>2021-02-27</td><td>11-03-2022</td><td>03/24/2020</td><td>10-12-2020</td></tr><tr><td>GE69783486778687362312</td><td>16 234</td><td>A2541614-B485-548F-2D14-3696EE18D45B</td><td>2021-01-12</td><td>05/21/2022</td><td>09/27/2019</td><td>10/17/2020</td></tr><tr><td>MU0254729769638756466764260453</td><td>602</td><td>86C0D82B-6653-38DA-218D-C01CB2C88F79</td><td>2021-07-27</td><td>12-04-2022</td><td>01-12-2020</td><td>08-05-2020</td></tr><tr><td>LB60507129115152525416244480</td><td>45 619</td><td>0E1CEA32-2D53-32C8-C6E1-86E6DCBB5342</td><td>2021-10-12</td><td>03/15/2022</td><td>10-01-2019</td><td>07/31/2020</td></tr><tr><td>IE40LOIB54481940823577</td><td>55 563</td><td>B5D5B5AB-34B9-DFD8-1775-EB45DCD51CD9</td><td>2021-06-20</td><td>05-11-2022</td><td>02/26/2020</td><td>12/22/2020</td></tr><tr><td>AT629653016251863454</td><td>64 780</td><td>484267BD-CE73-C226-AADD-975C8F501A5E</td><td>2021-09-28</td><td>05-09-2022</td><td>02/19/2020</td><td>10-08-2020</td></tr><tr><td>BA633354145346903027</td><td>83 032</td><td>D3C61C36-14D7-6437-E6B4-AC6504D277A2</td><td>2021-11-26</td><td>06/24/2022</td><td>04-10-2020</td><td>07/21/2020</td></tr><tr><td>AT057564139376445721</td><td>77 830</td><td>114199E2-9F29-7D31-88A8-378D514B9309</td><td>2021-02-05</td><td>09/29/2022</td><td>02/21/2020</td><td>07/31/2020</td></tr><tr><td>DO85571417380551932131283731</td><td>46 273</td><td>3C80748B-C559-87D4-7CE4-D9EF3171BE29</td><td>2021-05-28</td><td>08-04-2022</td><td>11-08-2019</td><td>08/23/2020</td></tr><tr><td>AZ73273146808755562156426851</td><td>52 265</td><td>94E26B2D-CCC9-46D2-1CAD-C0C1F6CD8A32</td><td>2021-05-14</td><td>07/19/2022</td><td>04-06-2020</td><td>12/15/2020</td></tr><tr><td>MT56LGMO83112548818265333487582</td><td>29 300</td><td>1B4D75C3-35ED-B497-B194-C7613DCF6A12</td><td>2021-01-27</td><td>07-03-2022</td><td>03-08-2020</td><td>09-06-2020</td></tr><tr><td>AD4411011369379791348876</td><td>22 530</td><td>7A9E9DF8-1749-E6A0-77BD-5B44E8E6B271</td><td>2021-12-02</td><td>12/14/2022</td><td>05/21/2020</td><td>08-08-2020</td></tr><tr><td>GB42TTBD05887853812672</td><td>69 900</td><td>416818B7-DB13-10E3-E8AB-8E418B48A4DC</td><td>2021-06-06</td><td>02/13/2022</td><td>02/13/2020</td><td>10/14/2020</td></tr><tr><td>VG5315466554017284947316</td><td>76 000</td><td>941A3BE5-C955-6D0E-C327-9665896F7433</td><td>2021-07-15</td><td>05/18/2022</td><td>03/28/2020</td><td>06/24/2020</td></tr><tr><td>LI2075535114849227711</td><td>23 860</td><td>47C32158-2C22-E4B8-E1E8-120BE445B131</td><td>2021-11-23</td><td>04-11-2022</td><td>04-09-2020</td><td>12-03-2020</td></tr><tr><td>RO34VNWN2401671825983153</td><td>90 690</td><td>398D171A-1397-82D7-FB00-D45A4680CB51</td><td>2021-06-03</td><td>06/15/2022</td><td>01/23/2020</td><td>08/18/2020</td></tr><tr><td>HU30491421425567594628188243</td><td>36 050</td><td>9BE66B2A-1937-4670-2937-11D18CA81BEA</td><td>2021-07-03</td><td>06-09-2022</td><td>12/23/2019</td><td>10/23/2020</td></tr><tr><td>TR877177024777165398634790</td><td>65 531</td><td>1D43241C-8155-632E-DC2D-978648D876D5</td><td>2021-07-28</td><td>04/30/2022</td><td>04-12-2020</td><td>06-03-2020</td></tr><tr><td>FI1788637156764447</td><td>44 184</td><td>38E3D8BC-2E12-67E3-5938-E2D7E31D5E6B</td><td>2021-08-02</td><td>10/24/2022</td><td>02/24/2020</td><td>07/17/2020</td></tr><tr><td>BE46867785862338</td><td>6 367</td><td>84DC6D7D-1DD9-25EB-E2B1-9EBA61A76257</td><td>2021-11-22</td><td>06-08-2022</td><td>02/22/2020</td><td>10/25/2020</td></tr><tr><td>PL06754684654084443134815511</td><td>14 649</td><td>1BCA15C6-C973-7B9D-0F73-8EF4A5FE703A</td><td>2021-03-05</td><td>11/18/2022</td><td>10-04-2019</td><td>12-01-2020</td></tr><tr><td>GB35GLFR31960136813623</td><td>20 090</td><td>F9056437-0FAD-DA39-CB09-BD6ADEBE9445</td><td>2021-07-10</td><td>10/20/2022</td><td>04-06-2020</td><td>10-06-2020</td></tr><tr><td>PL71706787435832193595081707</td><td>23 919</td><td>42953C1B-0981-630D-9C31-5A7B45D398E5</td><td>2021-03-11</td><td>12-11-2022</td><td>03/22/2020</td><td>09-03-2020</td></tr><tr><td>GR6721337809511412239865153</td><td>88 756</td><td>018A1BCD-5616-960D-BCCC-3ED1C2596EC7</td><td>2022-01-23</td><td>10/14/2022</td><td>01/18/2020</td><td>11-11-2020</td></tr><tr><td>PK6455924157351745634668</td><td>1 089</td><td>8B94EBB3-287D-D9E4-A3A5-0EC30CAC5A19</td><td>2021-10-03</td><td>10/21/2022</td><td>11/27/2019</td><td>06/13/2020</td></tr><tr><td>AL80104694324693118456821269</td><td>41 910</td><td>6E48D163-3D3B-D1CF-E453-2677FA0EA740</td><td>2021-08-23</td><td>05-03-2022</td><td>09-10-2019</td><td>09-01-2020</td></tr><tr><td>IT151WGMUI50433843468123027</td><td>34 769</td><td>30F7D381-55C7-B272-B184-466B6C7C6E99</td><td>2021-07-29</td><td>12/31/2022</td><td>04/30/2020</td><td>10-06-2020</td></tr><tr><td>DK1522128239846211</td><td>39 658</td><td>FC36BB35-ED38-9C63-44DD-0C0D35993B91</td><td>2021-06-28</td><td>02/19/2022</td><td>02-03-2020</td><td>10-03-2020</td></tr><tr><td>HU26033112151132306185204215</td><td>50 379</td><td>92371D99-9DAD-34B6-8EE3-2E925CCBB67E</td><td>2021-02-17</td><td>08/16/2022</td><td>11-10-2019</td><td>07-06-2020</td></tr><tr><td>AZ62533768882662822555843471</td><td>82 990</td><td>16545702-196B-72F9-63DB-DC3E69986C29</td><td>2021-11-04</td><td>12/30/2022</td><td>05-01-2020</td><td>08/13/2020</td></tr><tr><td>IL396561629738747814470</td><td>89 919</td><td>FE83C392-73D4-94D6-47CD-EE16B66DDDEC</td><td>2021-04-28</td><td>10/20/2022</td><td>12-04-2019</td><td>08-09-2020</td></tr><tr><td>SA2547639542432315176653</td><td>45 214</td><td>87192F32-63BC-B74E-22A1-1C2ACDC2AEBB</td><td>2021-09-11</td><td>10-02-2022</td><td>09/19/2019</td><td>12/14/2020</td></tr><tr><td>MK62142122421489332</td><td>36 742</td><td>1B2147DB-9EB5-A9F6-24BC-784C90F1BC10</td><td>2021-08-25</td><td>01-05-2023</td><td>12-03-2019</td><td>08-01-2020</td></tr><tr><td>GE10602753444773874028</td><td>15 263</td><td>8E74A195-FB25-A687-A5B0-4A354B9B2C73</td><td>2021-08-21</td><td>08/15/2022</td><td>03/31/2020</td><td>10-01-2020</td></tr><tr><td>HR5320951526554265767</td><td>34 393</td><td>7255CE15-5D22-2565-F363-241AEA693678</td><td>2021-03-25</td><td>06/21/2022</td><td>03/13/2020</td><td>12/20/2020</td></tr><tr><td>RO85BFCD1815204246265292</td><td>62 213</td><td>F34A8DC5-6F9F-78F4-3AC5-3CCEACE2618F</td><td>2021-06-06</td><td>05/17/2022</td><td>09/24/2019</td><td>06/20/2020</td></tr><tr><td>EE977568245153872759</td><td>35 492</td><td>715CDED4-C9A5-B974-6635-DCF999DED81F</td><td>2021-02-02</td><td>08/14/2022</td><td>02/19/2020</td><td>08-05-2020</td></tr><tr><td>TN0556060349362287552525</td><td>95 862</td><td>1EAAA282-9EC3-625D-A1DF-4F232A6FAE55</td><td>2021-09-08</td><td>06-07-2022</td><td>05-04-2020</td><td>12/13/2020</td></tr><tr><td>CH9511956128974788822</td><td>36 681</td><td>78512148-7962-0631-123B-75732C776A8F</td><td>2021-06-15</td><td>10/28/2022</td><td>09/24/2019</td><td>06-08-2020</td></tr><tr><td>DO73121688207374978857631036</td><td>61 254</td><td>45B1D839-AE57-A2ED-2650-5EE55B3262B4</td><td>2021-03-15</td><td>05-01-2022</td><td>02-08-2020</td><td>08/19/2020</td></tr><tr><td>CR9366325162025701307</td><td>17 310</td><td>6A9E7DC1-85B6-C451-86C3-C6AB0D8F4633</td><td>2021-12-03</td><td>01-12-2023</td><td>09/23/2019</td><td>11/16/2020</td></tr><tr><td>PS865525266277676990144737479</td><td>31 033</td><td>E84D2846-4E32-DAD5-9E5D-5D79A5D3DB66</td><td>2021-07-23</td><td>08/17/2022</td><td>02-02-2020</td><td>08/24/2020</td></tr><tr><td>CH2937358416577392576</td><td>91 828</td><td>B0B57B3F-A3A4-C5D4-978D-1E59D2269896</td><td>2021-12-04</td><td>07-03-2022</td><td>11/29/2019</td><td>12/13/2020</td></tr><tr><td>BA479516374256640202</td><td>37 754</td><td>6C1ACD34-9E93-51B1-E163-5EB7667BA1A5</td><td>2021-11-25</td><td>11-06-2022</td><td>10-09-2019</td><td>10/30/2020</td></tr><tr><td>CY92257386944844476731542186</td><td>22 256</td><td>C213D92E-9135-ABA9-E894-27E5BEC84DCE</td><td>2021-06-16</td><td>04-08-2022</td><td>01/19/2020</td><td>11/16/2020</td></tr><tr><td>FR4322677187616618077548735</td><td>55 382</td><td>8FE4834C-13A1-46B8-1AA6-C268C35571F1</td><td>2021-04-05</td><td>05/24/2022</td><td>09/28/2019</td><td>10/30/2020</td></tr><tr><td>RS88670277480516281270</td><td>39 926</td><td>6231756B-1E1A-E4D1-3B38-79E9847BB134</td><td>2021-05-12</td><td>03/15/2022</td><td>12-05-2019</td><td>07-10-2020</td></tr><tr><td>NL58YAFU2032774509</td><td>90 888</td><td>74794C9B-B856-16A1-5C67-D886417D617F</td><td>2021-02-02</td><td>02/14/2022</td><td>10-12-2019</td><td>10/18/2020</td></tr><tr><td>GR7677438473687153827966759</td><td>81 395</td><td>3D3444A9-E864-EB9B-36B1-D2743D75C1D3</td><td>2021-01-30</td><td>09/15/2022</td><td>10/30/2019</td><td>11-02-2020</td></tr><tr><td>VG6806654517112801615976</td><td>4 694</td><td>B35C7EF6-C598-7E1A-E947-C14C4C87C04C</td><td>2021-03-09</td><td>12/29/2022</td><td>11/25/2019</td><td>09-12-2020</td></tr><tr><td>AT925201661121497413</td><td>41 856</td><td>FB6BA81D-95C7-7B3D-34D6-C997AD1D6ACF</td><td>2021-03-08</td><td>02-12-2022</td><td>12-02-2019</td><td>10-10-2020</td></tr><tr><td>SI65128495226675891</td><td>27 466</td><td>A7C84C21-2B4E-1EA2-D856-02256DC5BA37</td><td>2021-02-18</td><td>08/26/2022</td><td>05/19/2020</td><td>07/17/2020</td></tr><tr><td>SI56348532633721773</td><td>8 128</td><td>DADE211E-6045-61B4-6615-B65D27C64842</td><td>2021-04-04</td><td>08-03-2022</td><td>12/31/2019</td><td>09/27/2020</td></tr><tr><td>CY06026798521871430158317372</td><td>35 221</td><td>A49AFDD8-9218-CAA2-1A89-FF0AA5B1836C</td><td>2021-06-10</td><td>03/27/2022</td><td>03-06-2020</td><td>08/26/2020</td></tr><tr><td>NO3945741323121</td><td>47 083</td><td>B53A2E59-5DE2-BDD7-74B9-CF2D4D9EA3D3</td><td>2021-02-03</td><td>09/30/2022</td><td>09-09-2019</td><td>11/23/2020</td></tr><tr><td>AD2927114762714285781415</td><td>27 162</td><td>6A35B82B-FEDB-E0A2-3DC8-F178E05B7089</td><td>2021-07-12</td><td>09/23/2022</td><td>12/26/2019</td><td>11-10-2020</td></tr><tr><td>IS216324771525735381688625</td><td>18 306</td><td>50E47924-7D0A-416A-EC06-F212A8E73C92</td><td>2021-11-15</td><td>11/16/2022</td><td>02/17/2020</td><td>11/27/2020</td></tr><tr><td>FO8812789736666762</td><td>95 981</td><td>78AC911B-5491-71E2-9B9C-6ED1BDDE9140</td><td>2021-12-27</td><td>02-05-2022</td><td>11-12-2019</td><td>09/16/2020</td></tr><tr><td>BG07QVOB60284879738859</td><td>6 266</td><td>8FC51CF7-5911-7395-A46D-C65311DCB031</td><td>2021-04-08</td><td>07/17/2022</td><td>05/30/2020</td><td>06-07-2020</td></tr><tr><td>IL174678009342153752232</td><td>31 181</td><td>079D32CF-1F89-818A-1FA4-2A1E343FBA74</td><td>2022-01-09</td><td>12-08-2022</td><td>12/16/2019</td><td>09/16/2020</td></tr><tr><td>IE28MOIF28388644453394</td><td>6 439</td><td>5B87A2C3-73BB-8114-CC48-9678A79ED492</td><td>2021-10-28</td><td>02-08-2022</td><td>11/14/2019</td><td>10/20/2020</td></tr><tr><td>TR730816268883418141269779</td><td>95 122</td><td>BCB1D6D6-B9AA-58A9-CC49-2A1528D9EEA7</td><td>2021-01-28</td><td>03/29/2022</td><td>05/21/2020</td><td>11-02-2020</td></tr><tr><td>SE1031656601694099873814</td><td>55 289</td><td>B952F9D9-7682-C052-E9B4-FC07E9E11114</td><td>2021-08-19</td><td>07-11-2022</td><td>12/28/2019</td><td>12-10-2020</td></tr><tr><td>AT947404684351884635</td><td>29 936</td><td>7D12E9B2-EB71-DCA1-34A2-7D25B1521DD9</td><td>2021-10-09</td><td>11/14/2022</td><td>04/30/2020</td><td>06/25/2020</td></tr><tr><td>LU765723414478934415</td><td>81 638</td><td>13358984-4208-BBE2-5AA3-AEACB461D50C</td><td>2021-05-27</td><td>10/18/2022</td><td>12-06-2019</td><td>10-02-2020</td></tr><tr><td>MU5638888364093729787557706382</td><td>20 171</td><td>491A0A73-DE6E-EE4C-6C88-7074E8AB70C5</td><td>2021-08-21</td><td>03-07-2022</td><td>09/30/2019</td><td>06/15/2020</td></tr><tr><td>AZ51626304662030714174169381</td><td>95 446</td><td>4BC85D63-91E1-C707-34B7-6A4A4D465459</td><td>2021-11-14</td><td>06-10-2022</td><td>03/30/2020</td><td>08/18/2020</td></tr><tr><td>MK76643615943236167</td><td>45 286</td><td>8EBDCE28-C9A4-34A1-8395-15D76D43161F</td><td>2021-10-09</td><td>05/19/2022</td><td>02/14/2020</td><td>09/15/2020</td></tr><tr><td>BE95435239985461</td><td>40 505</td><td>B734678E-EA59-CA27-A5EF-9955E141AA75</td><td>2021-03-07</td><td>05-03-2022</td><td>01-01-2020</td><td>06/15/2020</td></tr><tr><td>HU75624858298947082828227295</td><td>69 575</td><td>BD83AE11-EDB5-1A63-6AD5-D2B202CC713A</td><td>2021-08-04</td><td>06/15/2022</td><td>05/13/2020</td><td>09-07-2020</td></tr><tr><td>IS801776105464336676355926</td><td>17 969</td><td>4FC2787F-E5C0-4B36-9578-1E535095B326</td><td>2021-08-24</td><td>02/24/2022</td><td>02/18/2020</td><td>08/25/2020</td></tr><tr><td>KW1142674182338183429667242396</td><td>52 808</td><td>F316ADA5-3EE9-F973-5BF6-CD5090BC4E78</td><td>2021-12-03</td><td>07-05-2022</td><td>10/30/2019</td><td>08/18/2020</td></tr><tr><td>IL091130768264751138427</td><td>19 583</td><td>CAE84D1B-6554-7807-17E9-B1E9E4A8E87C</td><td>2021-09-10</td><td>01-10-2023</td><td>05-12-2020</td><td>10/26/2020</td></tr><tr><td>IL035128878333915353266</td><td>80 637</td><td>B8D1353A-47A4-BE3A-A7A9-7FEEB71B1BC9</td><td>2022-01-01</td><td>01-05-2023</td><td>05-06-2020</td><td>08/28/2020</td></tr><tr><td>ES5548639513029446825352</td><td>39 338</td><td>B3908C0E-4E52-0C90-C5A6-1A2202354D17</td><td>2021-05-30</td><td>05/21/2022</td><td>03/14/2020</td><td>11-07-2020</td></tr><tr><td>PK7961823606334531385635</td><td>29 484</td><td>E9CB37EB-D63C-1984-E528-EAB455DBB419</td><td>2021-02-01</td><td>02/25/2022</td><td>09-09-2019</td><td>10/13/2020</td></tr><tr><td>NO6587534229523</td><td>72 187</td><td>2D8E59D6-BCA6-09F7-0B28-07D23C195E89</td><td>2021-01-15</td><td>05-01-2022</td><td>04/17/2020</td><td>06/22/2020</td></tr><tr><td>BG13AJYB34179381451775</td><td>2 086</td><td>D9739B3C-099F-1C28-6F16-51CD6B7D1F0D</td><td>2021-12-31</td><td>10-07-2022</td><td>03/27/2020</td><td>08/21/2020</td></tr><tr><td>AZ30189768867751335472315276</td><td>94 342</td><td>6E3F0E17-7F43-E49A-E556-4C49AE6A8178</td><td>2021-11-27</td><td>06/17/2022</td><td>10-06-2019</td><td>08-10-2020</td></tr><tr><td>MU6125945034143789275831558458</td><td>85 309</td><td>5875CCA7-6BE4-9A22-354E-2E5C9C51D748</td><td>2021-10-25</td><td>09-11-2022</td><td>11-10-2019</td><td>08-04-2020</td></tr><tr><td>TR778812275305297538272332</td><td>98 422</td><td>9CE05E39-37A9-48E1-E5B3-86C494B88794</td><td>2021-06-17</td><td>02/25/2022</td><td>09-10-2019</td><td>11/27/2020</td></tr><tr><td>DE87789105420481274440</td><td>28 738</td><td>E18D7877-E2BE-C9A5-44BF-D5E565CEA012</td><td>2021-09-30</td><td>11-06-2022</td><td>10/22/2019</td><td>11/19/2020</td></tr><tr><td>EE262694245666655552</td><td>9 163</td><td>B40DEF80-B31A-B896-4812-377F3211F170</td><td>2022-01-26</td><td>08/31/2022</td><td>05-06-2020</td><td>08/22/2020</td></tr><tr><td>SM4889852493317518989648132</td><td>60 978</td><td>75E877A2-7EEA-9299-5F17-13D46A63D63E</td><td>2021-04-21</td><td>05-03-2022</td><td>12/15/2019</td><td>07-11-2020</td></tr><tr><td>NL64SHAM1556188727</td><td>8 435</td><td>7DBE1249-C413-E41B-F192-D54340FD26E3</td><td>2021-04-16</td><td>04-08-2022</td><td>10/29/2019</td><td>07-05-2020</td></tr><tr><td>GI66PWPI235153764110859</td><td>8 924</td><td>B456398B-827C-5687-CA6C-40B93E27EAFC</td><td>2021-11-11</td><td>08/26/2022</td><td>12/28/2019</td><td>12/17/2020</td></tr><tr><td>GE43167312579381643148</td><td>98 240</td><td>A665CCE8-E197-7239-8076-B1233C460B4D</td><td>2021-09-05</td><td>09/20/2022</td><td>02/26/2020</td><td>12/21/2020</td></tr><tr><td>BA213833558087974828</td><td>43 377</td><td>16A64E1E-5A36-68B1-3CDB-4BC8C6890356</td><td>2021-05-15</td><td>12/20/2022</td><td>09/14/2019</td><td>10/16/2020</td></tr><tr><td>PS720484576554637728262712276</td><td>73 930</td><td>17A8DF9B-A320-55AF-6B84-BDD7F4157C5D</td><td>2021-02-11</td><td>06-06-2022</td><td>12-10-2019</td><td>08/15/2020</td></tr><tr><td>MD3840860634683168781773</td><td>28 330</td><td>E2D7ECCC-896A-7738-06E2-9D2CE2B6C5B8</td><td>2021-03-17</td><td>06/14/2022</td><td>11/21/2019</td><td>08-12-2020</td></tr><tr><td>HR8420117266978696181</td><td>50 214</td><td>79BDD514-E451-2A20-85E2-523E946DFC9C</td><td>2021-11-12</td><td>12-07-2022</td><td>09-04-2019</td><td>08/31/2020</td></tr><tr><td>FR5582134863749986624332622</td><td>58 320</td><td>22E1723B-D612-2B38-C3C3-4E479483700D</td><td>2021-06-05</td><td>03/18/2022</td><td>10-12-2019</td><td>06-07-2020</td></tr><tr><td>IT926YHXDI56799152852716547</td><td>18 918</td><td>426A8209-D887-DD67-64E7-BD794F937691</td><td>2021-10-10</td><td>11-03-2022</td><td>01/20/2020</td><td>12-01-2020</td></tr><tr><td>ME49514278628578343263</td><td>28 795</td><td>37E873D1-529A-DC16-CDCB-6CAE38E76A2C</td><td>2021-03-24</td><td>06-09-2022</td><td>11/25/2019</td><td>07/31/2020</td></tr><tr><td>IT306UQGGI37568161342688741</td><td>26 357</td><td>8957BFD4-42D5-1EB9-1EA1-15ED43810C2C</td><td>2021-08-04</td><td>11/17/2022</td><td>01/14/2020</td><td>10-05-2020</td></tr><tr><td>AD8543281326441581187629</td><td>1 470</td><td>7CC5A119-DEE1-04AB-D488-0DF3A3137D03</td><td>2021-03-04</td><td>02/22/2022</td><td>05/27/2020</td><td>12-06-2020</td></tr><tr><td>LV70NCYV4474524752284</td><td>39 562</td><td>D6E5633E-7BE1-2167-FC46-D649766DBCCA</td><td>2021-04-19</td><td>02/19/2022</td><td>12/22/2019</td><td>12/21/2020</td></tr><tr><td>TN7768013965562394517510</td><td>23 822</td><td>10484789-F7E8-6B78-8912-E666C5AA1EA8</td><td>2021-03-16</td><td>02/28/2022</td><td>02/24/2020</td><td>06-10-2020</td></tr><tr><td>CY63212782778132804025516216</td><td>15 732</td><td>4C18CE62-91D7-3CB1-CB23-2B816D8CE902</td><td>2022-01-26</td><td>06/21/2022</td><td>12/19/2019</td><td>07-08-2020</td></tr><tr><td>RS53165513481386916228</td><td>57 530</td><td>CDE23A53-3DB6-567E-95D2-E8C507E39767</td><td>2021-08-01</td><td>02-02-2022</td><td>04/22/2020</td><td>11-06-2020</td></tr><tr><td>VG2625576807832702123143</td><td>82 245</td><td>D286FB6B-9D75-DE9E-7DFA-FD9D112A9A31</td><td>2021-08-27</td><td>02-12-2022</td><td>02-10-2020</td><td>08/28/2020</td></tr><tr><td>MK43011805349242825</td><td>37 938</td><td>3A968D17-C7AA-4B27-2D11-60BD57D68197</td><td>2021-05-05</td><td>10-05-2022</td><td>01/13/2020</td><td>10-06-2020</td></tr><tr><td>RO75XBBY6254840642682624</td><td>15 535</td><td>0879FED7-2A12-16D4-FB98-80E7ABBE98A0</td><td>2021-07-10</td><td>07/22/2022</td><td>09/19/2019</td><td>10/26/2020</td></tr><tr><td>MR6277550362171450277958153</td><td>38 752</td><td>F1DC78C2-DBBD-5DC4-76DB-3B53832ED8AC</td><td>2021-12-28</td><td>03-01-2022</td><td>09/29/2019</td><td>10-06-2020</td></tr><tr><td>ES1421366425432375314928</td><td>89 882</td><td>1BC9611E-EE46-24BE-96EB-A8579F92C351</td><td>2022-01-01</td><td>05/30/2022</td><td>10/21/2019</td><td>10-12-2020</td></tr><tr><td>FR7711045142705667408061217</td><td>54 224</td><td>8EACE002-4F39-F310-EDFB-9834C3887996</td><td>2021-10-29</td><td>05/31/2022</td><td>02/13/2020</td><td>06/24/2020</td></tr><tr><td>RO78GLBT6214940511268776</td><td>6 021</td><td>17EB007F-ECB0-9C98-F512-D2A575BF471A</td><td>2021-05-20</td><td>04-02-2022</td><td>01/15/2020</td><td>06/17/2020</td></tr><tr><td>LV37PCLR2958543924024</td><td>35 628</td><td>5B39E473-55A2-EE31-88D1-ACA771121A03</td><td>2021-10-31</td><td>03/13/2022</td><td>09/19/2019</td><td>12-06-2020</td></tr><tr><td>BH09874062098577523538</td><td>93 302</td><td>FFEACA42-8C43-D8D8-76E1-34B6781482CD</td><td>2021-05-18</td><td>06/21/2022</td><td>04-09-2020</td><td>06/24/2020</td></tr><tr><td>KW8845896063338282181936288847</td><td>70 748</td><td>40C5CDC9-6572-9617-E9B4-4B63060E3A94</td><td>2021-03-04</td><td>06-01-2022</td><td>03/18/2020</td><td>11/28/2020</td></tr><tr><td>BG32FFUZ34111894347681</td><td>45 274</td><td>7684E7B6-85E8-45A8-C356-2357E44CB90D</td><td>2021-09-24</td><td>08-02-2022</td><td>03-12-2020</td><td>10/14/2020</td></tr><tr><td>TN7115385383165586261612</td><td>34 251</td><td>E4254115-2A97-992D-76A4-8E4C5634D64E</td><td>2021-09-08</td><td>04-12-2022</td><td>03-07-2020</td><td>06-04-2020</td></tr><tr><td>TN4448184851201264537941</td><td>93 225</td><td>51A95EB7-7828-41D9-C774-86F88384F1C6</td><td>2021-02-26</td><td>12/21/2022</td><td>05/24/2020</td><td>10/18/2020</td></tr><tr><td>GR8974611471323780463024844</td><td>15 442</td><td>16821E94-D48F-3BA1-6DE7-46F1B95E7D5B</td><td>2021-10-29</td><td>02-05-2022</td><td>11/16/2019</td><td>06/19/2020</td></tr><tr><td>SE0553632714378285563862</td><td>5 977</td><td>FA9172C5-CBB8-5DBC-838A-876E3471897E</td><td>2021-04-18</td><td>02-07-2022</td><td>12/22/2019</td><td>06/24/2020</td></tr><tr><td>LU243554611485836803</td><td>85 510</td><td>D9B63AE9-62DC-DD01-8B22-64FC714AEC6D</td><td>2021-03-07</td><td>03/14/2022</td><td>03/23/2020</td><td>06/22/2020</td></tr><tr><td>HU71406807533245427594172412</td><td>17 700</td><td>A71A1CDC-1D84-85D6-247C-B8A412A181AE</td><td>2021-11-13</td><td>03-07-2022</td><td>04/28/2020</td><td>06/19/2020</td></tr><tr><td>GL2669249876362224</td><td>95 738</td><td>E123CE38-1B4D-8441-AB18-56A5E3BD785D</td><td>2021-05-21</td><td>02-11-2022</td><td>09/17/2019</td><td>07-09-2020</td></tr><tr><td>ME72728742739187419622</td><td>79 355</td><td>10DE3018-FDA8-1391-4A55-277BE1D3369E</td><td>2021-06-11</td><td>11/28/2022</td><td>01-08-2020</td><td>12-03-2020</td></tr><tr><td>BE77573172454543</td><td>84 520</td><td>81AD945A-D731-1F28-5956-6E9391140F4D</td><td>2021-08-06</td><td>11/29/2022</td><td>11/23/2019</td><td>10/27/2020</td></tr><tr><td>MR8636880610758502411813445</td><td>74 168</td><td>00233235-DD7A-43CC-18CC-622AC45AF82C</td><td>2021-12-10</td><td>10/19/2022</td><td>12/20/2019</td><td>08-05-2020</td></tr><tr><td>MK60323325133402622</td><td>77 825</td><td>D12233DD-87AE-786D-8BE4-B5F1CCD13B09</td><td>2021-08-30</td><td>05/28/2022</td><td>09-03-2019</td><td>10/14/2020</td></tr><tr><td>NO0624113531020</td><td>20 741</td><td>5935B74A-3835-5B5F-4569-3A3ECD5AE683</td><td>2021-07-25</td><td>08-10-2022</td><td>11/30/2019</td><td>10-05-2020</td></tr><tr><td>FO1743222841086383</td><td>6 195</td><td>783AE28F-6D9E-4ADA-B04E-A7C6C9DE6F1C</td><td>2021-11-12</td><td>07/23/2022</td><td>11/26/2019</td><td>06/23/2020</td></tr><tr><td>LT882072358244672423</td><td>54 784</td><td>86484D55-2AFC-2B81-53CE-5D1E89CD6A2C</td><td>2021-08-16</td><td>09/16/2022</td><td>10/27/2019</td><td>07-08-2020</td></tr><tr><td>GE74219808433278862882</td><td>1 636</td><td>C346BD21-CE9C-8A6E-D931-70511AB8F1DD</td><td>2021-06-11</td><td>04-06-2022</td><td>10/13/2019</td><td>06/17/2020</td></tr><tr><td>AL72430472760103122735686882</td><td>67 780</td><td>6531EDE9-3ECB-8B4C-D6C3-269AC5E52BBE</td><td>2022-01-16</td><td>11/20/2022</td><td>11-08-2019</td><td>12/30/2020</td></tr><tr><td>BE76213722009146</td><td>61 657</td><td>1B8347AA-DAAA-F947-B96A-2A519B963ED0</td><td>2021-11-19</td><td>02/16/2022</td><td>02-07-2020</td><td>12-06-2020</td></tr><tr><td>MR4846142451224825434701733</td><td>75 965</td><td>FFEA70D2-6E1B-1D85-7E2E-A47787236473</td><td>2021-07-19</td><td>04/23/2022</td><td>01-08-2020</td><td>09/13/2020</td></tr><tr><td>RO17DNCH7615564683695779</td><td>37 954</td><td>75A44B1A-9476-7919-0A56-FB688700FB68</td><td>2021-12-02</td><td>06/13/2022</td><td>04/27/2020</td><td>07/13/2020</td></tr><tr><td>PT03649578767586650120903</td><td>18 414</td><td>E33D7A4B-C2B4-2014-32AD-91ED188C7177</td><td>2021-11-02</td><td>03/31/2022</td><td>11/14/2019</td><td>07/17/2020</td></tr><tr><td>VG8124329359430757512775</td><td>13 531</td><td>E3E86C76-BC82-9C3D-176C-1519590449B4</td><td>2022-01-09</td><td>10/13/2022</td><td>03/28/2020</td><td>11/25/2020</td></tr><tr><td>MD2513602173251926109460</td><td>35 871</td><td>D5954CA0-B97B-69C9-C8E8-D93202AFE2E3</td><td>2021-08-26</td><td>05/29/2022</td><td>11/27/2019</td><td>06/13/2020</td></tr><tr><td>CZ1531681800181745272310</td><td>43 144</td><td>B482E922-7C81-7F2D-62BA-5E20A731D239</td><td>2021-07-03</td><td>10-05-2022</td><td>01-08-2020</td><td>09/20/2020</td></tr><tr><td>LV90MJMG1625476005538</td><td>66 007</td><td>614C62A7-F2CA-B60A-4EAE-21C0D26C67AE</td><td>2021-04-23</td><td>09/15/2022</td><td>09-11-2019</td><td>07-05-2020</td></tr><tr><td>CZ3257840581876846393598</td><td>68 385</td><td>5B171B7D-105B-16ED-8D9B-68943F742DB1</td><td>2021-11-01</td><td>10/23/2022</td><td>03-04-2020</td><td>07-12-2020</td></tr><tr><td>AD2416629742185770453636</td><td>24 018</td><td>FE8CFA41-6708-82F9-B5E5-A9F27A5D1AA8</td><td>2021-05-30</td><td>06/28/2022</td><td>11/20/2019</td><td>12-07-2020</td></tr><tr><td>SE6806684712975823208583</td><td>23 329</td><td>ABD3EBB6-EBE7-1511-C93F-DA762F7BA48F</td><td>2021-03-15</td><td>03-11-2022</td><td>10/30/2019</td><td>11/23/2020</td></tr><tr><td>MK98760374166345036</td><td>33 003</td><td>4B6C74CE-E42A-C3DE-94E4-8DFB378A9999</td><td>2021-04-23</td><td>08/18/2022</td><td>10-03-2019</td><td>07-06-2020</td></tr><tr><td>BA131455456240142512</td><td>6 632</td><td>25475841-EE52-3B92-2F67-46E70937670D</td><td>2021-11-09</td><td>06-03-2022</td><td>12/22/2019</td><td>09/21/2020</td></tr><tr><td>AZ47538217715574232077459487</td><td>28 806</td><td>D4B13842-C7D8-55C6-832B-5A55B17A5BE2</td><td>2022-01-30</td><td>02-01-2022</td><td>04/28/2020</td><td>09-06-2020</td></tr><tr><td>IE23LEXU41594942122645</td><td>49 213</td><td>D15B8996-26D2-A53C-AF13-C8B81EF1BD75</td><td>2021-08-30</td><td>08/27/2022</td><td>11/22/2019</td><td>09/19/2020</td></tr><tr><td>AE532893318237361413634</td><td>78 715</td><td>3AC878C2-98BF-603F-9B7B-7AB991ABEBD0</td><td>2021-12-08</td><td>02-05-2022</td><td>09-12-2019</td><td>06-03-2020</td></tr><tr><td>KW2326395060254167815781798784</td><td>35 737</td><td>B53E8217-ED5C-A6DF-67A8-2AF346ACE273</td><td>2021-07-19</td><td>02/22/2022</td><td>03/20/2020</td><td>10-03-2020</td></tr><tr><td>MD6762028826105150884792</td><td>58 808</td><td>CBB83561-9B43-F320-65A8-DA6AC842B5CB</td><td>2021-08-20</td><td>05-02-2022</td><td>03/22/2020</td><td>09-06-2020</td></tr><tr><td>GI64HUFD911063786176735</td><td>55 040</td><td>78F9B222-A272-424A-38AA-1A2DB3A68D67</td><td>2021-06-12</td><td>09-11-2022</td><td>12/30/2019</td><td>10/27/2020</td></tr><tr><td>GR2223414205692477855455843</td><td>14 948</td><td>966CADC6-A7B6-BCE9-CDBE-C3C81F58B7B8</td><td>2021-07-15</td><td>06-03-2022</td><td>04-10-2020</td><td>10/18/2020</td></tr><tr><td>CY98246265521751257351455216</td><td>15 130</td><td>228F95AB-EDB1-E92B-B5A3-2BB8D23EA751</td><td>2021-08-24</td><td>08-04-2022</td><td>04-03-2020</td><td>10/18/2020</td></tr><tr><td>IE77QAWO38185173335149</td><td>65 602</td><td>4D24E3C2-6EDE-56AC-7D23-7D8629AEC7FD</td><td>2021-04-24</td><td>06/20/2022</td><td>04/19/2020</td><td>07/14/2020</td></tr><tr><td>HU58978414615386887677606409</td><td>47 238</td><td>18AB2590-9763-8274-1254-4EEC635E6951</td><td>2021-06-04</td><td>01-10-2023</td><td>11/14/2019</td><td>06/25/2020</td></tr><tr><td>SM4221273747085455607854478</td><td>31 080</td><td>C236F7C4-24D6-FDEE-CC2E-016D23D71ABE</td><td>2021-06-08</td><td>10-11-2022</td><td>10/13/2019</td><td>06-11-2020</td></tr><tr><td>TR791525392571772306269648</td><td>60 624</td><td>27E4944F-7495-CCC0-C9AB-227C74C4850C</td><td>2021-04-28</td><td>09/16/2022</td><td>05/24/2020</td><td>09-04-2020</td></tr><tr><td>RS75267822634894747185</td><td>26 586</td><td>4E8A6231-CD22-D4E7-5975-873ABEE5A5DA</td><td>2021-07-04</td><td>03-08-2022</td><td>10-12-2019</td><td>11-03-2020</td></tr><tr><td>MU3947369725303236580516116672</td><td>12 433</td><td>7B9930BB-400A-A6DD-1AB3-C25B79E90C86</td><td>2021-10-25</td><td>11/27/2022</td><td>11/15/2019</td><td>07/15/2020</td></tr><tr><td>SM3953883845551243364054453</td><td>15 794</td><td>74660128-A2A6-DB89-1268-B0543EF6E9EB</td><td>2021-06-28</td><td>11-06-2022</td><td>11/24/2019</td><td>06/27/2020</td></tr><tr><td>MR1487525887242631123712826</td><td>15 005</td><td>EBFAA987-C0A3-8D94-7653-9B09F97D6CFC</td><td>2021-11-18</td><td>07/22/2022</td><td>01-10-2020</td><td>06-12-2020</td></tr><tr><td>MT39FKFR15328436131142380775766</td><td>90 218</td><td>DD8E63E1-F777-1A99-FC76-0051A6B17750</td><td>2021-05-18</td><td>02/17/2022</td><td>03-10-2020</td><td>08-08-2020</td></tr><tr><td>EE380266223363373415</td><td>65 818</td><td>666DE743-7230-9D56-848B-1DBB869AEDA8</td><td>2021-06-18</td><td>01-02-2023</td><td>05/14/2020</td><td>07/13/2020</td></tr><tr><td>IL977508508207843752747</td><td>98 121</td><td>B25A7CF5-2A3C-1723-4416-871867A4EFDF</td><td>2021-07-07</td><td>02/16/2022</td><td>10/29/2019</td><td>10-02-2020</td></tr><tr><td>AL78802825113735180116819749</td><td>69 940</td><td>35DBE756-4DBE-BF89-AEA9-92EA9CACB38E</td><td>2021-09-10</td><td>07/24/2022</td><td>01/25/2020</td><td>08/29/2020</td></tr><tr><td>AZ85469087182500563805155514</td><td>84 069</td><td>B1F2884D-111A-E4B8-A23A-91907AE88BE7</td><td>2021-08-21</td><td>11-07-2022</td><td>09-08-2019</td><td>12-11-2020</td></tr><tr><td>HU48820450456675461950564895</td><td>80 331</td><td>57A2F087-DEC0-9CBE-F666-7AB47B2C28F5</td><td>2021-10-13</td><td>09/20/2022</td><td>04-11-2020</td><td>08/15/2020</td></tr><tr><td>IE56HSEU38248223158937</td><td>22 649</td><td>F5455603-82BE-15F2-9EA0-3844502F52E1</td><td>2021-06-01</td><td>04/13/2022</td><td>09-01-2019</td><td>11/24/2020</td></tr><tr><td>NL68SVOF3955229871</td><td>8 433</td><td>B7A313C4-D385-C7ED-68E1-59D326DD4480</td><td>2021-04-19</td><td>02/15/2022</td><td>05/23/2020</td><td>07-06-2020</td></tr><tr><td>GB31NYXL06936152356284</td><td>8 197</td><td>B6691D8C-457B-5B79-1E61-FAAC0CB5AA52</td><td>2021-05-19</td><td>04-05-2022</td><td>12-08-2019</td><td>09-04-2020</td></tr><tr><td>SA5973564752513108835827</td><td>1 718</td><td>2551D783-76ED-7D64-2538-B25AB3CA7187</td><td>2021-12-10</td><td>05-09-2022</td><td>02/20/2020</td><td>06-04-2020</td></tr><tr><td>MC1186507660672743832561894</td><td>37 223</td><td>67AD8994-31B6-F24E-A878-14636B6D9AD3</td><td>2021-08-07</td><td>08-09-2022</td><td>01/29/2020</td><td>11/28/2020</td></tr><tr><td>DK0646278526837853</td><td>72 094</td><td>2A279A94-26BA-92FC-3D10-8764662866CB</td><td>2021-12-09</td><td>12-12-2022</td><td>03-12-2020</td><td>07-06-2020</td></tr><tr><td>LT367057186447375976</td><td>57 260</td><td>0E5919BF-0811-7429-9325-28755A461969</td><td>2021-05-03</td><td>04-06-2022</td><td>05-05-2020</td><td>08-06-2020</td></tr><tr><td>MU9513512612784178732567273974</td><td>22 051</td><td>6B7B2788-A6B2-26AB-C29F-58D25EBA1CBB</td><td>2021-03-03</td><td>10/18/2022</td><td>01/23/2020</td><td>12-11-2020</td></tr><tr><td>VG6047743255181025363431</td><td>10 864</td><td>E2789110-6CAF-9B4B-50C6-B4CCBE27C452</td><td>2021-06-12</td><td>10/22/2022</td><td>09/24/2019</td><td>09-03-2020</td></tr><tr><td>PL22753346125468832241775452</td><td>93 760</td><td>595302B1-8167-32C8-A913-96D84F3BBEB1</td><td>2021-03-10</td><td>10-09-2022</td><td>11/22/2019</td><td>09-10-2020</td></tr><tr><td>IS447763167768697702966756</td><td>1 917</td><td>CC00D600-BA31-0AB6-28D1-77159806B790</td><td>2021-08-21</td><td>04-04-2022</td><td>10/24/2019</td><td>09-10-2020</td></tr><tr><td>TN5233426148321942305199</td><td>32 336</td><td>71714732-CC45-C33F-F152-4FDA3988D3B0</td><td>2021-06-08</td><td>04/24/2022</td><td>05/20/2020</td><td>12/17/2020</td></tr><tr><td>GL4723268861569836</td><td>23 283</td><td>4793E4DF-AFA6-DE71-68AD-65B6D951ACCF</td><td>2021-08-23</td><td>08/20/2022</td><td>02/16/2020</td><td>08/27/2020</td></tr><tr><td>MC8197423704142152226723100</td><td>89 798</td><td>B8163521-56D8-EE9A-36D9-695A0E395DFC</td><td>2021-07-13</td><td>12/23/2022</td><td>01/15/2020</td><td>09-06-2020</td></tr><tr><td>PT89471501827853145562945</td><td>32 121</td><td>F3A3CAA1-A755-A414-DCE3-4434E498128E</td><td>2021-07-02</td><td>10/29/2022</td><td>09/14/2019</td><td>06/19/2020</td></tr><tr><td>CH3912288252637166237</td><td>71 875</td><td>F1887742-218E-F7F4-FD0B-7E8D5FBD7CBD</td><td>2021-04-18</td><td>10-12-2022</td><td>01/23/2020</td><td>11/17/2020</td></tr><tr><td>PT42188286988686265116577</td><td>97 237</td><td>90DD2D2E-25AD-563A-BE79-F20C91BA4964</td><td>2021-12-28</td><td>07/31/2022</td><td>10-11-2019</td><td>06/21/2020</td></tr><tr><td>GE50451666027528805724</td><td>83 872</td><td>A7CBF454-3E56-8F2C-110C-10E6BDA42CA4</td><td>2021-03-31</td><td>05/26/2022</td><td>01/30/2020</td><td>12-08-2020</td></tr><tr><td>AD2821328083189521370595</td><td>66 877</td><td>9C834ECA-54E4-4436-C352-F0F4506DB5BD</td><td>2021-11-24</td><td>03/28/2022</td><td>09-06-2019</td><td>10/19/2020</td></tr><tr><td>VG9743976116104658181377</td><td>77 492</td><td>246C81A8-81C8-C825-625E-17074123E3A8</td><td>2021-06-22</td><td>12-10-2022</td><td>09/30/2019</td><td>07/19/2020</td></tr><tr><td>SM5934835814735332558021828</td><td>8 111</td><td>45865F32-DB55-A1BE-3429-CD463E24B4A7</td><td>2021-09-04</td><td>12-11-2022</td><td>05/23/2020</td><td>11/15/2020</td></tr><tr><td>MT53MARH69972952193179702484768</td><td>81 359</td><td>C77235E2-18C6-DDCE-591A-13FD0A8404C8</td><td>2021-06-17</td><td>07/18/2022</td><td>02-09-2020</td><td>12/18/2020</td></tr><tr><td>LT472054924284631427</td><td>98 142</td><td>6DE5F54B-B4D6-C0FE-C34E-6BA9DBBE793B</td><td>2021-03-23</td><td>05/26/2022</td><td>09-12-2019</td><td>11/27/2020</td></tr><tr><td>FI0543730847427613</td><td>70 777</td><td>4676951D-88AB-23D6-E328-D649E2499622</td><td>2021-09-04</td><td>08/17/2022</td><td>11/23/2019</td><td>10-10-2020</td></tr><tr><td>TR356655592341712581189964</td><td>25 289</td><td>7E4AA448-B757-D8AD-ACAB-8248F612C621</td><td>2021-02-17</td><td>05/26/2022</td><td>02-08-2020</td><td>10-09-2020</td></tr><tr><td>LT771871723914766922</td><td>17 891</td><td>4813187B-65D4-3F6C-2B16-8C5347D44DD8</td><td>2021-10-14</td><td>11/28/2022</td><td>01-11-2020</td><td>07-05-2020</td></tr><tr><td>AL15855135422128452160808775</td><td>1 070</td><td>8CB57F8E-5C27-776D-EE5D-EB8F40A8FCEE</td><td>2021-09-23</td><td>12-12-2022</td><td>03-11-2020</td><td>07-02-2020</td></tr><tr><td>GL5034285977885234</td><td>13 744</td><td>21BD6594-2452-62B5-59E9-CFDE88EC4BA3</td><td>2021-01-12</td><td>08-05-2022</td><td>02/29/2020</td><td>12/29/2020</td></tr><tr><td>AE253719589512807817714</td><td>27 768</td><td>2D46C5EA-4798-536E-3030-FDA3E4DB23C7</td><td>2021-05-31</td><td>12-08-2022</td><td>10/21/2019</td><td>07-05-2020</td></tr><tr><td>DE60877262858779363465</td><td>66 353</td><td>40CAB983-2CB4-D779-6F88-C950D923671C</td><td>2021-10-12</td><td>11-12-2022</td><td>10/26/2019</td><td>09/29/2020</td></tr><tr><td>HU96203201926475145164784751</td><td>56 653</td><td>D2C4DC36-EA2C-8132-8BB6-1E357590CB5D</td><td>2021-06-09</td><td>07-03-2022</td><td>12/21/2019</td><td>12/29/2020</td></tr><tr><td>TN9556374931456763342732</td><td>16 696</td><td>B89AF4E5-C9E0-533B-063E-7CB6D0A6EB91</td><td>2021-11-20</td><td>05/24/2022</td><td>09-07-2019</td><td>06-04-2020</td></tr><tr><td>PS655774463733824568663792657</td><td>28 620</td><td>342DDE70-2643-B36C-4AD2-3B1434BC72F2</td><td>2021-01-29</td><td>05-01-2022</td><td>12/26/2019</td><td>08-10-2020</td></tr><tr><td>KW2767452470426018819137422159</td><td>54 528</td><td>9B2A1407-2B88-2853-ED30-3D8C41C3C8C5</td><td>2021-07-03</td><td>11/26/2022</td><td>01/19/2020</td><td>08-10-2020</td></tr><tr><td>GI60PRIW960112248858586</td><td>91 431</td><td>A385E88A-898B-52C5-A27D-12FB4292B92B</td><td>2021-06-23</td><td>10-04-2022</td><td>09/28/2019</td><td>09/23/2020</td></tr><tr><td>BG67NGKH00718323842817</td><td>11 989</td><td>8BD1A87A-D8BE-6414-736D-18CBBBECA48C</td><td>2021-10-26</td><td>05/23/2022</td><td>03-10-2020</td><td>06/17/2020</td></tr><tr><td>LT250112149826059796</td><td>70 377</td><td>5A54DE59-68F7-240E-43FA-A1CC2EB7D89B</td><td>2021-12-30</td><td>12/25/2022</td><td>04/18/2020</td><td>09/20/2020</td></tr><tr><td>CY23177655321988570449514288</td><td>30 240</td><td>BA1E1633-198E-77E7-A843-34877B2CA599</td><td>2021-06-26</td><td>12-11-2022</td><td>09-07-2019</td><td>09/27/2020</td></tr><tr><td>NO9823848102153</td><td>65 993</td><td>DE6EC934-4AC2-D186-1646-9ED47973B3AC</td><td>2021-07-19</td><td>05/27/2022</td><td>10-12-2019</td><td>10-04-2020</td></tr><tr><td>FI7429187218816857</td><td>14 925</td><td>9D6AE072-658C-E8CB-CE3A-928E2CAB3EA9</td><td>2021-03-07</td><td>02/16/2022</td><td>04/27/2020</td><td>07/31/2020</td></tr><tr><td>SA3811778735474286236987</td><td>19 442</td><td>EBAAE023-F2B3-493E-5C61-7EA52D9E495D</td><td>2021-11-26</td><td>03/26/2022</td><td>12-10-2019</td><td>09-03-2020</td></tr><tr><td>DK6067745434708268</td><td>29 548</td><td>CEBB4097-4AD4-CB2E-1123-83D65739A2B4</td><td>2021-01-29</td><td>11/28/2022</td><td>04/25/2020</td><td>08-08-2020</td></tr><tr><td>VG3522172914381330832987</td><td>95 708</td><td>943F0B15-23E6-1797-2448-DAE04CD05C35</td><td>2021-10-01</td><td>10-11-2022</td><td>11/26/2019</td><td>06/16/2020</td></tr><tr><td>EE254157275632325365</td><td>99 128</td><td>F4D46CEB-FDA1-AB37-3823-F688B41D9736</td><td>2021-05-05</td><td>02-03-2022</td><td>04/15/2020</td><td>12-06-2020</td></tr><tr><td>SI37784431828032482</td><td>93 757</td><td>6D5D1B62-8359-F5A5-AD15-4493071D62C7</td><td>2021-10-20</td><td>05/31/2022</td><td>01-04-2020</td><td>06-08-2020</td></tr><tr><td>GI08RHHJ868011382819621</td><td>14 478</td><td>DEBF8235-6CE5-9A3D-D0A3-DC815E762ED2</td><td>2021-07-25</td><td>08/27/2022</td><td>02-12-2020</td><td>11/18/2020</td></tr><tr><td>SK7145883732187942964676</td><td>11 212</td><td>5A77B5E1-1B3E-686D-EEA3-4678B6C317E3</td><td>2021-11-08</td><td>10-01-2022</td><td>12/22/2019</td><td>08/31/2020</td></tr><tr><td>CH2239882236428028616</td><td>35 638</td><td>4AE27A1E-A52D-09E1-4F6C-17438B36D292</td><td>2021-03-28</td><td>06/15/2022</td><td>05/22/2020</td><td>06/30/2020</td></tr><tr><td>BE03471130199062</td><td>46 696</td><td>C7DCC827-6685-8A4B-3A24-867D91DDC66D</td><td>2021-04-22</td><td>03-04-2022</td><td>11-11-2019</td><td>12-02-2020</td></tr><tr><td>IT032FXNHI32132360489118795</td><td>83 985</td><td>BFE0B678-F7AC-6D8D-9804-391BEFDDEB7E</td><td>2021-07-07</td><td>04-04-2022</td><td>01-02-2020</td><td>09-09-2020</td></tr><tr><td>AZ43712255173251134306726425</td><td>56 200</td><td>53148EC2-C1BA-1CC5-7CDD-53B8BB0E47C6</td><td>2021-03-25</td><td>12/15/2022</td><td>12-10-2019</td><td>08/18/2020</td></tr><tr><td>BA402718703744021077</td><td>5 730</td><td>80487C5E-1F98-94EE-46F7-9A9621B679EC</td><td>2021-12-18</td><td>04/25/2022</td><td>02/23/2020</td><td>07/28/2020</td></tr><tr><td>GB76TLSP94255814845566</td><td>38 851</td><td>ABB154BD-B5B3-D529-A68A-3DB693260D76</td><td>2022-01-22</td><td>09-04-2022</td><td>02/14/2020</td><td>09-10-2020</td></tr><tr><td>CY82240367371826725170862985</td><td>18 474</td><td>334C907A-362D-7F1B-8676-2313B930BD9B</td><td>2021-01-12</td><td>02-11-2022</td><td>10/26/2019</td><td>11/26/2020</td></tr><tr><td>SE2392841363969544046328</td><td>73 209</td><td>03D73B07-47C7-C5D2-9550-597098F2DD3A</td><td>2022-01-13</td><td>09/22/2022</td><td>12-07-2019</td><td>11/16/2020</td></tr><tr><td>SK8295390511417414515281</td><td>67 962</td><td>BB0BA868-421F-C34A-BE5B-746049872397</td><td>2021-11-14</td><td>04-11-2022</td><td>12/17/2019</td><td>09-06-2020</td></tr><tr><td>GR6695626901674942680618762</td><td>68 856</td><td>762A3744-C9C6-B10E-277D-D6AE6AAEB7D4</td><td>2021-09-26</td><td>03-01-2022</td><td>01/28/2020</td><td>09/27/2020</td></tr><tr><td>MC3932012299753326368656412</td><td>91 597</td><td>650B45E9-E978-D421-124F-166D9846FB06</td><td>2021-09-03</td><td>11/25/2022</td><td>11/27/2019</td><td>11/23/2020</td></tr><tr><td>SA8463793217542643163713</td><td>79 017</td><td>75804348-B4D7-EB26-6849-F85D9CBE2C38</td><td>2021-03-12</td><td>05/16/2022</td><td>10/28/2019</td><td>11-09-2020</td></tr><tr><td>BE63833578742871</td><td>37 934</td><td>7B33B7D8-A851-8FD5-BC9A-0DE2498B6696</td><td>2021-04-15</td><td>12/28/2022</td><td>11/27/2019</td><td>09/26/2020</td></tr><tr><td>KW3925583776243106639310167639</td><td>53 083</td><td>DD7C1C8D-0329-67C6-911D-7E64C51443CB</td><td>2021-06-21</td><td>06/22/2022</td><td>12/16/2019</td><td>12/25/2020</td></tr><tr><td>VG7299195735238935773895</td><td>99 541</td><td>93274286-858D-0168-64AB-184C01849B77</td><td>2021-05-07</td><td>07/25/2022</td><td>02/20/2020</td><td>06/29/2020</td></tr><tr><td>NO3438721856131</td><td>21 321</td><td>69546D9F-D9B1-240D-B9DD-AA34D652C922</td><td>2021-11-27</td><td>05/14/2022</td><td>04/24/2020</td><td>09-05-2020</td></tr><tr><td>IS676218221073904459632066</td><td>4 197</td><td>B5ED5486-D589-ACA2-10AA-7979EDABE06D</td><td>2022-01-14</td><td>11/24/2022</td><td>05/28/2020</td><td>07/20/2020</td></tr><tr><td>GE64607956066132711838</td><td>6 849</td><td>AAFCCB5C-1274-8DD4-DA82-587559AFBAE4</td><td>2021-05-06</td><td>10-06-2022</td><td>12-05-2019</td><td>12/25/2020</td></tr><tr><td>BG86MVLF45300655636966</td><td>5 335</td><td>2E687433-8A1D-09D7-CEA2-C4FA902A307C</td><td>2021-02-09</td><td>10/18/2022</td><td>02/20/2020</td><td>06/13/2020</td></tr><tr><td>FO9700878483411724</td><td>31 838</td><td>44C283B3-DB84-E27A-4C5D-0659528E563E</td><td>2021-07-26</td><td>06-12-2022</td><td>12/28/2019</td><td>09/25/2020</td></tr><tr><td>PS028465077237833733173546764</td><td>57 252</td><td>DD930168-7BE8-A435-4FA8-BF90D22288DE</td><td>2021-10-06</td><td>10/17/2022</td><td>11/18/2019</td><td>10/31/2020</td></tr><tr><td>PS413565793505468732339266246</td><td>72 856</td><td>32131396-AA55-E596-F36E-0C3357247BC5</td><td>2021-11-02</td><td>10-08-2022</td><td>10/30/2019</td><td>11/21/2020</td></tr><tr><td>NO5643236336324</td><td>16 363</td><td>A56BAE2D-C287-847A-2AD8-A27928A35E49</td><td>2021-05-29</td><td>05-11-2022</td><td>09-10-2019</td><td>11-09-2020</td></tr><tr><td>NO9792386665975</td><td>6 411</td><td>1253DB17-F413-78E2-6C11-022545111E84</td><td>2021-05-11</td><td>04-10-2022</td><td>02/22/2020</td><td>06/25/2020</td></tr><tr><td>EE679790823772239476</td><td>33 322</td><td>4CCEAD51-FA51-146A-B2A6-4ECB2895186B</td><td>2021-08-07</td><td>02/16/2022</td><td>03/15/2020</td><td>08-05-2020</td></tr><tr><td>AT507863549248665178</td><td>54 750</td><td>70994580-5A6B-E746-8B38-84B1C4DD9C3F</td><td>2021-03-06</td><td>03/21/2022</td><td>05/26/2020</td><td>12/26/2020</td></tr><tr><td>IT125PRIVI45221748086144144</td><td>9 649</td><td>49736E76-23BE-699D-0C9A-B4DE525FE93D</td><td>2021-04-30</td><td>06-10-2022</td><td>03/18/2020</td><td>07/19/2020</td></tr><tr><td>DK6714413636824878</td><td>37 768</td><td>74B9C9B2-ADE9-94A9-077B-FDBC68CAABAC</td><td>2021-10-08</td><td>10-09-2022</td><td>01/20/2020</td><td>09/30/2020</td></tr><tr><td>AE315128764526470831383</td><td>46 592</td><td>AEFC992D-DEAC-88CD-BC7B-84DCE18A52D4</td><td>2022-01-18</td><td>12-02-2022</td><td>03-05-2020</td><td>10-09-2020</td></tr><tr><td>LI9513126185408797638</td><td>62 256</td><td>D5D8EF45-5712-A1D3-64AE-E281796E43CE</td><td>2021-03-21</td><td>05/18/2022</td><td>01-01-2020</td><td>06-04-2020</td></tr><tr><td>IS083082122569298462607636</td><td>97 459</td><td>7616D6C9-2FBF-36AD-7BDE-C1E905AD5CEA</td><td>2021-04-09</td><td>11/15/2022</td><td>12-05-2019</td><td>07/20/2020</td></tr><tr><td>GB51KCYJ62677732121123</td><td>65 993</td><td>9239335E-3029-591E-CDC5-4863F99B11A0</td><td>2021-11-17</td><td>06/15/2022</td><td>05/28/2020</td><td>10-02-2020</td></tr><tr><td>FO3301823444390432</td><td>29 054</td><td>04E19F52-E36E-9135-ABED-6C103C78395A</td><td>2021-08-07</td><td>02-01-2022</td><td>10-04-2019</td><td>11/16/2020</td></tr><tr><td>NL96TMOJ7552536181</td><td>10 841</td><td>FEE57B9A-0DE3-B8FE-F007-B70D4A8883A0</td><td>2021-03-10</td><td>12/23/2022</td><td>04/28/2020</td><td>07-12-2020</td></tr><tr><td>PT21243275852740442397726</td><td>56 906</td><td>476B1A29-8BF4-5A86-B35A-ED2F570E85B5</td><td>2021-01-24</td><td>03/20/2022</td><td>02/21/2020</td><td>09-11-2020</td></tr><tr><td>ME14937433518915291185</td><td>8 032</td><td>A593E2D9-823D-9307-C231-EE34ED25A9E3</td><td>2021-09-01</td><td>04-12-2022</td><td>12/13/2019</td><td>10/31/2020</td></tr><tr><td>CR3537585476814677107</td><td>18 804</td><td>E6EC4691-53A1-41D1-1261-33223D936885</td><td>2021-11-23</td><td>08/14/2022</td><td>01/21/2020</td><td>11-04-2020</td></tr><tr><td>DO36228396826380126153635873</td><td>73 123</td><td>CDA447B5-F9D1-1584-9728-87074C74D3A7</td><td>2021-08-26</td><td>10/25/2022</td><td>11/19/2019</td><td>09/13/2020</td></tr><tr><td>IL956848464883571245534</td><td>75 227</td><td>D40AFA2F-AB53-6C44-B660-46E4ABBD739E</td><td>2021-06-11</td><td>03-06-2022</td><td>09-08-2019</td><td>09-08-2020</td></tr><tr><td>LU192234264417873847</td><td>46 834</td><td>96ED1592-63EF-A1B7-BDE1-80A7B86DDB9A</td><td>2021-08-17</td><td>05/31/2022</td><td>01/14/2020</td><td>08/14/2020</td></tr><tr><td>DK8246384697447442</td><td>2 639</td><td>8E4D9B25-1A2C-5433-DAE3-54B497317A71</td><td>2021-07-02</td><td>05-05-2022</td><td>01/15/2020</td><td>09-10-2020</td></tr><tr><td>SI67439148031744686</td><td>84 607</td><td>D77A4C57-38CD-B814-3AD2-2C562DB6F0EC</td><td>2021-05-04</td><td>04-01-2022</td><td>03/22/2020</td><td>06/20/2020</td></tr><tr><td>PS533680912327932102360453796</td><td>75 509</td><td>E613A77E-5FE5-65ED-4345-B62886419733</td><td>2021-08-13</td><td>11-02-2022</td><td>12/24/2019</td><td>11/21/2020</td></tr><tr><td>LI2985824166260255787</td><td>10 296</td><td>31D240ED-2C15-6F25-9185-E1CB56AD756C</td><td>2021-04-13</td><td>10-03-2022</td><td>15/28/2020</td><td>09/20/2020</td></tr><tr><td>GR1452314540563771805572043</td><td>89 497</td><td>52239B9C-A212-22C5-6C35-5A54744D849D</td><td>2021-10-08</td><td>06/16/2022</td><td>09-06-2019</td><td>07/25/2020</td></tr><tr><td>TR416262831356587971672163</td><td>38 748</td><td>A854D626-225E-C57C-5F28-ABCC6C60C757</td><td>2021-11-25</td><td>11/19/2022</td><td>04/18/2020</td><td>12/18/2020</td></tr><tr><td>NL55MYOQ5920765611</td><td>76 146</td><td>6AA209B3-ACC5-CD87-6C79-95166ABB9C8D</td><td>2021-05-17</td><td>11/29/2022</td><td>12/13/2019</td><td>12/17/2020</td></tr><tr><td>AT634476749358842566</td><td>54 891</td><td>F1660FF8-2459-1DAD-49D0-6B963CBC1104</td><td>2021-05-22</td><td>09/13/2022</td><td>09/21/2019</td><td>10-08-2020</td></tr><tr><td>NL94HYWB4208254222</td><td>41 297</td><td>AE368F8E-E664-2CD8-3B9D-D4644F38842B</td><td>2021-06-29</td><td>10-06-2022</td><td>04-03-2020</td><td>09/17/2020</td></tr><tr><td>TN1193344004638633336988</td><td>21 494</td><td>9CFAB195-7A25-5935-5789-452A502D3DBD</td><td>2021-06-26</td><td>05/14/2022</td><td>12-02-2019</td><td>09-05-2020</td></tr><tr><td>EE638782432618511197</td><td>49 899</td><td>A3261A66-3A9D-FBE8-556E-2E736D79B8B5</td><td>2021-07-29</td><td>06-08-2022</td><td>12/21/2019</td><td>07-12-2020</td></tr><tr><td>HU42322334823795462765555720</td><td>31 760</td><td>D6260269-6716-413B-0272-3E545A3A158D</td><td>2021-09-02</td><td>03-02-2022</td><td>04/27/2020</td><td>06/18/2020</td></tr><tr><td>MD9028174496344751452583</td><td>82 814</td><td>D0C684B7-9165-E335-AFC9-A512716577DC</td><td>2021-04-18</td><td>08-01-2022</td><td>02/19/2020</td><td>10/20/2020</td></tr><tr><td>GB73GNVV06263369134627</td><td>81 527</td><td>ED651BB2-62CC-1843-C96C-8A55C678255B</td><td>2021-04-14</td><td>11-02-2022</td><td>03/24/2020</td><td>11-04-2020</td></tr><tr><td>GL2154543443537031</td><td>76 036</td><td>0220D587-9384-9738-D1FB-5A1742C874B1</td><td>2021-10-12</td><td>04-05-2022</td><td>02/15/2020</td><td>08/27/2020</td></tr><tr><td>KW3130838537560362310140670337</td><td>74 823</td><td>3171DDC2-BD93-9152-A4B8-DB4C9D52843B</td><td>2021-10-21</td><td>09/13/2022</td><td>05/14/2020</td><td>10/23/2020</td></tr><tr><td>GT27508975484261877783571350</td><td>77 371</td><td>26DCD896-63DF-5EE5-AB31-BEE2EA213382</td><td>2021-08-11</td><td>10/31/2022</td><td>12/31/2019</td><td>06-11-2020</td></tr><tr><td>LT923287076566580194</td><td>47 520</td><td>B125F0F7-FBA4-97E5-E316-DB68D5634D0B</td><td>2021-10-02</td><td>12/17/2022</td><td>10-12-2019</td><td>08/20/2020</td></tr><tr><td>AL08758705416365328268875155</td><td>97 325</td><td>B3C2B896-339E-539F-7733-F7973BB448EA</td><td>2022-01-30</td><td>07-01-2022</td><td>02/22/2020</td><td>11/21/2020</td></tr><tr><td>IS098031713264671225717464</td><td>23 955</td><td>C46D3ACF-8D22-60A1-E1FA-F6CD68A78C0B</td><td>2021-02-21</td><td>01-05-2023</td><td>10/28/2019</td><td>07/25/2020</td></tr><tr><td>NL47OKON0221640063</td><td>34 416</td><td>BFBB2437-53C4-E555-B792-A353DD0718A1</td><td>2021-10-01</td><td>04-02-2022</td><td>10/14/2019</td><td>11/19/2020</td></tr><tr><td>SA4724755205675046363826</td><td>58 694</td><td>88D75C97-7436-9C29-6096-2CB7EAAC825C</td><td>2021-10-29</td><td>08/27/2022</td><td>09/16/2019</td><td>06/27/2020</td></tr><tr><td>IT351ELLFI57058717461018839</td><td>74 168</td><td>D6B064CB-26EE-DDB6-9C57-543473EA276B</td><td>2021-04-28</td><td>10/31/2022</td><td>01/27/2020</td><td>09/23/2020</td></tr><tr><td>EE815686635863626742</td><td>59 086</td><td>9C4F58F4-D443-A210-F171-9CD11CE061AD</td><td>2021-05-01</td><td>03-08-2022</td><td>12/30/2019</td><td>07/18/2020</td></tr><tr><td>IS528319691874156858678263</td><td>56 787</td><td>D32865C8-E375-2E24-0F6F-24B7745D4FB2</td><td>2021-09-21</td><td>05/26/2022</td><td>02-12-2020</td><td>10/30/2020</td></tr><tr><td>FI4785964573695217</td><td>70 512</td><td>1CA4F7BE-8D71-E6CC-9A77-EE380B20B265</td><td>2021-10-21</td><td>06/21/2022</td><td>10/19/2019</td><td>10-11-2020</td></tr><tr><td>AT503763733146159061</td><td>33 852</td><td>7EED5E27-8B77-EC35-6462-E89B73931D5F</td><td>2021-12-13</td><td>06/23/2022</td><td>01-10-2020</td><td>11-03-2020</td></tr><tr><td>HU41602147525018056020497713</td><td>59 540</td><td>F6B746EE-59E0-70E5-609E-7F857DE52448</td><td>2021-06-17</td><td>08/22/2022</td><td>01/26/2020</td><td>12/19/2020</td></tr><tr><td>MU7855841514788741237585860635</td><td>22 645</td><td>157CBDBC-87D9-4086-C5FD-6295CA2C27F2</td><td>2021-05-10</td><td>11/22/2022</td><td>09/21/2019</td><td>08/26/2020</td></tr><tr><td>AL85012333296862385736065641</td><td>67 335</td><td>8B3DC6B6-0B68-2072-67A2-930566874CBA</td><td>2021-10-25</td><td>12-01-2022</td><td>03-11-2020</td><td>07-12-2020</td></tr><tr><td>LT361487217998854467</td><td>15 869</td><td>7D29C14D-193C-26E8-CA93-B27647842577</td><td>2021-07-05</td><td>09/28/2022</td><td>09-03-2019</td><td>09/29/2020</td></tr><tr><td>AE416184037772116873510</td><td>74 014</td><td>D7E6813C-82C4-D448-3EBA-F51EE04D235B</td><td>2021-12-04</td><td>02-07-2022</td><td>02/17/2020</td><td>10-12-2020</td></tr><tr><td>PK6416881362534285481210</td><td>35 365</td><td>4CE7ECBA-48C1-D52B-A9E4-13706C5C47AC</td><td>2021-01-31</td><td>06/22/2022</td><td>11-06-2019</td><td>09/25/2020</td></tr><tr><td>MU8305057870120947812408135243</td><td>27 491</td><td>2C4BBD42-6816-936C-62B6-A4E01E68D799</td><td>2021-11-09</td><td>10/20/2022</td><td>05/28/2020</td><td>09-05-2020</td></tr><tr><td>GT91349681852230319885059862</td><td>636</td><td>1B887057-E192-A8A5-798D-FB0444937F75</td><td>2021-05-22</td><td>10-11-2022</td><td>05/21/2020</td><td>11/17/2020</td></tr><tr><td>VG3522172914381330832987</td><td>95 708</td><td>943F0B15-23E6-1797-2448-DAE04CD05C35</td><td>2021-10-01</td><td>10-11-2022</td><td>11/26/2019</td><td>06/16/2020</td></tr></tbody></table></div>"
      ]
     },
     "metadata": {
      "application/vnd.databricks.v1+output": {
       "addedWidgets": {},
       "aggData": [],
       "aggError": "",
       "aggOverflow": false,
       "aggSchema": [],
       "aggSeriesLimitReached": false,
       "aggType": "",
       "arguments": {},
       "columnCustomDisplayInfos": {},
       "data": [
        [
         "NO6034318860278",
         "67 822",
         "14A53EFA-97A9-D852-39F9-E1A366AED2E8",
         "2021-07-27",
         "04/22/2022",
         "12-07-2019",
         "06/16/2020"
        ],
        [
         "LU744388398764786734",
         "41 965",
         "07C6BA82-8664-4446-0D52-963BE523C5C7",
         "2022-01-08",
         "03/26/2022",
         "01-01-2020",
         "12-01-2020"
        ],
        [
         "IL622786216445251297137",
         "79 352",
         "A4B97E53-2B68-8271-B4C2-F598D1525D92",
         "2021-06-21",
         "04/13/2022",
         "10/23/2019",
         "09/26/2020"
        ],
        [
         "HU73530772784633198693907654",
         "93 661",
         "670A2B65-76A4-4B70-B13B-16240274C539",
         "2021-07-29",
         "04-09-2022",
         "02/20/2020",
         "10/19/2020"
        ],
        [
         "MT93HZCQ15847141393282243268486",
         "51 231",
         "A2C6ADE3-ABB1-8EC1-5414-8A895C5CA2A4",
         "2021-01-20",
         "03/28/2022",
         "12/22/2019",
         "07/20/2020"
        ],
        [
         "ES5071462808326222586356",
         "62 696",
         "E30FC4A9-A2A2-AAB0-58A2-C1382B647D46",
         "2021-09-30",
         "02/26/2022",
         "01-03-2020",
         "06/13/2020"
        ],
        [
         "BG44MNMM33864028879242",
         "37 332",
         "E762D650-18D0-3860-A67F-21F0CCE483CD",
         "2021-04-28",
         "06/23/2022",
         "04-12-2020",
         "12/15/2020"
        ],
        [
         "EE034518283401745714",
         "85 982",
         "E591D646-4190-4860-8974-D0CC4DE965C6",
         "2021-04-28",
         "12-10-2022",
         "09/25/2019",
         "06/29/2020"
        ],
        [
         "IS171916556906574422538815",
         "1 040",
         "C5BAC88D-81A3-3B45-DD0B-6C89EEF896BA",
         "2021-04-27",
         "12-01-2022",
         "09-07-2019",
         "11-06-2020"
        ],
        [
         "IE08OFCR35332787214285",
         "82 632",
         "70746AD7-A219-0023-87BF-66F35FC9D77C",
         "2021-01-13",
         "09-01-2022",
         "09/20/2019",
         "11-11-2020"
        ],
        [
         "IT341SMIJI45392576391648131",
         "28 250",
         "974C913B-9AA6-76A1-5EF1-272413C48B96",
         "2021-08-10",
         "02-01-2022",
         "12/20/2019",
         "10/28/2020"
        ],
        [
         "RS54478177128153438250",
         "3 640",
         "FBD26599-FC99-C1E7-D071-1C13F53E69A7",
         "2021-10-24",
         "12/18/2022",
         "03/16/2020",
         "10/19/2020"
        ],
        [
         "DE02807725915261727582",
         "32 639",
         "5621C4D2-7F05-34E5-72D6-0C495B399584",
         "2021-09-29",
         "12/24/2022",
         "03/16/2020",
         "08-08-2020"
        ],
        [
         "IL175142853591415592811",
         "66 074",
         "3597B8A7-72B6-D9E8-CAFE-27387C4F3883",
         "2021-07-24",
         "02/18/2022",
         "09-11-2019",
         "09/21/2020"
        ],
        [
         "NL65ACGW3711597491",
         "48 032",
         "61B7997B-3E4C-A174-6334-B34563359353",
         "2021-09-27",
         "04-10-2022",
         "02/26/2020",
         "08-01-2020"
        ],
        [
         "SK5846425637067253690242",
         "4 307",
         "99677182-2AE2-86AB-355C-8B2D9929C36E",
         "2021-04-23",
         "06/29/2022",
         "03/25/2020",
         "08-08-2020"
        ],
        [
         "LT757119267356708661",
         "48 560",
         "FC646D13-2337-4895-040B-834D4A714F9B",
         "2021-04-28",
         "04-02-2022",
         "04-02-2020",
         "09-07-2020"
        ],
        [
         "IS033575848530277787917336",
         "35 735",
         "56E9913A-1C13-5C4B-7CA7-B7D5B674A08E",
         "2021-10-17",
         "03/28/2022",
         "04-11-2020",
         "09-03-2020"
        ],
        [
         "IT644WWHUI41551393125617462",
         "54 778",
         "4DF9C1B4-365A-1BF1-18C5-20EC2CF48C6B",
         "2022-01-24",
         "02/15/2022",
         "12-08-2019",
         "07/27/2020"
        ],
        [
         "PL08196273679325447428092284",
         "82 014",
         "753BCB69-4A59-C1A8-147C-21CC3B99825E",
         "2021-09-26",
         "07-05-2022",
         "02/28/2020",
         "11-02-2020"
        ],
        [
         "SI43571181853141544",
         "64 113",
         "E0B3AD31-27BE-EA83-B80D-689D4071A06B",
         "2021-06-26",
         "04/29/2022",
         "05/22/2020",
         "06/21/2020"
        ],
        [
         "PK3214772829328054455226",
         "22 200",
         "6E9DD492-BCA8-1A49-0917-B762F63346C6",
         "2021-05-03",
         "09/28/2022",
         "11-08-2019",
         "08/17/2020"
        ],
        [
         "LB94498778723178182164225163",
         "27 487",
         "58BF58F4-38C4-D0AD-32E3-C82845746820",
         "2021-06-16",
         "05-08-2022",
         "12/25/2019",
         "12/22/2020"
        ],
        [
         "BG97VIEI29664579859946",
         "30 588",
         "2FAA83D4-815D-4673-AF41-D871BE1B1C2D",
         "2021-04-06",
         "07-08-2022",
         "04-09-2020",
         "12/19/2020"
        ],
        [
         "SE6486817253112581918341",
         "6 351",
         "879296F4-C68A-A412-8A1D-91C47BC9572A",
         "2021-09-20",
         "08-11-2022",
         "11/19/2019",
         "07-08-2020"
        ],
        [
         "GT49448457284435741435266127",
         "10 247",
         "6AD39750-4DA5-44E7-3CDF-6BF1B7CC4D86",
         "2021-02-07",
         "12/16/2022",
         "04-10-2020",
         "11-02-2020"
        ],
        [
         "MT61RIUY22012363021323467347744",
         "492",
         "824414A1-FD96-E6B2-CD9B-6AD402F15275",
         "2021-02-02",
         "12-11-2022",
         "05/16/2020",
         "07/28/2020"
        ],
        [
         "MT14LNDH29571226356823187493875",
         "13 189",
         "1B97E921-499E-3618-E56D-47E9F8DD9421",
         "2021-08-24",
         "05-10-2022",
         "03/14/2020",
         "10/13/2020"
        ],
        [
         "FO7955524667214606",
         "11 169",
         "47CED637-6A2D-821D-A5E2-CC1D5CAE88DC",
         "2021-10-28",
         "03-12-2022",
         "04-02-2020",
         "10/16/2020"
        ],
        [
         "AT625565268989564933",
         "89 257",
         "92D1F2C2-C1EA-7B1B-6345-E0C4FB9566BF",
         "2021-10-07",
         "11/25/2022",
         "10/17/2019",
         "12/21/2020"
        ],
        [
         "GT78804434582074816337332705",
         "15 372",
         "42818AAA-9FA1-2144-8EA3-68788029FAD6",
         "2021-12-09",
         "06-02-2022",
         "05-10-2020",
         "12/28/2020"
        ],
        [
         "IT669WOKHI34253286247718475",
         "51 344",
         "AD88BAC1-B7B1-9179-2ED9-C9C295C22D4A",
         "2021-07-02",
         "10/13/2022",
         "03/27/2020",
         "09/18/2020"
        ],
        [
         "PK3666882612559337685371",
         "880",
         "B32FBC38-A873-8258-8534-54CC6692D387",
         "2021-10-04",
         "01-08-2023",
         "11/26/2019",
         "11/23/2020"
        ],
        [
         "LV72PRHH4074937636728",
         "60 045",
         "92CDC995-7EEA-AD97-5B66-6BFBCCC47A31",
         "2021-04-20",
         "08/24/2022",
         "10/21/2019",
         "08/14/2020"
        ],
        [
         "SM4303321977826254577562642",
         "67 505",
         "ABBEA6CF-37D8-D7AA-187B-54D8DA580365",
         "2021-11-10",
         "08/25/2022",
         "11/30/2019",
         "12/15/2020"
        ],
        [
         "DE52521660522923344664",
         "17 546",
         "9E33547C-6B06-904F-ABCB-D02482E2D484",
         "2022-01-20",
         "08/24/2022",
         "09/28/2019",
         "10/15/2020"
        ],
        [
         "MT78BKKQ78376021246331271546672",
         "16 880",
         "B2C62105-5BD1-75FE-957D-BEF3C2C28722",
         "2021-05-05",
         "02/14/2022",
         "02/25/2020",
         "10/19/2020"
        ],
        [
         "MT70JQBS80633933822692282418107",
         "15 936",
         "EED4DC0E-CA93-E350-31D0-12CAC242E706",
         "2021-12-30",
         "05-11-2022",
         "10/29/2019",
         "10-05-2020"
        ],
        [
         "IE40JLDR21911021348064",
         "44 709",
         "AC1DDDB6-7C8A-6248-BDAA-16DDC9CD7D2C",
         "2021-12-05",
         "11-09-2022",
         "03/31/2020",
         "07/14/2020"
        ],
        [
         "AL64577823362873343132273202",
         "31 809",
         "A2E2436B-4B46-1E4D-1773-99B9E9AB5A16",
         "2021-11-10",
         "11/25/2022",
         "04-08-2020",
         "06-12-2020"
        ],
        [
         "LB73196767262559578871175077",
         "85 166",
         "2B259149-D956-BEE9-44BC-354D19649CF3",
         "2021-10-29",
         "10/14/2022",
         "03/29/2020",
         "11-01-2020"
        ],
        [
         "AT356889111603403817",
         "4 061",
         "57578EE2-7AD2-239A-72C1-EBD8B8A1A7BB",
         "2021-07-10",
         "02-07-2022",
         "11/18/2019",
         "08-08-2020"
        ],
        [
         "HR3441450597060489512",
         "28 447",
         "CBAEE3B4-0C32-1B22-6165-BD2D41E36A1B",
         "2021-12-04",
         "03-06-2022",
         "03/15/2020",
         "06-09-2020"
        ],
        [
         "MT71ERUC57161318920455745388235",
         "82 703",
         "78279C74-1E2A-4854-1806-79B1B88E91C1",
         "2021-11-18",
         "05/26/2022",
         "05/28/2020",
         "06-03-2020"
        ],
        [
         "TN2808458252674805383511",
         "14 094",
         "5774B3C6-1D96-B847-C7A2-AA9DA77ABE61",
         "2021-04-26",
         "09-03-2022",
         "12-10-2019",
         "06/25/2020"
        ],
        [
         "DE37362944392853042044",
         "11 704",
         "37BEA29C-E03A-CC74-DE30-E93A3C7ED5BD",
         "2021-07-20",
         "02/27/2022",
         "02/28/2020",
         "07-07-2020"
        ],
        [
         "MU5063837711277162162189113579",
         "42 768",
         "98B7A267-A198-7718-6219-59F366EB8848",
         "2021-07-09",
         "08-02-2022",
         "11/13/2019",
         "06/14/2020"
        ],
        [
         "DE48585423510433165972",
         "63 523",
         "88EBC079-941D-A272-719B-16CB40C4E356",
         "2021-08-15",
         "10-11-2022",
         "03/20/2020",
         "07/14/2020"
        ],
        [
         "SM5514884835727582311239574",
         "24 425",
         "9651B815-2EC8-F775-BE94-B3EA2731114A",
         "2021-04-25",
         "07/18/2022",
         "11-01-2019",
         "06-03-2020"
        ],
        [
         "IE11VGKO42140831855477",
         "34 002",
         "9B548965-54EE-9D5E-0D0F-C564DBB7DE89",
         "2021-06-19",
         "11/14/2022",
         "02-12-2020",
         "11/18/2020"
        ],
        [
         "RO88LUIP9845112551137017",
         "89 542",
         "7A793B1B-2D83-980B-9AEE-BB975E5A2222",
         "2021-08-12",
         "02-09-2022",
         "09/18/2019",
         "12/18/2020"
        ],
        [
         "MK34112244173504166",
         "14 445",
         "A6398D8D-58AD-1DE1-D198-E2DC2C346BF8",
         "2022-01-11",
         "07-01-2022",
         "03/13/2020",
         "11-08-2020"
        ],
        [
         "LV41OGFI9484877584583",
         "51 625",
         "331919B9-C2D1-5356-62D0-9ED9DBE8BA74",
         "2021-02-08",
         "10/21/2022",
         "04-03-2020",
         "10/19/2020"
        ],
        [
         "GB95CWEM86642744461613",
         "12 904",
         "1BAC8653-55E9-622B-0FCA-3A28CC8890AD",
         "2021-06-23",
         "11-02-2022",
         "10-07-2019",
         "09/17/2020"
        ],
        [
         "MD1829032654733836867342",
         "76 342",
         "52D57811-5AED-4D84-2773-7828EF2734E3",
         "2021-04-21",
         "01-05-2023",
         "12/21/2019",
         "06/15/2020"
        ],
        [
         "HU09519245817691683461745525",
         "38 154",
         "F4EC7D4A-DD4D-1951-124D-C0E26E3D26B4",
         "2021-02-10",
         "09/17/2022",
         "12-01-2019",
         "07/20/2020"
        ],
        [
         "NL21JFFW8543745930",
         "49 220",
         "7A571491-A260-FCF9-8A47-C83D9699B471",
         "2021-09-24",
         "04-09-2022",
         "11-01-2019",
         "09/18/2020"
        ],
        [
         "AD8126565632762244852966",
         "88 538",
         "82E692D7-678A-5B81-4E5A-86830EEC234C",
         "2021-11-19",
         "09-05-2022",
         "03/14/2020",
         "12-03-2020"
        ],
        [
         "SE0875977021969583614624",
         "46 237",
         "338B3628-F961-7186-C5A8-F53D48945422",
         "2021-03-09",
         "04/24/2022",
         "12-04-2019",
         "06-01-2020"
        ],
        [
         "NL69TCSB2039262641",
         "52 468",
         "DE54ADA0-847B-B16C-3A5D-D8486DB5A7A0",
         "2021-07-17",
         "05-05-2022",
         "10/24/2019",
         "08/25/2020"
        ],
        [
         "TN0479453684337308393445",
         "21 243",
         "44EADC00-9397-C963-6836-EB66B54662DE",
         "2022-01-02",
         "07/29/2022",
         "05/22/2020",
         "12/14/2020"
        ],
        [
         "TN8150827702781533319267",
         "75 285",
         "470FCCFC-7473-19C5-AE8B-96BD1C368E3A",
         "2021-04-29",
         "04/24/2022",
         "04/26/2020",
         "09-03-2020"
        ],
        [
         "KZ579660662772069492",
         "39 938",
         "00EA9C2E-98E2-E68D-589C-ED5735C2783A",
         "2021-12-28",
         "03/16/2022",
         "04/21/2020",
         "09/20/2020"
        ],
        [
         "DO34403814683172380326157683",
         "86 200",
         "DE123AA9-C23D-1644-1667-4C4A643E2534",
         "2021-07-27",
         "12/18/2022",
         "01/25/2020",
         "06-10-2020"
        ],
        [
         "SE8245445885255801173645",
         "44 837",
         "52BAEFCF-3ADE-4427-FFD0-1C47D359BEB5",
         "2021-03-15",
         "02/21/2022",
         "04/22/2020",
         "10-02-2020"
        ],
        [
         "ME41415136175498363406",
         "71 535",
         "83E4F76E-1B6B-3D2B-1B3B-A96667E2171C",
         "2021-12-12",
         "10/23/2022",
         "01-07-2020",
         "08/28/2020"
        ],
        [
         "DK8523953269633681",
         "59 313",
         "91D5FB0C-7833-9952-35C1-5BDD43A24BB4",
         "2021-02-10",
         "04/22/2022",
         "11-05-2019",
         "11-07-2020"
        ],
        [
         "FO8387960168039117",
         "67 417",
         "AEEF9B28-8698-261B-FED3-0562455E7DEF",
         "2021-05-23",
         "07/23/2022",
         "02-06-2020",
         "12/16/2020"
        ],
        [
         "SK8352965782751475131236",
         "21 430",
         "C60BD765-B1E4-2D20-9AA1-A467D6482349",
         "2022-01-21",
         "11/13/2022",
         "11-01-2019",
         "10/23/2020"
        ],
        [
         "DO69834474822357438766414462",
         "42 772",
         "FAFDFB9C-6C18-C470-21B8-187E866D9C2B",
         "2021-09-21",
         "06-10-2022",
         "02/23/2020",
         "11/29/2020"
        ],
        [
         "IS897516234726610761174743",
         "18 037",
         "7AB526A6-F0D1-F8AD-2E3D-9F1A7FF347BA",
         "2021-09-29",
         "07/30/2022",
         "03-07-2020",
         "12-08-2020"
        ],
        [
         "BA434737211562791726",
         "51 771",
         "C9BEE4C2-AE7D-D122-72DD-07B3694C01ED",
         "2021-12-06",
         "12-10-2022",
         "01/17/2020",
         "08-03-2020"
        ],
        [
         "BH65800484301604752336",
         "61 139",
         "2DF6AEA3-579D-2BAE-5915-687A1276E808",
         "2021-10-23",
         "02-06-2022",
         "01/23/2020",
         "12-12-2020"
        ],
        [
         "SE9150577535534770902479",
         "15 956",
         "8B98CDF8-A16A-9597-8456-4BAC123C2CD5",
         "2022-01-21",
         "04/30/2022",
         "05-04-2020",
         "07/31/2020"
        ],
        [
         "AE681579382303452723486",
         "70 839",
         "041CB83C-7A3F-8ECE-A873-B27A975EF44C",
         "2021-09-08",
         "03/31/2022",
         "10-11-2019",
         "09/17/2020"
        ],
        [
         "DE45845321941626512332",
         "90 445",
         "BD114AA5-4AFE-F7A6-4646-C4E07A936DA8",
         "2021-06-10",
         "08/19/2022",
         "05-12-2020",
         "07-02-2020"
        ],
        [
         "GL7687023172002511",
         "36 973",
         "4D7660FE-4AC2-F5DD-047F-16E1A1EE042D",
         "2021-07-20",
         "09-07-2022",
         "01-12-2020",
         "08-04-2020"
        ],
        [
         "GB51UGEM86562495151276",
         "74 546",
         "D62F4639-DFB3-9399-2DF1-48E93ED1B1A6",
         "2021-08-28",
         "05/13/2022",
         "11/25/2019",
         "06-03-2020"
        ],
        [
         "LT955666888836136068",
         "61 074",
         "A91B7122-62EC-9138-C757-A164D1424A21",
         "2021-03-11",
         "03/21/2022",
         "09/14/2019",
         "11/29/2020"
        ],
        [
         "ES4230282375653667499863",
         "51 647",
         "61A83F59-5204-236C-595A-F443EA30D38E",
         "2021-06-21",
         "09-02-2022",
         "04-04-2020",
         "07/24/2020"
        ],
        [
         "AD6786344533791461537186",
         "87 069",
         "B9AC1D19-79A6-12A2-9A05-125A29EE558E",
         "2021-03-15",
         "12/24/2022",
         "12-06-2019",
         "12-09-2020"
        ],
        [
         "DK2750415616232861",
         "51 684",
         "D7C34202-4F2C-8271-9F67-4E949FD3B834",
         "2021-08-08",
         "02-03-2022",
         "12/24/2019",
         "12-01-2020"
        ],
        [
         "AL87678477183485327783437378",
         "90 462",
         "B96F28A9-0BB9-E6EA-4CDA-9877E2A67CD9",
         "2021-12-17",
         "03-08-2022",
         "09-04-2019",
         "09-04-2020"
        ],
        [
         "FO9648267544257652",
         "54 224",
         "0D4819AB-CC7F-3417-33CB-531C9F688434",
         "2021-11-01",
         "03/17/2022",
         "11-05-2019",
         "12-10-2020"
        ],
        [
         "MR8767838625411527107538723",
         "15 700",
         "FB2F3D9F-EE4F-1E25-6255-728C7C4DA47B",
         "2021-04-25",
         "03/27/2022",
         "02/24/2020",
         "08/27/2020"
        ],
        [
         "RS55427141940171313450",
         "89 656",
         "2D7E7685-8A19-B8AA-4B03-08AAAE3451C5",
         "2021-05-04",
         "02/28/2022",
         "11/26/2019",
         "06/26/2020"
        ],
        [
         "AZ82573164113831798517236355",
         "822",
         "498AA844-210B-58D8-D6BF-38204EF84E33",
         "2021-07-14",
         "10-08-2022",
         "11/16/2019",
         "10/23/2020"
        ],
        [
         "VG3922762831147386813370",
         "49 109",
         "6E1A3178-8057-0EAA-08FD-CE248E375719",
         "2021-11-02",
         "02/24/2022",
         "02/15/2020",
         "07-11-2020"
        ],
        [
         "PT41153759747136659828383",
         "72 540",
         "1526E2E2-131B-2A6E-8436-1990ADDCC4EB",
         "2021-05-23",
         "04/16/2022",
         "01-06-2020",
         "06-10-2020"
        ],
        [
         "AE342689374553739455375",
         "21 005",
         "47F6BD1C-265B-A585-5A72-242B433C78A9",
         "2021-07-06",
         "07/20/2022",
         "02/15/2020",
         "12/18/2020"
        ],
        [
         "SM6282776411551533524628578",
         "79 661",
         "7373A829-3634-E717-65AE-A90224864596",
         "2021-06-04",
         "03/19/2022",
         "10-05-2019",
         "11/21/2020"
        ],
        [
         "CH4948301274446716731",
         "84 909",
         "57C24510-1D1E-5785-1ABE-16DF19C26670",
         "2021-06-23",
         "11-01-2022",
         "12/31/2019",
         "06/15/2020"
        ],
        [
         "AZ25561352152376284050657528",
         "52 059",
         "404CA2A2-DE14-7161-8D8E-D1B8C5211EAA",
         "2021-09-05",
         "03/23/2022",
         "10-09-2019",
         "08/13/2020"
        ],
        [
         "RO04OWUP2283045418813373",
         "3 041",
         "7BEA3875-CD92-5C2B-3A78-49E9D7DDC318",
         "2021-01-24",
         "11/30/2022",
         "04/19/2020",
         "07-12-2020"
        ],
        [
         "MU1937715446528481925334683111",
         "78 526",
         "39D2D6B7-4E83-651A-7674-52C9778CBD3D",
         "2021-01-26",
         "04/20/2022",
         "10/14/2019",
         "10/27/2020"
        ],
        [
         "IT156ABMKI28354085260709419",
         "14 140",
         "06583AC8-77CC-41DE-9E68-485F4908D066",
         "2021-03-04",
         "03/20/2022",
         "03-08-2020",
         "11/27/2020"
        ],
        [
         "BE19177241231769",
         "53 899",
         "2C52C63F-9021-D3C8-D074-C448A915537D",
         "2021-03-31",
         "11-08-2022",
         "12/29/2019",
         "12-10-2020"
        ],
        [
         "PT73818416242750553774027",
         "49 677",
         "8132ADBB-6DA1-78C6-B05B-EA318B17B3BE",
         "2021-09-23",
         "02/16/2022",
         "05/23/2020",
         "08/15/2020"
        ],
        [
         "BG48EFEF22415003143552",
         "42 336",
         "47A91C4A-CE66-6912-B611-AA691354115B",
         "2021-03-12",
         "03/21/2022",
         "02/22/2020",
         "11-01-2020"
        ],
        [
         "FO3747749468288757",
         "75 001",
         "F734C6FB-4288-CA10-8C98-08E40451E6D9",
         "2021-02-21",
         "06/24/2022",
         "11/18/2019",
         "06/30/2020"
        ],
        [
         "LU697176763385554358",
         "25 220",
         "4628E514-E5EA-BCE7-77B7-6055648D12ED",
         "2021-05-29",
         "10/26/2022",
         "10/29/2019",
         "09/24/2020"
        ],
        [
         "CR6987112527098239805",
         "12 059",
         "396A3A85-4AD3-5974-C5A9-D2617CD8BAFA",
         "2022-01-31",
         "08-01-2022",
         "12/25/2019",
         "11/30/2020"
        ],
        [
         "CZ1278347741263471252553",
         "64 913",
         "62758B96-FD8B-A769-57BE-8C26C76F9498",
         "2021-06-08",
         "01-03-2023",
         "09-05-2019",
         "10-11-2020"
        ],
        [
         "BG15YQKO69347283786361",
         "88 086",
         "6DC4A64A-13D8-F98C-8EE3-C914443E345C",
         "2021-02-08",
         "04-09-2022",
         "12/28/2019",
         "10/14/2020"
        ],
        [
         "MD6852383867320847188312",
         "38 229",
         "5473C117-2A55-5823-9354-37A3024DABBC",
         "2021-04-15",
         "09-04-2022",
         "10/28/2019",
         "10-01-2020"
        ],
        [
         "LV54JKHM1668671646888",
         "59 991",
         "54A9341D-FBD6-DDDA-9BAE-537B9E69EC80",
         "2021-10-31",
         "03/31/2022",
         "03-08-2020",
         "11/13/2020"
        ],
        [
         "FR1916566882334581071882806",
         "35 166",
         "EAA06628-BF91-763A-2F39-B6F918833AE3",
         "2021-10-12",
         "09-02-2022",
         "04/26/2020",
         "07/19/2020"
        ],
        [
         "AT557582877840436274",
         "47 286",
         "689E02AC-E549-41CC-8998-DC291B155597",
         "2021-06-23",
         "06/30/2022",
         "10-01-2019",
         "12/16/2020"
        ],
        [
         "CZ7993439700623364517543",
         "93 558",
         "B16C496C-DB80-C4AA-9B55-E6532458885F",
         "2021-11-26",
         "05-06-2022",
         "03-02-2020",
         "11-07-2020"
        ],
        [
         "ES1925793550183168354579",
         "21 594",
         "5A27BD3A-70B5-1E3E-3897-DD167833669D",
         "2022-01-02",
         "03-12-2022",
         "11/21/2019",
         "07/21/2020"
        ],
        [
         "GB97RMHJ82833561429825",
         "83 160",
         "26D53233-F0E9-5934-2E7C-536CA59BA604",
         "2021-10-24",
         "09/25/2022",
         "03/22/2020",
         "07/16/2020"
        ],
        [
         "VG8266587794246838655783",
         "83 430",
         "7ED751B2-C18C-F2DA-7B9A-A5BA55254843",
         "2021-12-21",
         "07/14/2022",
         "03/27/2020",
         "07/21/2020"
        ],
        [
         "ME61321216169424783451",
         "32 011",
         "D244C1E4-254C-2AB3-CD56-052FC6EA3576",
         "2021-08-12",
         "11-12-2022",
         "09/16/2019",
         "06/25/2020"
        ],
        [
         "PK6029411967519907657762",
         "81 773",
         "A8724833-E491-00FE-D9A7-39512A2E91A5",
         "2022-01-12",
         "12-09-2022",
         "03-04-2020",
         "11/25/2020"
        ],
        [
         "KW3058626867389056449514701615",
         "34 233",
         "B451E32B-637B-FAC1-357D-96A55F1D5173",
         "2021-04-09",
         "07/19/2022",
         "02/25/2020",
         "11-06-2020"
        ],
        [
         "GE88767006682746465961",
         "12 642",
         "93D66EDC-B36C-B03C-A514-341CBFE4AE19",
         "2021-10-07",
         "11/14/2022",
         "01-03-2020",
         "11/28/2020"
        ],
        [
         "LI0224604270151888285",
         "88 758",
         "2EA5323D-BDC3-2019-D6C7-EF73D9E6E426",
         "2021-06-08",
         "09-07-2022",
         "02-08-2020",
         "07/28/2020"
        ],
        [
         "DK4528782055516248",
         "26 395",
         "89A4E53C-45D3-7ED7-86AD-089398D106DE",
         "2021-08-24",
         "05/19/2022",
         "01/15/2020",
         "06-08-2020"
        ],
        [
         "SE0641182487356164121153",
         "31 833",
         "A895A513-3DB1-719D-B835-D0192C2EFDFC",
         "2021-09-23",
         "06/24/2022",
         "04-11-2020",
         "08/24/2020"
        ],
        [
         "ES6018918658233360625615",
         "21 915",
         "B571DF61-3703-76AA-1484-6B65E2584424",
         "2021-09-28",
         "12/23/2022",
         "11-07-2019",
         "10/28/2020"
        ],
        [
         "CZ0307982478848224068010",
         "55 825",
         "94BA6C94-7245-D24B-0219-B62F2CA522DC",
         "2021-03-29",
         "12/17/2022",
         "12/18/2019",
         "07-01-2020"
        ],
        [
         "SK9867312624663537153102",
         "57 111",
         "9308AFF8-10C2-E6AB-8B52-3BECD7C305B9",
         "2021-10-10",
         "10-06-2022",
         "12/31/2019",
         "10/30/2020"
        ],
        [
         "TN8783450569055588618340",
         "3 837",
         "C2487D94-A6B9-6833-21F9-AD73091F542D",
         "2021-06-22",
         "01-06-2023",
         "05-11-2020",
         "12/24/2020"
        ],
        [
         "RO93BMVY7627737811431397",
         "38 665",
         "9C63E116-D3D9-8A80-3671-C6AC34FCA427",
         "2022-01-03",
         "03-07-2022",
         "12-09-2019",
         "10/24/2020"
        ],
        [
         "SE0461383742809370677856",
         "32 572",
         "8DCF294B-3D4E-AEB4-D2D9-3A0D18AC5802",
         "2021-05-22",
         "04/23/2022",
         "02-04-2020",
         "09/23/2020"
        ],
        [
         "GE84467077804567623526",
         "42 539",
         "C417372D-5276-31EC-F272-98B6C17E3C57",
         "2021-10-03",
         "12/16/2022",
         "03/20/2020",
         "10/25/2020"
        ],
        [
         "GR2136934834066412965135673",
         "47 813",
         "238DA505-17DA-C32E-C907-66AA76272716",
         "2021-08-07",
         "02-07-2022",
         "04-06-2020",
         "06-09-2020"
        ],
        [
         "IE26UOEH71216257221628",
         "12 041",
         "E761C1A2-B011-09C1-C77B-C48C3C81D296",
         "2021-12-14",
         "07/31/2022",
         "12/26/2019",
         "11/24/2020"
        ],
        [
         "IE73YLWH41473285231241",
         "33 650",
         "A7EA6B64-0229-530B-E93E-D16F36C67242",
         "2021-07-22",
         "01-11-2023",
         "11-09-2019",
         "10/22/2020"
        ],
        [
         "IE56XSMO64071816820351",
         "99 089",
         "5925A319-540D-5378-DDA2-426721AD76A1",
         "2021-08-04",
         "06/30/2022",
         "12/27/2019",
         "09-09-2020"
        ],
        [
         "GE75807681635026591266",
         "14 556",
         "D2CDD04C-59E6-FC27-2633-CB5C309185A7",
         "2021-03-06",
         "09-07-2022",
         "12-02-2019",
         "09-12-2020"
        ],
        [
         "TR341763443553582865326645",
         "14 359",
         "AC89B84D-5398-2FEE-9B3D-43A9234D73F8",
         "2021-07-19",
         "10-04-2022",
         "09-12-2019",
         "10/19/2020"
        ],
        [
         "CZ8343949528942123053152",
         "16 606",
         "4BE5A450-96AE-4D93-E249-BA5A8EC3293C",
         "2021-01-14",
         "03/22/2022",
         "10-07-2019",
         "11/27/2020"
        ],
        [
         "BG22GWKK84201137574320",
         "88 400",
         "149AA3FE-CA8F-1B35-BC47-CC3523C2E1C2",
         "2021-12-01",
         "11-11-2022",
         "12-06-2019",
         "06/22/2020"
        ],
        [
         "TR290510119578367297815474",
         "33 239",
         "99527AD4-4797-6246-0D88-78C52E0F1447",
         "2021-03-05",
         "06-10-2022",
         "04/23/2020",
         "09/14/2020"
        ],
        [
         "BH13782243877334875185",
         "7 062",
         "55B772C6-3D1A-F5BB-7E62-305681E8E655",
         "2021-05-09",
         "05/15/2022",
         "10-10-2019",
         "11/22/2020"
        ],
        [
         "BG29BUCM66538596737446",
         "94 180",
         "D231D6AB-1877-979E-4DAD-7F108A93AF5E",
         "2021-11-24",
         "04-04-2022",
         "01/19/2020",
         "07/19/2020"
        ],
        [
         "AT588322123532332486",
         "18 424",
         "F1858D1B-842E-1BAA-137D-B1FDB7837D33",
         "2021-12-08",
         "08/27/2022",
         "11-09-2019",
         "08-10-2020"
        ],
        [
         "AZ66251839955608433806129535",
         "42 860",
         "8D387C28-9C78-2E65-93E6-7296AF9E5B13",
         "2022-01-21",
         "08-02-2022",
         "05/16/2020",
         "10/31/2020"
        ],
        [
         "DE35320072298618375113",
         "97 180",
         "4CE3F435-3A34-06B1-8B37-ACA52B85B9AA",
         "2021-12-05",
         "09-05-2022",
         "01/15/2020",
         "10/18/2020"
        ],
        [
         "AD9637955327556276294218",
         "62 932",
         "24B285B4-8C93-47C5-27CC-913223EA2575",
         "2022-01-03",
         "07-02-2022",
         "11/21/2019",
         "08/24/2020"
        ],
        [
         "EE874617766473853388",
         "58 661",
         "E313A241-6C86-5DF1-FB66-2F51944DDE32",
         "2021-09-30",
         "02/21/2022",
         "11-03-2019",
         "06/28/2020"
        ],
        [
         "IS159810930468868364458187",
         "23 192",
         "8C8B841C-6685-FE5C-25AC-2645787B10A7",
         "2021-01-16",
         "03/22/2022",
         "04-06-2020",
         "10-09-2020"
        ],
        [
         "BA526313748897123346",
         "57 386",
         "5B1258AC-58D4-77DE-45B4-6DC9399682B3",
         "2021-08-03",
         "10/23/2022",
         "09-03-2019",
         "06-12-2020"
        ],
        [
         "EE764537114478243784",
         "84 886",
         "453A5BA1-BD24-2E64-6BC0-3008557B1C8C",
         "2021-07-15",
         "11/16/2022",
         "11-04-2019",
         "10/17/2020"
        ],
        [
         "NO4048673176524",
         "54 504",
         "31B103A8-1DD2-CE65-C828-6D3548F5B9F5",
         "2021-05-19",
         "12/23/2022",
         "02-07-2020",
         "12/17/2020"
        ],
        [
         "BA897112482666633257",
         "11 921",
         "E7DE6C54-1E6B-942A-0A29-B17D15188A80",
         "2021-05-18",
         "03-03-2022",
         "04-06-2020",
         "10/22/2020"
        ],
        [
         "BG19NXHM02515986744660",
         "37 396",
         "3544E309-3552-E60A-DA77-981AA388D209",
         "2021-02-28",
         "06/27/2022",
         "10/22/2019",
         "10/13/2020"
        ],
        [
         "GT21779318422629898038716416",
         "17 570",
         "B9B4AF1D-0BF9-5A93-6CF1-69DE3839957B",
         "2021-08-18",
         "10/24/2022",
         "05-02-2020",
         "06/14/2020"
        ],
        [
         "GB34HKKL33376821153677",
         "19 598",
         "C8A7CAA7-797C-0699-B716-2273437E6857",
         "2021-10-31",
         "07-03-2022",
         "12-07-2019",
         "09/27/2020"
        ],
        [
         "CH9221654271125692577",
         "77 430",
         "D493E428-A426-3ED1-A9DD-6FB7654F11E7",
         "2021-05-16",
         "02/24/2022",
         "12/14/2019",
         "11/17/2020"
        ],
        [
         "IS321866011672774381236549",
         "74 440",
         "18368144-3BFA-54E5-222C-B1E46625BDA1",
         "2021-07-26",
         "11-07-2022",
         "10/13/2019",
         "07/26/2020"
        ],
        [
         "KZ988273575233825206",
         "82 536",
         "4AA349A5-2593-B8E6-98BC-1589A852C085",
         "2021-08-13",
         "06/30/2022",
         "04-07-2020",
         "07-12-2020"
        ],
        [
         "SA6496699884908860442834",
         "48 248",
         "DB41D349-9EA8-4719-261C-16A8A35C47C8",
         "2021-03-10",
         "08-10-2022",
         "11-11-2019",
         "08/13/2020"
        ],
        [
         "GE48235267846083620264",
         "35 058",
         "62CC3342-4F78-05D4-3BB3-5A7A38AFE11E",
         "2021-03-30",
         "11/16/2022",
         "10-08-2019",
         "10-08-2020"
        ],
        [
         "GE89665341318324825298",
         "12 828",
         "72A5E7C2-9419-C81D-1BCA-AC2D7748560E",
         "2021-11-18",
         "08-12-2022",
         "03-02-2020",
         "06/29/2020"
        ],
        [
         "NL66HWBW6364263668",
         "54 544",
         "1B83A4EB-E8C2-361D-B785-B4E6EC2EEDB3",
         "2021-04-09",
         "12/18/2022",
         "05/26/2020",
         "10/13/2020"
        ],
        [
         "MK66426527465951116",
         "5 981",
         "D628AD69-58D6-D5D9-67FB-F7D7E1D964B3",
         "2021-09-02",
         "07/21/2022",
         "12/28/2019",
         "06/15/2020"
        ],
        [
         "MR7950712811581581745486595",
         "37 077",
         "A12A6537-5FA1-335C-96BB-3B4DA97D5D76",
         "2022-01-06",
         "12-11-2022",
         "05-05-2020",
         "11/18/2020"
        ],
        [
         "IE83ATJF34856957128186",
         "57 170",
         "E3198E1C-FC6E-26DC-2D23-AA3D6681573E",
         "2021-03-18",
         "12/28/2022",
         "03-02-2020",
         "11/19/2020"
        ],
        [
         "SE5654251051436262422164",
         "69 736",
         "8A6C16F6-878D-C295-955E-D8544322A79F",
         "2021-12-16",
         "06/13/2022",
         "03-02-2020",
         "06/15/2020"
        ],
        [
         "ME88272122366268840152",
         "19 186",
         "A5A0D843-8CB4-3D65-E6BF-5E01B399F8FE",
         "2021-09-15",
         "05/23/2022",
         "12/22/2019",
         "10-10-2020"
        ],
        [
         "ES0364579174832632115827",
         "29 042",
         "AEF8A4BC-CD31-24D1-AAA7-922DC5E3F309",
         "2021-07-15",
         "10/21/2022",
         "12-11-2019",
         "10-12-2020"
        ],
        [
         "MR8381484864212937129544451",
         "61 553",
         "D4341EB8-67E3-46C7-B7EC-9A3EDB897C52",
         "2021-12-30",
         "09/19/2022",
         "05/31/2020",
         "07-02-2020"
        ],
        [
         "AD9212023053558507136524",
         "34 473",
         "D2424A88-F410-4DB8-019E-46B2DEAFCAE8",
         "2021-02-05",
         "03/29/2022",
         "04-02-2020",
         "09/15/2020"
        ],
        [
         "IL255552131824470369856",
         "64 232",
         "363BD91B-4EFE-241E-2938-93A3C91BE864",
         "2021-05-01",
         "03/15/2022",
         "09-06-2019",
         "10-02-2020"
        ],
        [
         "GT52328722222878296118575268",
         "6 226",
         "70136A13-7B2E-B1D7-8258-8BEA6177B45B",
         "2021-12-25",
         "11/24/2022",
         "03-01-2020",
         "08/18/2020"
        ],
        [
         "BH41723605473384668310",
         "1 261",
         "C5D3ED6C-D6B4-D577-9E41-1B8791B7B9CC",
         "2021-04-22",
         "09-11-2022",
         "03/18/2020",
         "06/17/2020"
        ],
        [
         "BH65767428394662599118",
         "34 349",
         "BB431AB0-1448-83C9-7C69-1AEB973BFC6D",
         "2021-06-04",
         "06-09-2022",
         "02/20/2020",
         "07-10-2020"
        ],
        [
         "PL02877264425111438817368476",
         "86 545",
         "6765CF83-E8C8-5B97-7EE5-F6A8200AD975",
         "2021-09-28",
         "03/15/2022",
         "11-11-2019",
         "08-06-2020"
        ],
        [
         "AL16078157761611407354448584",
         "72 951",
         "A33281B8-1BC6-2EFD-8CBB-738CD21BEC76",
         "2021-04-05",
         "09/30/2022",
         "11/19/2019",
         "07/18/2020"
        ],
        [
         "NO3142925166109",
         "24 834",
         "2CAB5911-3943-80A2-3E8E-2E7329224922",
         "2021-03-23",
         "10/26/2022",
         "09/23/2019",
         "10-11-2020"
        ],
        [
         "BE72000769201819",
         "27 880",
         "A94C68D3-986B-41A3-71E6-CDF7C9B8B08A",
         "2021-02-22",
         "06/17/2022",
         "01/18/2020",
         "06-12-2020"
        ],
        [
         "PT55422481420602120710121",
         "45 637",
         "316D892C-ECC6-EC29-9BE8-1128F610B6DC",
         "2021-10-23",
         "05/27/2022",
         "11-11-2019",
         "12/16/2020"
        ],
        [
         "MT53LOSP75196944842636567355652",
         "97 149",
         "8D62185A-B524-1E28-E5DC-8CD36B982484",
         "2021-02-05",
         "11/29/2022",
         "11-10-2019",
         "11-04-2020"
        ],
        [
         "FI9552465474732520",
         "19 952",
         "C24B9928-5411-7330-EA28-D920C4E64619",
         "2021-05-16",
         "06/15/2022",
         "11/16/2019",
         "09/13/2020"
        ],
        [
         "FO0336528822663362",
         "75 622",
         "40C9D63E-C63A-267D-E483-51DDE418C0B7",
         "2021-06-10",
         "09/18/2022",
         "10/29/2019",
         "07/15/2020"
        ],
        [
         "LB42893766282184766541657864",
         "55 033",
         "59817ADA-7B75-A0D2-7C5F-7FCD28AD668D",
         "2021-10-09",
         "08/21/2022",
         "12/21/2019",
         "08-12-2020"
        ],
        [
         "MU2628768146307463237850787617",
         "61 501",
         "322B4841-D4BB-ED76-774C-9A7E7494D6BD",
         "2021-10-19",
         "03/16/2022",
         "04/16/2020",
         "10/31/2020"
        ],
        [
         "SK5466575188523685024062",
         "64 884",
         "A0AC8270-6825-58EA-2CD5-C96B374DD1A0",
         "2021-03-25",
         "08/13/2022",
         "11/15/2019",
         "11/26/2020"
        ],
        [
         "HU29851807770613755054746121",
         "40 133",
         "9B333925-5A58-372A-6BAE-84D8934C2EBC",
         "2021-06-09",
         "06/18/2022",
         "01-09-2020",
         "08/22/2020"
        ],
        [
         "GB67OTME10970330433834",
         "94 734",
         "80E41A7F-340B-75D9-ACDD-54E5C69EC7EB",
         "2022-01-21",
         "05/24/2022",
         "04-06-2020",
         "12/21/2020"
        ],
        [
         "IE11YLTB81923578116955",
         "7 875",
         "DB371B72-0AE8-2C40-BBD7-738C380C7777",
         "2021-08-01",
         "01-10-2023",
         "10/14/2019",
         "10/16/2020"
        ],
        [
         "DK0880872885465758",
         "61 890",
         "38A39EBD-CA91-7877-5E29-74559556DE5D",
         "2021-01-29",
         "10/24/2022",
         "03-11-2020",
         "06/25/2020"
        ],
        [
         "PL95156262335434418535769515",
         "5 383",
         "B8AC5398-69A9-DFD0-D37C-0822A082755C",
         "2021-12-12",
         "02/22/2022",
         "12/24/2019",
         "11/16/2020"
        ],
        [
         "SM5093683693732878697846883",
         "72 010",
         "763F96E2-3AC1-B8AB-2CD2-53B15590E769",
         "2021-11-18",
         "09/29/2022",
         "02/23/2020",
         "06-02-2020"
        ],
        [
         "NL91EECD2240675347",
         "91 893",
         "7D456973-79C0-AE8D-492C-062B97D62F1D",
         "2021-04-13",
         "09/15/2022",
         "12-04-2019",
         "10-05-2020"
        ],
        [
         "PK9553328964279441733652",
         "83 142",
         "C9C5CDB5-A5D4-F5B3-E1D4-992A4BC2A7B7",
         "2021-07-30",
         "11/15/2022",
         "12/30/2019",
         "06/22/2020"
        ],
        [
         "FO7248612792417653",
         "80 708",
         "5AE84BFE-A511-14E3-33E1-96AC52A74625",
         "2021-05-28",
         "11-01-2022",
         "01/17/2020",
         "12/27/2020"
        ],
        [
         "EE556183767146513732",
         "69 791",
         "1FF6E84A-7B63-2E80-5901-2AC275E79ADD",
         "2021-12-01",
         "06/25/2022",
         "12-04-2019",
         "09-10-2020"
        ],
        [
         "CZ2676772366810411225426",
         "73 903",
         "45CA239D-7C51-8B33-B648-EAD4BDF78511",
         "2021-02-21",
         "09/25/2022",
         "09/16/2019",
         "10-01-2020"
        ],
        [
         "NL68VAEB4105982104",
         "72 305",
         "6E92A8D3-12BC-A8BE-C7B6-3107AD987BCC",
         "2021-07-13",
         "04-12-2022",
         "03/19/2020",
         "07/16/2020"
        ],
        [
         "DO65658788692128894777028948",
         "21 910",
         "843A4A25-FA7F-631C-2DDA-CDCDBC72EBFA",
         "2021-03-30",
         "09-08-2022",
         "05/16/2020",
         "08/17/2020"
        ],
        [
         "HR8501187638108162712",
         "67 761",
         "13ECF55E-7B22-B5D3-13E1-0EDB8922747D",
         "2021-05-04",
         "06-12-2022",
         "11/24/2019",
         "10/28/2020"
        ],
        [
         "AD7154815531173884539225",
         "81 426",
         "5DEA4829-E1B3-E60A-C85F-22337FEE3C69",
         "2021-01-17",
         "09/28/2022",
         "10/27/2019",
         "11/13/2020"
        ],
        [
         "IL623130873328511961237",
         "71 398",
         "2CA5931C-15EC-B96F-FBBC-97E9C42B1226",
         "2021-03-03",
         "06/16/2022",
         "11/24/2019",
         "10-01-2020"
        ],
        [
         "RO53WSGQ8184333704332132",
         "94 423",
         "FDC5FD96-FF81-A7B8-6123-F694C86AD692",
         "2021-03-05",
         "08-09-2022",
         "04-05-2020",
         "06/30/2020"
        ],
        [
         "PT27545561456900435477955",
         "11 083",
         "9672183E-EB3C-6ABC-1DA4-D8CD0A23DE3C",
         "2021-08-15",
         "12-01-2022",
         "02/14/2020",
         "12/25/2020"
        ],
        [
         "FR2053282318821024549553369",
         "24 068",
         "64733687-3294-E31E-AE75-19578D9F7948",
         "2021-09-13",
         "08/30/2022",
         "12-08-2019",
         "08/19/2020"
        ],
        [
         "GT17033481474142429522471393",
         "67 579",
         "EB664914-8196-9D94-9BC7-E51CAC499124",
         "2021-02-22",
         "09/24/2022",
         "03/24/2020",
         "10-05-2020"
        ],
        [
         "AT347276405182597025",
         "10 685",
         "8F144C8C-B339-514C-1C91-12CDA93ECEB4",
         "2021-07-04",
         "10-11-2022",
         "10-03-2019",
         "10/24/2020"
        ],
        [
         "HU57571355741345088518166156",
         "62 503",
         "13B85F57-FDCA-2BE0-A1D3-16916FF52C59",
         "2021-11-08",
         "12/18/2022",
         "12/26/2019",
         "10/27/2020"
        ],
        [
         "AD8245016076003706705731",
         "97 595",
         "24AA2E80-EC64-CAAC-5DA2-6AB1B123B7A6",
         "2021-09-24",
         "04-02-2022",
         "05/13/2020",
         "11/22/2020"
        ],
        [
         "NL69XXLI6586064410",
         "35 543",
         "91453859-789A-5F9A-34A3-821774F98A9D",
         "2021-04-30",
         "08/14/2022",
         "09/27/2019",
         "10/25/2020"
        ],
        [
         "PT33518257401120247352318",
         "57 643",
         "893D1EBA-EA90-90BC-5F87-B9B067D1CB73",
         "2021-09-06",
         "10-05-2022",
         "05/23/2020",
         "07/31/2020"
        ],
        [
         "BH49743774694586250864",
         "19 877",
         "BC8E639C-3C15-28FE-E327-99FB3E75692E",
         "2021-02-16",
         "08-07-2022",
         "10-08-2019",
         "09/26/2020"
        ],
        [
         "HR2783652214254110236",
         "28 283",
         "5AA7381F-6625-ED71-FD8F-4E98C2A556E5",
         "2022-01-15",
         "07-04-2022",
         "09/20/2019",
         "07/29/2020"
        ],
        [
         "GL4925087076196051",
         "35 278",
         "2D5E1388-C77E-84B9-7D87-6EB3BA886E3E",
         "2021-01-30",
         "01-05-2023",
         "02-03-2020",
         "08/22/2020"
        ],
        [
         "ES0347784660397731568031",
         "70 319",
         "C94B8BE1-9CD1-388C-52B2-7EF5E58E82DB",
         "2021-06-03",
         "11/23/2022",
         "11-04-2019",
         "07-10-2020"
        ],
        [
         "MT02GCER13126655116414426092882",
         "92 472",
         "2927BCCD-AF44-DED1-A2F3-85342913E85A",
         "2021-05-23",
         "09/16/2022",
         "10/31/2019",
         "07-12-2020"
        ],
        [
         "GE12544148026249234678",
         "56 709",
         "9BD4DCAC-4CEE-8D3B-F8D8-1AEDEE23AACF",
         "2021-12-30",
         "04-09-2022",
         "03/18/2020",
         "10-11-2020"
        ],
        [
         "DE04417623966623558656",
         "70 802",
         "347563AB-03C4-AA83-C581-5D13378695DF",
         "2021-05-10",
         "02/25/2022",
         "03/29/2020",
         "06-09-2020"
        ],
        [
         "FO2856325312562013",
         "6 924",
         "13E24213-843B-D7B9-C32C-3D153B238491",
         "2021-10-13",
         "03-08-2022",
         "04-03-2020",
         "08-03-2020"
        ],
        [
         "BH76611761367965352040",
         "13 198",
         "09E4175E-A393-D38A-5ABB-510C958D6338",
         "2022-01-18",
         "01-08-2023",
         "04/23/2020",
         "10-11-2020"
        ],
        [
         "BG20QHPN25377745936446",
         "58 526",
         "C6897A9E-F470-41E2-7555-E57CE14D2BE7",
         "2021-10-28",
         "01-07-2023",
         "03-11-2020",
         "09/29/2020"
        ],
        [
         "BG09PWTH10721734760679",
         "60 318",
         "FCBCEDAB-E23E-84CA-B374-49D3030E2E86",
         "2022-01-21",
         "03/13/2022",
         "03/24/2020",
         "07/25/2020"
        ],
        [
         "IS216288946276343915419252",
         "19 300",
         "0D3267C8-FDD6-E3CC-D55D-E9C15AA2F6B1",
         "2021-02-27",
         "11-03-2022",
         "03/24/2020",
         "10-12-2020"
        ],
        [
         "GE69783486778687362312",
         "16 234",
         "A2541614-B485-548F-2D14-3696EE18D45B",
         "2021-01-12",
         "05/21/2022",
         "09/27/2019",
         "10/17/2020"
        ],
        [
         "MU0254729769638756466764260453",
         "602",
         "86C0D82B-6653-38DA-218D-C01CB2C88F79",
         "2021-07-27",
         "12-04-2022",
         "01-12-2020",
         "08-05-2020"
        ],
        [
         "LB60507129115152525416244480",
         "45 619",
         "0E1CEA32-2D53-32C8-C6E1-86E6DCBB5342",
         "2021-10-12",
         "03/15/2022",
         "10-01-2019",
         "07/31/2020"
        ],
        [
         "IE40LOIB54481940823577",
         "55 563",
         "B5D5B5AB-34B9-DFD8-1775-EB45DCD51CD9",
         "2021-06-20",
         "05-11-2022",
         "02/26/2020",
         "12/22/2020"
        ],
        [
         "AT629653016251863454",
         "64 780",
         "484267BD-CE73-C226-AADD-975C8F501A5E",
         "2021-09-28",
         "05-09-2022",
         "02/19/2020",
         "10-08-2020"
        ],
        [
         "BA633354145346903027",
         "83 032",
         "D3C61C36-14D7-6437-E6B4-AC6504D277A2",
         "2021-11-26",
         "06/24/2022",
         "04-10-2020",
         "07/21/2020"
        ],
        [
         "AT057564139376445721",
         "77 830",
         "114199E2-9F29-7D31-88A8-378D514B9309",
         "2021-02-05",
         "09/29/2022",
         "02/21/2020",
         "07/31/2020"
        ],
        [
         "DO85571417380551932131283731",
         "46 273",
         "3C80748B-C559-87D4-7CE4-D9EF3171BE29",
         "2021-05-28",
         "08-04-2022",
         "11-08-2019",
         "08/23/2020"
        ],
        [
         "AZ73273146808755562156426851",
         "52 265",
         "94E26B2D-CCC9-46D2-1CAD-C0C1F6CD8A32",
         "2021-05-14",
         "07/19/2022",
         "04-06-2020",
         "12/15/2020"
        ],
        [
         "MT56LGMO83112548818265333487582",
         "29 300",
         "1B4D75C3-35ED-B497-B194-C7613DCF6A12",
         "2021-01-27",
         "07-03-2022",
         "03-08-2020",
         "09-06-2020"
        ],
        [
         "AD4411011369379791348876",
         "22 530",
         "7A9E9DF8-1749-E6A0-77BD-5B44E8E6B271",
         "2021-12-02",
         "12/14/2022",
         "05/21/2020",
         "08-08-2020"
        ],
        [
         "GB42TTBD05887853812672",
         "69 900",
         "416818B7-DB13-10E3-E8AB-8E418B48A4DC",
         "2021-06-06",
         "02/13/2022",
         "02/13/2020",
         "10/14/2020"
        ],
        [
         "VG5315466554017284947316",
         "76 000",
         "941A3BE5-C955-6D0E-C327-9665896F7433",
         "2021-07-15",
         "05/18/2022",
         "03/28/2020",
         "06/24/2020"
        ],
        [
         "LI2075535114849227711",
         "23 860",
         "47C32158-2C22-E4B8-E1E8-120BE445B131",
         "2021-11-23",
         "04-11-2022",
         "04-09-2020",
         "12-03-2020"
        ],
        [
         "RO34VNWN2401671825983153",
         "90 690",
         "398D171A-1397-82D7-FB00-D45A4680CB51",
         "2021-06-03",
         "06/15/2022",
         "01/23/2020",
         "08/18/2020"
        ],
        [
         "HU30491421425567594628188243",
         "36 050",
         "9BE66B2A-1937-4670-2937-11D18CA81BEA",
         "2021-07-03",
         "06-09-2022",
         "12/23/2019",
         "10/23/2020"
        ],
        [
         "TR877177024777165398634790",
         "65 531",
         "1D43241C-8155-632E-DC2D-978648D876D5",
         "2021-07-28",
         "04/30/2022",
         "04-12-2020",
         "06-03-2020"
        ],
        [
         "FI1788637156764447",
         "44 184",
         "38E3D8BC-2E12-67E3-5938-E2D7E31D5E6B",
         "2021-08-02",
         "10/24/2022",
         "02/24/2020",
         "07/17/2020"
        ],
        [
         "BE46867785862338",
         "6 367",
         "84DC6D7D-1DD9-25EB-E2B1-9EBA61A76257",
         "2021-11-22",
         "06-08-2022",
         "02/22/2020",
         "10/25/2020"
        ],
        [
         "PL06754684654084443134815511",
         "14 649",
         "1BCA15C6-C973-7B9D-0F73-8EF4A5FE703A",
         "2021-03-05",
         "11/18/2022",
         "10-04-2019",
         "12-01-2020"
        ],
        [
         "GB35GLFR31960136813623",
         "20 090",
         "F9056437-0FAD-DA39-CB09-BD6ADEBE9445",
         "2021-07-10",
         "10/20/2022",
         "04-06-2020",
         "10-06-2020"
        ],
        [
         "PL71706787435832193595081707",
         "23 919",
         "42953C1B-0981-630D-9C31-5A7B45D398E5",
         "2021-03-11",
         "12-11-2022",
         "03/22/2020",
         "09-03-2020"
        ],
        [
         "GR6721337809511412239865153",
         "88 756",
         "018A1BCD-5616-960D-BCCC-3ED1C2596EC7",
         "2022-01-23",
         "10/14/2022",
         "01/18/2020",
         "11-11-2020"
        ],
        [
         "PK6455924157351745634668",
         "1 089",
         "8B94EBB3-287D-D9E4-A3A5-0EC30CAC5A19",
         "2021-10-03",
         "10/21/2022",
         "11/27/2019",
         "06/13/2020"
        ],
        [
         "AL80104694324693118456821269",
         "41 910",
         "6E48D163-3D3B-D1CF-E453-2677FA0EA740",
         "2021-08-23",
         "05-03-2022",
         "09-10-2019",
         "09-01-2020"
        ],
        [
         "IT151WGMUI50433843468123027",
         "34 769",
         "30F7D381-55C7-B272-B184-466B6C7C6E99",
         "2021-07-29",
         "12/31/2022",
         "04/30/2020",
         "10-06-2020"
        ],
        [
         "DK1522128239846211",
         "39 658",
         "FC36BB35-ED38-9C63-44DD-0C0D35993B91",
         "2021-06-28",
         "02/19/2022",
         "02-03-2020",
         "10-03-2020"
        ],
        [
         "HU26033112151132306185204215",
         "50 379",
         "92371D99-9DAD-34B6-8EE3-2E925CCBB67E",
         "2021-02-17",
         "08/16/2022",
         "11-10-2019",
         "07-06-2020"
        ],
        [
         "AZ62533768882662822555843471",
         "82 990",
         "16545702-196B-72F9-63DB-DC3E69986C29",
         "2021-11-04",
         "12/30/2022",
         "05-01-2020",
         "08/13/2020"
        ],
        [
         "IL396561629738747814470",
         "89 919",
         "FE83C392-73D4-94D6-47CD-EE16B66DDDEC",
         "2021-04-28",
         "10/20/2022",
         "12-04-2019",
         "08-09-2020"
        ],
        [
         "SA2547639542432315176653",
         "45 214",
         "87192F32-63BC-B74E-22A1-1C2ACDC2AEBB",
         "2021-09-11",
         "10-02-2022",
         "09/19/2019",
         "12/14/2020"
        ],
        [
         "MK62142122421489332",
         "36 742",
         "1B2147DB-9EB5-A9F6-24BC-784C90F1BC10",
         "2021-08-25",
         "01-05-2023",
         "12-03-2019",
         "08-01-2020"
        ],
        [
         "GE10602753444773874028",
         "15 263",
         "8E74A195-FB25-A687-A5B0-4A354B9B2C73",
         "2021-08-21",
         "08/15/2022",
         "03/31/2020",
         "10-01-2020"
        ],
        [
         "HR5320951526554265767",
         "34 393",
         "7255CE15-5D22-2565-F363-241AEA693678",
         "2021-03-25",
         "06/21/2022",
         "03/13/2020",
         "12/20/2020"
        ],
        [
         "RO85BFCD1815204246265292",
         "62 213",
         "F34A8DC5-6F9F-78F4-3AC5-3CCEACE2618F",
         "2021-06-06",
         "05/17/2022",
         "09/24/2019",
         "06/20/2020"
        ],
        [
         "EE977568245153872759",
         "35 492",
         "715CDED4-C9A5-B974-6635-DCF999DED81F",
         "2021-02-02",
         "08/14/2022",
         "02/19/2020",
         "08-05-2020"
        ],
        [
         "TN0556060349362287552525",
         "95 862",
         "1EAAA282-9EC3-625D-A1DF-4F232A6FAE55",
         "2021-09-08",
         "06-07-2022",
         "05-04-2020",
         "12/13/2020"
        ],
        [
         "CH9511956128974788822",
         "36 681",
         "78512148-7962-0631-123B-75732C776A8F",
         "2021-06-15",
         "10/28/2022",
         "09/24/2019",
         "06-08-2020"
        ],
        [
         "DO73121688207374978857631036",
         "61 254",
         "45B1D839-AE57-A2ED-2650-5EE55B3262B4",
         "2021-03-15",
         "05-01-2022",
         "02-08-2020",
         "08/19/2020"
        ],
        [
         "CR9366325162025701307",
         "17 310",
         "6A9E7DC1-85B6-C451-86C3-C6AB0D8F4633",
         "2021-12-03",
         "01-12-2023",
         "09/23/2019",
         "11/16/2020"
        ],
        [
         "PS865525266277676990144737479",
         "31 033",
         "E84D2846-4E32-DAD5-9E5D-5D79A5D3DB66",
         "2021-07-23",
         "08/17/2022",
         "02-02-2020",
         "08/24/2020"
        ],
        [
         "CH2937358416577392576",
         "91 828",
         "B0B57B3F-A3A4-C5D4-978D-1E59D2269896",
         "2021-12-04",
         "07-03-2022",
         "11/29/2019",
         "12/13/2020"
        ],
        [
         "BA479516374256640202",
         "37 754",
         "6C1ACD34-9E93-51B1-E163-5EB7667BA1A5",
         "2021-11-25",
         "11-06-2022",
         "10-09-2019",
         "10/30/2020"
        ],
        [
         "CY92257386944844476731542186",
         "22 256",
         "C213D92E-9135-ABA9-E894-27E5BEC84DCE",
         "2021-06-16",
         "04-08-2022",
         "01/19/2020",
         "11/16/2020"
        ],
        [
         "FR4322677187616618077548735",
         "55 382",
         "8FE4834C-13A1-46B8-1AA6-C268C35571F1",
         "2021-04-05",
         "05/24/2022",
         "09/28/2019",
         "10/30/2020"
        ],
        [
         "RS88670277480516281270",
         "39 926",
         "6231756B-1E1A-E4D1-3B38-79E9847BB134",
         "2021-05-12",
         "03/15/2022",
         "12-05-2019",
         "07-10-2020"
        ],
        [
         "NL58YAFU2032774509",
         "90 888",
         "74794C9B-B856-16A1-5C67-D886417D617F",
         "2021-02-02",
         "02/14/2022",
         "10-12-2019",
         "10/18/2020"
        ],
        [
         "GR7677438473687153827966759",
         "81 395",
         "3D3444A9-E864-EB9B-36B1-D2743D75C1D3",
         "2021-01-30",
         "09/15/2022",
         "10/30/2019",
         "11-02-2020"
        ],
        [
         "VG6806654517112801615976",
         "4 694",
         "B35C7EF6-C598-7E1A-E947-C14C4C87C04C",
         "2021-03-09",
         "12/29/2022",
         "11/25/2019",
         "09-12-2020"
        ],
        [
         "AT925201661121497413",
         "41 856",
         "FB6BA81D-95C7-7B3D-34D6-C997AD1D6ACF",
         "2021-03-08",
         "02-12-2022",
         "12-02-2019",
         "10-10-2020"
        ],
        [
         "SI65128495226675891",
         "27 466",
         "A7C84C21-2B4E-1EA2-D856-02256DC5BA37",
         "2021-02-18",
         "08/26/2022",
         "05/19/2020",
         "07/17/2020"
        ],
        [
         "SI56348532633721773",
         "8 128",
         "DADE211E-6045-61B4-6615-B65D27C64842",
         "2021-04-04",
         "08-03-2022",
         "12/31/2019",
         "09/27/2020"
        ],
        [
         "CY06026798521871430158317372",
         "35 221",
         "A49AFDD8-9218-CAA2-1A89-FF0AA5B1836C",
         "2021-06-10",
         "03/27/2022",
         "03-06-2020",
         "08/26/2020"
        ],
        [
         "NO3945741323121",
         "47 083",
         "B53A2E59-5DE2-BDD7-74B9-CF2D4D9EA3D3",
         "2021-02-03",
         "09/30/2022",
         "09-09-2019",
         "11/23/2020"
        ],
        [
         "AD2927114762714285781415",
         "27 162",
         "6A35B82B-FEDB-E0A2-3DC8-F178E05B7089",
         "2021-07-12",
         "09/23/2022",
         "12/26/2019",
         "11-10-2020"
        ],
        [
         "IS216324771525735381688625",
         "18 306",
         "50E47924-7D0A-416A-EC06-F212A8E73C92",
         "2021-11-15",
         "11/16/2022",
         "02/17/2020",
         "11/27/2020"
        ],
        [
         "FO8812789736666762",
         "95 981",
         "78AC911B-5491-71E2-9B9C-6ED1BDDE9140",
         "2021-12-27",
         "02-05-2022",
         "11-12-2019",
         "09/16/2020"
        ],
        [
         "BG07QVOB60284879738859",
         "6 266",
         "8FC51CF7-5911-7395-A46D-C65311DCB031",
         "2021-04-08",
         "07/17/2022",
         "05/30/2020",
         "06-07-2020"
        ],
        [
         "IL174678009342153752232",
         "31 181",
         "079D32CF-1F89-818A-1FA4-2A1E343FBA74",
         "2022-01-09",
         "12-08-2022",
         "12/16/2019",
         "09/16/2020"
        ],
        [
         "IE28MOIF28388644453394",
         "6 439",
         "5B87A2C3-73BB-8114-CC48-9678A79ED492",
         "2021-10-28",
         "02-08-2022",
         "11/14/2019",
         "10/20/2020"
        ],
        [
         "TR730816268883418141269779",
         "95 122",
         "BCB1D6D6-B9AA-58A9-CC49-2A1528D9EEA7",
         "2021-01-28",
         "03/29/2022",
         "05/21/2020",
         "11-02-2020"
        ],
        [
         "SE1031656601694099873814",
         "55 289",
         "B952F9D9-7682-C052-E9B4-FC07E9E11114",
         "2021-08-19",
         "07-11-2022",
         "12/28/2019",
         "12-10-2020"
        ],
        [
         "AT947404684351884635",
         "29 936",
         "7D12E9B2-EB71-DCA1-34A2-7D25B1521DD9",
         "2021-10-09",
         "11/14/2022",
         "04/30/2020",
         "06/25/2020"
        ],
        [
         "LU765723414478934415",
         "81 638",
         "13358984-4208-BBE2-5AA3-AEACB461D50C",
         "2021-05-27",
         "10/18/2022",
         "12-06-2019",
         "10-02-2020"
        ],
        [
         "MU5638888364093729787557706382",
         "20 171",
         "491A0A73-DE6E-EE4C-6C88-7074E8AB70C5",
         "2021-08-21",
         "03-07-2022",
         "09/30/2019",
         "06/15/2020"
        ],
        [
         "AZ51626304662030714174169381",
         "95 446",
         "4BC85D63-91E1-C707-34B7-6A4A4D465459",
         "2021-11-14",
         "06-10-2022",
         "03/30/2020",
         "08/18/2020"
        ],
        [
         "MK76643615943236167",
         "45 286",
         "8EBDCE28-C9A4-34A1-8395-15D76D43161F",
         "2021-10-09",
         "05/19/2022",
         "02/14/2020",
         "09/15/2020"
        ],
        [
         "BE95435239985461",
         "40 505",
         "B734678E-EA59-CA27-A5EF-9955E141AA75",
         "2021-03-07",
         "05-03-2022",
         "01-01-2020",
         "06/15/2020"
        ],
        [
         "HU75624858298947082828227295",
         "69 575",
         "BD83AE11-EDB5-1A63-6AD5-D2B202CC713A",
         "2021-08-04",
         "06/15/2022",
         "05/13/2020",
         "09-07-2020"
        ],
        [
         "IS801776105464336676355926",
         "17 969",
         "4FC2787F-E5C0-4B36-9578-1E535095B326",
         "2021-08-24",
         "02/24/2022",
         "02/18/2020",
         "08/25/2020"
        ],
        [
         "KW1142674182338183429667242396",
         "52 808",
         "F316ADA5-3EE9-F973-5BF6-CD5090BC4E78",
         "2021-12-03",
         "07-05-2022",
         "10/30/2019",
         "08/18/2020"
        ],
        [
         "IL091130768264751138427",
         "19 583",
         "CAE84D1B-6554-7807-17E9-B1E9E4A8E87C",
         "2021-09-10",
         "01-10-2023",
         "05-12-2020",
         "10/26/2020"
        ],
        [
         "IL035128878333915353266",
         "80 637",
         "B8D1353A-47A4-BE3A-A7A9-7FEEB71B1BC9",
         "2022-01-01",
         "01-05-2023",
         "05-06-2020",
         "08/28/2020"
        ],
        [
         "ES5548639513029446825352",
         "39 338",
         "B3908C0E-4E52-0C90-C5A6-1A2202354D17",
         "2021-05-30",
         "05/21/2022",
         "03/14/2020",
         "11-07-2020"
        ],
        [
         "PK7961823606334531385635",
         "29 484",
         "E9CB37EB-D63C-1984-E528-EAB455DBB419",
         "2021-02-01",
         "02/25/2022",
         "09-09-2019",
         "10/13/2020"
        ],
        [
         "NO6587534229523",
         "72 187",
         "2D8E59D6-BCA6-09F7-0B28-07D23C195E89",
         "2021-01-15",
         "05-01-2022",
         "04/17/2020",
         "06/22/2020"
        ],
        [
         "BG13AJYB34179381451775",
         "2 086",
         "D9739B3C-099F-1C28-6F16-51CD6B7D1F0D",
         "2021-12-31",
         "10-07-2022",
         "03/27/2020",
         "08/21/2020"
        ],
        [
         "AZ30189768867751335472315276",
         "94 342",
         "6E3F0E17-7F43-E49A-E556-4C49AE6A8178",
         "2021-11-27",
         "06/17/2022",
         "10-06-2019",
         "08-10-2020"
        ],
        [
         "MU6125945034143789275831558458",
         "85 309",
         "5875CCA7-6BE4-9A22-354E-2E5C9C51D748",
         "2021-10-25",
         "09-11-2022",
         "11-10-2019",
         "08-04-2020"
        ],
        [
         "TR778812275305297538272332",
         "98 422",
         "9CE05E39-37A9-48E1-E5B3-86C494B88794",
         "2021-06-17",
         "02/25/2022",
         "09-10-2019",
         "11/27/2020"
        ],
        [
         "DE87789105420481274440",
         "28 738",
         "E18D7877-E2BE-C9A5-44BF-D5E565CEA012",
         "2021-09-30",
         "11-06-2022",
         "10/22/2019",
         "11/19/2020"
        ],
        [
         "EE262694245666655552",
         "9 163",
         "B40DEF80-B31A-B896-4812-377F3211F170",
         "2022-01-26",
         "08/31/2022",
         "05-06-2020",
         "08/22/2020"
        ],
        [
         "SM4889852493317518989648132",
         "60 978",
         "75E877A2-7EEA-9299-5F17-13D46A63D63E",
         "2021-04-21",
         "05-03-2022",
         "12/15/2019",
         "07-11-2020"
        ],
        [
         "NL64SHAM1556188727",
         "8 435",
         "7DBE1249-C413-E41B-F192-D54340FD26E3",
         "2021-04-16",
         "04-08-2022",
         "10/29/2019",
         "07-05-2020"
        ],
        [
         "GI66PWPI235153764110859",
         "8 924",
         "B456398B-827C-5687-CA6C-40B93E27EAFC",
         "2021-11-11",
         "08/26/2022",
         "12/28/2019",
         "12/17/2020"
        ],
        [
         "GE43167312579381643148",
         "98 240",
         "A665CCE8-E197-7239-8076-B1233C460B4D",
         "2021-09-05",
         "09/20/2022",
         "02/26/2020",
         "12/21/2020"
        ],
        [
         "BA213833558087974828",
         "43 377",
         "16A64E1E-5A36-68B1-3CDB-4BC8C6890356",
         "2021-05-15",
         "12/20/2022",
         "09/14/2019",
         "10/16/2020"
        ],
        [
         "PS720484576554637728262712276",
         "73 930",
         "17A8DF9B-A320-55AF-6B84-BDD7F4157C5D",
         "2021-02-11",
         "06-06-2022",
         "12-10-2019",
         "08/15/2020"
        ],
        [
         "MD3840860634683168781773",
         "28 330",
         "E2D7ECCC-896A-7738-06E2-9D2CE2B6C5B8",
         "2021-03-17",
         "06/14/2022",
         "11/21/2019",
         "08-12-2020"
        ],
        [
         "HR8420117266978696181",
         "50 214",
         "79BDD514-E451-2A20-85E2-523E946DFC9C",
         "2021-11-12",
         "12-07-2022",
         "09-04-2019",
         "08/31/2020"
        ],
        [
         "FR5582134863749986624332622",
         "58 320",
         "22E1723B-D612-2B38-C3C3-4E479483700D",
         "2021-06-05",
         "03/18/2022",
         "10-12-2019",
         "06-07-2020"
        ],
        [
         "IT926YHXDI56799152852716547",
         "18 918",
         "426A8209-D887-DD67-64E7-BD794F937691",
         "2021-10-10",
         "11-03-2022",
         "01/20/2020",
         "12-01-2020"
        ],
        [
         "ME49514278628578343263",
         "28 795",
         "37E873D1-529A-DC16-CDCB-6CAE38E76A2C",
         "2021-03-24",
         "06-09-2022",
         "11/25/2019",
         "07/31/2020"
        ],
        [
         "IT306UQGGI37568161342688741",
         "26 357",
         "8957BFD4-42D5-1EB9-1EA1-15ED43810C2C",
         "2021-08-04",
         "11/17/2022",
         "01/14/2020",
         "10-05-2020"
        ],
        [
         "AD8543281326441581187629",
         "1 470",
         "7CC5A119-DEE1-04AB-D488-0DF3A3137D03",
         "2021-03-04",
         "02/22/2022",
         "05/27/2020",
         "12-06-2020"
        ],
        [
         "LV70NCYV4474524752284",
         "39 562",
         "D6E5633E-7BE1-2167-FC46-D649766DBCCA",
         "2021-04-19",
         "02/19/2022",
         "12/22/2019",
         "12/21/2020"
        ],
        [
         "TN7768013965562394517510",
         "23 822",
         "10484789-F7E8-6B78-8912-E666C5AA1EA8",
         "2021-03-16",
         "02/28/2022",
         "02/24/2020",
         "06-10-2020"
        ],
        [
         "CY63212782778132804025516216",
         "15 732",
         "4C18CE62-91D7-3CB1-CB23-2B816D8CE902",
         "2022-01-26",
         "06/21/2022",
         "12/19/2019",
         "07-08-2020"
        ],
        [
         "RS53165513481386916228",
         "57 530",
         "CDE23A53-3DB6-567E-95D2-E8C507E39767",
         "2021-08-01",
         "02-02-2022",
         "04/22/2020",
         "11-06-2020"
        ],
        [
         "VG2625576807832702123143",
         "82 245",
         "D286FB6B-9D75-DE9E-7DFA-FD9D112A9A31",
         "2021-08-27",
         "02-12-2022",
         "02-10-2020",
         "08/28/2020"
        ],
        [
         "MK43011805349242825",
         "37 938",
         "3A968D17-C7AA-4B27-2D11-60BD57D68197",
         "2021-05-05",
         "10-05-2022",
         "01/13/2020",
         "10-06-2020"
        ],
        [
         "RO75XBBY6254840642682624",
         "15 535",
         "0879FED7-2A12-16D4-FB98-80E7ABBE98A0",
         "2021-07-10",
         "07/22/2022",
         "09/19/2019",
         "10/26/2020"
        ],
        [
         "MR6277550362171450277958153",
         "38 752",
         "F1DC78C2-DBBD-5DC4-76DB-3B53832ED8AC",
         "2021-12-28",
         "03-01-2022",
         "09/29/2019",
         "10-06-2020"
        ],
        [
         "ES1421366425432375314928",
         "89 882",
         "1BC9611E-EE46-24BE-96EB-A8579F92C351",
         "2022-01-01",
         "05/30/2022",
         "10/21/2019",
         "10-12-2020"
        ],
        [
         "FR7711045142705667408061217",
         "54 224",
         "8EACE002-4F39-F310-EDFB-9834C3887996",
         "2021-10-29",
         "05/31/2022",
         "02/13/2020",
         "06/24/2020"
        ],
        [
         "RO78GLBT6214940511268776",
         "6 021",
         "17EB007F-ECB0-9C98-F512-D2A575BF471A",
         "2021-05-20",
         "04-02-2022",
         "01/15/2020",
         "06/17/2020"
        ],
        [
         "LV37PCLR2958543924024",
         "35 628",
         "5B39E473-55A2-EE31-88D1-ACA771121A03",
         "2021-10-31",
         "03/13/2022",
         "09/19/2019",
         "12-06-2020"
        ],
        [
         "BH09874062098577523538",
         "93 302",
         "FFEACA42-8C43-D8D8-76E1-34B6781482CD",
         "2021-05-18",
         "06/21/2022",
         "04-09-2020",
         "06/24/2020"
        ],
        [
         "KW8845896063338282181936288847",
         "70 748",
         "40C5CDC9-6572-9617-E9B4-4B63060E3A94",
         "2021-03-04",
         "06-01-2022",
         "03/18/2020",
         "11/28/2020"
        ],
        [
         "BG32FFUZ34111894347681",
         "45 274",
         "7684E7B6-85E8-45A8-C356-2357E44CB90D",
         "2021-09-24",
         "08-02-2022",
         "03-12-2020",
         "10/14/2020"
        ],
        [
         "TN7115385383165586261612",
         "34 251",
         "E4254115-2A97-992D-76A4-8E4C5634D64E",
         "2021-09-08",
         "04-12-2022",
         "03-07-2020",
         "06-04-2020"
        ],
        [
         "TN4448184851201264537941",
         "93 225",
         "51A95EB7-7828-41D9-C774-86F88384F1C6",
         "2021-02-26",
         "12/21/2022",
         "05/24/2020",
         "10/18/2020"
        ],
        [
         "GR8974611471323780463024844",
         "15 442",
         "16821E94-D48F-3BA1-6DE7-46F1B95E7D5B",
         "2021-10-29",
         "02-05-2022",
         "11/16/2019",
         "06/19/2020"
        ],
        [
         "SE0553632714378285563862",
         "5 977",
         "FA9172C5-CBB8-5DBC-838A-876E3471897E",
         "2021-04-18",
         "02-07-2022",
         "12/22/2019",
         "06/24/2020"
        ],
        [
         "LU243554611485836803",
         "85 510",
         "D9B63AE9-62DC-DD01-8B22-64FC714AEC6D",
         "2021-03-07",
         "03/14/2022",
         "03/23/2020",
         "06/22/2020"
        ],
        [
         "HU71406807533245427594172412",
         "17 700",
         "A71A1CDC-1D84-85D6-247C-B8A412A181AE",
         "2021-11-13",
         "03-07-2022",
         "04/28/2020",
         "06/19/2020"
        ],
        [
         "GL2669249876362224",
         "95 738",
         "E123CE38-1B4D-8441-AB18-56A5E3BD785D",
         "2021-05-21",
         "02-11-2022",
         "09/17/2019",
         "07-09-2020"
        ],
        [
         "ME72728742739187419622",
         "79 355",
         "10DE3018-FDA8-1391-4A55-277BE1D3369E",
         "2021-06-11",
         "11/28/2022",
         "01-08-2020",
         "12-03-2020"
        ],
        [
         "BE77573172454543",
         "84 520",
         "81AD945A-D731-1F28-5956-6E9391140F4D",
         "2021-08-06",
         "11/29/2022",
         "11/23/2019",
         "10/27/2020"
        ],
        [
         "MR8636880610758502411813445",
         "74 168",
         "00233235-DD7A-43CC-18CC-622AC45AF82C",
         "2021-12-10",
         "10/19/2022",
         "12/20/2019",
         "08-05-2020"
        ],
        [
         "MK60323325133402622",
         "77 825",
         "D12233DD-87AE-786D-8BE4-B5F1CCD13B09",
         "2021-08-30",
         "05/28/2022",
         "09-03-2019",
         "10/14/2020"
        ],
        [
         "NO0624113531020",
         "20 741",
         "5935B74A-3835-5B5F-4569-3A3ECD5AE683",
         "2021-07-25",
         "08-10-2022",
         "11/30/2019",
         "10-05-2020"
        ],
        [
         "FO1743222841086383",
         "6 195",
         "783AE28F-6D9E-4ADA-B04E-A7C6C9DE6F1C",
         "2021-11-12",
         "07/23/2022",
         "11/26/2019",
         "06/23/2020"
        ],
        [
         "LT882072358244672423",
         "54 784",
         "86484D55-2AFC-2B81-53CE-5D1E89CD6A2C",
         "2021-08-16",
         "09/16/2022",
         "10/27/2019",
         "07-08-2020"
        ],
        [
         "GE74219808433278862882",
         "1 636",
         "C346BD21-CE9C-8A6E-D931-70511AB8F1DD",
         "2021-06-11",
         "04-06-2022",
         "10/13/2019",
         "06/17/2020"
        ],
        [
         "AL72430472760103122735686882",
         "67 780",
         "6531EDE9-3ECB-8B4C-D6C3-269AC5E52BBE",
         "2022-01-16",
         "11/20/2022",
         "11-08-2019",
         "12/30/2020"
        ],
        [
         "BE76213722009146",
         "61 657",
         "1B8347AA-DAAA-F947-B96A-2A519B963ED0",
         "2021-11-19",
         "02/16/2022",
         "02-07-2020",
         "12-06-2020"
        ],
        [
         "MR4846142451224825434701733",
         "75 965",
         "FFEA70D2-6E1B-1D85-7E2E-A47787236473",
         "2021-07-19",
         "04/23/2022",
         "01-08-2020",
         "09/13/2020"
        ],
        [
         "RO17DNCH7615564683695779",
         "37 954",
         "75A44B1A-9476-7919-0A56-FB688700FB68",
         "2021-12-02",
         "06/13/2022",
         "04/27/2020",
         "07/13/2020"
        ],
        [
         "PT03649578767586650120903",
         "18 414",
         "E33D7A4B-C2B4-2014-32AD-91ED188C7177",
         "2021-11-02",
         "03/31/2022",
         "11/14/2019",
         "07/17/2020"
        ],
        [
         "VG8124329359430757512775",
         "13 531",
         "E3E86C76-BC82-9C3D-176C-1519590449B4",
         "2022-01-09",
         "10/13/2022",
         "03/28/2020",
         "11/25/2020"
        ],
        [
         "MD2513602173251926109460",
         "35 871",
         "D5954CA0-B97B-69C9-C8E8-D93202AFE2E3",
         "2021-08-26",
         "05/29/2022",
         "11/27/2019",
         "06/13/2020"
        ],
        [
         "CZ1531681800181745272310",
         "43 144",
         "B482E922-7C81-7F2D-62BA-5E20A731D239",
         "2021-07-03",
         "10-05-2022",
         "01-08-2020",
         "09/20/2020"
        ],
        [
         "LV90MJMG1625476005538",
         "66 007",
         "614C62A7-F2CA-B60A-4EAE-21C0D26C67AE",
         "2021-04-23",
         "09/15/2022",
         "09-11-2019",
         "07-05-2020"
        ],
        [
         "CZ3257840581876846393598",
         "68 385",
         "5B171B7D-105B-16ED-8D9B-68943F742DB1",
         "2021-11-01",
         "10/23/2022",
         "03-04-2020",
         "07-12-2020"
        ],
        [
         "AD2416629742185770453636",
         "24 018",
         "FE8CFA41-6708-82F9-B5E5-A9F27A5D1AA8",
         "2021-05-30",
         "06/28/2022",
         "11/20/2019",
         "12-07-2020"
        ],
        [
         "SE6806684712975823208583",
         "23 329",
         "ABD3EBB6-EBE7-1511-C93F-DA762F7BA48F",
         "2021-03-15",
         "03-11-2022",
         "10/30/2019",
         "11/23/2020"
        ],
        [
         "MK98760374166345036",
         "33 003",
         "4B6C74CE-E42A-C3DE-94E4-8DFB378A9999",
         "2021-04-23",
         "08/18/2022",
         "10-03-2019",
         "07-06-2020"
        ],
        [
         "BA131455456240142512",
         "6 632",
         "25475841-EE52-3B92-2F67-46E70937670D",
         "2021-11-09",
         "06-03-2022",
         "12/22/2019",
         "09/21/2020"
        ],
        [
         "AZ47538217715574232077459487",
         "28 806",
         "D4B13842-C7D8-55C6-832B-5A55B17A5BE2",
         "2022-01-30",
         "02-01-2022",
         "04/28/2020",
         "09-06-2020"
        ],
        [
         "IE23LEXU41594942122645",
         "49 213",
         "D15B8996-26D2-A53C-AF13-C8B81EF1BD75",
         "2021-08-30",
         "08/27/2022",
         "11/22/2019",
         "09/19/2020"
        ],
        [
         "AE532893318237361413634",
         "78 715",
         "3AC878C2-98BF-603F-9B7B-7AB991ABEBD0",
         "2021-12-08",
         "02-05-2022",
         "09-12-2019",
         "06-03-2020"
        ],
        [
         "KW2326395060254167815781798784",
         "35 737",
         "B53E8217-ED5C-A6DF-67A8-2AF346ACE273",
         "2021-07-19",
         "02/22/2022",
         "03/20/2020",
         "10-03-2020"
        ],
        [
         "MD6762028826105150884792",
         "58 808",
         "CBB83561-9B43-F320-65A8-DA6AC842B5CB",
         "2021-08-20",
         "05-02-2022",
         "03/22/2020",
         "09-06-2020"
        ],
        [
         "GI64HUFD911063786176735",
         "55 040",
         "78F9B222-A272-424A-38AA-1A2DB3A68D67",
         "2021-06-12",
         "09-11-2022",
         "12/30/2019",
         "10/27/2020"
        ],
        [
         "GR2223414205692477855455843",
         "14 948",
         "966CADC6-A7B6-BCE9-CDBE-C3C81F58B7B8",
         "2021-07-15",
         "06-03-2022",
         "04-10-2020",
         "10/18/2020"
        ],
        [
         "CY98246265521751257351455216",
         "15 130",
         "228F95AB-EDB1-E92B-B5A3-2BB8D23EA751",
         "2021-08-24",
         "08-04-2022",
         "04-03-2020",
         "10/18/2020"
        ],
        [
         "IE77QAWO38185173335149",
         "65 602",
         "4D24E3C2-6EDE-56AC-7D23-7D8629AEC7FD",
         "2021-04-24",
         "06/20/2022",
         "04/19/2020",
         "07/14/2020"
        ],
        [
         "HU58978414615386887677606409",
         "47 238",
         "18AB2590-9763-8274-1254-4EEC635E6951",
         "2021-06-04",
         "01-10-2023",
         "11/14/2019",
         "06/25/2020"
        ],
        [
         "SM4221273747085455607854478",
         "31 080",
         "C236F7C4-24D6-FDEE-CC2E-016D23D71ABE",
         "2021-06-08",
         "10-11-2022",
         "10/13/2019",
         "06-11-2020"
        ],
        [
         "TR791525392571772306269648",
         "60 624",
         "27E4944F-7495-CCC0-C9AB-227C74C4850C",
         "2021-04-28",
         "09/16/2022",
         "05/24/2020",
         "09-04-2020"
        ],
        [
         "RS75267822634894747185",
         "26 586",
         "4E8A6231-CD22-D4E7-5975-873ABEE5A5DA",
         "2021-07-04",
         "03-08-2022",
         "10-12-2019",
         "11-03-2020"
        ],
        [
         "MU3947369725303236580516116672",
         "12 433",
         "7B9930BB-400A-A6DD-1AB3-C25B79E90C86",
         "2021-10-25",
         "11/27/2022",
         "11/15/2019",
         "07/15/2020"
        ],
        [
         "SM3953883845551243364054453",
         "15 794",
         "74660128-A2A6-DB89-1268-B0543EF6E9EB",
         "2021-06-28",
         "11-06-2022",
         "11/24/2019",
         "06/27/2020"
        ],
        [
         "MR1487525887242631123712826",
         "15 005",
         "EBFAA987-C0A3-8D94-7653-9B09F97D6CFC",
         "2021-11-18",
         "07/22/2022",
         "01-10-2020",
         "06-12-2020"
        ],
        [
         "MT39FKFR15328436131142380775766",
         "90 218",
         "DD8E63E1-F777-1A99-FC76-0051A6B17750",
         "2021-05-18",
         "02/17/2022",
         "03-10-2020",
         "08-08-2020"
        ],
        [
         "EE380266223363373415",
         "65 818",
         "666DE743-7230-9D56-848B-1DBB869AEDA8",
         "2021-06-18",
         "01-02-2023",
         "05/14/2020",
         "07/13/2020"
        ],
        [
         "IL977508508207843752747",
         "98 121",
         "B25A7CF5-2A3C-1723-4416-871867A4EFDF",
         "2021-07-07",
         "02/16/2022",
         "10/29/2019",
         "10-02-2020"
        ],
        [
         "AL78802825113735180116819749",
         "69 940",
         "35DBE756-4DBE-BF89-AEA9-92EA9CACB38E",
         "2021-09-10",
         "07/24/2022",
         "01/25/2020",
         "08/29/2020"
        ],
        [
         "AZ85469087182500563805155514",
         "84 069",
         "B1F2884D-111A-E4B8-A23A-91907AE88BE7",
         "2021-08-21",
         "11-07-2022",
         "09-08-2019",
         "12-11-2020"
        ],
        [
         "HU48820450456675461950564895",
         "80 331",
         "57A2F087-DEC0-9CBE-F666-7AB47B2C28F5",
         "2021-10-13",
         "09/20/2022",
         "04-11-2020",
         "08/15/2020"
        ],
        [
         "IE56HSEU38248223158937",
         "22 649",
         "F5455603-82BE-15F2-9EA0-3844502F52E1",
         "2021-06-01",
         "04/13/2022",
         "09-01-2019",
         "11/24/2020"
        ],
        [
         "NL68SVOF3955229871",
         "8 433",
         "B7A313C4-D385-C7ED-68E1-59D326DD4480",
         "2021-04-19",
         "02/15/2022",
         "05/23/2020",
         "07-06-2020"
        ],
        [
         "GB31NYXL06936152356284",
         "8 197",
         "B6691D8C-457B-5B79-1E61-FAAC0CB5AA52",
         "2021-05-19",
         "04-05-2022",
         "12-08-2019",
         "09-04-2020"
        ],
        [
         "SA5973564752513108835827",
         "1 718",
         "2551D783-76ED-7D64-2538-B25AB3CA7187",
         "2021-12-10",
         "05-09-2022",
         "02/20/2020",
         "06-04-2020"
        ],
        [
         "MC1186507660672743832561894",
         "37 223",
         "67AD8994-31B6-F24E-A878-14636B6D9AD3",
         "2021-08-07",
         "08-09-2022",
         "01/29/2020",
         "11/28/2020"
        ],
        [
         "DK0646278526837853",
         "72 094",
         "2A279A94-26BA-92FC-3D10-8764662866CB",
         "2021-12-09",
         "12-12-2022",
         "03-12-2020",
         "07-06-2020"
        ],
        [
         "LT367057186447375976",
         "57 260",
         "0E5919BF-0811-7429-9325-28755A461969",
         "2021-05-03",
         "04-06-2022",
         "05-05-2020",
         "08-06-2020"
        ],
        [
         "MU9513512612784178732567273974",
         "22 051",
         "6B7B2788-A6B2-26AB-C29F-58D25EBA1CBB",
         "2021-03-03",
         "10/18/2022",
         "01/23/2020",
         "12-11-2020"
        ],
        [
         "VG6047743255181025363431",
         "10 864",
         "E2789110-6CAF-9B4B-50C6-B4CCBE27C452",
         "2021-06-12",
         "10/22/2022",
         "09/24/2019",
         "09-03-2020"
        ],
        [
         "PL22753346125468832241775452",
         "93 760",
         "595302B1-8167-32C8-A913-96D84F3BBEB1",
         "2021-03-10",
         "10-09-2022",
         "11/22/2019",
         "09-10-2020"
        ],
        [
         "IS447763167768697702966756",
         "1 917",
         "CC00D600-BA31-0AB6-28D1-77159806B790",
         "2021-08-21",
         "04-04-2022",
         "10/24/2019",
         "09-10-2020"
        ],
        [
         "TN5233426148321942305199",
         "32 336",
         "71714732-CC45-C33F-F152-4FDA3988D3B0",
         "2021-06-08",
         "04/24/2022",
         "05/20/2020",
         "12/17/2020"
        ],
        [
         "GL4723268861569836",
         "23 283",
         "4793E4DF-AFA6-DE71-68AD-65B6D951ACCF",
         "2021-08-23",
         "08/20/2022",
         "02/16/2020",
         "08/27/2020"
        ],
        [
         "MC8197423704142152226723100",
         "89 798",
         "B8163521-56D8-EE9A-36D9-695A0E395DFC",
         "2021-07-13",
         "12/23/2022",
         "01/15/2020",
         "09-06-2020"
        ],
        [
         "PT89471501827853145562945",
         "32 121",
         "F3A3CAA1-A755-A414-DCE3-4434E498128E",
         "2021-07-02",
         "10/29/2022",
         "09/14/2019",
         "06/19/2020"
        ],
        [
         "CH3912288252637166237",
         "71 875",
         "F1887742-218E-F7F4-FD0B-7E8D5FBD7CBD",
         "2021-04-18",
         "10-12-2022",
         "01/23/2020",
         "11/17/2020"
        ],
        [
         "PT42188286988686265116577",
         "97 237",
         "90DD2D2E-25AD-563A-BE79-F20C91BA4964",
         "2021-12-28",
         "07/31/2022",
         "10-11-2019",
         "06/21/2020"
        ],
        [
         "GE50451666027528805724",
         "83 872",
         "A7CBF454-3E56-8F2C-110C-10E6BDA42CA4",
         "2021-03-31",
         "05/26/2022",
         "01/30/2020",
         "12-08-2020"
        ],
        [
         "AD2821328083189521370595",
         "66 877",
         "9C834ECA-54E4-4436-C352-F0F4506DB5BD",
         "2021-11-24",
         "03/28/2022",
         "09-06-2019",
         "10/19/2020"
        ],
        [
         "VG9743976116104658181377",
         "77 492",
         "246C81A8-81C8-C825-625E-17074123E3A8",
         "2021-06-22",
         "12-10-2022",
         "09/30/2019",
         "07/19/2020"
        ],
        [
         "SM5934835814735332558021828",
         "8 111",
         "45865F32-DB55-A1BE-3429-CD463E24B4A7",
         "2021-09-04",
         "12-11-2022",
         "05/23/2020",
         "11/15/2020"
        ],
        [
         "MT53MARH69972952193179702484768",
         "81 359",
         "C77235E2-18C6-DDCE-591A-13FD0A8404C8",
         "2021-06-17",
         "07/18/2022",
         "02-09-2020",
         "12/18/2020"
        ],
        [
         "LT472054924284631427",
         "98 142",
         "6DE5F54B-B4D6-C0FE-C34E-6BA9DBBE793B",
         "2021-03-23",
         "05/26/2022",
         "09-12-2019",
         "11/27/2020"
        ],
        [
         "FI0543730847427613",
         "70 777",
         "4676951D-88AB-23D6-E328-D649E2499622",
         "2021-09-04",
         "08/17/2022",
         "11/23/2019",
         "10-10-2020"
        ],
        [
         "TR356655592341712581189964",
         "25 289",
         "7E4AA448-B757-D8AD-ACAB-8248F612C621",
         "2021-02-17",
         "05/26/2022",
         "02-08-2020",
         "10-09-2020"
        ],
        [
         "LT771871723914766922",
         "17 891",
         "4813187B-65D4-3F6C-2B16-8C5347D44DD8",
         "2021-10-14",
         "11/28/2022",
         "01-11-2020",
         "07-05-2020"
        ],
        [
         "AL15855135422128452160808775",
         "1 070",
         "8CB57F8E-5C27-776D-EE5D-EB8F40A8FCEE",
         "2021-09-23",
         "12-12-2022",
         "03-11-2020",
         "07-02-2020"
        ],
        [
         "GL5034285977885234",
         "13 744",
         "21BD6594-2452-62B5-59E9-CFDE88EC4BA3",
         "2021-01-12",
         "08-05-2022",
         "02/29/2020",
         "12/29/2020"
        ],
        [
         "AE253719589512807817714",
         "27 768",
         "2D46C5EA-4798-536E-3030-FDA3E4DB23C7",
         "2021-05-31",
         "12-08-2022",
         "10/21/2019",
         "07-05-2020"
        ],
        [
         "DE60877262858779363465",
         "66 353",
         "40CAB983-2CB4-D779-6F88-C950D923671C",
         "2021-10-12",
         "11-12-2022",
         "10/26/2019",
         "09/29/2020"
        ],
        [
         "HU96203201926475145164784751",
         "56 653",
         "D2C4DC36-EA2C-8132-8BB6-1E357590CB5D",
         "2021-06-09",
         "07-03-2022",
         "12/21/2019",
         "12/29/2020"
        ],
        [
         "TN9556374931456763342732",
         "16 696",
         "B89AF4E5-C9E0-533B-063E-7CB6D0A6EB91",
         "2021-11-20",
         "05/24/2022",
         "09-07-2019",
         "06-04-2020"
        ],
        [
         "PS655774463733824568663792657",
         "28 620",
         "342DDE70-2643-B36C-4AD2-3B1434BC72F2",
         "2021-01-29",
         "05-01-2022",
         "12/26/2019",
         "08-10-2020"
        ],
        [
         "KW2767452470426018819137422159",
         "54 528",
         "9B2A1407-2B88-2853-ED30-3D8C41C3C8C5",
         "2021-07-03",
         "11/26/2022",
         "01/19/2020",
         "08-10-2020"
        ],
        [
         "GI60PRIW960112248858586",
         "91 431",
         "A385E88A-898B-52C5-A27D-12FB4292B92B",
         "2021-06-23",
         "10-04-2022",
         "09/28/2019",
         "09/23/2020"
        ],
        [
         "BG67NGKH00718323842817",
         "11 989",
         "8BD1A87A-D8BE-6414-736D-18CBBBECA48C",
         "2021-10-26",
         "05/23/2022",
         "03-10-2020",
         "06/17/2020"
        ],
        [
         "LT250112149826059796",
         "70 377",
         "5A54DE59-68F7-240E-43FA-A1CC2EB7D89B",
         "2021-12-30",
         "12/25/2022",
         "04/18/2020",
         "09/20/2020"
        ],
        [
         "CY23177655321988570449514288",
         "30 240",
         "BA1E1633-198E-77E7-A843-34877B2CA599",
         "2021-06-26",
         "12-11-2022",
         "09-07-2019",
         "09/27/2020"
        ],
        [
         "NO9823848102153",
         "65 993",
         "DE6EC934-4AC2-D186-1646-9ED47973B3AC",
         "2021-07-19",
         "05/27/2022",
         "10-12-2019",
         "10-04-2020"
        ],
        [
         "FI7429187218816857",
         "14 925",
         "9D6AE072-658C-E8CB-CE3A-928E2CAB3EA9",
         "2021-03-07",
         "02/16/2022",
         "04/27/2020",
         "07/31/2020"
        ],
        [
         "SA3811778735474286236987",
         "19 442",
         "EBAAE023-F2B3-493E-5C61-7EA52D9E495D",
         "2021-11-26",
         "03/26/2022",
         "12-10-2019",
         "09-03-2020"
        ],
        [
         "DK6067745434708268",
         "29 548",
         "CEBB4097-4AD4-CB2E-1123-83D65739A2B4",
         "2021-01-29",
         "11/28/2022",
         "04/25/2020",
         "08-08-2020"
        ],
        [
         "VG3522172914381330832987",
         "95 708",
         "943F0B15-23E6-1797-2448-DAE04CD05C35",
         "2021-10-01",
         "10-11-2022",
         "11/26/2019",
         "06/16/2020"
        ],
        [
         "EE254157275632325365",
         "99 128",
         "F4D46CEB-FDA1-AB37-3823-F688B41D9736",
         "2021-05-05",
         "02-03-2022",
         "04/15/2020",
         "12-06-2020"
        ],
        [
         "SI37784431828032482",
         "93 757",
         "6D5D1B62-8359-F5A5-AD15-4493071D62C7",
         "2021-10-20",
         "05/31/2022",
         "01-04-2020",
         "06-08-2020"
        ],
        [
         "GI08RHHJ868011382819621",
         "14 478",
         "DEBF8235-6CE5-9A3D-D0A3-DC815E762ED2",
         "2021-07-25",
         "08/27/2022",
         "02-12-2020",
         "11/18/2020"
        ],
        [
         "SK7145883732187942964676",
         "11 212",
         "5A77B5E1-1B3E-686D-EEA3-4678B6C317E3",
         "2021-11-08",
         "10-01-2022",
         "12/22/2019",
         "08/31/2020"
        ],
        [
         "CH2239882236428028616",
         "35 638",
         "4AE27A1E-A52D-09E1-4F6C-17438B36D292",
         "2021-03-28",
         "06/15/2022",
         "05/22/2020",
         "06/30/2020"
        ],
        [
         "BE03471130199062",
         "46 696",
         "C7DCC827-6685-8A4B-3A24-867D91DDC66D",
         "2021-04-22",
         "03-04-2022",
         "11-11-2019",
         "12-02-2020"
        ],
        [
         "IT032FXNHI32132360489118795",
         "83 985",
         "BFE0B678-F7AC-6D8D-9804-391BEFDDEB7E",
         "2021-07-07",
         "04-04-2022",
         "01-02-2020",
         "09-09-2020"
        ],
        [
         "AZ43712255173251134306726425",
         "56 200",
         "53148EC2-C1BA-1CC5-7CDD-53B8BB0E47C6",
         "2021-03-25",
         "12/15/2022",
         "12-10-2019",
         "08/18/2020"
        ],
        [
         "BA402718703744021077",
         "5 730",
         "80487C5E-1F98-94EE-46F7-9A9621B679EC",
         "2021-12-18",
         "04/25/2022",
         "02/23/2020",
         "07/28/2020"
        ],
        [
         "GB76TLSP94255814845566",
         "38 851",
         "ABB154BD-B5B3-D529-A68A-3DB693260D76",
         "2022-01-22",
         "09-04-2022",
         "02/14/2020",
         "09-10-2020"
        ],
        [
         "CY82240367371826725170862985",
         "18 474",
         "334C907A-362D-7F1B-8676-2313B930BD9B",
         "2021-01-12",
         "02-11-2022",
         "10/26/2019",
         "11/26/2020"
        ],
        [
         "SE2392841363969544046328",
         "73 209",
         "03D73B07-47C7-C5D2-9550-597098F2DD3A",
         "2022-01-13",
         "09/22/2022",
         "12-07-2019",
         "11/16/2020"
        ],
        [
         "SK8295390511417414515281",
         "67 962",
         "BB0BA868-421F-C34A-BE5B-746049872397",
         "2021-11-14",
         "04-11-2022",
         "12/17/2019",
         "09-06-2020"
        ],
        [
         "GR6695626901674942680618762",
         "68 856",
         "762A3744-C9C6-B10E-277D-D6AE6AAEB7D4",
         "2021-09-26",
         "03-01-2022",
         "01/28/2020",
         "09/27/2020"
        ],
        [
         "MC3932012299753326368656412",
         "91 597",
         "650B45E9-E978-D421-124F-166D9846FB06",
         "2021-09-03",
         "11/25/2022",
         "11/27/2019",
         "11/23/2020"
        ],
        [
         "SA8463793217542643163713",
         "79 017",
         "75804348-B4D7-EB26-6849-F85D9CBE2C38",
         "2021-03-12",
         "05/16/2022",
         "10/28/2019",
         "11-09-2020"
        ],
        [
         "BE63833578742871",
         "37 934",
         "7B33B7D8-A851-8FD5-BC9A-0DE2498B6696",
         "2021-04-15",
         "12/28/2022",
         "11/27/2019",
         "09/26/2020"
        ],
        [
         "KW3925583776243106639310167639",
         "53 083",
         "DD7C1C8D-0329-67C6-911D-7E64C51443CB",
         "2021-06-21",
         "06/22/2022",
         "12/16/2019",
         "12/25/2020"
        ],
        [
         "VG7299195735238935773895",
         "99 541",
         "93274286-858D-0168-64AB-184C01849B77",
         "2021-05-07",
         "07/25/2022",
         "02/20/2020",
         "06/29/2020"
        ],
        [
         "NO3438721856131",
         "21 321",
         "69546D9F-D9B1-240D-B9DD-AA34D652C922",
         "2021-11-27",
         "05/14/2022",
         "04/24/2020",
         "09-05-2020"
        ],
        [
         "IS676218221073904459632066",
         "4 197",
         "B5ED5486-D589-ACA2-10AA-7979EDABE06D",
         "2022-01-14",
         "11/24/2022",
         "05/28/2020",
         "07/20/2020"
        ],
        [
         "GE64607956066132711838",
         "6 849",
         "AAFCCB5C-1274-8DD4-DA82-587559AFBAE4",
         "2021-05-06",
         "10-06-2022",
         "12-05-2019",
         "12/25/2020"
        ],
        [
         "BG86MVLF45300655636966",
         "5 335",
         "2E687433-8A1D-09D7-CEA2-C4FA902A307C",
         "2021-02-09",
         "10/18/2022",
         "02/20/2020",
         "06/13/2020"
        ],
        [
         "FO9700878483411724",
         "31 838",
         "44C283B3-DB84-E27A-4C5D-0659528E563E",
         "2021-07-26",
         "06-12-2022",
         "12/28/2019",
         "09/25/2020"
        ],
        [
         "PS028465077237833733173546764",
         "57 252",
         "DD930168-7BE8-A435-4FA8-BF90D22288DE",
         "2021-10-06",
         "10/17/2022",
         "11/18/2019",
         "10/31/2020"
        ],
        [
         "PS413565793505468732339266246",
         "72 856",
         "32131396-AA55-E596-F36E-0C3357247BC5",
         "2021-11-02",
         "10-08-2022",
         "10/30/2019",
         "11/21/2020"
        ],
        [
         "NO5643236336324",
         "16 363",
         "A56BAE2D-C287-847A-2AD8-A27928A35E49",
         "2021-05-29",
         "05-11-2022",
         "09-10-2019",
         "11-09-2020"
        ],
        [
         "NO9792386665975",
         "6 411",
         "1253DB17-F413-78E2-6C11-022545111E84",
         "2021-05-11",
         "04-10-2022",
         "02/22/2020",
         "06/25/2020"
        ],
        [
         "EE679790823772239476",
         "33 322",
         "4CCEAD51-FA51-146A-B2A6-4ECB2895186B",
         "2021-08-07",
         "02/16/2022",
         "03/15/2020",
         "08-05-2020"
        ],
        [
         "AT507863549248665178",
         "54 750",
         "70994580-5A6B-E746-8B38-84B1C4DD9C3F",
         "2021-03-06",
         "03/21/2022",
         "05/26/2020",
         "12/26/2020"
        ],
        [
         "IT125PRIVI45221748086144144",
         "9 649",
         "49736E76-23BE-699D-0C9A-B4DE525FE93D",
         "2021-04-30",
         "06-10-2022",
         "03/18/2020",
         "07/19/2020"
        ],
        [
         "DK6714413636824878",
         "37 768",
         "74B9C9B2-ADE9-94A9-077B-FDBC68CAABAC",
         "2021-10-08",
         "10-09-2022",
         "01/20/2020",
         "09/30/2020"
        ],
        [
         "AE315128764526470831383",
         "46 592",
         "AEFC992D-DEAC-88CD-BC7B-84DCE18A52D4",
         "2022-01-18",
         "12-02-2022",
         "03-05-2020",
         "10-09-2020"
        ],
        [
         "LI9513126185408797638",
         "62 256",
         "D5D8EF45-5712-A1D3-64AE-E281796E43CE",
         "2021-03-21",
         "05/18/2022",
         "01-01-2020",
         "06-04-2020"
        ],
        [
         "IS083082122569298462607636",
         "97 459",
         "7616D6C9-2FBF-36AD-7BDE-C1E905AD5CEA",
         "2021-04-09",
         "11/15/2022",
         "12-05-2019",
         "07/20/2020"
        ],
        [
         "GB51KCYJ62677732121123",
         "65 993",
         "9239335E-3029-591E-CDC5-4863F99B11A0",
         "2021-11-17",
         "06/15/2022",
         "05/28/2020",
         "10-02-2020"
        ],
        [
         "FO3301823444390432",
         "29 054",
         "04E19F52-E36E-9135-ABED-6C103C78395A",
         "2021-08-07",
         "02-01-2022",
         "10-04-2019",
         "11/16/2020"
        ],
        [
         "NL96TMOJ7552536181",
         "10 841",
         "FEE57B9A-0DE3-B8FE-F007-B70D4A8883A0",
         "2021-03-10",
         "12/23/2022",
         "04/28/2020",
         "07-12-2020"
        ],
        [
         "PT21243275852740442397726",
         "56 906",
         "476B1A29-8BF4-5A86-B35A-ED2F570E85B5",
         "2021-01-24",
         "03/20/2022",
         "02/21/2020",
         "09-11-2020"
        ],
        [
         "ME14937433518915291185",
         "8 032",
         "A593E2D9-823D-9307-C231-EE34ED25A9E3",
         "2021-09-01",
         "04-12-2022",
         "12/13/2019",
         "10/31/2020"
        ],
        [
         "CR3537585476814677107",
         "18 804",
         "E6EC4691-53A1-41D1-1261-33223D936885",
         "2021-11-23",
         "08/14/2022",
         "01/21/2020",
         "11-04-2020"
        ],
        [
         "DO36228396826380126153635873",
         "73 123",
         "CDA447B5-F9D1-1584-9728-87074C74D3A7",
         "2021-08-26",
         "10/25/2022",
         "11/19/2019",
         "09/13/2020"
        ],
        [
         "IL956848464883571245534",
         "75 227",
         "D40AFA2F-AB53-6C44-B660-46E4ABBD739E",
         "2021-06-11",
         "03-06-2022",
         "09-08-2019",
         "09-08-2020"
        ],
        [
         "LU192234264417873847",
         "46 834",
         "96ED1592-63EF-A1B7-BDE1-80A7B86DDB9A",
         "2021-08-17",
         "05/31/2022",
         "01/14/2020",
         "08/14/2020"
        ],
        [
         "DK8246384697447442",
         "2 639",
         "8E4D9B25-1A2C-5433-DAE3-54B497317A71",
         "2021-07-02",
         "05-05-2022",
         "01/15/2020",
         "09-10-2020"
        ],
        [
         "SI67439148031744686",
         "84 607",
         "D77A4C57-38CD-B814-3AD2-2C562DB6F0EC",
         "2021-05-04",
         "04-01-2022",
         "03/22/2020",
         "06/20/2020"
        ],
        [
         "PS533680912327932102360453796",
         "75 509",
         "E613A77E-5FE5-65ED-4345-B62886419733",
         "2021-08-13",
         "11-02-2022",
         "12/24/2019",
         "11/21/2020"
        ],
        [
         "LI2985824166260255787",
         "10 296",
         "31D240ED-2C15-6F25-9185-E1CB56AD756C",
         "2021-04-13",
         "10-03-2022",
         "15/28/2020",
         "09/20/2020"
        ],
        [
         "GR1452314540563771805572043",
         "89 497",
         "52239B9C-A212-22C5-6C35-5A54744D849D",
         "2021-10-08",
         "06/16/2022",
         "09-06-2019",
         "07/25/2020"
        ],
        [
         "TR416262831356587971672163",
         "38 748",
         "A854D626-225E-C57C-5F28-ABCC6C60C757",
         "2021-11-25",
         "11/19/2022",
         "04/18/2020",
         "12/18/2020"
        ],
        [
         "NL55MYOQ5920765611",
         "76 146",
         "6AA209B3-ACC5-CD87-6C79-95166ABB9C8D",
         "2021-05-17",
         "11/29/2022",
         "12/13/2019",
         "12/17/2020"
        ],
        [
         "AT634476749358842566",
         "54 891",
         "F1660FF8-2459-1DAD-49D0-6B963CBC1104",
         "2021-05-22",
         "09/13/2022",
         "09/21/2019",
         "10-08-2020"
        ],
        [
         "NL94HYWB4208254222",
         "41 297",
         "AE368F8E-E664-2CD8-3B9D-D4644F38842B",
         "2021-06-29",
         "10-06-2022",
         "04-03-2020",
         "09/17/2020"
        ],
        [
         "TN1193344004638633336988",
         "21 494",
         "9CFAB195-7A25-5935-5789-452A502D3DBD",
         "2021-06-26",
         "05/14/2022",
         "12-02-2019",
         "09-05-2020"
        ],
        [
         "EE638782432618511197",
         "49 899",
         "A3261A66-3A9D-FBE8-556E-2E736D79B8B5",
         "2021-07-29",
         "06-08-2022",
         "12/21/2019",
         "07-12-2020"
        ],
        [
         "HU42322334823795462765555720",
         "31 760",
         "D6260269-6716-413B-0272-3E545A3A158D",
         "2021-09-02",
         "03-02-2022",
         "04/27/2020",
         "06/18/2020"
        ],
        [
         "MD9028174496344751452583",
         "82 814",
         "D0C684B7-9165-E335-AFC9-A512716577DC",
         "2021-04-18",
         "08-01-2022",
         "02/19/2020",
         "10/20/2020"
        ],
        [
         "GB73GNVV06263369134627",
         "81 527",
         "ED651BB2-62CC-1843-C96C-8A55C678255B",
         "2021-04-14",
         "11-02-2022",
         "03/24/2020",
         "11-04-2020"
        ],
        [
         "GL2154543443537031",
         "76 036",
         "0220D587-9384-9738-D1FB-5A1742C874B1",
         "2021-10-12",
         "04-05-2022",
         "02/15/2020",
         "08/27/2020"
        ],
        [
         "KW3130838537560362310140670337",
         "74 823",
         "3171DDC2-BD93-9152-A4B8-DB4C9D52843B",
         "2021-10-21",
         "09/13/2022",
         "05/14/2020",
         "10/23/2020"
        ],
        [
         "GT27508975484261877783571350",
         "77 371",
         "26DCD896-63DF-5EE5-AB31-BEE2EA213382",
         "2021-08-11",
         "10/31/2022",
         "12/31/2019",
         "06-11-2020"
        ],
        [
         "LT923287076566580194",
         "47 520",
         "B125F0F7-FBA4-97E5-E316-DB68D5634D0B",
         "2021-10-02",
         "12/17/2022",
         "10-12-2019",
         "08/20/2020"
        ],
        [
         "AL08758705416365328268875155",
         "97 325",
         "B3C2B896-339E-539F-7733-F7973BB448EA",
         "2022-01-30",
         "07-01-2022",
         "02/22/2020",
         "11/21/2020"
        ],
        [
         "IS098031713264671225717464",
         "23 955",
         "C46D3ACF-8D22-60A1-E1FA-F6CD68A78C0B",
         "2021-02-21",
         "01-05-2023",
         "10/28/2019",
         "07/25/2020"
        ],
        [
         "NL47OKON0221640063",
         "34 416",
         "BFBB2437-53C4-E555-B792-A353DD0718A1",
         "2021-10-01",
         "04-02-2022",
         "10/14/2019",
         "11/19/2020"
        ],
        [
         "SA4724755205675046363826",
         "58 694",
         "88D75C97-7436-9C29-6096-2CB7EAAC825C",
         "2021-10-29",
         "08/27/2022",
         "09/16/2019",
         "06/27/2020"
        ],
        [
         "IT351ELLFI57058717461018839",
         "74 168",
         "D6B064CB-26EE-DDB6-9C57-543473EA276B",
         "2021-04-28",
         "10/31/2022",
         "01/27/2020",
         "09/23/2020"
        ],
        [
         "EE815686635863626742",
         "59 086",
         "9C4F58F4-D443-A210-F171-9CD11CE061AD",
         "2021-05-01",
         "03-08-2022",
         "12/30/2019",
         "07/18/2020"
        ],
        [
         "IS528319691874156858678263",
         "56 787",
         "D32865C8-E375-2E24-0F6F-24B7745D4FB2",
         "2021-09-21",
         "05/26/2022",
         "02-12-2020",
         "10/30/2020"
        ],
        [
         "FI4785964573695217",
         "70 512",
         "1CA4F7BE-8D71-E6CC-9A77-EE380B20B265",
         "2021-10-21",
         "06/21/2022",
         "10/19/2019",
         "10-11-2020"
        ],
        [
         "AT503763733146159061",
         "33 852",
         "7EED5E27-8B77-EC35-6462-E89B73931D5F",
         "2021-12-13",
         "06/23/2022",
         "01-10-2020",
         "11-03-2020"
        ],
        [
         "HU41602147525018056020497713",
         "59 540",
         "F6B746EE-59E0-70E5-609E-7F857DE52448",
         "2021-06-17",
         "08/22/2022",
         "01/26/2020",
         "12/19/2020"
        ],
        [
         "MU7855841514788741237585860635",
         "22 645",
         "157CBDBC-87D9-4086-C5FD-6295CA2C27F2",
         "2021-05-10",
         "11/22/2022",
         "09/21/2019",
         "08/26/2020"
        ],
        [
         "AL85012333296862385736065641",
         "67 335",
         "8B3DC6B6-0B68-2072-67A2-930566874CBA",
         "2021-10-25",
         "12-01-2022",
         "03-11-2020",
         "07-12-2020"
        ],
        [
         "LT361487217998854467",
         "15 869",
         "7D29C14D-193C-26E8-CA93-B27647842577",
         "2021-07-05",
         "09/28/2022",
         "09-03-2019",
         "09/29/2020"
        ],
        [
         "AE416184037772116873510",
         "74 014",
         "D7E6813C-82C4-D448-3EBA-F51EE04D235B",
         "2021-12-04",
         "02-07-2022",
         "02/17/2020",
         "10-12-2020"
        ],
        [
         "PK6416881362534285481210",
         "35 365",
         "4CE7ECBA-48C1-D52B-A9E4-13706C5C47AC",
         "2021-01-31",
         "06/22/2022",
         "11-06-2019",
         "09/25/2020"
        ],
        [
         "MU8305057870120947812408135243",
         "27 491",
         "2C4BBD42-6816-936C-62B6-A4E01E68D799",
         "2021-11-09",
         "10/20/2022",
         "05/28/2020",
         "09-05-2020"
        ],
        [
         "GT91349681852230319885059862",
         "636",
         "1B887057-E192-A8A5-798D-FB0444937F75",
         "2021-05-22",
         "10-11-2022",
         "05/21/2020",
         "11/17/2020"
        ],
        [
         "VG3522172914381330832987",
         "95 708",
         "943F0B15-23E6-1797-2448-DAE04CD05C35",
         "2021-10-01",
         "10-11-2022",
         "11/26/2019",
         "06/16/2020"
        ]
       ],
       "datasetInfos": [],
       "dbfsResultPath": null,
       "isJsonSchema": true,
       "metadata": {},
       "overflow": false,
       "plotOptions": {
        "customPlotOptions": {},
        "displayType": "table",
        "pivotAggregation": null,
        "pivotColumns": null,
        "xColumns": null,
        "yColumns": null
       },
       "removedWidgets": [],
       "schema": [
        {
         "metadata": "{}",
         "name": "ProductId",
         "type": "\"string\""
        },
        {
         "metadata": "{}",
         "name": "Price",
         "type": "\"string\""
        },
        {
         "metadata": "{}",
         "name": "guid",
         "type": "\"string\""
        },
        {
         "metadata": "{\"__detected_date_formats\":\"M-d-yyyy\"}",
         "name": "StartDate",
         "type": "\"date\""
        },
        {
         "metadata": "{}",
         "name": "EndDate",
         "type": "\"string\""
        },
        {
         "metadata": "{}",
         "name": "CreateDate",
         "type": "\"string\""
        },
        {
         "metadata": "{}",
         "name": "ModifiedDate",
         "type": "\"string\""
        }
       ],
       "type": "table"
      }
     },
     "output_type": "display_data"
    },
    {
     "output_type": "stream",
     "name": "stdout",
     "output_type": "stream",
     "text": [
      "501\n500\nDuplication Found. Rule 1 Failed\n"
     ]
    }
   ],
   "source": [
    "df1 = spark.read.csv('/mnt/landing/'+fileName, inferSchema=True, header=True)\n",
    "display(df1)\n",
    "\n",
    "# Rule\n",
    "errorFlag=False\n",
    "errorMessage = ''\n",
    "totalcount = df1.count()\n",
    "print(totalcount)\n",
    "distinctCount = df1.distinct().count()\n",
    "print(distinctCount)\n",
    "if distinctCount !=totalcount:\n",
    "    errorFlag = True\n",
    "    errorMessage = 'Duplication Found. Rule 1 Failed'\n",
    "print(errorMessage)"
   ]
  },
  {
   "cell_type": "code",
   "execution_count": 0,
   "metadata": {
    "application/vnd.databricks.v1+cell": {
     "cellMetadata": {
      "byteLimit": 2048000,
      "rowLimit": 10000
     },
     "inputWidgets": {},
     "nuid": "638c358e-b149-4675-ad1c-33376b3d542e",
     "showTitle": false,
     "tableResultSettingsMap": {},
     "title": ""
    }
   },
   "outputs": [
    {
     "output_type": "stream",
     "name": "stdout",
     "output_type": "stream",
     "text": [
      "StartDate MM-dd-yyyy\nAll rows are good for  StartDate\nEndDate MM/dd/yyyy\nCreateDate MM/dd/yyyy\nModifiedDate MM/dd/yyyy\nDuplication Found. Rule 1 Failed DateFormate is incorrect for EndDate  DateFormate is incorrect for CreateDate  DateFormate is incorrect for ModifiedDate \n"
     ]
    }
   ],
   "source": [
    "# Rule 2\n",
    "df2 = df.filter(df.FileName==fileNameWithoutExt).select('ColumnName','ColumnDateFormat' )\n",
    "rows = df2.collect()\n",
    "for r in rows:\n",
    "    colName = r[0]\n",
    "    colFormat =r[1]\n",
    "    print(colName, colFormat)\n",
    "    #display(df1.filter(F.to_date(colName, colFormat).isNull() ==True))\n",
    "    formatCount =df1.filter(F.to_date(colName, colFormat).isNotNull() ==True).count()\n",
    "    if formatCount != totalcount:\n",
    "        errorFlag = True\n",
    "        errorMessage = errorMessage +' DateFormate is incorrect for {} '.format(colName)\n",
    "    else:\n",
    "        print('All rows are good for ', colName)\n",
    "print(errorMessage)"
   ]
  },
  {
   "cell_type": "code",
   "execution_count": 0,
   "metadata": {
    "application/vnd.databricks.v1+cell": {
     "cellMetadata": {
      "byteLimit": 2048000,
      "rowLimit": 10000
     },
     "inputWidgets": {},
     "nuid": "e26fefdb-d5f6-43d6-95e7-f62ac7a2270d",
     "showTitle": false,
     "tableResultSettingsMap": {},
     "title": ""
    }
   },
   "outputs": [],
   "source": [
    "if errorFlag:\n",
    "    dbutils.fs.mv('/mnt/landing/'+fileName,'/mnt/rejected/'+fileName )\n",
    "    dbutils.notebook.exit('{\"errorFlag\": \"true\", \"errorMessage\":\"'+errorMessage +'\"}')\n",
    "else:\n",
    "    dbutils.fs.mv('/mnt/landing/'+fileName,'/mnt/staging/'+fileName )\n",
    "    dbutils.notebook.exit('{\"errorFlag\": \"false\", \"errorMessage\":\"No error\"}')"
   ]
  }
 ],
 "metadata": {
  "application/vnd.databricks.v1+notebook": {
   "computePreferences": null,
   "dashboards": [],
   "environmentMetadata": null,
   "language": "python",
   "notebookMetadata": {
    "pythonIndentUnit": 4
   },
   "notebookName": "Ap Morgan",
   "widgets": {}
  },
  "language_info": {
   "name": "python"
  }
 },
 "nbformat": 4,
 "nbformat_minor": 0
}