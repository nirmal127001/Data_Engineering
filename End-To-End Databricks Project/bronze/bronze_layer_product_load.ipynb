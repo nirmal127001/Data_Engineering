{
 "cells": [
  {
   "cell_type": "code",
   "execution_count": 0,
   "metadata": {
    "application/vnd.databricks.v1+cell": {
     "cellMetadata": {
      "byteLimit": 2048000,
      "rowLimit": 10000
     },
     "inputWidgets": {},
     "nuid": "23319974-e93d-45e5-9e60-169d9fd5d0b9",
     "showTitle": false,
     "tableResultSettingsMap": {},
     "title": ""
    }
   },
   "outputs": [],
   "source": [
    "filePath = \"dbfs:/FileStore/GlobalRetail/bronze_layer/product_catalog/products.json\"\n",
    "df = spark.read.json(filePath)"
   ]
  },
  {
   "cell_type": "code",
   "execution_count": 0,
   "metadata": {
    "application/vnd.databricks.v1+cell": {
     "cellMetadata": {
      "byteLimit": 2048000,
      "rowLimit": 10000
     },
     "inputWidgets": {},
     "nuid": "efd7d488-efcd-4868-95a3-962ce9797dc5",
     "showTitle": false,
     "tableResultSettingsMap": {},
     "title": ""
    }
   },
   "outputs": [
    {
     "output_type": "stream",
     "name": "stdout",
     "output_type": "stream",
     "text": [
      "+------------+-----------+---------+----------+-------+----------+------+--------------+\n|       brand|   category|is_active|      name|  price|product_id|rating|stock_quantity|\n+------------+-----------+---------+----------+-------+----------+------+--------------+\n|  BeautyGlow|       Toys|     true| Product 1| 995.73|         1|   3.5|           989|\n|GardenMaster|     Garden|     true| Product 2| 497.76|         2|   3.8|           495|\n|  BeautyGlow|Electronics|     true| Product 3| 331.63|         3|   4.6|            10|\n|     TechPro|     Beauty|    false| Product 4| 798.83|         4|   4.7|           683|\n|   HomeSmart| Automotive|    false| Product 5|-454.98|         5|   4.4|           719|\n|    BookWorm|Electronics|    false| Product 6|  645.3|         6|   2.2|           823|\n|    FashionX| Automotive|    false| Product 7| 549.08|         7|   1.1|           999|\n|     TechPro|      Books|    false| Product 8| 982.36|         8|   2.4|           542|\n|    FashionX|       Toys|     true| Product 9| 307.14|         9|   1.0|           671|\n|  BeautyGlow|     Garden|    false|Product 10| 871.38|        10|   3.4|           975|\n|    AutoZoom|      Books|    false|Product 11| 943.03|        11|   4.6|           768|\n|      ToyFun|   Clothing|    false|Product 12| 194.04|        12|   2.7|           284|\n|    SportMax|   Clothing|    false|Product 13| 220.49|        13|   2.4|             7|\n|     TechPro|       Toys|    false|Product 14| 293.38|        14|   1.5|           349|\n|     TechPro|Electronics|    false|Product 15| 916.48|        15|   1.3|            39|\n|    BookWorm|      Books|     true|Product 16| 282.79|        16|   1.9|           301|\n|      ToyFun|       Toys|    false|Product 17| 311.69|        17|   1.7|           121|\n|GardenMaster|Electronics|    false|Product 18| 951.77|        18|   1.7|           911|\n|    BookWorm|Electronics|    false|Product 19| 745.12|        19|   3.3|           819|\n|  BeautyGlow|      Books|    false|Product 20| 515.79|        20|   1.6|           726|\n+------------+-----------+---------+----------+-------+----------+------+--------------+\nonly showing top 20 rows\n\n"
     ]
    }
   ],
   "source": [
    "df.show()"
   ]
  },
  {
   "cell_type": "code",
   "execution_count": 0,
   "metadata": {
    "application/vnd.databricks.v1+cell": {
     "cellMetadata": {
      "byteLimit": 2048000,
      "rowLimit": 10000
     },
     "inputWidgets": {},
     "nuid": "6f915cdf-a8e2-4117-a7db-d2584a770c12",
     "showTitle": false,
     "tableResultSettingsMap": {},
     "title": ""
    }
   },
   "outputs": [
    {
     "output_type": "display_data",
     "data": {
      "text/html": [
       "<style scoped>\n",
       "  .table-result-container {\n",
       "    max-height: 300px;\n",
       "    overflow: auto;\n",
       "  }\n",
       "  table, th, td {\n",
       "    border: 1px solid black;\n",
       "    border-collapse: collapse;\n",
       "  }\n",
       "  th, td {\n",
       "    padding: 5px;\n",
       "  }\n",
       "  th {\n",
       "    text-align: left;\n",
       "  }\n",
       "</style><div class='table-result-container'><table class='table-result'><thead style='background-color: white'><tr><th>brand</th><th>category</th><th>is_active</th><th>name</th><th>price</th><th>product_id</th><th>rating</th><th>stock_quantity</th><th>ingestion_timestamp</th></tr></thead><tbody><tr><td>BeautyGlow</td><td>Toys</td><td>true</td><td>Product 1</td><td>995.73</td><td>1</td><td>3.5</td><td>989</td><td>2025-04-29T11:49:36.770+0000</td></tr><tr><td>GardenMaster</td><td>Garden</td><td>true</td><td>Product 2</td><td>497.76</td><td>2</td><td>3.8</td><td>495</td><td>2025-04-29T11:49:36.770+0000</td></tr><tr><td>BeautyGlow</td><td>Electronics</td><td>true</td><td>Product 3</td><td>331.63</td><td>3</td><td>4.6</td><td>10</td><td>2025-04-29T11:49:36.770+0000</td></tr><tr><td>TechPro</td><td>Beauty</td><td>false</td><td>Product 4</td><td>798.83</td><td>4</td><td>4.7</td><td>683</td><td>2025-04-29T11:49:36.770+0000</td></tr><tr><td>HomeSmart</td><td>Automotive</td><td>false</td><td>Product 5</td><td>-454.98</td><td>5</td><td>4.4</td><td>719</td><td>2025-04-29T11:49:36.770+0000</td></tr><tr><td>BookWorm</td><td>Electronics</td><td>false</td><td>Product 6</td><td>645.3</td><td>6</td><td>2.2</td><td>823</td><td>2025-04-29T11:49:36.770+0000</td></tr><tr><td>FashionX</td><td>Automotive</td><td>false</td><td>Product 7</td><td>549.08</td><td>7</td><td>1.1</td><td>999</td><td>2025-04-29T11:49:36.770+0000</td></tr><tr><td>TechPro</td><td>Books</td><td>false</td><td>Product 8</td><td>982.36</td><td>8</td><td>2.4</td><td>542</td><td>2025-04-29T11:49:36.770+0000</td></tr><tr><td>FashionX</td><td>Toys</td><td>true</td><td>Product 9</td><td>307.14</td><td>9</td><td>1.0</td><td>671</td><td>2025-04-29T11:49:36.770+0000</td></tr><tr><td>BeautyGlow</td><td>Garden</td><td>false</td><td>Product 10</td><td>871.38</td><td>10</td><td>3.4</td><td>975</td><td>2025-04-29T11:49:36.770+0000</td></tr></tbody></table></div>"
      ]
     },
     "metadata": {
      "application/vnd.databricks.v1+output": {
       "addedWidgets": {},
       "aggData": [],
       "aggError": "",
       "aggOverflow": false,
       "aggSchema": [],
       "aggSeriesLimitReached": false,
       "aggType": "",
       "arguments": {},
       "columnCustomDisplayInfos": {},
       "data": [
        [
         "BeautyGlow",
         "Toys",
         true,
         "Product 1",
         995.73,
         1,
         3.5,
         "989",
         "2025-04-29T11:49:36.770+0000"
        ],
        [
         "GardenMaster",
         "Garden",
         true,
         "Product 2",
         497.76,
         2,
         3.8,
         "495",
         "2025-04-29T11:49:36.770+0000"
        ],
        [
         "BeautyGlow",
         "Electronics",
         true,
         "Product 3",
         331.63,
         3,
         4.6,
         "10",
         "2025-04-29T11:49:36.770+0000"
        ],
        [
         "TechPro",
         "Beauty",
         false,
         "Product 4",
         798.83,
         4,
         4.7,
         "683",
         "2025-04-29T11:49:36.770+0000"
        ],
        [
         "HomeSmart",
         "Automotive",
         false,
         "Product 5",
         -454.98,
         5,
         4.4,
         "719",
         "2025-04-29T11:49:36.770+0000"
        ],
        [
         "BookWorm",
         "Electronics",
         false,
         "Product 6",
         645.3,
         6,
         2.2,
         "823",
         "2025-04-29T11:49:36.770+0000"
        ],
        [
         "FashionX",
         "Automotive",
         false,
         "Product 7",
         549.08,
         7,
         1.1,
         "999",
         "2025-04-29T11:49:36.770+0000"
        ],
        [
         "TechPro",
         "Books",
         false,
         "Product 8",
         982.36,
         8,
         2.4,
         "542",
         "2025-04-29T11:49:36.770+0000"
        ],
        [
         "FashionX",
         "Toys",
         true,
         "Product 9",
         307.14,
         9,
         1.0,
         "671",
         "2025-04-29T11:49:36.770+0000"
        ],
        [
         "BeautyGlow",
         "Garden",
         false,
         "Product 10",
         871.38,
         10,
         3.4,
         "975",
         "2025-04-29T11:49:36.770+0000"
        ]
       ],
       "datasetInfos": [],
       "dbfsResultPath": null,
       "isJsonSchema": true,
       "metadata": {},
       "overflow": false,
       "plotOptions": {
        "customPlotOptions": {},
        "displayType": "table",
        "pivotAggregation": null,
        "pivotColumns": null,
        "xColumns": null,
        "yColumns": null
       },
       "removedWidgets": [],
       "schema": [
        {
         "metadata": "{}",
         "name": "brand",
         "type": "\"string\""
        },
        {
         "metadata": "{}",
         "name": "category",
         "type": "\"string\""
        },
        {
         "metadata": "{}",
         "name": "is_active",
         "type": "\"boolean\""
        },
        {
         "metadata": "{}",
         "name": "name",
         "type": "\"string\""
        },
        {
         "metadata": "{}",
         "name": "price",
         "type": "\"double\""
        },
        {
         "metadata": "{}",
         "name": "product_id",
         "type": "\"long\""
        },
        {
         "metadata": "{}",
         "name": "rating",
         "type": "\"double\""
        },
        {
         "metadata": "{}",
         "name": "stock_quantity",
         "type": "\"string\""
        },
        {
         "metadata": "{}",
         "name": "ingestion_timestamp",
         "type": "\"timestamp\""
        }
       ],
       "type": "table"
      }
     },
     "output_type": "display_data"
    }
   ],
   "source": [
    "from pyspark.sql.functions import current_timestamp\n",
    "df_new = df.withColumn(\"ingestion_timestamp\", current_timestamp())\n",
    "display(df_new.limit(10))"
   ]
  },
  {
   "cell_type": "code",
   "execution_count": 0,
   "metadata": {
    "application/vnd.databricks.v1+cell": {
     "cellMetadata": {
      "byteLimit": 2048000,
      "rowLimit": 10000
     },
     "inputWidgets": {},
     "nuid": "5586b1f7-8bc0-418d-a108-cff77a00164f",
     "showTitle": false,
     "tableResultSettingsMap": {},
     "title": ""
    }
   },
   "outputs": [
    {
     "output_type": "stream",
     "name": "stdout",
     "output_type": "stream",
     "text": [
      "Out[4]: True"
     ]
    }
   ],
   "source": [
    "dbutils.fs.rm(\"dbfs:/user/hive/warehouse/global_retail_bronze.db/bronze_products\", recurse=True)"
   ]
  },
  {
   "cell_type": "code",
   "execution_count": 0,
   "metadata": {
    "application/vnd.databricks.v1+cell": {
     "cellMetadata": {
      "byteLimit": 2048000,
      "rowLimit": 10000
     },
     "inputWidgets": {},
     "nuid": "66ac90a4-ffca-44d7-9aad-97f4d8a2dec4",
     "showTitle": false,
     "tableResultSettingsMap": {},
     "title": ""
    }
   },
   "outputs": [],
   "source": [
    "# we want to save it as delta lake table because we are creating data lake house architecture (delta lake is underlying table format)\n",
    "# delta lake provides you the capability to do crud operations and acid transactions\n",
    "spark.sql(\"use global_retail_bronze\")\n",
    "try:\n",
    "    df_new.write.format(\"delta\").mode(\"append\").saveAsTable(\"bronze_products\")\n",
    "except Exception as e:\n",
    "    print(f\"Error occurred: {str(e)}\")"
   ]
  },
  {
   "cell_type": "code",
   "execution_count": 0,
   "metadata": {
    "application/vnd.databricks.v1+cell": {
     "cellMetadata": {
      "byteLimit": 2048000,
      "implicitDf": true,
      "rowLimit": 10000
     },
     "inputWidgets": {},
     "nuid": "282a0d15-fa31-4fe1-a5e2-00edf8bb0f14",
     "showTitle": false,
     "tableResultSettingsMap": {},
     "title": ""
    }
   },
   "outputs": [
    {
     "output_type": "display_data",
     "data": {
      "text/html": [
       "<style scoped>\n",
       "  .table-result-container {\n",
       "    max-height: 300px;\n",
       "    overflow: auto;\n",
       "  }\n",
       "  table, th, td {\n",
       "    border: 1px solid black;\n",
       "    border-collapse: collapse;\n",
       "  }\n",
       "  th, td {\n",
       "    padding: 5px;\n",
       "  }\n",
       "  th {\n",
       "    text-align: left;\n",
       "  }\n",
       "</style><div class='table-result-container'><table class='table-result'><thead style='background-color: white'><tr><th>database</th><th>tableName</th><th>isTemporary</th></tr></thead><tbody><tr><td>global_retail_bronze</td><td>bronze_customer</td><td>false</td></tr><tr><td>global_retail_bronze</td><td>bronze_products</td><td>false</td></tr></tbody></table></div>"
      ]
     },
     "metadata": {
      "application/vnd.databricks.v1+output": {
       "addedWidgets": {},
       "aggData": [],
       "aggError": "",
       "aggOverflow": false,
       "aggSchema": [],
       "aggSeriesLimitReached": false,
       "aggType": "",
       "arguments": {},
       "columnCustomDisplayInfos": {},
       "data": [
        [
         "global_retail_bronze",
         "bronze_customer",
         false
        ],
        [
         "global_retail_bronze",
         "bronze_products",
         false
        ]
       ],
       "datasetInfos": [],
       "dbfsResultPath": null,
       "isJsonSchema": true,
       "metadata": {},
       "overflow": false,
       "plotOptions": {
        "customPlotOptions": {},
        "displayType": "table",
        "pivotAggregation": null,
        "pivotColumns": null,
        "xColumns": null,
        "yColumns": null
       },
       "removedWidgets": [],
       "schema": [
        {
         "metadata": "{}",
         "name": "database",
         "type": "\"string\""
        },
        {
         "metadata": "{}",
         "name": "tableName",
         "type": "\"string\""
        },
        {
         "metadata": "{}",
         "name": "isTemporary",
         "type": "\"boolean\""
        }
       ],
       "type": "table"
      }
     },
     "output_type": "display_data"
    }
   ],
   "source": [
    "%sql\n",
    "show tables"
   ]
  },
  {
   "cell_type": "code",
   "execution_count": 0,
   "metadata": {
    "application/vnd.databricks.v1+cell": {
     "cellMetadata": {
      "byteLimit": 2048000,
      "rowLimit": 10000
     },
     "inputWidgets": {},
     "nuid": "c144b216-0510-4730-93cf-46df66b24368",
     "showTitle": false,
     "tableResultSettingsMap": {},
     "title": ""
    }
   },
   "outputs": [],
   "source": [
    "# import datetime\n",
    "\n",
    "# archive_folder = 'dbfs:/FileStore/GlobalRetail/bronze_layer/product_catalog/archive/'\n",
    "# archive_file_path = archive_folder+'_'+datetime.datetime.now().strftime(\"%Y%m%d%H%M%s\")\n",
    "# dbutils.fs.mv(filePath, archive_file_path)\n",
    "# print(archive_file_path)"
   ]
  }
 ],
 "metadata": {
  "application/vnd.databricks.v1+notebook": {
   "computePreferences": null,
   "dashboards": [],
   "environmentMetadata": {
    "base_environment": "",
    "environment_version": "1"
   },
   "inputWidgetPreferences": null,
   "language": "python",
   "notebookMetadata": {
    "mostRecentlyExecutedCommandWithImplicitDF": {
     "commandId": 3769252063934620,
     "dataframes": [
      "_sqldf"
     ]
    },
    "pythonIndentUnit": 4
   },
   "notebookName": "bronze_layer_product_load",
   "widgets": {}
  }
 },
 "nbformat": 4,
 "nbformat_minor": 0
}