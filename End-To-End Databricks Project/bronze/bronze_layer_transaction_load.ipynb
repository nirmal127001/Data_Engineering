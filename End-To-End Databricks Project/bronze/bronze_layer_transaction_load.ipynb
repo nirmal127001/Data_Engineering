{
 "cells": [
  {
   "cell_type": "code",
   "execution_count": 0,
   "metadata": {
    "application/vnd.databricks.v1+cell": {
     "cellMetadata": {
      "byteLimit": 2048000,
      "rowLimit": 10000
     },
     "inputWidgets": {},
     "nuid": "23319974-e93d-45e5-9e60-169d9fd5d0b9",
     "showTitle": false,
     "tableResultSettingsMap": {},
     "title": ""
    }
   },
   "outputs": [],
   "source": [
    "filePath = \"dbfs:/FileStore/GlobalRetail/bronze_layer/transaction/transaction_snappy.parquet\"\n",
    "df = spark.read.parquet(filePath)"
   ]
  },
  {
   "cell_type": "code",
   "execution_count": 0,
   "metadata": {
    "application/vnd.databricks.v1+cell": {
     "cellMetadata": {
      "byteLimit": 2048000,
      "rowLimit": 10000
     },
     "inputWidgets": {},
     "nuid": "af6299a3-a605-4f9d-b386-f8680e5a8e80",
     "showTitle": false,
     "tableResultSettingsMap": {},
     "title": ""
    }
   },
   "outputs": [
    {
     "output_type": "stream",
     "name": "stdout",
     "output_type": "stream",
     "text": [
      "root\n |-- transaction_id: string (nullable = true)\n |-- customer_id: integer (nullable = true)\n |-- product_id: integer (nullable = true)\n |-- quantity: integer (nullable = true)\n |-- total_amount: double (nullable = true)\n |-- transaction_date: timestamp (nullable = true)\n |-- payment_method: string (nullable = true)\n |-- store_type: string (nullable = true)\n\n"
     ]
    }
   ],
   "source": [
    "from pyspark.sql.functions import to_timestamp,col\n",
    "new_df = df.withColumn(\"transaction_date\", to_timestamp(col(\"transaction_date\")))\n",
    "new_df.printSchema()"
   ]
  },
  {
   "cell_type": "code",
   "execution_count": 0,
   "metadata": {
    "application/vnd.databricks.v1+cell": {
     "cellMetadata": {
      "byteLimit": 2048000,
      "rowLimit": 10000
     },
     "inputWidgets": {},
     "nuid": "efd7d488-efcd-4868-95a3-962ce9797dc5",
     "showTitle": false,
     "tableResultSettingsMap": {},
     "title": ""
    }
   },
   "outputs": [
    {
     "output_type": "display_data",
     "data": {
      "text/html": [
       "<style scoped>\n",
       "  .table-result-container {\n",
       "    max-height: 300px;\n",
       "    overflow: auto;\n",
       "  }\n",
       "  table, th, td {\n",
       "    border: 1px solid black;\n",
       "    border-collapse: collapse;\n",
       "  }\n",
       "  th, td {\n",
       "    padding: 5px;\n",
       "  }\n",
       "  th {\n",
       "    text-align: left;\n",
       "  }\n",
       "</style><div class='table-result-container'><table class='table-result'><thead style='background-color: white'><tr><th>transaction_id</th><th>customer_id</th><th>product_id</th><th>quantity</th><th>total_amount</th><th>transaction_date</th><th>payment_method</th><th>store_type</th></tr></thead><tbody><tr><td>TRX000001</td><td>802</td><td>425</td><td>1</td><td>363.4</td><td>2020-07-27T00:00:00.000+0000</td><td>Debit Card</td><td>Physical Store</td></tr><tr><td>TRX000002</td><td>858</td><td>280</td><td>6</td><td>758.18</td><td>2022-08-10T00:00:00.000+0000</td><td>Credit Card</td><td>Physical Store</td></tr><tr><td>TRX000003</td><td>658</td><td>694</td><td>9</td><td>748.66</td><td>2020-05-22T00:00:00.000+0000</td><td>Bank Transfer</td><td>Online</td></tr><tr><td>TRX000004</td><td>516</td><td>930</td><td>4</td><td>933.78</td><td>null</td><td>Bank Transfer</td><td>Physical Store</td></tr><tr><td>TRX000005</td><td>368</td><td>104</td><td>10</td><td>137.28</td><td>2022-06-24T00:00:00.000+0000</td><td>PayPal</td><td>Physical Store</td></tr><tr><td>TRX000006</td><td>606</td><td>409</td><td>6</td><td>556.88</td><td>2020-10-14T00:00:00.000+0000</td><td>Credit Card</td><td>Online</td></tr><tr><td>TRX000007</td><td>535</td><td>487</td><td>7</td><td>246.29</td><td>2023-08-19T00:00:00.000+0000</td><td>Credit Card</td><td>Physical Store</td></tr><tr><td>TRX000008</td><td>87</td><td>630</td><td>8</td><td>-416.82</td><td>2020-04-18T00:00:00.000+0000</td><td>Credit Card</td><td>Physical Store</td></tr><tr><td>TRX000009</td><td>383</td><td>617</td><td>10</td><td>405.05</td><td>2021-02-13T00:00:00.000+0000</td><td>Cash</td><td>Physical Store</td></tr><tr><td>TRX000010</td><td>725</td><td>938</td><td>1</td><td>410.03</td><td>2020-03-18T00:00:00.000+0000</td><td>PayPal</td><td>Online</td></tr></tbody></table></div>"
      ]
     },
     "metadata": {
      "application/vnd.databricks.v1+output": {
       "addedWidgets": {},
       "aggData": [],
       "aggError": "",
       "aggOverflow": false,
       "aggSchema": [],
       "aggSeriesLimitReached": false,
       "aggType": "",
       "arguments": {},
       "columnCustomDisplayInfos": {},
       "data": [
        [
         "TRX000001",
         802,
         425,
         1,
         363.4,
         "2020-07-27T00:00:00.000+0000",
         "Debit Card",
         "Physical Store"
        ],
        [
         "TRX000002",
         858,
         280,
         6,
         758.18,
         "2022-08-10T00:00:00.000+0000",
         "Credit Card",
         "Physical Store"
        ],
        [
         "TRX000003",
         658,
         694,
         9,
         748.66,
         "2020-05-22T00:00:00.000+0000",
         "Bank Transfer",
         "Online"
        ],
        [
         "TRX000004",
         516,
         930,
         4,
         933.78,
         null,
         "Bank Transfer",
         "Physical Store"
        ],
        [
         "TRX000005",
         368,
         104,
         10,
         137.28,
         "2022-06-24T00:00:00.000+0000",
         "PayPal",
         "Physical Store"
        ],
        [
         "TRX000006",
         606,
         409,
         6,
         556.88,
         "2020-10-14T00:00:00.000+0000",
         "Credit Card",
         "Online"
        ],
        [
         "TRX000007",
         535,
         487,
         7,
         246.29,
         "2023-08-19T00:00:00.000+0000",
         "Credit Card",
         "Physical Store"
        ],
        [
         "TRX000008",
         87,
         630,
         8,
         -416.82,
         "2020-04-18T00:00:00.000+0000",
         "Credit Card",
         "Physical Store"
        ],
        [
         "TRX000009",
         383,
         617,
         10,
         405.05,
         "2021-02-13T00:00:00.000+0000",
         "Cash",
         "Physical Store"
        ],
        [
         "TRX000010",
         725,
         938,
         1,
         410.03,
         "2020-03-18T00:00:00.000+0000",
         "PayPal",
         "Online"
        ]
       ],
       "datasetInfos": [],
       "dbfsResultPath": null,
       "isJsonSchema": true,
       "metadata": {},
       "overflow": false,
       "plotOptions": {
        "customPlotOptions": {},
        "displayType": "table",
        "pivotAggregation": null,
        "pivotColumns": null,
        "xColumns": null,
        "yColumns": null
       },
       "removedWidgets": [],
       "schema": [
        {
         "metadata": "{}",
         "name": "transaction_id",
         "type": "\"string\""
        },
        {
         "metadata": "{}",
         "name": "customer_id",
         "type": "\"integer\""
        },
        {
         "metadata": "{}",
         "name": "product_id",
         "type": "\"integer\""
        },
        {
         "metadata": "{}",
         "name": "quantity",
         "type": "\"integer\""
        },
        {
         "metadata": "{}",
         "name": "total_amount",
         "type": "\"double\""
        },
        {
         "metadata": "{}",
         "name": "transaction_date",
         "type": "\"timestamp\""
        },
        {
         "metadata": "{}",
         "name": "payment_method",
         "type": "\"string\""
        },
        {
         "metadata": "{}",
         "name": "store_type",
         "type": "\"string\""
        }
       ],
       "type": "table"
      }
     },
     "output_type": "display_data"
    }
   ],
   "source": [
    "display(new_df.limit(10))"
   ]
  },
  {
   "cell_type": "code",
   "execution_count": 0,
   "metadata": {
    "application/vnd.databricks.v1+cell": {
     "cellMetadata": {
      "byteLimit": 2048000,
      "rowLimit": 10000
     },
     "inputWidgets": {},
     "nuid": "6f915cdf-a8e2-4117-a7db-d2584a770c12",
     "showTitle": false,
     "tableResultSettingsMap": {},
     "title": ""
    }
   },
   "outputs": [
    {
     "output_type": "display_data",
     "data": {
      "text/html": [
       "<style scoped>\n",
       "  .table-result-container {\n",
       "    max-height: 300px;\n",
       "    overflow: auto;\n",
       "  }\n",
       "  table, th, td {\n",
       "    border: 1px solid black;\n",
       "    border-collapse: collapse;\n",
       "  }\n",
       "  th, td {\n",
       "    padding: 5px;\n",
       "  }\n",
       "  th {\n",
       "    text-align: left;\n",
       "  }\n",
       "</style><div class='table-result-container'><table class='table-result'><thead style='background-color: white'><tr><th>transaction_id</th><th>customer_id</th><th>product_id</th><th>quantity</th><th>total_amount</th><th>transaction_date</th><th>payment_method</th><th>store_type</th><th>ingestion_timestamp</th></tr></thead><tbody><tr><td>TRX000001</td><td>802</td><td>425</td><td>1</td><td>363.4</td><td>2020-07-27T00:00:00.000+0000</td><td>Debit Card</td><td>Physical Store</td><td>2025-04-29T11:50:23.268+0000</td></tr><tr><td>TRX000002</td><td>858</td><td>280</td><td>6</td><td>758.18</td><td>2022-08-10T00:00:00.000+0000</td><td>Credit Card</td><td>Physical Store</td><td>2025-04-29T11:50:23.268+0000</td></tr><tr><td>TRX000003</td><td>658</td><td>694</td><td>9</td><td>748.66</td><td>2020-05-22T00:00:00.000+0000</td><td>Bank Transfer</td><td>Online</td><td>2025-04-29T11:50:23.268+0000</td></tr><tr><td>TRX000004</td><td>516</td><td>930</td><td>4</td><td>933.78</td><td>null</td><td>Bank Transfer</td><td>Physical Store</td><td>2025-04-29T11:50:23.268+0000</td></tr><tr><td>TRX000005</td><td>368</td><td>104</td><td>10</td><td>137.28</td><td>2022-06-24T00:00:00.000+0000</td><td>PayPal</td><td>Physical Store</td><td>2025-04-29T11:50:23.268+0000</td></tr><tr><td>TRX000006</td><td>606</td><td>409</td><td>6</td><td>556.88</td><td>2020-10-14T00:00:00.000+0000</td><td>Credit Card</td><td>Online</td><td>2025-04-29T11:50:23.268+0000</td></tr><tr><td>TRX000007</td><td>535</td><td>487</td><td>7</td><td>246.29</td><td>2023-08-19T00:00:00.000+0000</td><td>Credit Card</td><td>Physical Store</td><td>2025-04-29T11:50:23.268+0000</td></tr><tr><td>TRX000008</td><td>87</td><td>630</td><td>8</td><td>-416.82</td><td>2020-04-18T00:00:00.000+0000</td><td>Credit Card</td><td>Physical Store</td><td>2025-04-29T11:50:23.268+0000</td></tr><tr><td>TRX000009</td><td>383</td><td>617</td><td>10</td><td>405.05</td><td>2021-02-13T00:00:00.000+0000</td><td>Cash</td><td>Physical Store</td><td>2025-04-29T11:50:23.268+0000</td></tr><tr><td>TRX000010</td><td>725</td><td>938</td><td>1</td><td>410.03</td><td>2020-03-18T00:00:00.000+0000</td><td>PayPal</td><td>Online</td><td>2025-04-29T11:50:23.268+0000</td></tr></tbody></table></div>"
      ]
     },
     "metadata": {
      "application/vnd.databricks.v1+output": {
       "addedWidgets": {},
       "aggData": [],
       "aggError": "",
       "aggOverflow": false,
       "aggSchema": [],
       "aggSeriesLimitReached": false,
       "aggType": "",
       "arguments": {},
       "columnCustomDisplayInfos": {},
       "data": [
        [
         "TRX000001",
         802,
         425,
         1,
         363.4,
         "2020-07-27T00:00:00.000+0000",
         "Debit Card",
         "Physical Store",
         "2025-04-29T11:50:23.268+0000"
        ],
        [
         "TRX000002",
         858,
         280,
         6,
         758.18,
         "2022-08-10T00:00:00.000+0000",
         "Credit Card",
         "Physical Store",
         "2025-04-29T11:50:23.268+0000"
        ],
        [
         "TRX000003",
         658,
         694,
         9,
         748.66,
         "2020-05-22T00:00:00.000+0000",
         "Bank Transfer",
         "Online",
         "2025-04-29T11:50:23.268+0000"
        ],
        [
         "TRX000004",
         516,
         930,
         4,
         933.78,
         null,
         "Bank Transfer",
         "Physical Store",
         "2025-04-29T11:50:23.268+0000"
        ],
        [
         "TRX000005",
         368,
         104,
         10,
         137.28,
         "2022-06-24T00:00:00.000+0000",
         "PayPal",
         "Physical Store",
         "2025-04-29T11:50:23.268+0000"
        ],
        [
         "TRX000006",
         606,
         409,
         6,
         556.88,
         "2020-10-14T00:00:00.000+0000",
         "Credit Card",
         "Online",
         "2025-04-29T11:50:23.268+0000"
        ],
        [
         "TRX000007",
         535,
         487,
         7,
         246.29,
         "2023-08-19T00:00:00.000+0000",
         "Credit Card",
         "Physical Store",
         "2025-04-29T11:50:23.268+0000"
        ],
        [
         "TRX000008",
         87,
         630,
         8,
         -416.82,
         "2020-04-18T00:00:00.000+0000",
         "Credit Card",
         "Physical Store",
         "2025-04-29T11:50:23.268+0000"
        ],
        [
         "TRX000009",
         383,
         617,
         10,
         405.05,
         "2021-02-13T00:00:00.000+0000",
         "Cash",
         "Physical Store",
         "2025-04-29T11:50:23.268+0000"
        ],
        [
         "TRX000010",
         725,
         938,
         1,
         410.03,
         "2020-03-18T00:00:00.000+0000",
         "PayPal",
         "Online",
         "2025-04-29T11:50:23.268+0000"
        ]
       ],
       "datasetInfos": [],
       "dbfsResultPath": null,
       "isJsonSchema": true,
       "metadata": {},
       "overflow": false,
       "plotOptions": {
        "customPlotOptions": {},
        "displayType": "table",
        "pivotAggregation": null,
        "pivotColumns": null,
        "xColumns": null,
        "yColumns": null
       },
       "removedWidgets": [],
       "schema": [
        {
         "metadata": "{}",
         "name": "transaction_id",
         "type": "\"string\""
        },
        {
         "metadata": "{}",
         "name": "customer_id",
         "type": "\"integer\""
        },
        {
         "metadata": "{}",
         "name": "product_id",
         "type": "\"integer\""
        },
        {
         "metadata": "{}",
         "name": "quantity",
         "type": "\"integer\""
        },
        {
         "metadata": "{}",
         "name": "total_amount",
         "type": "\"double\""
        },
        {
         "metadata": "{}",
         "name": "transaction_date",
         "type": "\"timestamp\""
        },
        {
         "metadata": "{}",
         "name": "payment_method",
         "type": "\"string\""
        },
        {
         "metadata": "{}",
         "name": "store_type",
         "type": "\"string\""
        },
        {
         "metadata": "{}",
         "name": "ingestion_timestamp",
         "type": "\"timestamp\""
        }
       ],
       "type": "table"
      }
     },
     "output_type": "display_data"
    }
   ],
   "source": [
    "from pyspark.sql.functions import current_timestamp\n",
    "df_new = new_df.withColumn(\"ingestion_timestamp\", current_timestamp())\n",
    "display(df_new.limit(10))"
   ]
  },
  {
   "cell_type": "code",
   "execution_count": 0,
   "metadata": {
    "application/vnd.databricks.v1+cell": {
     "cellMetadata": {
      "byteLimit": 2048000,
      "rowLimit": 10000
     },
     "inputWidgets": {},
     "nuid": "85194ba2-a72c-444b-b617-c4cca382e4dc",
     "showTitle": false,
     "tableResultSettingsMap": {},
     "title": ""
    }
   },
   "outputs": [
    {
     "output_type": "stream",
     "name": "stdout",
     "output_type": "stream",
     "text": [
      "Out[5]: True"
     ]
    }
   ],
   "source": [
    "dbutils.fs.rm(\"dbfs:/user/hive/warehouse/global_retail_bronze.db/bronze_transactions\", recurse=True)"
   ]
  },
  {
   "cell_type": "code",
   "execution_count": 0,
   "metadata": {
    "application/vnd.databricks.v1+cell": {
     "cellMetadata": {
      "byteLimit": 2048000,
      "rowLimit": 10000
     },
     "inputWidgets": {},
     "nuid": "66ac90a4-ffca-44d7-9aad-97f4d8a2dec4",
     "showTitle": false,
     "tableResultSettingsMap": {},
     "title": ""
    }
   },
   "outputs": [],
   "source": [
    "# we want to save it as delta lake table because we are creating data lake house architecture (delta lake is underlying table format)\n",
    "# delta lake provides you the capability to do crud operations and acid transactions\n",
    "spark.sql(\"use global_retail_bronze\")\n",
    "try:\n",
    "    df_new.write.format(\"delta\").mode(\"append\").saveAsTable(\"bronze_transactions\")\n",
    "except Exception as e:\n",
    "    print(f\"Error occurred: {str(e)}\")"
   ]
  },
  {
   "cell_type": "code",
   "execution_count": 0,
   "metadata": {
    "application/vnd.databricks.v1+cell": {
     "cellMetadata": {
      "byteLimit": 2048000,
      "implicitDf": true,
      "rowLimit": 10000
     },
     "inputWidgets": {},
     "nuid": "282a0d15-fa31-4fe1-a5e2-00edf8bb0f14",
     "showTitle": false,
     "tableResultSettingsMap": {},
     "title": ""
    }
   },
   "outputs": [
    {
     "output_type": "display_data",
     "data": {
      "text/html": [
       "<style scoped>\n",
       "  .table-result-container {\n",
       "    max-height: 300px;\n",
       "    overflow: auto;\n",
       "  }\n",
       "  table, th, td {\n",
       "    border: 1px solid black;\n",
       "    border-collapse: collapse;\n",
       "  }\n",
       "  th, td {\n",
       "    padding: 5px;\n",
       "  }\n",
       "  th {\n",
       "    text-align: left;\n",
       "  }\n",
       "</style><div class='table-result-container'><table class='table-result'><thead style='background-color: white'><tr><th>database</th><th>tableName</th><th>isTemporary</th></tr></thead><tbody><tr><td>global_retail_bronze</td><td>bronze_customer</td><td>false</td></tr><tr><td>global_retail_bronze</td><td>bronze_products</td><td>false</td></tr><tr><td>global_retail_bronze</td><td>bronze_transactions</td><td>false</td></tr></tbody></table></div>"
      ]
     },
     "metadata": {
      "application/vnd.databricks.v1+output": {
       "addedWidgets": {},
       "aggData": [],
       "aggError": "",
       "aggOverflow": false,
       "aggSchema": [],
       "aggSeriesLimitReached": false,
       "aggType": "",
       "arguments": {},
       "columnCustomDisplayInfos": {},
       "data": [
        [
         "global_retail_bronze",
         "bronze_customer",
         false
        ],
        [
         "global_retail_bronze",
         "bronze_products",
         false
        ],
        [
         "global_retail_bronze",
         "bronze_transactions",
         false
        ]
       ],
       "datasetInfos": [],
       "dbfsResultPath": null,
       "isJsonSchema": true,
       "metadata": {},
       "overflow": false,
       "plotOptions": {
        "customPlotOptions": {},
        "displayType": "table",
        "pivotAggregation": null,
        "pivotColumns": null,
        "xColumns": null,
        "yColumns": null
       },
       "removedWidgets": [],
       "schema": [
        {
         "metadata": "{}",
         "name": "database",
         "type": "\"string\""
        },
        {
         "metadata": "{}",
         "name": "tableName",
         "type": "\"string\""
        },
        {
         "metadata": "{}",
         "name": "isTemporary",
         "type": "\"boolean\""
        }
       ],
       "type": "table"
      }
     },
     "output_type": "display_data"
    }
   ],
   "source": [
    "%sql\n",
    "show tables"
   ]
  },
  {
   "cell_type": "code",
   "execution_count": 0,
   "metadata": {
    "application/vnd.databricks.v1+cell": {
     "cellMetadata": {
      "byteLimit": 2048000,
      "rowLimit": 10000
     },
     "inputWidgets": {},
     "nuid": "c144b216-0510-4730-93cf-46df66b24368",
     "showTitle": false,
     "tableResultSettingsMap": {},
     "title": ""
    }
   },
   "outputs": [],
   "source": [
    "# import datetime\n",
    "\n",
    "# archive_folder = 'dbfs:/FileStore/GlobalRetail/bronze_layer/transaction/archive/'\n",
    "# archive_file_path = archive_folder+'_'+datetime.datetime.now().strftime(\"%Y%m%d%H%M%s\")\n",
    "# dbutils.fs.mv(filePath, archive_file_path)\n",
    "# print(archive_file_path)"
   ]
  }
 ],
 "metadata": {
  "application/vnd.databricks.v1+notebook": {
   "computePreferences": null,
   "dashboards": [],
   "environmentMetadata": {
    "base_environment": "",
    "environment_version": "1"
   },
   "inputWidgetPreferences": null,
   "language": "python",
   "notebookMetadata": {
    "mostRecentlyExecutedCommandWithImplicitDF": {
     "commandId": 3769252063934628,
     "dataframes": [
      "_sqldf"
     ]
    },
    "pythonIndentUnit": 4
   },
   "notebookName": "bronze_layer_transaction_load",
   "widgets": {}
  }
 },
 "nbformat": 4,
 "nbformat_minor": 0
}