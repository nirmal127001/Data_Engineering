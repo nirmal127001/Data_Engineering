{
 "cells": [
  {
   "cell_type": "code",
   "execution_count": 0,
   "metadata": {
    "application/vnd.databricks.v1+cell": {
     "cellMetadata": {
      "byteLimit": 2048000,
      "rowLimit": 10000
     },
     "inputWidgets": {},
     "nuid": "23319974-e93d-45e5-9e60-169d9fd5d0b9",
     "showTitle": false,
     "tableResultSettingsMap": {},
     "title": ""
    }
   },
   "outputs": [],
   "source": [
    "filePath = \"dbfs:/FileStore/GlobalRetail/bronze_layer/customer_data/customer.csv\"\n",
    "df = spark.read.csv(filePath, inferSchema = True, header = True)"
   ]
  },
  {
   "cell_type": "code",
   "execution_count": 0,
   "metadata": {
    "application/vnd.databricks.v1+cell": {
     "cellMetadata": {
      "byteLimit": 2048000,
      "rowLimit": 10000
     },
     "inputWidgets": {},
     "nuid": "efd7d488-efcd-4868-95a3-962ce9797dc5",
     "showTitle": false,
     "tableResultSettingsMap": {},
     "title": ""
    }
   },
   "outputs": [
    {
     "output_type": "stream",
     "name": "stdout",
     "output_type": "stream",
     "text": [
      "+-----------+-----------+--------------------+---------+-------------+-----------------+---+------+---------------+\n|customer_id|       name|               email|  country|customer_type|registration_date|age|gender|total_purchases|\n+-----------+-----------+--------------------+---------+-------------+-----------------+---+------+---------------+\n|          1| Customer 1|customer1@example...|Australia|      Regular|       2011-05-15| 22|  Male|            191|\n|          2| Customer 2|customer2@example...|   France|      Premium|       2018-11-27| 52| Other|            145|\n|          3| Customer 3|customer3@example...|   Canada|      Premium|       2015-10-01| 32| Other|            691|\n|          4| Customer 4|customer4@example...|      USA|      Premium|       2011-01-19| 70| Other|            644|\n|          5| Customer 5|customer5@example...|  Germany|      Regular|       2021-08-26| 66| Other|            508|\n|          6| Customer 6|customer6@example...|   France|      Premium|       2015-03-02| 20|  Male|            704|\n|          7| Customer 7|customer7@example...|    China|      Premium|       2018-05-24| 24|Female|            892|\n|          8| Customer 8|customer8@example...|    China|      Regular|       2023-10-02| 26|  Male|            488|\n|          9| Customer 9|customer9@example...|    Japan|      Premium|       2014-10-05| 36| Other|             30|\n|         10|Customer 10|customer10@exampl...|   Brazil|      Premium|       2017-08-30| 30|  Male|            959|\n|         11|Customer 11|customer11@exampl...|       UK|      Regular|       2020-05-17| 62|Female|            876|\n|         12|Customer 12|customer12@exampl...|Australia|          VIP|       2019-06-16| 65| Other|            758|\n|         13|Customer 13|customer13@exampl...|      USA|      Regular|       2011-08-14| 21| Other|            967|\n|         14|Customer 14|customer14@exampl...|Australia|          VIP|       2023-11-09| 54|Female|            504|\n|         15|Customer 15|customer15@exampl...|    China|      Regular|       2023-03-25| 75| Other|            696|\n|         16|Customer 16|customer16@exampl...|Australia|      Premium|       2012-12-31| 72|Female|            609|\n|         17|Customer 17|customer17@exampl...|Australia|      Regular|       2022-03-22| 48| Other|            951|\n|         18|Customer 18|customer18@exampl...|      USA|      Regular|       2012-09-23| 71| Other|            168|\n|         19|Customer 19|customer19@exampl...|   France|      Regular|       2015-05-02| 25|Female|            432|\n|         20|Customer 20|customer20@exampl...|    China|      Premium|       2020-05-15| 55| Other|            472|\n+-----------+-----------+--------------------+---------+-------------+-----------------+---+------+---------------+\nonly showing top 20 rows\n\n"
     ]
    }
   ],
   "source": [
    "df.show()"
   ]
  },
  {
   "cell_type": "code",
   "execution_count": 0,
   "metadata": {
    "application/vnd.databricks.v1+cell": {
     "cellMetadata": {
      "byteLimit": 2048000,
      "rowLimit": 10000
     },
     "inputWidgets": {},
     "nuid": "6f915cdf-a8e2-4117-a7db-d2584a770c12",
     "showTitle": false,
     "tableResultSettingsMap": {},
     "title": ""
    }
   },
   "outputs": [
    {
     "output_type": "display_data",
     "data": {
      "text/html": [
       "<style scoped>\n",
       "  .table-result-container {\n",
       "    max-height: 300px;\n",
       "    overflow: auto;\n",
       "  }\n",
       "  table, th, td {\n",
       "    border: 1px solid black;\n",
       "    border-collapse: collapse;\n",
       "  }\n",
       "  th, td {\n",
       "    padding: 5px;\n",
       "  }\n",
       "  th {\n",
       "    text-align: left;\n",
       "  }\n",
       "</style><div class='table-result-container'><table class='table-result'><thead style='background-color: white'><tr><th>customer_id</th><th>name</th><th>email</th><th>country</th><th>customer_type</th><th>registration_date</th><th>age</th><th>gender</th><th>total_purchases</th><th>ingestion_timestamp</th></tr></thead><tbody><tr><td>1</td><td>Customer 1</td><td>customer1@example.com</td><td>Australia</td><td>Regular</td><td>2011-05-15</td><td>22</td><td>Male</td><td>191</td><td>2025-04-29T11:49:34.366+0000</td></tr><tr><td>2</td><td>Customer 2</td><td>customer2@example.com</td><td>France</td><td>Premium</td><td>2018-11-27</td><td>52</td><td>Other</td><td>145</td><td>2025-04-29T11:49:34.366+0000</td></tr><tr><td>3</td><td>Customer 3</td><td>customer3@example.com</td><td>Canada</td><td>Premium</td><td>2015-10-01</td><td>32</td><td>Other</td><td>691</td><td>2025-04-29T11:49:34.366+0000</td></tr><tr><td>4</td><td>Customer 4</td><td>customer4@example.com</td><td>USA</td><td>Premium</td><td>2011-01-19</td><td>70</td><td>Other</td><td>644</td><td>2025-04-29T11:49:34.366+0000</td></tr><tr><td>5</td><td>Customer 5</td><td>customer5@example.com</td><td>Germany</td><td>Regular</td><td>2021-08-26</td><td>66</td><td>Other</td><td>508</td><td>2025-04-29T11:49:34.366+0000</td></tr><tr><td>6</td><td>Customer 6</td><td>customer6@example.com</td><td>France</td><td>Premium</td><td>2015-03-02</td><td>20</td><td>Male</td><td>704</td><td>2025-04-29T11:49:34.366+0000</td></tr><tr><td>7</td><td>Customer 7</td><td>customer7@example.com</td><td>China</td><td>Premium</td><td>2018-05-24</td><td>24</td><td>Female</td><td>892</td><td>2025-04-29T11:49:34.366+0000</td></tr><tr><td>8</td><td>Customer 8</td><td>customer8@example.com</td><td>China</td><td>Regular</td><td>2023-10-02</td><td>26</td><td>Male</td><td>488</td><td>2025-04-29T11:49:34.366+0000</td></tr><tr><td>9</td><td>Customer 9</td><td>customer9@example.com</td><td>Japan</td><td>Premium</td><td>2014-10-05</td><td>36</td><td>Other</td><td>30</td><td>2025-04-29T11:49:34.366+0000</td></tr><tr><td>10</td><td>Customer 10</td><td>customer10@example.com</td><td>Brazil</td><td>Premium</td><td>2017-08-30</td><td>30</td><td>Male</td><td>959</td><td>2025-04-29T11:49:34.366+0000</td></tr></tbody></table></div>"
      ]
     },
     "metadata": {
      "application/vnd.databricks.v1+output": {
       "addedWidgets": {},
       "aggData": [],
       "aggError": "",
       "aggOverflow": false,
       "aggSchema": [],
       "aggSeriesLimitReached": false,
       "aggType": "",
       "arguments": {},
       "columnCustomDisplayInfos": {},
       "data": [
        [
         1,
         "Customer 1",
         "customer1@example.com",
         "Australia",
         "Regular",
         "2011-05-15",
         22,
         "Male",
         191,
         "2025-04-29T11:49:34.366+0000"
        ],
        [
         2,
         "Customer 2",
         "customer2@example.com",
         "France",
         "Premium",
         "2018-11-27",
         52,
         "Other",
         145,
         "2025-04-29T11:49:34.366+0000"
        ],
        [
         3,
         "Customer 3",
         "customer3@example.com",
         "Canada",
         "Premium",
         "2015-10-01",
         32,
         "Other",
         691,
         "2025-04-29T11:49:34.366+0000"
        ],
        [
         4,
         "Customer 4",
         "customer4@example.com",
         "USA",
         "Premium",
         "2011-01-19",
         70,
         "Other",
         644,
         "2025-04-29T11:49:34.366+0000"
        ],
        [
         5,
         "Customer 5",
         "customer5@example.com",
         "Germany",
         "Regular",
         "2021-08-26",
         66,
         "Other",
         508,
         "2025-04-29T11:49:34.366+0000"
        ],
        [
         6,
         "Customer 6",
         "customer6@example.com",
         "France",
         "Premium",
         "2015-03-02",
         20,
         "Male",
         704,
         "2025-04-29T11:49:34.366+0000"
        ],
        [
         7,
         "Customer 7",
         "customer7@example.com",
         "China",
         "Premium",
         "2018-05-24",
         24,
         "Female",
         892,
         "2025-04-29T11:49:34.366+0000"
        ],
        [
         8,
         "Customer 8",
         "customer8@example.com",
         "China",
         "Regular",
         "2023-10-02",
         26,
         "Male",
         488,
         "2025-04-29T11:49:34.366+0000"
        ],
        [
         9,
         "Customer 9",
         "customer9@example.com",
         "Japan",
         "Premium",
         "2014-10-05",
         36,
         "Other",
         30,
         "2025-04-29T11:49:34.366+0000"
        ],
        [
         10,
         "Customer 10",
         "customer10@example.com",
         "Brazil",
         "Premium",
         "2017-08-30",
         30,
         "Male",
         959,
         "2025-04-29T11:49:34.366+0000"
        ]
       ],
       "datasetInfos": [],
       "dbfsResultPath": null,
       "isJsonSchema": true,
       "metadata": {},
       "overflow": false,
       "plotOptions": {
        "customPlotOptions": {},
        "displayType": "table",
        "pivotAggregation": null,
        "pivotColumns": null,
        "xColumns": null,
        "yColumns": null
       },
       "removedWidgets": [],
       "schema": [
        {
         "metadata": "{}",
         "name": "customer_id",
         "type": "\"integer\""
        },
        {
         "metadata": "{}",
         "name": "name",
         "type": "\"string\""
        },
        {
         "metadata": "{}",
         "name": "email",
         "type": "\"string\""
        },
        {
         "metadata": "{}",
         "name": "country",
         "type": "\"string\""
        },
        {
         "metadata": "{}",
         "name": "customer_type",
         "type": "\"string\""
        },
        {
         "metadata": "{\"__detected_date_formats\":\"yyyy-M-d\"}",
         "name": "registration_date",
         "type": "\"date\""
        },
        {
         "metadata": "{}",
         "name": "age",
         "type": "\"integer\""
        },
        {
         "metadata": "{}",
         "name": "gender",
         "type": "\"string\""
        },
        {
         "metadata": "{}",
         "name": "total_purchases",
         "type": "\"integer\""
        },
        {
         "metadata": "{}",
         "name": "ingestion_timestamp",
         "type": "\"timestamp\""
        }
       ],
       "type": "table"
      }
     },
     "output_type": "display_data"
    }
   ],
   "source": [
    "from pyspark.sql.functions import current_timestamp\n",
    "df_new = df.withColumn(\"ingestion_timestamp\", current_timestamp())\n",
    "display(df_new.limit(10))"
   ]
  },
  {
   "cell_type": "code",
   "execution_count": 0,
   "metadata": {
    "application/vnd.databricks.v1+cell": {
     "cellMetadata": {
      "byteLimit": 2048000,
      "rowLimit": 10000
     },
     "inputWidgets": {},
     "nuid": "87a03f45-81de-4c55-8746-0cd514ba3c94",
     "showTitle": false,
     "tableResultSettingsMap": {},
     "title": ""
    }
   },
   "outputs": [
    {
     "output_type": "stream",
     "name": "stdout",
     "output_type": "stream",
     "text": [
      "Out[4]: [FileInfo(path='dbfs:/user/hive/warehouse/global_retail_bronze.db/bronze_customer/_delta_log/', name='_delta_log/', size=0, modificationTime=0),\n FileInfo(path='dbfs:/user/hive/warehouse/global_retail_bronze.db/bronze_customer/part-00000-0b1d1d63-df36-4bad-b1ab-9137ffb2cd3a-c000.snappy.parquet', name='part-00000-0b1d1d63-df36-4bad-b1ab-9137ffb2cd3a-c000.snappy.parquet', size=27122, modificationTime=1745833633000)]"
     ]
    }
   ],
   "source": [
    "dbutils.fs.ls(\"dbfs:/user/hive/warehouse/global_retail_bronze.db/bronze_customer\")"
   ]
  },
  {
   "cell_type": "code",
   "execution_count": 0,
   "metadata": {
    "application/vnd.databricks.v1+cell": {
     "cellMetadata": {
      "byteLimit": 2048000,
      "rowLimit": 10000
     },
     "inputWidgets": {},
     "nuid": "48b86fdc-fba6-46b3-ac65-6f91014ce670",
     "showTitle": false,
     "tableResultSettingsMap": {},
     "title": ""
    }
   },
   "outputs": [
    {
     "output_type": "stream",
     "name": "stdout",
     "output_type": "stream",
     "text": [
      "Out[5]: True"
     ]
    }
   ],
   "source": [
    "dbutils.fs.rm(\"dbfs:/user/hive/warehouse/global_retail_bronze.db/bronze_customer\", recurse=True)"
   ]
  },
  {
   "cell_type": "code",
   "execution_count": 0,
   "metadata": {
    "application/vnd.databricks.v1+cell": {
     "cellMetadata": {
      "byteLimit": 2048000,
      "rowLimit": 10000
     },
     "inputWidgets": {},
     "nuid": "66ac90a4-ffca-44d7-9aad-97f4d8a2dec4",
     "showTitle": false,
     "tableResultSettingsMap": {},
     "title": ""
    }
   },
   "outputs": [],
   "source": [
    "# we want to save it as delta lake table because we are creating data lake house architecture (delta lake is underlying table format)\n",
    "# delta lake provides you the capability to do crud operations and acid transactions\n",
    "spark.sql(\"use global_retail_bronze\")\n",
    "try:\n",
    "    df_new.write.format(\"delta\").mode(\"append\").saveAsTable(\"bronze_customer\")\n",
    "except Exception as e:\n",
    "    print(f\"Error occurred: {str(e)}\")"
   ]
  },
  {
   "cell_type": "code",
   "execution_count": 0,
   "metadata": {
    "application/vnd.databricks.v1+cell": {
     "cellMetadata": {
      "byteLimit": 2048000,
      "implicitDf": true,
      "rowLimit": 10000
     },
     "inputWidgets": {},
     "nuid": "282a0d15-fa31-4fe1-a5e2-00edf8bb0f14",
     "showTitle": false,
     "tableResultSettingsMap": {},
     "title": ""
    }
   },
   "outputs": [
    {
     "output_type": "display_data",
     "data": {
      "text/html": [
       "<style scoped>\n",
       "  .table-result-container {\n",
       "    max-height: 300px;\n",
       "    overflow: auto;\n",
       "  }\n",
       "  table, th, td {\n",
       "    border: 1px solid black;\n",
       "    border-collapse: collapse;\n",
       "  }\n",
       "  th, td {\n",
       "    padding: 5px;\n",
       "  }\n",
       "  th {\n",
       "    text-align: left;\n",
       "  }\n",
       "</style><div class='table-result-container'><table class='table-result'><thead style='background-color: white'><tr><th>database</th><th>tableName</th><th>isTemporary</th></tr></thead><tbody><tr><td>global_retail_bronze</td><td>bronze_customer</td><td>false</td></tr><tr><td>global_retail_bronze</td><td>bronze_products</td><td>false</td></tr><tr><td>global_retail_bronze</td><td>bronze_transactions</td><td>false</td></tr></tbody></table></div>"
      ]
     },
     "metadata": {
      "application/vnd.databricks.v1+output": {
       "addedWidgets": {},
       "aggData": [],
       "aggError": "",
       "aggOverflow": false,
       "aggSchema": [],
       "aggSeriesLimitReached": false,
       "aggType": "",
       "arguments": {},
       "columnCustomDisplayInfos": {},
       "data": [
        [
         "global_retail_bronze",
         "bronze_customer",
         false
        ],
        [
         "global_retail_bronze",
         "bronze_products",
         false
        ],
        [
         "global_retail_bronze",
         "bronze_transactions",
         false
        ]
       ],
       "datasetInfos": [],
       "dbfsResultPath": null,
       "isJsonSchema": true,
       "metadata": {},
       "overflow": false,
       "plotOptions": {
        "customPlotOptions": {},
        "displayType": "table",
        "pivotAggregation": null,
        "pivotColumns": null,
        "xColumns": null,
        "yColumns": null
       },
       "removedWidgets": [],
       "schema": [
        {
         "metadata": "{}",
         "name": "database",
         "type": "\"string\""
        },
        {
         "metadata": "{}",
         "name": "tableName",
         "type": "\"string\""
        },
        {
         "metadata": "{}",
         "name": "isTemporary",
         "type": "\"boolean\""
        }
       ],
       "type": "table"
      }
     },
     "output_type": "display_data"
    }
   ],
   "source": [
    "%sql\n",
    "show tables"
   ]
  },
  {
   "cell_type": "code",
   "execution_count": 0,
   "metadata": {
    "application/vnd.databricks.v1+cell": {
     "cellMetadata": {
      "byteLimit": 2048000,
      "rowLimit": 10000
     },
     "inputWidgets": {},
     "nuid": "c144b216-0510-4730-93cf-46df66b24368",
     "showTitle": false,
     "tableResultSettingsMap": {},
     "title": ""
    }
   },
   "outputs": [],
   "source": [
    "# import datetime\n",
    "\n",
    "# archive_folder = 'dbfs:/FileStore/GlobalRetail/bronze_layer/customer_data/archive/'\n",
    "# archive_file_path = archive_folder+'_'+datetime.datetime.now().strftime(\"%Y%m%d%H%M%s\")\n",
    "# dbutils.fs.mv(filePath, archive_file_path)\n",
    "# print(archive_file_path)"
   ]
  }
 ],
 "metadata": {
  "application/vnd.databricks.v1+notebook": {
   "computePreferences": null,
   "dashboards": [],
   "environmentMetadata": {
    "base_environment": "",
    "environment_version": "1"
   },
   "inputWidgetPreferences": null,
   "language": "python",
   "notebookMetadata": {
    "mostRecentlyExecutedCommandWithImplicitDF": {
     "commandId": 2568930758596451,
     "dataframes": [
      "_sqldf"
     ]
    },
    "pythonIndentUnit": 4
   },
   "notebookName": "bronze_layer_customer_load",
   "widgets": {}
  }
 },
 "nbformat": 4,
 "nbformat_minor": 0
}