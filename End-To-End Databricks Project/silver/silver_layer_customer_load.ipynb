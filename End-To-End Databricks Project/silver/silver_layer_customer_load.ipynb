{
 "cells": [
  {
   "cell_type": "code",
   "execution_count": 0,
   "metadata": {
    "application/vnd.databricks.v1+cell": {
     "cellMetadata": {
      "byteLimit": 2048000,
      "rowLimit": 10000
     },
     "inputWidgets": {},
     "nuid": "b9797e0a-73f1-488d-a11d-610eda595b62",
     "showTitle": false,
     "tableResultSettingsMap": {},
     "title": ""
    }
   },
   "outputs": [
    {
     "output_type": "stream",
     "name": "stdout",
     "output_type": "stream",
     "text": [
      "Out[1]: True"
     ]
    }
   ],
   "source": [
    "dbutils.fs.rm(\"dbfs:/user/hive/warehouse/global_retail_silver.db/silver_customers\", recurse=True)"
   ]
  },
  {
   "cell_type": "code",
   "execution_count": 0,
   "metadata": {
    "application/vnd.databricks.v1+cell": {
     "cellMetadata": {
      "byteLimit": 2048000,
      "rowLimit": 10000
     },
     "inputWidgets": {},
     "nuid": "a395fe97-eb18-45de-9443-4be38bcf4167",
     "showTitle": false,
     "tableResultSettingsMap": {},
     "title": ""
    }
   },
   "outputs": [
    {
     "output_type": "stream",
     "name": "stdout",
     "output_type": "stream",
     "text": [
      "Out[2]: DataFrame[]"
     ]
    }
   ],
   "source": [
    "spark.sql(\"USE global_retail_silver\")\n",
    "spark.sql(\"\"\"\n",
    "    CREATE TABLE IF NOT EXISTS silver_customers (\n",
    "    customer_id STRING,\n",
    "    name STRING,\n",
    "    email STRING,\n",
    "    country STRING,\n",
    "    customer_type STRING,\n",
    "    registration_date DATE,\n",
    "    age INT,\n",
    "    gender STRING,\n",
    "    total_purchases INT,\n",
    "    customer_segment STRING,\n",
    "    days_since_registration INT,\n",
    "    last_updated TIMESTAMP)\n",
    "\"\"\")"
   ]
  },
  {
   "cell_type": "code",
   "execution_count": 0,
   "metadata": {
    "application/vnd.databricks.v1+cell": {
     "cellMetadata": {
      "byteLimit": 2048000,
      "rowLimit": 10000
     },
     "inputWidgets": {},
     "nuid": "246721c7-8971-478e-bdc2-edbef180fd3b",
     "showTitle": false,
     "tableResultSettingsMap": {},
     "title": ""
    }
   },
   "outputs": [],
   "source": [
    "# Get the last processed timestamp from silver layer\n",
    "last_processed_df = spark.sql(\"SELECT MAX(last_updated) as last_processed FROM silver_customers\")\n",
    "last_processed_timestamp = last_processed_df.collect()[0]['last_processed']\n",
    "\n",
    "if last_processed_timestamp is None:\n",
    "    last_processed_timestamp = \"1900-01-01T00:00:00.000+00:00\""
   ]
  },
  {
   "cell_type": "code",
   "execution_count": 0,
   "metadata": {
    "application/vnd.databricks.v1+cell": {
     "cellMetadata": {
      "byteLimit": 2048000,
      "rowLimit": 10000
     },
     "inputWidgets": {},
     "nuid": "1c9a1e66-a593-488c-b99f-44e2dfc0669c",
     "showTitle": false,
     "tableResultSettingsMap": {},
     "title": ""
    }
   },
   "outputs": [
    {
     "output_type": "stream",
     "name": "stdout",
     "output_type": "stream",
     "text": [
      "Out[4]: DataFrame[]"
     ]
    }
   ],
   "source": [
    "# Create a temporary view of incremental bronze data\n",
    "spark.sql(f\"\"\"\n",
    "CREATE OR REPLACE TEMPORARY VIEW bronze_incremental AS\n",
    "SELECT *\n",
    "FROM global_retail_bronze.bronze_customer c where  c.ingestion_timestamp > '{last_processed_timestamp}'\n",
    "\"\"\")"
   ]
  },
  {
   "cell_type": "code",
   "execution_count": 0,
   "metadata": {
    "application/vnd.databricks.v1+cell": {
     "cellMetadata": {
      "byteLimit": 2048000,
      "rowLimit": 10000
     },
     "inputWidgets": {},
     "nuid": "cf91c4bf-cd25-4264-ad68-d6e5936f195b",
     "showTitle": false,
     "tableResultSettingsMap": {},
     "title": ""
    }
   },
   "outputs": [
    {
     "output_type": "stream",
     "name": "stdout",
     "output_type": "stream",
     "text": [
      "+-----------+-----------+--------------------+---------+-------------+-----------------+---+------+---------------+--------------------+\n|customer_id|       name|               email|  country|customer_type|registration_date|age|gender|total_purchases| ingestion_timestamp|\n+-----------+-----------+--------------------+---------+-------------+-----------------+---+------+---------------+--------------------+\n|          1| Customer 1|customer1@example...|Australia|      Regular|       2011-05-15| 22|  Male|            191|2025-04-29 11:49:...|\n|          2| Customer 2|customer2@example...|   France|      Premium|       2018-11-27| 52| Other|            145|2025-04-29 11:49:...|\n|          3| Customer 3|customer3@example...|   Canada|      Premium|       2015-10-01| 32| Other|            691|2025-04-29 11:49:...|\n|          4| Customer 4|customer4@example...|      USA|      Premium|       2011-01-19| 70| Other|            644|2025-04-29 11:49:...|\n|          5| Customer 5|customer5@example...|  Germany|      Regular|       2021-08-26| 66| Other|            508|2025-04-29 11:49:...|\n|          6| Customer 6|customer6@example...|   France|      Premium|       2015-03-02| 20|  Male|            704|2025-04-29 11:49:...|\n|          7| Customer 7|customer7@example...|    China|      Premium|       2018-05-24| 24|Female|            892|2025-04-29 11:49:...|\n|          8| Customer 8|customer8@example...|    China|      Regular|       2023-10-02| 26|  Male|            488|2025-04-29 11:49:...|\n|          9| Customer 9|customer9@example...|    Japan|      Premium|       2014-10-05| 36| Other|             30|2025-04-29 11:49:...|\n|         10|Customer 10|customer10@exampl...|   Brazil|      Premium|       2017-08-30| 30|  Male|            959|2025-04-29 11:49:...|\n|         11|Customer 11|customer11@exampl...|       UK|      Regular|       2020-05-17| 62|Female|            876|2025-04-29 11:49:...|\n|         12|Customer 12|customer12@exampl...|Australia|          VIP|       2019-06-16| 65| Other|            758|2025-04-29 11:49:...|\n|         13|Customer 13|customer13@exampl...|      USA|      Regular|       2011-08-14| 21| Other|            967|2025-04-29 11:49:...|\n|         14|Customer 14|customer14@exampl...|Australia|          VIP|       2023-11-09| 54|Female|            504|2025-04-29 11:49:...|\n|         15|Customer 15|customer15@exampl...|    China|      Regular|       2023-03-25| 75| Other|            696|2025-04-29 11:49:...|\n|         16|Customer 16|customer16@exampl...|Australia|      Premium|       2012-12-31| 72|Female|            609|2025-04-29 11:49:...|\n|         17|Customer 17|customer17@exampl...|Australia|      Regular|       2022-03-22| 48| Other|            951|2025-04-29 11:49:...|\n|         18|Customer 18|customer18@exampl...|      USA|      Regular|       2012-09-23| 71| Other|            168|2025-04-29 11:49:...|\n|         19|Customer 19|customer19@exampl...|   France|      Regular|       2015-05-02| 25|Female|            432|2025-04-29 11:49:...|\n|         20|Customer 20|customer20@exampl...|    China|      Premium|       2020-05-15| 55| Other|            472|2025-04-29 11:49:...|\n+-----------+-----------+--------------------+---------+-------------+-----------------+---+------+---------------+--------------------+\nonly showing top 20 rows\n\n"
     ]
    }
   ],
   "source": [
    "spark.sql(\"select * from bronze_incremental\").show()"
   ]
  },
  {
   "cell_type": "code",
   "execution_count": 0,
   "metadata": {
    "application/vnd.databricks.v1+cell": {
     "cellMetadata": {
      "byteLimit": 2048000,
      "rowLimit": 10000
     },
     "inputWidgets": {},
     "nuid": "cdefe547-4c2b-4074-a947-e89120da7266",
     "showTitle": false,
     "tableResultSettingsMap": {},
     "title": ""
    }
   },
   "outputs": [],
   "source": [
    "#Validate email addresses (null or not null)\n",
    "#Valid age between 18 to 100\n",
    "#Create customer_segment as total_purchases > 10000 THEN 'High Value' if > 5000 THEN 'Medium Value'  ELSE 'Low Value'\n",
    "#days since user is registered in the system\n",
    "#Remove any junk records where total_purchase is negative number\n"
   ]
  },
  {
   "cell_type": "code",
   "execution_count": 0,
   "metadata": {
    "application/vnd.databricks.v1+cell": {
     "cellMetadata": {
      "byteLimit": 2048000,
      "implicitDf": true,
      "rowLimit": 10000
     },
     "inputWidgets": {},
     "nuid": "dc415028-d3d1-4bd9-96e5-ae94d0194b2d",
     "showTitle": false,
     "tableResultSettingsMap": {},
     "title": ""
    }
   },
   "outputs": [
    {
     "output_type": "display_data",
     "data": {
      "text/html": [
       "<style scoped>\n",
       "  .table-result-container {\n",
       "    max-height: 300px;\n",
       "    overflow: auto;\n",
       "  }\n",
       "  table, th, td {\n",
       "    border: 1px solid black;\n",
       "    border-collapse: collapse;\n",
       "  }\n",
       "  th, td {\n",
       "    padding: 5px;\n",
       "  }\n",
       "  th {\n",
       "    text-align: left;\n",
       "  }\n",
       "</style><div class='table-result-container'><table class='table-result'><thead style='background-color: white'><tr></tr></thead><tbody></tbody></table></div>"
      ]
     },
     "metadata": {
      "application/vnd.databricks.v1+output": {
       "addedWidgets": {},
       "aggData": [],
       "aggError": "",
       "aggOverflow": false,
       "aggSchema": [],
       "aggSeriesLimitReached": false,
       "aggType": "",
       "arguments": {},
       "columnCustomDisplayInfos": {},
       "data": [],
       "datasetInfos": [],
       "dbfsResultPath": null,
       "isJsonSchema": true,
       "metadata": {},
       "overflow": false,
       "plotOptions": {
        "customPlotOptions": {},
        "displayType": "table",
        "pivotAggregation": null,
        "pivotColumns": null,
        "xColumns": null,
        "yColumns": null
       },
       "removedWidgets": [],
       "schema": [],
       "type": "table"
      }
     },
     "output_type": "display_data"
    }
   ],
   "source": [
    "%sql\n",
    "CREATE OR REPLACE TEMPORARY VIEW silver_incremental AS(\n",
    "  SELECT\n",
    "  customer_id,\n",
    "  name,\n",
    "  email,\n",
    "  country,\n",
    "  customer_type,\n",
    "  registration_date,\n",
    "  age,\n",
    "  gender,\n",
    "  total_purchases,\n",
    "  CASE \n",
    "    WHEN total_purchases > 700 then 'High Value'\n",
    "    WHEN total_purchases > 400 then 'Mid Value'\n",
    "    ELSE 'Low Value'\n",
    "  END AS customer_segment,\n",
    "  date_diff(current_date(),registration_date) as days_since_registration,\n",
    "  current_timestamp() AS last_updated\n",
    "  from bronze_incremental\n",
    "  where \n",
    "    email IS NOT NULL AND\n",
    "    age BETWEEN 18 AND 100 AND\n",
    "    total_purchases >=0\n",
    ")"
   ]
  },
  {
   "cell_type": "code",
   "execution_count": 0,
   "metadata": {
    "application/vnd.databricks.v1+cell": {
     "cellMetadata": {
      "byteLimit": 2048000,
      "implicitDf": true,
      "rowLimit": 10000
     },
     "inputWidgets": {},
     "nuid": "a5eab4f8-3c2a-4492-b4e4-36a776066011",
     "showTitle": false,
     "tableResultSettingsMap": {},
     "title": ""
    }
   },
   "outputs": [
    {
     "output_type": "display_data",
     "data": {
      "text/html": [
       "<style scoped>\n",
       "  .table-result-container {\n",
       "    max-height: 300px;\n",
       "    overflow: auto;\n",
       "  }\n",
       "  table, th, td {\n",
       "    border: 1px solid black;\n",
       "    border-collapse: collapse;\n",
       "  }\n",
       "  th, td {\n",
       "    padding: 5px;\n",
       "  }\n",
       "  th {\n",
       "    text-align: left;\n",
       "  }\n",
       "</style><div class='table-result-container'><table class='table-result'><thead style='background-color: white'><tr><th>customer_id</th><th>name</th><th>email</th><th>country</th><th>customer_type</th><th>registration_date</th><th>age</th><th>gender</th><th>total_purchases</th><th>customer_segment</th><th>days_since_registration</th><th>last_updated</th></tr></thead><tbody><tr><td>1</td><td>Customer 1</td><td>customer1@example.com</td><td>Australia</td><td>Regular</td><td>2011-05-15</td><td>22</td><td>Male</td><td>191</td><td>Low Value</td><td>5098</td><td>2025-04-29T13:54:48.460+0000</td></tr><tr><td>2</td><td>Customer 2</td><td>customer2@example.com</td><td>France</td><td>Premium</td><td>2018-11-27</td><td>52</td><td>Other</td><td>145</td><td>Low Value</td><td>2345</td><td>2025-04-29T13:54:48.460+0000</td></tr><tr><td>3</td><td>Customer 3</td><td>customer3@example.com</td><td>Canada</td><td>Premium</td><td>2015-10-01</td><td>32</td><td>Other</td><td>691</td><td>Mid Value</td><td>3498</td><td>2025-04-29T13:54:48.460+0000</td></tr><tr><td>4</td><td>Customer 4</td><td>customer4@example.com</td><td>USA</td><td>Premium</td><td>2011-01-19</td><td>70</td><td>Other</td><td>644</td><td>Mid Value</td><td>5214</td><td>2025-04-29T13:54:48.460+0000</td></tr><tr><td>5</td><td>Customer 5</td><td>customer5@example.com</td><td>Germany</td><td>Regular</td><td>2021-08-26</td><td>66</td><td>Other</td><td>508</td><td>Mid Value</td><td>1342</td><td>2025-04-29T13:54:48.460+0000</td></tr><tr><td>6</td><td>Customer 6</td><td>customer6@example.com</td><td>France</td><td>Premium</td><td>2015-03-02</td><td>20</td><td>Male</td><td>704</td><td>High Value</td><td>3711</td><td>2025-04-29T13:54:48.460+0000</td></tr><tr><td>7</td><td>Customer 7</td><td>customer7@example.com</td><td>China</td><td>Premium</td><td>2018-05-24</td><td>24</td><td>Female</td><td>892</td><td>High Value</td><td>2532</td><td>2025-04-29T13:54:48.460+0000</td></tr><tr><td>8</td><td>Customer 8</td><td>customer8@example.com</td><td>China</td><td>Regular</td><td>2023-10-02</td><td>26</td><td>Male</td><td>488</td><td>Mid Value</td><td>575</td><td>2025-04-29T13:54:48.460+0000</td></tr><tr><td>9</td><td>Customer 9</td><td>customer9@example.com</td><td>Japan</td><td>Premium</td><td>2014-10-05</td><td>36</td><td>Other</td><td>30</td><td>Low Value</td><td>3859</td><td>2025-04-29T13:54:48.460+0000</td></tr><tr><td>10</td><td>Customer 10</td><td>customer10@example.com</td><td>Brazil</td><td>Premium</td><td>2017-08-30</td><td>30</td><td>Male</td><td>959</td><td>High Value</td><td>2799</td><td>2025-04-29T13:54:48.460+0000</td></tr></tbody></table></div>"
      ]
     },
     "metadata": {
      "application/vnd.databricks.v1+output": {
       "addedWidgets": {},
       "aggData": [],
       "aggError": "",
       "aggOverflow": false,
       "aggSchema": [],
       "aggSeriesLimitReached": false,
       "aggType": "",
       "arguments": {},
       "columnCustomDisplayInfos": {},
       "data": [
        [
         1,
         "Customer 1",
         "customer1@example.com",
         "Australia",
         "Regular",
         "2011-05-15",
         22,
         "Male",
         191,
         "Low Value",
         5098,
         "2025-04-29T13:54:48.460+0000"
        ],
        [
         2,
         "Customer 2",
         "customer2@example.com",
         "France",
         "Premium",
         "2018-11-27",
         52,
         "Other",
         145,
         "Low Value",
         2345,
         "2025-04-29T13:54:48.460+0000"
        ],
        [
         3,
         "Customer 3",
         "customer3@example.com",
         "Canada",
         "Premium",
         "2015-10-01",
         32,
         "Other",
         691,
         "Mid Value",
         3498,
         "2025-04-29T13:54:48.460+0000"
        ],
        [
         4,
         "Customer 4",
         "customer4@example.com",
         "USA",
         "Premium",
         "2011-01-19",
         70,
         "Other",
         644,
         "Mid Value",
         5214,
         "2025-04-29T13:54:48.460+0000"
        ],
        [
         5,
         "Customer 5",
         "customer5@example.com",
         "Germany",
         "Regular",
         "2021-08-26",
         66,
         "Other",
         508,
         "Mid Value",
         1342,
         "2025-04-29T13:54:48.460+0000"
        ],
        [
         6,
         "Customer 6",
         "customer6@example.com",
         "France",
         "Premium",
         "2015-03-02",
         20,
         "Male",
         704,
         "High Value",
         3711,
         "2025-04-29T13:54:48.460+0000"
        ],
        [
         7,
         "Customer 7",
         "customer7@example.com",
         "China",
         "Premium",
         "2018-05-24",
         24,
         "Female",
         892,
         "High Value",
         2532,
         "2025-04-29T13:54:48.460+0000"
        ],
        [
         8,
         "Customer 8",
         "customer8@example.com",
         "China",
         "Regular",
         "2023-10-02",
         26,
         "Male",
         488,
         "Mid Value",
         575,
         "2025-04-29T13:54:48.460+0000"
        ],
        [
         9,
         "Customer 9",
         "customer9@example.com",
         "Japan",
         "Premium",
         "2014-10-05",
         36,
         "Other",
         30,
         "Low Value",
         3859,
         "2025-04-29T13:54:48.460+0000"
        ],
        [
         10,
         "Customer 10",
         "customer10@example.com",
         "Brazil",
         "Premium",
         "2017-08-30",
         30,
         "Male",
         959,
         "High Value",
         2799,
         "2025-04-29T13:54:48.460+0000"
        ]
       ],
       "datasetInfos": [],
       "dbfsResultPath": null,
       "isJsonSchema": true,
       "metadata": {},
       "overflow": false,
       "plotOptions": {
        "customPlotOptions": {},
        "displayType": "table",
        "pivotAggregation": null,
        "pivotColumns": null,
        "xColumns": null,
        "yColumns": null
       },
       "removedWidgets": [],
       "schema": [
        {
         "metadata": "{}",
         "name": "customer_id",
         "type": "\"integer\""
        },
        {
         "metadata": "{}",
         "name": "name",
         "type": "\"string\""
        },
        {
         "metadata": "{}",
         "name": "email",
         "type": "\"string\""
        },
        {
         "metadata": "{}",
         "name": "country",
         "type": "\"string\""
        },
        {
         "metadata": "{}",
         "name": "customer_type",
         "type": "\"string\""
        },
        {
         "metadata": "{\"__detected_date_formats\":\"yyyy-M-d\"}",
         "name": "registration_date",
         "type": "\"date\""
        },
        {
         "metadata": "{}",
         "name": "age",
         "type": "\"integer\""
        },
        {
         "metadata": "{}",
         "name": "gender",
         "type": "\"string\""
        },
        {
         "metadata": "{}",
         "name": "total_purchases",
         "type": "\"integer\""
        },
        {
         "metadata": "{}",
         "name": "customer_segment",
         "type": "\"string\""
        },
        {
         "metadata": "{}",
         "name": "days_since_registration",
         "type": "\"integer\""
        },
        {
         "metadata": "{}",
         "name": "last_updated",
         "type": "\"timestamp\""
        }
       ],
       "type": "table"
      }
     },
     "output_type": "display_data"
    }
   ],
   "source": [
    "%sql\n",
    "SELECT * FROM silver_incremental limit 10"
   ]
  },
  {
   "cell_type": "code",
   "execution_count": 0,
   "metadata": {
    "application/vnd.databricks.v1+cell": {
     "cellMetadata": {
      "byteLimit": 2048000,
      "implicitDf": true,
      "rowLimit": 10000
     },
     "inputWidgets": {},
     "nuid": "5d8418f0-b56c-4813-9c1f-ea703abfa767",
     "showTitle": false,
     "tableResultSettingsMap": {},
     "title": ""
    }
   },
   "outputs": [
    {
     "output_type": "display_data",
     "data": {
      "text/html": [
       "<style scoped>\n",
       "  .table-result-container {\n",
       "    max-height: 300px;\n",
       "    overflow: auto;\n",
       "  }\n",
       "  table, th, td {\n",
       "    border: 1px solid black;\n",
       "    border-collapse: collapse;\n",
       "  }\n",
       "  th, td {\n",
       "    padding: 5px;\n",
       "  }\n",
       "  th {\n",
       "    text-align: left;\n",
       "  }\n",
       "</style><div class='table-result-container'><table class='table-result'><thead style='background-color: white'><tr><th>num_affected_rows</th><th>num_updated_rows</th><th>num_deleted_rows</th><th>num_inserted_rows</th></tr></thead><tbody><tr><td>930</td><td>0</td><td>0</td><td>930</td></tr></tbody></table></div>"
      ]
     },
     "metadata": {
      "application/vnd.databricks.v1+output": {
       "addedWidgets": {},
       "aggData": [],
       "aggError": "",
       "aggOverflow": false,
       "aggSchema": [],
       "aggSeriesLimitReached": false,
       "aggType": "",
       "arguments": {},
       "columnCustomDisplayInfos": {},
       "data": [
        [
         930,
         0,
         0,
         930
        ]
       ],
       "datasetInfos": [],
       "dbfsResultPath": null,
       "isJsonSchema": true,
       "metadata": {},
       "overflow": false,
       "plotOptions": {
        "customPlotOptions": {},
        "displayType": "table",
        "pivotAggregation": null,
        "pivotColumns": null,
        "xColumns": null,
        "yColumns": null
       },
       "removedWidgets": [],
       "schema": [
        {
         "metadata": "{}",
         "name": "num_affected_rows",
         "type": "\"long\""
        },
        {
         "metadata": "{}",
         "name": "num_updated_rows",
         "type": "\"long\""
        },
        {
         "metadata": "{}",
         "name": "num_deleted_rows",
         "type": "\"long\""
        },
        {
         "metadata": "{}",
         "name": "num_inserted_rows",
         "type": "\"long\""
        }
       ],
       "type": "table"
      }
     },
     "output_type": "display_data"
    }
   ],
   "source": [
    "%sql\n",
    "MERGE INTO silver_customers AS target\n",
    "USING silver_incremental AS source\n",
    "ON target.customer_id = source.customer_id\n",
    "WHEN MATCHED THEN\n",
    "  UPDATE SET *\n",
    "WHEN NOT MATCHED THEN\n",
    "  INSERT *"
   ]
  },
  {
   "cell_type": "code",
   "execution_count": 0,
   "metadata": {
    "application/vnd.databricks.v1+cell": {
     "cellMetadata": {
      "byteLimit": 2048000,
      "implicitDf": true,
      "rowLimit": 10000
     },
     "inputWidgets": {},
     "nuid": "91c3d541-414d-4148-8327-8b6022c082ab",
     "showTitle": false,
     "tableResultSettingsMap": {},
     "title": ""
    }
   },
   "outputs": [
    {
     "output_type": "display_data",
     "data": {
      "text/html": [
       "<style scoped>\n",
       "  .table-result-container {\n",
       "    max-height: 300px;\n",
       "    overflow: auto;\n",
       "  }\n",
       "  table, th, td {\n",
       "    border: 1px solid black;\n",
       "    border-collapse: collapse;\n",
       "  }\n",
       "  th, td {\n",
       "    padding: 5px;\n",
       "  }\n",
       "  th {\n",
       "    text-align: left;\n",
       "  }\n",
       "</style><div class='table-result-container'><table class='table-result'><thead style='background-color: white'><tr><th>customer_id</th><th>name</th><th>email</th><th>country</th><th>customer_type</th><th>registration_date</th><th>age</th><th>gender</th><th>total_purchases</th><th>customer_segment</th><th>days_since_registration</th><th>last_updated</th></tr></thead><tbody><tr><td>1</td><td>Customer 1</td><td>customer1@example.com</td><td>Australia</td><td>Regular</td><td>2011-05-15</td><td>22</td><td>Male</td><td>191</td><td>Low Value</td><td>5098</td><td>2025-04-29T11:53:03.563+0000</td></tr><tr><td>2</td><td>Customer 2</td><td>customer2@example.com</td><td>France</td><td>Premium</td><td>2018-11-27</td><td>52</td><td>Other</td><td>145</td><td>Low Value</td><td>2345</td><td>2025-04-29T11:53:03.563+0000</td></tr><tr><td>3</td><td>Customer 3</td><td>customer3@example.com</td><td>Canada</td><td>Premium</td><td>2015-10-01</td><td>32</td><td>Other</td><td>691</td><td>Mid Value</td><td>3498</td><td>2025-04-29T11:53:03.563+0000</td></tr><tr><td>4</td><td>Customer 4</td><td>customer4@example.com</td><td>USA</td><td>Premium</td><td>2011-01-19</td><td>70</td><td>Other</td><td>644</td><td>Mid Value</td><td>5214</td><td>2025-04-29T11:53:03.563+0000</td></tr><tr><td>5</td><td>Customer 5</td><td>customer5@example.com</td><td>Germany</td><td>Regular</td><td>2021-08-26</td><td>66</td><td>Other</td><td>508</td><td>Mid Value</td><td>1342</td><td>2025-04-29T11:53:03.563+0000</td></tr><tr><td>6</td><td>Customer 6</td><td>customer6@example.com</td><td>France</td><td>Premium</td><td>2015-03-02</td><td>20</td><td>Male</td><td>704</td><td>High Value</td><td>3711</td><td>2025-04-29T11:53:03.563+0000</td></tr><tr><td>7</td><td>Customer 7</td><td>customer7@example.com</td><td>China</td><td>Premium</td><td>2018-05-24</td><td>24</td><td>Female</td><td>892</td><td>High Value</td><td>2532</td><td>2025-04-29T11:53:03.563+0000</td></tr><tr><td>8</td><td>Customer 8</td><td>customer8@example.com</td><td>China</td><td>Regular</td><td>2023-10-02</td><td>26</td><td>Male</td><td>488</td><td>Mid Value</td><td>575</td><td>2025-04-29T11:53:03.563+0000</td></tr><tr><td>9</td><td>Customer 9</td><td>customer9@example.com</td><td>Japan</td><td>Premium</td><td>2014-10-05</td><td>36</td><td>Other</td><td>30</td><td>Low Value</td><td>3859</td><td>2025-04-29T11:53:03.563+0000</td></tr><tr><td>10</td><td>Customer 10</td><td>customer10@example.com</td><td>Brazil</td><td>Premium</td><td>2017-08-30</td><td>30</td><td>Male</td><td>959</td><td>High Value</td><td>2799</td><td>2025-04-29T11:53:03.563+0000</td></tr></tbody></table></div>"
      ]
     },
     "metadata": {
      "application/vnd.databricks.v1+output": {
       "addedWidgets": {},
       "aggData": [],
       "aggError": "",
       "aggOverflow": false,
       "aggSchema": [],
       "aggSeriesLimitReached": false,
       "aggType": "",
       "arguments": {},
       "columnCustomDisplayInfos": {},
       "data": [
        [
         "1",
         "Customer 1",
         "customer1@example.com",
         "Australia",
         "Regular",
         "2011-05-15",
         22,
         "Male",
         191,
         "Low Value",
         5098,
         "2025-04-29T11:53:03.563+0000"
        ],
        [
         "2",
         "Customer 2",
         "customer2@example.com",
         "France",
         "Premium",
         "2018-11-27",
         52,
         "Other",
         145,
         "Low Value",
         2345,
         "2025-04-29T11:53:03.563+0000"
        ],
        [
         "3",
         "Customer 3",
         "customer3@example.com",
         "Canada",
         "Premium",
         "2015-10-01",
         32,
         "Other",
         691,
         "Mid Value",
         3498,
         "2025-04-29T11:53:03.563+0000"
        ],
        [
         "4",
         "Customer 4",
         "customer4@example.com",
         "USA",
         "Premium",
         "2011-01-19",
         70,
         "Other",
         644,
         "Mid Value",
         5214,
         "2025-04-29T11:53:03.563+0000"
        ],
        [
         "5",
         "Customer 5",
         "customer5@example.com",
         "Germany",
         "Regular",
         "2021-08-26",
         66,
         "Other",
         508,
         "Mid Value",
         1342,
         "2025-04-29T11:53:03.563+0000"
        ],
        [
         "6",
         "Customer 6",
         "customer6@example.com",
         "France",
         "Premium",
         "2015-03-02",
         20,
         "Male",
         704,
         "High Value",
         3711,
         "2025-04-29T11:53:03.563+0000"
        ],
        [
         "7",
         "Customer 7",
         "customer7@example.com",
         "China",
         "Premium",
         "2018-05-24",
         24,
         "Female",
         892,
         "High Value",
         2532,
         "2025-04-29T11:53:03.563+0000"
        ],
        [
         "8",
         "Customer 8",
         "customer8@example.com",
         "China",
         "Regular",
         "2023-10-02",
         26,
         "Male",
         488,
         "Mid Value",
         575,
         "2025-04-29T11:53:03.563+0000"
        ],
        [
         "9",
         "Customer 9",
         "customer9@example.com",
         "Japan",
         "Premium",
         "2014-10-05",
         36,
         "Other",
         30,
         "Low Value",
         3859,
         "2025-04-29T11:53:03.563+0000"
        ],
        [
         "10",
         "Customer 10",
         "customer10@example.com",
         "Brazil",
         "Premium",
         "2017-08-30",
         30,
         "Male",
         959,
         "High Value",
         2799,
         "2025-04-29T11:53:03.563+0000"
        ]
       ],
       "datasetInfos": [],
       "dbfsResultPath": null,
       "isJsonSchema": true,
       "metadata": {},
       "overflow": false,
       "plotOptions": {
        "customPlotOptions": {},
        "displayType": "table",
        "pivotAggregation": null,
        "pivotColumns": null,
        "xColumns": null,
        "yColumns": null
       },
       "removedWidgets": [],
       "schema": [
        {
         "metadata": "{}",
         "name": "customer_id",
         "type": "\"string\""
        },
        {
         "metadata": "{}",
         "name": "name",
         "type": "\"string\""
        },
        {
         "metadata": "{}",
         "name": "email",
         "type": "\"string\""
        },
        {
         "metadata": "{}",
         "name": "country",
         "type": "\"string\""
        },
        {
         "metadata": "{}",
         "name": "customer_type",
         "type": "\"string\""
        },
        {
         "metadata": "{}",
         "name": "registration_date",
         "type": "\"date\""
        },
        {
         "metadata": "{}",
         "name": "age",
         "type": "\"integer\""
        },
        {
         "metadata": "{}",
         "name": "gender",
         "type": "\"string\""
        },
        {
         "metadata": "{}",
         "name": "total_purchases",
         "type": "\"integer\""
        },
        {
         "metadata": "{}",
         "name": "customer_segment",
         "type": "\"string\""
        },
        {
         "metadata": "{}",
         "name": "days_since_registration",
         "type": "\"integer\""
        },
        {
         "metadata": "{}",
         "name": "last_updated",
         "type": "\"timestamp\""
        }
       ],
       "type": "table"
      }
     },
     "output_type": "display_data"
    }
   ],
   "source": [
    "%sql\n",
    "select * from silver_customers limit 10"
   ]
  },
  {
   "cell_type": "code",
   "execution_count": 0,
   "metadata": {
    "application/vnd.databricks.v1+cell": {
     "cellMetadata": {
      "byteLimit": 2048000,
      "rowLimit": 10000
     },
     "inputWidgets": {},
     "nuid": "d2634984-8576-450a-b008-c825b222c60d",
     "showTitle": false,
     "tableResultSettingsMap": {},
     "title": ""
    }
   },
   "outputs": [],
   "source": []
  }
 ],
 "metadata": {
  "application/vnd.databricks.v1+notebook": {
   "computePreferences": null,
   "dashboards": [],
   "environmentMetadata": null,
   "inputWidgetPreferences": null,
   "language": "python",
   "notebookMetadata": {
    "mostRecentlyExecutedCommandWithImplicitDF": {
     "commandId": 4061846891599575,
     "dataframes": [
      "_sqldf"
     ]
    },
    "pythonIndentUnit": 4
   },
   "notebookName": "silver_layer_customer_load",
   "widgets": {}
  }
 },
 "nbformat": 4,
 "nbformat_minor": 0
}