{
 "cells": [
  {
   "cell_type": "code",
   "execution_count": 0,
   "metadata": {
    "application/vnd.databricks.v1+cell": {
     "cellMetadata": {
      "byteLimit": 2048000,
      "rowLimit": 10000
     },
     "inputWidgets": {},
     "nuid": "b9797e0a-73f1-488d-a11d-610eda595b62",
     "showTitle": false,
     "tableResultSettingsMap": {},
     "title": ""
    }
   },
   "outputs": [
    {
     "output_type": "stream",
     "name": "stdout",
     "output_type": "stream",
     "text": [
      "Out[1]: True"
     ]
    }
   ],
   "source": [
    "dbutils.fs.rm(\"dbfs:/user/hive/warehouse/global_retail_silver.db/silver_products\", recurse=True)"
   ]
  },
  {
   "cell_type": "code",
   "execution_count": 0,
   "metadata": {
    "application/vnd.databricks.v1+cell": {
     "cellMetadata": {
      "byteLimit": 2048000,
      "implicitDf": true,
      "rowLimit": 10000
     },
     "inputWidgets": {},
     "nuid": "72057199-6694-412f-934d-475b1dc13e9e",
     "showTitle": false,
     "tableResultSettingsMap": {},
     "title": ""
    }
   },
   "outputs": [
    {
     "output_type": "display_data",
     "data": {
      "text/html": [
       "<style scoped>\n",
       "  .table-result-container {\n",
       "    max-height: 300px;\n",
       "    overflow: auto;\n",
       "  }\n",
       "  table, th, td {\n",
       "    border: 1px solid black;\n",
       "    border-collapse: collapse;\n",
       "  }\n",
       "  th, td {\n",
       "    padding: 5px;\n",
       "  }\n",
       "  th {\n",
       "    text-align: left;\n",
       "  }\n",
       "</style><div class='table-result-container'><table class='table-result'><thead style='background-color: white'><tr><th>brand</th><th>category</th><th>is_active</th><th>name</th><th>price</th><th>product_id</th><th>rating</th><th>stock_quantity</th><th>ingestion_timestamp</th></tr></thead><tbody><tr><td>BeautyGlow</td><td>Toys</td><td>true</td><td>Product 1</td><td>995.73</td><td>1</td><td>3.5</td><td>989</td><td>2025-04-29T11:49:54.382+0000</td></tr><tr><td>GardenMaster</td><td>Garden</td><td>true</td><td>Product 2</td><td>497.76</td><td>2</td><td>3.8</td><td>495</td><td>2025-04-29T11:49:54.382+0000</td></tr><tr><td>BeautyGlow</td><td>Electronics</td><td>true</td><td>Product 3</td><td>331.63</td><td>3</td><td>4.6</td><td>10</td><td>2025-04-29T11:49:54.382+0000</td></tr><tr><td>TechPro</td><td>Beauty</td><td>false</td><td>Product 4</td><td>798.83</td><td>4</td><td>4.7</td><td>683</td><td>2025-04-29T11:49:54.382+0000</td></tr><tr><td>HomeSmart</td><td>Automotive</td><td>false</td><td>Product 5</td><td>-454.98</td><td>5</td><td>4.4</td><td>719</td><td>2025-04-29T11:49:54.382+0000</td></tr></tbody></table></div>"
      ]
     },
     "metadata": {
      "application/vnd.databricks.v1+output": {
       "addedWidgets": {},
       "aggData": [],
       "aggError": "",
       "aggOverflow": false,
       "aggSchema": [],
       "aggSeriesLimitReached": false,
       "aggType": "",
       "arguments": {},
       "columnCustomDisplayInfos": {},
       "data": [
        [
         "BeautyGlow",
         "Toys",
         true,
         "Product 1",
         995.73,
         1,
         3.5,
         "989",
         "2025-04-29T11:49:54.382+0000"
        ],
        [
         "GardenMaster",
         "Garden",
         true,
         "Product 2",
         497.76,
         2,
         3.8,
         "495",
         "2025-04-29T11:49:54.382+0000"
        ],
        [
         "BeautyGlow",
         "Electronics",
         true,
         "Product 3",
         331.63,
         3,
         4.6,
         "10",
         "2025-04-29T11:49:54.382+0000"
        ],
        [
         "TechPro",
         "Beauty",
         false,
         "Product 4",
         798.83,
         4,
         4.7,
         "683",
         "2025-04-29T11:49:54.382+0000"
        ],
        [
         "HomeSmart",
         "Automotive",
         false,
         "Product 5",
         -454.98,
         5,
         4.4,
         "719",
         "2025-04-29T11:49:54.382+0000"
        ]
       ],
       "datasetInfos": [],
       "dbfsResultPath": null,
       "isJsonSchema": true,
       "metadata": {},
       "overflow": false,
       "plotOptions": {
        "customPlotOptions": {},
        "displayType": "table",
        "pivotAggregation": null,
        "pivotColumns": null,
        "xColumns": null,
        "yColumns": null
       },
       "removedWidgets": [],
       "schema": [
        {
         "metadata": "{}",
         "name": "brand",
         "type": "\"string\""
        },
        {
         "metadata": "{}",
         "name": "category",
         "type": "\"string\""
        },
        {
         "metadata": "{}",
         "name": "is_active",
         "type": "\"boolean\""
        },
        {
         "metadata": "{}",
         "name": "name",
         "type": "\"string\""
        },
        {
         "metadata": "{}",
         "name": "price",
         "type": "\"double\""
        },
        {
         "metadata": "{}",
         "name": "product_id",
         "type": "\"long\""
        },
        {
         "metadata": "{}",
         "name": "rating",
         "type": "\"double\""
        },
        {
         "metadata": "{}",
         "name": "stock_quantity",
         "type": "\"string\""
        },
        {
         "metadata": "{}",
         "name": "ingestion_timestamp",
         "type": "\"timestamp\""
        }
       ],
       "type": "table"
      }
     },
     "output_type": "display_data"
    }
   ],
   "source": [
    "%sql\n",
    "select * FROM global_retail_bronze.bronze_products limit 5"
   ]
  },
  {
   "cell_type": "code",
   "execution_count": 0,
   "metadata": {
    "application/vnd.databricks.v1+cell": {
     "cellMetadata": {
      "byteLimit": 2048000,
      "implicitDf": true,
      "rowLimit": 10000
     },
     "inputWidgets": {},
     "nuid": "a395fe97-eb18-45de-9443-4be38bcf4167",
     "showTitle": false,
     "tableResultSettingsMap": {},
     "title": ""
    }
   },
   "outputs": [
    {
     "output_type": "display_data",
     "data": {
      "text/html": [
       "<style scoped>\n",
       "  .table-result-container {\n",
       "    max-height: 300px;\n",
       "    overflow: auto;\n",
       "  }\n",
       "  table, th, td {\n",
       "    border: 1px solid black;\n",
       "    border-collapse: collapse;\n",
       "  }\n",
       "  th, td {\n",
       "    padding: 5px;\n",
       "  }\n",
       "  th {\n",
       "    text-align: left;\n",
       "  }\n",
       "</style><div class='table-result-container'><table class='table-result'><thead style='background-color: white'><tr></tr></thead><tbody></tbody></table></div>"
      ]
     },
     "metadata": {
      "application/vnd.databricks.v1+output": {
       "addedWidgets": {},
       "aggData": [],
       "aggError": "",
       "aggOverflow": false,
       "aggSchema": [],
       "aggSeriesLimitReached": false,
       "aggType": "",
       "arguments": {},
       "columnCustomDisplayInfos": {},
       "data": [],
       "datasetInfos": [],
       "dbfsResultPath": null,
       "isJsonSchema": true,
       "metadata": {},
       "overflow": false,
       "plotOptions": {
        "customPlotOptions": {},
        "displayType": "table",
        "pivotAggregation": null,
        "pivotColumns": null,
        "xColumns": null,
        "yColumns": null
       },
       "removedWidgets": [],
       "schema": [],
       "type": "table"
      }
     },
     "output_type": "display_data"
    }
   ],
   "source": [
    "%sql\n",
    "\n",
    "USE global_retail_silver;\n",
    "CREATE TABLE IF NOT EXISTS silver_products (\n",
    "  brand STRING,\n",
    "  category STRING,\n",
    "  is_active BOOLEAN,\n",
    "  name STRING,\n",
    "  price DOUBLE,\n",
    "  product_id STRING,\n",
    "  rating DOUBLE,\n",
    "  stock_quantity INT,\n",
    "  price_category STRING,\n",
    "  stock_status STRING,\n",
    "  last_updated TIMESTAMP\n",
    ") USING DELTA;"
   ]
  },
  {
   "cell_type": "code",
   "execution_count": 0,
   "metadata": {
    "application/vnd.databricks.v1+cell": {
     "cellMetadata": {
      "byteLimit": 2048000,
      "implicitDf": true,
      "rowLimit": 10000
     },
     "inputWidgets": {},
     "nuid": "741186f3-b846-4744-8afa-cd2954ebe2e4",
     "showTitle": false,
     "tableResultSettingsMap": {},
     "title": ""
    }
   },
   "outputs": [
    {
     "output_type": "display_data",
     "data": {
      "text/html": [
       "<style scoped>\n",
       "  .table-result-container {\n",
       "    max-height: 300px;\n",
       "    overflow: auto;\n",
       "  }\n",
       "  table, th, td {\n",
       "    border: 1px solid black;\n",
       "    border-collapse: collapse;\n",
       "  }\n",
       "  th, td {\n",
       "    padding: 5px;\n",
       "  }\n",
       "  th {\n",
       "    text-align: left;\n",
       "  }\n",
       "</style><div class='table-result-container'><table class='table-result'><thead style='background-color: white'><tr><th>database</th><th>tableName</th><th>isTemporary</th></tr></thead><tbody><tr><td>global_retail_silver</td><td>silver_customers</td><td>false</td></tr><tr><td>global_retail_silver</td><td>silver_products</td><td>false</td></tr></tbody></table></div>"
      ]
     },
     "metadata": {
      "application/vnd.databricks.v1+output": {
       "addedWidgets": {},
       "aggData": [],
       "aggError": "",
       "aggOverflow": false,
       "aggSchema": [],
       "aggSeriesLimitReached": false,
       "aggType": "",
       "arguments": {},
       "columnCustomDisplayInfos": {},
       "data": [
        [
         "global_retail_silver",
         "silver_customers",
         false
        ],
        [
         "global_retail_silver",
         "silver_products",
         false
        ]
       ],
       "datasetInfos": [],
       "dbfsResultPath": null,
       "isJsonSchema": true,
       "metadata": {},
       "overflow": false,
       "plotOptions": {
        "customPlotOptions": {},
        "displayType": "table",
        "pivotAggregation": null,
        "pivotColumns": null,
        "xColumns": null,
        "yColumns": null
       },
       "removedWidgets": [],
       "schema": [
        {
         "metadata": "{}",
         "name": "database",
         "type": "\"string\""
        },
        {
         "metadata": "{}",
         "name": "tableName",
         "type": "\"string\""
        },
        {
         "metadata": "{}",
         "name": "isTemporary",
         "type": "\"boolean\""
        }
       ],
       "type": "table"
      }
     },
     "output_type": "display_data"
    }
   ],
   "source": [
    "%sql\n",
    "show tables"
   ]
  },
  {
   "cell_type": "code",
   "execution_count": 0,
   "metadata": {
    "application/vnd.databricks.v1+cell": {
     "cellMetadata": {
      "byteLimit": 2048000,
      "rowLimit": 10000
     },
     "inputWidgets": {},
     "nuid": "246721c7-8971-478e-bdc2-edbef180fd3b",
     "showTitle": false,
     "tableResultSettingsMap": {},
     "title": ""
    }
   },
   "outputs": [],
   "source": [
    "# Get the last processed timestamp from silver layer\n",
    "last_processed_df = spark.sql(\"SELECT MAX(last_updated) as last_processed FROM silver_products\")\n",
    "last_processed_timestamp = last_processed_df.collect()[0]['last_processed']\n",
    "\n",
    "if last_processed_timestamp is None:\n",
    "    last_processed_timestamp = \"1900-01-01T00:00:00.000+00:00\""
   ]
  },
  {
   "cell_type": "code",
   "execution_count": 0,
   "metadata": {
    "application/vnd.databricks.v1+cell": {
     "cellMetadata": {
      "byteLimit": 2048000,
      "rowLimit": 10000
     },
     "inputWidgets": {},
     "nuid": "1c9a1e66-a593-488c-b99f-44e2dfc0669c",
     "showTitle": false,
     "tableResultSettingsMap": {},
     "title": ""
    }
   },
   "outputs": [
    {
     "output_type": "stream",
     "name": "stdout",
     "output_type": "stream",
     "text": [
      "Out[6]: DataFrame[]"
     ]
    }
   ],
   "source": [
    "# Create a temporary view of incremental bronze data\n",
    "spark.sql(f\"\"\"\n",
    "CREATE OR REPLACE TEMPORARY VIEW bronze_incremental_products AS\n",
    "SELECT *\n",
    "FROM global_retail_bronze.bronze_products p where  p.ingestion_timestamp > '{last_processed_timestamp}'\n",
    "\"\"\")"
   ]
  },
  {
   "cell_type": "code",
   "execution_count": 0,
   "metadata": {
    "application/vnd.databricks.v1+cell": {
     "cellMetadata": {
      "byteLimit": 2048000,
      "implicitDf": true,
      "rowLimit": 10000
     },
     "inputWidgets": {},
     "nuid": "0bb40d22-0a79-424f-8d5f-74ff9bb054c4",
     "showTitle": false,
     "tableResultSettingsMap": {},
     "title": ""
    }
   },
   "outputs": [
    {
     "output_type": "display_data",
     "data": {
      "text/html": [
       "<style scoped>\n",
       "  .table-result-container {\n",
       "    max-height: 300px;\n",
       "    overflow: auto;\n",
       "  }\n",
       "  table, th, td {\n",
       "    border: 1px solid black;\n",
       "    border-collapse: collapse;\n",
       "  }\n",
       "  th, td {\n",
       "    padding: 5px;\n",
       "  }\n",
       "  th {\n",
       "    text-align: left;\n",
       "  }\n",
       "</style><div class='table-result-container'><table class='table-result'><thead style='background-color: white'><tr><th>brand</th><th>category</th><th>is_active</th><th>name</th><th>price</th><th>product_id</th><th>rating</th><th>stock_quantity</th><th>ingestion_timestamp</th></tr></thead><tbody><tr><td>BeautyGlow</td><td>Toys</td><td>true</td><td>Product 1</td><td>995.73</td><td>1</td><td>3.5</td><td>989</td><td>2025-04-29T11:49:54.382+0000</td></tr><tr><td>GardenMaster</td><td>Garden</td><td>true</td><td>Product 2</td><td>497.76</td><td>2</td><td>3.8</td><td>495</td><td>2025-04-29T11:49:54.382+0000</td></tr><tr><td>BeautyGlow</td><td>Electronics</td><td>true</td><td>Product 3</td><td>331.63</td><td>3</td><td>4.6</td><td>10</td><td>2025-04-29T11:49:54.382+0000</td></tr><tr><td>TechPro</td><td>Beauty</td><td>false</td><td>Product 4</td><td>798.83</td><td>4</td><td>4.7</td><td>683</td><td>2025-04-29T11:49:54.382+0000</td></tr><tr><td>HomeSmart</td><td>Automotive</td><td>false</td><td>Product 5</td><td>-454.98</td><td>5</td><td>4.4</td><td>719</td><td>2025-04-29T11:49:54.382+0000</td></tr><tr><td>BookWorm</td><td>Electronics</td><td>false</td><td>Product 6</td><td>645.3</td><td>6</td><td>2.2</td><td>823</td><td>2025-04-29T11:49:54.382+0000</td></tr><tr><td>FashionX</td><td>Automotive</td><td>false</td><td>Product 7</td><td>549.08</td><td>7</td><td>1.1</td><td>999</td><td>2025-04-29T11:49:54.382+0000</td></tr><tr><td>TechPro</td><td>Books</td><td>false</td><td>Product 8</td><td>982.36</td><td>8</td><td>2.4</td><td>542</td><td>2025-04-29T11:49:54.382+0000</td></tr><tr><td>FashionX</td><td>Toys</td><td>true</td><td>Product 9</td><td>307.14</td><td>9</td><td>1.0</td><td>671</td><td>2025-04-29T11:49:54.382+0000</td></tr><tr><td>BeautyGlow</td><td>Garden</td><td>false</td><td>Product 10</td><td>871.38</td><td>10</td><td>3.4</td><td>975</td><td>2025-04-29T11:49:54.382+0000</td></tr></tbody></table></div>"
      ]
     },
     "metadata": {
      "application/vnd.databricks.v1+output": {
       "addedWidgets": {},
       "aggData": [],
       "aggError": "",
       "aggOverflow": false,
       "aggSchema": [],
       "aggSeriesLimitReached": false,
       "aggType": "",
       "arguments": {},
       "columnCustomDisplayInfos": {},
       "data": [
        [
         "BeautyGlow",
         "Toys",
         true,
         "Product 1",
         995.73,
         1,
         3.5,
         "989",
         "2025-04-29T11:49:54.382+0000"
        ],
        [
         "GardenMaster",
         "Garden",
         true,
         "Product 2",
         497.76,
         2,
         3.8,
         "495",
         "2025-04-29T11:49:54.382+0000"
        ],
        [
         "BeautyGlow",
         "Electronics",
         true,
         "Product 3",
         331.63,
         3,
         4.6,
         "10",
         "2025-04-29T11:49:54.382+0000"
        ],
        [
         "TechPro",
         "Beauty",
         false,
         "Product 4",
         798.83,
         4,
         4.7,
         "683",
         "2025-04-29T11:49:54.382+0000"
        ],
        [
         "HomeSmart",
         "Automotive",
         false,
         "Product 5",
         -454.98,
         5,
         4.4,
         "719",
         "2025-04-29T11:49:54.382+0000"
        ],
        [
         "BookWorm",
         "Electronics",
         false,
         "Product 6",
         645.3,
         6,
         2.2,
         "823",
         "2025-04-29T11:49:54.382+0000"
        ],
        [
         "FashionX",
         "Automotive",
         false,
         "Product 7",
         549.08,
         7,
         1.1,
         "999",
         "2025-04-29T11:49:54.382+0000"
        ],
        [
         "TechPro",
         "Books",
         false,
         "Product 8",
         982.36,
         8,
         2.4,
         "542",
         "2025-04-29T11:49:54.382+0000"
        ],
        [
         "FashionX",
         "Toys",
         true,
         "Product 9",
         307.14,
         9,
         1.0,
         "671",
         "2025-04-29T11:49:54.382+0000"
        ],
        [
         "BeautyGlow",
         "Garden",
         false,
         "Product 10",
         871.38,
         10,
         3.4,
         "975",
         "2025-04-29T11:49:54.382+0000"
        ]
       ],
       "datasetInfos": [],
       "dbfsResultPath": null,
       "isJsonSchema": true,
       "metadata": {},
       "overflow": false,
       "plotOptions": {
        "customPlotOptions": {},
        "displayType": "table",
        "pivotAggregation": null,
        "pivotColumns": null,
        "xColumns": null,
        "yColumns": null
       },
       "removedWidgets": [],
       "schema": [
        {
         "metadata": "{}",
         "name": "brand",
         "type": "\"string\""
        },
        {
         "metadata": "{}",
         "name": "category",
         "type": "\"string\""
        },
        {
         "metadata": "{}",
         "name": "is_active",
         "type": "\"boolean\""
        },
        {
         "metadata": "{}",
         "name": "name",
         "type": "\"string\""
        },
        {
         "metadata": "{}",
         "name": "price",
         "type": "\"double\""
        },
        {
         "metadata": "{}",
         "name": "product_id",
         "type": "\"long\""
        },
        {
         "metadata": "{}",
         "name": "rating",
         "type": "\"double\""
        },
        {
         "metadata": "{}",
         "name": "stock_quantity",
         "type": "\"string\""
        },
        {
         "metadata": "{}",
         "name": "ingestion_timestamp",
         "type": "\"timestamp\""
        }
       ],
       "type": "table"
      }
     },
     "output_type": "display_data"
    }
   ],
   "source": [
    "%sql\n",
    "select * from bronze_incremental_products limit 10"
   ]
  },
  {
   "cell_type": "code",
   "execution_count": 0,
   "metadata": {
    "application/vnd.databricks.v1+cell": {
     "cellMetadata": {
      "byteLimit": 2048000,
      "implicitDf": true,
      "rowLimit": 10000
     },
     "inputWidgets": {},
     "nuid": "a4d94316-7f00-4646-8a08-a1b2af777dcc",
     "showTitle": false,
     "tableResultSettingsMap": {},
     "title": ""
    }
   },
   "outputs": [
    {
     "output_type": "display_data",
     "data": {
      "text/html": [
       "<style scoped>\n",
       "  .table-result-container {\n",
       "    max-height: 300px;\n",
       "    overflow: auto;\n",
       "  }\n",
       "  table, th, td {\n",
       "    border: 1px solid black;\n",
       "    border-collapse: collapse;\n",
       "  }\n",
       "  th, td {\n",
       "    padding: 5px;\n",
       "  }\n",
       "  th {\n",
       "    text-align: left;\n",
       "  }\n",
       "</style><div class='table-result-container'><table class='table-result'><thead style='background-color: white'><tr><th>max(stock_quantity)</th><th>avg(stock_quantity)</th><th>min(stock_quantity)</th></tr></thead><tbody><tr><td>999</td><td>493.472</td><td>1</td></tr></tbody></table></div>"
      ]
     },
     "metadata": {
      "application/vnd.databricks.v1+output": {
       "addedWidgets": {},
       "aggData": [],
       "aggError": "",
       "aggOverflow": false,
       "aggSchema": [],
       "aggSeriesLimitReached": false,
       "aggType": "",
       "arguments": {},
       "columnCustomDisplayInfos": {},
       "data": [
        [
         "999",
         493.472,
         "1"
        ]
       ],
       "datasetInfos": [],
       "dbfsResultPath": null,
       "isJsonSchema": true,
       "metadata": {},
       "overflow": false,
       "plotOptions": {
        "customPlotOptions": {},
        "displayType": "table",
        "pivotAggregation": null,
        "pivotColumns": null,
        "xColumns": null,
        "yColumns": null
       },
       "removedWidgets": [],
       "schema": [
        {
         "metadata": "{\"__autoGeneratedAlias\":\"true\"}",
         "name": "max(stock_quantity)",
         "type": "\"string\""
        },
        {
         "metadata": "{\"__autoGeneratedAlias\":\"true\"}",
         "name": "avg(stock_quantity)",
         "type": "\"double\""
        },
        {
         "metadata": "{\"__autoGeneratedAlias\":\"true\"}",
         "name": "min(stock_quantity)",
         "type": "\"string\""
        }
       ],
       "type": "table"
      }
     },
     "output_type": "display_data"
    }
   ],
   "source": [
    "%sql\n",
    "select max(stock_quantity),avg(stock_quantity),min(stock_quantity) from bronze_incremental_products\n",
    "-- select price from bronze_incremental_products where price<0"
   ]
  },
  {
   "cell_type": "markdown",
   "metadata": {
    "application/vnd.databricks.v1+cell": {
     "cellMetadata": {
      "byteLimit": 2048000,
      "rowLimit": 10000
     },
     "inputWidgets": {},
     "nuid": "55681104-af87-4097-9666-c233c0ab8d2a",
     "showTitle": false,
     "tableResultSettingsMap": {},
     "title": ""
    }
   },
   "source": [
    "### Transformations\n",
    "- Price normalization- setting negatives to zero\n",
    "- stock quantity normalization - setting negatives to zero\n",
    "- rating normalization - clamping between 0 and 5\n",
    "- price categorization - premium, standard, budget\n",
    "- stock status calculation - out of stock, low stock, moderate stock, sufficient stock"
   ]
  },
  {
   "cell_type": "code",
   "execution_count": 0,
   "metadata": {
    "application/vnd.databricks.v1+cell": {
     "cellMetadata": {
      "byteLimit": 2048000,
      "implicitDf": true,
      "rowLimit": 10000
     },
     "inputWidgets": {},
     "nuid": "dc415028-d3d1-4bd9-96e5-ae94d0194b2d",
     "showTitle": false,
     "tableResultSettingsMap": {},
     "title": ""
    }
   },
   "outputs": [
    {
     "output_type": "display_data",
     "data": {
      "text/html": [
       "<style scoped>\n",
       "  .table-result-container {\n",
       "    max-height: 300px;\n",
       "    overflow: auto;\n",
       "  }\n",
       "  table, th, td {\n",
       "    border: 1px solid black;\n",
       "    border-collapse: collapse;\n",
       "  }\n",
       "  th, td {\n",
       "    padding: 5px;\n",
       "  }\n",
       "  th {\n",
       "    text-align: left;\n",
       "  }\n",
       "</style><div class='table-result-container'><table class='table-result'><thead style='background-color: white'><tr></tr></thead><tbody></tbody></table></div>"
      ]
     },
     "metadata": {
      "application/vnd.databricks.v1+output": {
       "addedWidgets": {},
       "aggData": [],
       "aggError": "",
       "aggOverflow": false,
       "aggSchema": [],
       "aggSeriesLimitReached": false,
       "aggType": "",
       "arguments": {},
       "columnCustomDisplayInfos": {},
       "data": [],
       "datasetInfos": [],
       "dbfsResultPath": null,
       "isJsonSchema": true,
       "metadata": {},
       "overflow": false,
       "plotOptions": {
        "customPlotOptions": {},
        "displayType": "table",
        "pivotAggregation": null,
        "pivotColumns": null,
        "xColumns": null,
        "yColumns": null
       },
       "removedWidgets": [],
       "schema": [],
       "type": "table"
      }
     },
     "output_type": "display_data"
    }
   ],
   "source": [
    "%sql\n",
    "CREATE OR REPLACE TEMPORARY VIEW silver_incremental_products AS(\n",
    "SELECT\n",
    "  product_id,\n",
    "  name,\n",
    "  category,\n",
    "  brand,\n",
    "  is_active,\n",
    "  CASE \n",
    "    WHEN price < 0 THEN 0\n",
    "    ELSE price \n",
    "  END AS price,\n",
    "  CASE \n",
    "    WHEN stock_quantity < 0 THEN 0\n",
    "    ELSE stock_quantity \n",
    "  END AS stock_quantity,\n",
    "  CASE \n",
    "    WHEN rating < 0 THEN 0\n",
    "    WHEN rating > 5 THEN 5\n",
    "    ELSE rating\n",
    "  END AS rating,\n",
    "  CASE \n",
    "    WHEN price >700 THEN 'Premium'\n",
    "    WHEN price >400 THEN 'Standard'\n",
    "    ELSE 'Budget' \n",
    "  END AS price_category,\n",
    "  CASE \n",
    "    WHEN stock_quantity =0 THEN 'Out of Stock'\n",
    "    WHEN stock_quantity >50 THEN 'Low Stock'\n",
    "    WHEN stock_quantity >300 THEN 'Moderate stock'\n",
    "    ELSE 'Sufficient Stock' \n",
    "  END AS stock_status,\n",
    "  CURRENT_TIMESTAMP AS last_updated\n",
    "FROM bronze_incremental_products\n",
    "WHERE name IS NOT NULL and category IS NOT NULL\n",
    ")"
   ]
  },
  {
   "cell_type": "code",
   "execution_count": 0,
   "metadata": {
    "application/vnd.databricks.v1+cell": {
     "cellMetadata": {
      "byteLimit": 2048000,
      "implicitDf": true,
      "rowLimit": 10000
     },
     "inputWidgets": {},
     "nuid": "a5eab4f8-3c2a-4492-b4e4-36a776066011",
     "showTitle": false,
     "tableResultSettingsMap": {},
     "title": ""
    }
   },
   "outputs": [
    {
     "output_type": "display_data",
     "data": {
      "text/html": [
       "<style scoped>\n",
       "  .table-result-container {\n",
       "    max-height: 300px;\n",
       "    overflow: auto;\n",
       "  }\n",
       "  table, th, td {\n",
       "    border: 1px solid black;\n",
       "    border-collapse: collapse;\n",
       "  }\n",
       "  th, td {\n",
       "    padding: 5px;\n",
       "  }\n",
       "  th {\n",
       "    text-align: left;\n",
       "  }\n",
       "</style><div class='table-result-container'><table class='table-result'><thead style='background-color: white'><tr><th>product_id</th><th>name</th><th>category</th><th>brand</th><th>is_active</th><th>price</th><th>stock_quantity</th><th>rating</th><th>price_category</th><th>stock_status</th><th>last_updated</th></tr></thead><tbody><tr><td>1</td><td>Product 1</td><td>Toys</td><td>BeautyGlow</td><td>true</td><td>995.73</td><td>989</td><td>3.5</td><td>Premium</td><td>Low Stock</td><td>2025-04-29T13:55:45.196+0000</td></tr><tr><td>2</td><td>Product 2</td><td>Garden</td><td>GardenMaster</td><td>true</td><td>497.76</td><td>495</td><td>3.8</td><td>Standard</td><td>Low Stock</td><td>2025-04-29T13:55:45.196+0000</td></tr><tr><td>3</td><td>Product 3</td><td>Electronics</td><td>BeautyGlow</td><td>true</td><td>331.63</td><td>10</td><td>4.6</td><td>Budget</td><td>Sufficient Stock</td><td>2025-04-29T13:55:45.196+0000</td></tr><tr><td>4</td><td>Product 4</td><td>Beauty</td><td>TechPro</td><td>false</td><td>798.83</td><td>683</td><td>4.7</td><td>Premium</td><td>Low Stock</td><td>2025-04-29T13:55:45.196+0000</td></tr><tr><td>5</td><td>Product 5</td><td>Automotive</td><td>HomeSmart</td><td>false</td><td>0.0</td><td>719</td><td>4.4</td><td>Budget</td><td>Low Stock</td><td>2025-04-29T13:55:45.196+0000</td></tr><tr><td>6</td><td>Product 6</td><td>Electronics</td><td>BookWorm</td><td>false</td><td>645.3</td><td>823</td><td>2.2</td><td>Standard</td><td>Low Stock</td><td>2025-04-29T13:55:45.196+0000</td></tr><tr><td>7</td><td>Product 7</td><td>Automotive</td><td>FashionX</td><td>false</td><td>549.08</td><td>999</td><td>1.1</td><td>Standard</td><td>Low Stock</td><td>2025-04-29T13:55:45.196+0000</td></tr><tr><td>8</td><td>Product 8</td><td>Books</td><td>TechPro</td><td>false</td><td>982.36</td><td>542</td><td>2.4</td><td>Premium</td><td>Low Stock</td><td>2025-04-29T13:55:45.196+0000</td></tr><tr><td>9</td><td>Product 9</td><td>Toys</td><td>FashionX</td><td>true</td><td>307.14</td><td>671</td><td>1.0</td><td>Budget</td><td>Low Stock</td><td>2025-04-29T13:55:45.196+0000</td></tr><tr><td>10</td><td>Product 10</td><td>Garden</td><td>BeautyGlow</td><td>false</td><td>871.38</td><td>975</td><td>3.4</td><td>Premium</td><td>Low Stock</td><td>2025-04-29T13:55:45.196+0000</td></tr></tbody></table></div>"
      ]
     },
     "metadata": {
      "application/vnd.databricks.v1+output": {
       "addedWidgets": {},
       "aggData": [],
       "aggError": "",
       "aggOverflow": false,
       "aggSchema": [],
       "aggSeriesLimitReached": false,
       "aggType": "",
       "arguments": {},
       "columnCustomDisplayInfos": {},
       "data": [
        [
         1,
         "Product 1",
         "Toys",
         "BeautyGlow",
         true,
         995.73,
         "989",
         3.5,
         "Premium",
         "Low Stock",
         "2025-04-29T13:55:45.196+0000"
        ],
        [
         2,
         "Product 2",
         "Garden",
         "GardenMaster",
         true,
         497.76,
         "495",
         3.8,
         "Standard",
         "Low Stock",
         "2025-04-29T13:55:45.196+0000"
        ],
        [
         3,
         "Product 3",
         "Electronics",
         "BeautyGlow",
         true,
         331.63,
         "10",
         4.6,
         "Budget",
         "Sufficient Stock",
         "2025-04-29T13:55:45.196+0000"
        ],
        [
         4,
         "Product 4",
         "Beauty",
         "TechPro",
         false,
         798.83,
         "683",
         4.7,
         "Premium",
         "Low Stock",
         "2025-04-29T13:55:45.196+0000"
        ],
        [
         5,
         "Product 5",
         "Automotive",
         "HomeSmart",
         false,
         0.0,
         "719",
         4.4,
         "Budget",
         "Low Stock",
         "2025-04-29T13:55:45.196+0000"
        ],
        [
         6,
         "Product 6",
         "Electronics",
         "BookWorm",
         false,
         645.3,
         "823",
         2.2,
         "Standard",
         "Low Stock",
         "2025-04-29T13:55:45.196+0000"
        ],
        [
         7,
         "Product 7",
         "Automotive",
         "FashionX",
         false,
         549.08,
         "999",
         1.1,
         "Standard",
         "Low Stock",
         "2025-04-29T13:55:45.196+0000"
        ],
        [
         8,
         "Product 8",
         "Books",
         "TechPro",
         false,
         982.36,
         "542",
         2.4,
         "Premium",
         "Low Stock",
         "2025-04-29T13:55:45.196+0000"
        ],
        [
         9,
         "Product 9",
         "Toys",
         "FashionX",
         true,
         307.14,
         "671",
         1.0,
         "Budget",
         "Low Stock",
         "2025-04-29T13:55:45.196+0000"
        ],
        [
         10,
         "Product 10",
         "Garden",
         "BeautyGlow",
         false,
         871.38,
         "975",
         3.4,
         "Premium",
         "Low Stock",
         "2025-04-29T13:55:45.196+0000"
        ]
       ],
       "datasetInfos": [],
       "dbfsResultPath": null,
       "isJsonSchema": true,
       "metadata": {},
       "overflow": false,
       "plotOptions": {
        "customPlotOptions": {},
        "displayType": "table",
        "pivotAggregation": null,
        "pivotColumns": null,
        "xColumns": null,
        "yColumns": null
       },
       "removedWidgets": [],
       "schema": [
        {
         "metadata": "{}",
         "name": "product_id",
         "type": "\"long\""
        },
        {
         "metadata": "{}",
         "name": "name",
         "type": "\"string\""
        },
        {
         "metadata": "{}",
         "name": "category",
         "type": "\"string\""
        },
        {
         "metadata": "{}",
         "name": "brand",
         "type": "\"string\""
        },
        {
         "metadata": "{}",
         "name": "is_active",
         "type": "\"boolean\""
        },
        {
         "metadata": "{}",
         "name": "price",
         "type": "\"double\""
        },
        {
         "metadata": "{}",
         "name": "stock_quantity",
         "type": "\"string\""
        },
        {
         "metadata": "{}",
         "name": "rating",
         "type": "\"double\""
        },
        {
         "metadata": "{}",
         "name": "price_category",
         "type": "\"string\""
        },
        {
         "metadata": "{}",
         "name": "stock_status",
         "type": "\"string\""
        },
        {
         "metadata": "{}",
         "name": "last_updated",
         "type": "\"timestamp\""
        }
       ],
       "type": "table"
      }
     },
     "output_type": "display_data"
    }
   ],
   "source": [
    "%sql\n",
    "SELECT * FROM silver_incremental_products limit 10"
   ]
  },
  {
   "cell_type": "code",
   "execution_count": 0,
   "metadata": {
    "application/vnd.databricks.v1+cell": {
     "cellMetadata": {
      "byteLimit": 2048000,
      "implicitDf": true,
      "rowLimit": 10000
     },
     "inputWidgets": {},
     "nuid": "5d8418f0-b56c-4813-9c1f-ea703abfa767",
     "showTitle": false,
     "tableResultSettingsMap": {},
     "title": ""
    }
   },
   "outputs": [
    {
     "output_type": "display_data",
     "data": {
      "text/html": [
       "<style scoped>\n",
       "  .table-result-container {\n",
       "    max-height: 300px;\n",
       "    overflow: auto;\n",
       "  }\n",
       "  table, th, td {\n",
       "    border: 1px solid black;\n",
       "    border-collapse: collapse;\n",
       "  }\n",
       "  th, td {\n",
       "    padding: 5px;\n",
       "  }\n",
       "  th {\n",
       "    text-align: left;\n",
       "  }\n",
       "</style><div class='table-result-container'><table class='table-result'><thead style='background-color: white'><tr><th>num_affected_rows</th><th>num_updated_rows</th><th>num_deleted_rows</th><th>num_inserted_rows</th></tr></thead><tbody><tr><td>1000</td><td>0</td><td>0</td><td>1000</td></tr></tbody></table></div>"
      ]
     },
     "metadata": {
      "application/vnd.databricks.v1+output": {
       "addedWidgets": {},
       "aggData": [],
       "aggError": "",
       "aggOverflow": false,
       "aggSchema": [],
       "aggSeriesLimitReached": false,
       "aggType": "",
       "arguments": {},
       "columnCustomDisplayInfos": {},
       "data": [
        [
         1000,
         0,
         0,
         1000
        ]
       ],
       "datasetInfos": [],
       "dbfsResultPath": null,
       "isJsonSchema": true,
       "metadata": {},
       "overflow": false,
       "plotOptions": {
        "customPlotOptions": {},
        "displayType": "table",
        "pivotAggregation": null,
        "pivotColumns": null,
        "xColumns": null,
        "yColumns": null
       },
       "removedWidgets": [],
       "schema": [
        {
         "metadata": "{}",
         "name": "num_affected_rows",
         "type": "\"long\""
        },
        {
         "metadata": "{}",
         "name": "num_updated_rows",
         "type": "\"long\""
        },
        {
         "metadata": "{}",
         "name": "num_deleted_rows",
         "type": "\"long\""
        },
        {
         "metadata": "{}",
         "name": "num_inserted_rows",
         "type": "\"long\""
        }
       ],
       "type": "table"
      }
     },
     "output_type": "display_data"
    }
   ],
   "source": [
    "%sql\n",
    "MERGE INTO silver_products AS target\n",
    "USING silver_incremental_products AS source\n",
    "ON target.product_id = source.product_id\n",
    "WHEN MATCHED THEN\n",
    "  UPDATE SET *\n",
    "WHEN NOT MATCHED THEN\n",
    "  INSERT *"
   ]
  },
  {
   "cell_type": "code",
   "execution_count": 0,
   "metadata": {
    "application/vnd.databricks.v1+cell": {
     "cellMetadata": {
      "byteLimit": 2048000,
      "implicitDf": true,
      "rowLimit": 10000
     },
     "inputWidgets": {},
     "nuid": "91c3d541-414d-4148-8327-8b6022c082ab",
     "showTitle": false,
     "tableResultSettingsMap": {},
     "title": ""
    }
   },
   "outputs": [
    {
     "output_type": "display_data",
     "data": {
      "text/html": [
       "<style scoped>\n",
       "  .table-result-container {\n",
       "    max-height: 300px;\n",
       "    overflow: auto;\n",
       "  }\n",
       "  table, th, td {\n",
       "    border: 1px solid black;\n",
       "    border-collapse: collapse;\n",
       "  }\n",
       "  th, td {\n",
       "    padding: 5px;\n",
       "  }\n",
       "  th {\n",
       "    text-align: left;\n",
       "  }\n",
       "</style><div class='table-result-container'><table class='table-result'><thead style='background-color: white'><tr><th>brand</th><th>category</th><th>is_active</th><th>name</th><th>price</th><th>product_id</th><th>rating</th><th>stock_quantity</th><th>price_category</th><th>stock_status</th><th>last_updated</th></tr></thead><tbody><tr><td>BeautyGlow</td><td>Toys</td><td>true</td><td>Product 1</td><td>995.73</td><td>1</td><td>3.5</td><td>989</td><td>Premium</td><td>Low Stock</td><td>2025-04-29T11:55:39.559+0000</td></tr><tr><td>GardenMaster</td><td>Garden</td><td>true</td><td>Product 2</td><td>497.76</td><td>2</td><td>3.8</td><td>495</td><td>Standard</td><td>Low Stock</td><td>2025-04-29T11:55:39.559+0000</td></tr><tr><td>BeautyGlow</td><td>Electronics</td><td>true</td><td>Product 3</td><td>331.63</td><td>3</td><td>4.6</td><td>10</td><td>Budget</td><td>Sufficient Stock</td><td>2025-04-29T11:55:39.559+0000</td></tr><tr><td>TechPro</td><td>Beauty</td><td>false</td><td>Product 4</td><td>798.83</td><td>4</td><td>4.7</td><td>683</td><td>Premium</td><td>Low Stock</td><td>2025-04-29T11:55:39.559+0000</td></tr><tr><td>HomeSmart</td><td>Automotive</td><td>false</td><td>Product 5</td><td>0.0</td><td>5</td><td>4.4</td><td>719</td><td>Budget</td><td>Low Stock</td><td>2025-04-29T11:55:39.559+0000</td></tr><tr><td>BookWorm</td><td>Electronics</td><td>false</td><td>Product 6</td><td>645.3</td><td>6</td><td>2.2</td><td>823</td><td>Standard</td><td>Low Stock</td><td>2025-04-29T11:55:39.559+0000</td></tr><tr><td>FashionX</td><td>Automotive</td><td>false</td><td>Product 7</td><td>549.08</td><td>7</td><td>1.1</td><td>999</td><td>Standard</td><td>Low Stock</td><td>2025-04-29T11:55:39.559+0000</td></tr><tr><td>TechPro</td><td>Books</td><td>false</td><td>Product 8</td><td>982.36</td><td>8</td><td>2.4</td><td>542</td><td>Premium</td><td>Low Stock</td><td>2025-04-29T11:55:39.559+0000</td></tr><tr><td>FashionX</td><td>Toys</td><td>true</td><td>Product 9</td><td>307.14</td><td>9</td><td>1.0</td><td>671</td><td>Budget</td><td>Low Stock</td><td>2025-04-29T11:55:39.559+0000</td></tr><tr><td>BeautyGlow</td><td>Garden</td><td>false</td><td>Product 10</td><td>871.38</td><td>10</td><td>3.4</td><td>975</td><td>Premium</td><td>Low Stock</td><td>2025-04-29T11:55:39.559+0000</td></tr></tbody></table></div>"
      ]
     },
     "metadata": {
      "application/vnd.databricks.v1+output": {
       "addedWidgets": {},
       "aggData": [],
       "aggError": "",
       "aggOverflow": false,
       "aggSchema": [],
       "aggSeriesLimitReached": false,
       "aggType": "",
       "arguments": {},
       "columnCustomDisplayInfos": {},
       "data": [
        [
         "BeautyGlow",
         "Toys",
         true,
         "Product 1",
         995.73,
         "1",
         3.5,
         989,
         "Premium",
         "Low Stock",
         "2025-04-29T11:55:39.559+0000"
        ],
        [
         "GardenMaster",
         "Garden",
         true,
         "Product 2",
         497.76,
         "2",
         3.8,
         495,
         "Standard",
         "Low Stock",
         "2025-04-29T11:55:39.559+0000"
        ],
        [
         "BeautyGlow",
         "Electronics",
         true,
         "Product 3",
         331.63,
         "3",
         4.6,
         10,
         "Budget",
         "Sufficient Stock",
         "2025-04-29T11:55:39.559+0000"
        ],
        [
         "TechPro",
         "Beauty",
         false,
         "Product 4",
         798.83,
         "4",
         4.7,
         683,
         "Premium",
         "Low Stock",
         "2025-04-29T11:55:39.559+0000"
        ],
        [
         "HomeSmart",
         "Automotive",
         false,
         "Product 5",
         0.0,
         "5",
         4.4,
         719,
         "Budget",
         "Low Stock",
         "2025-04-29T11:55:39.559+0000"
        ],
        [
         "BookWorm",
         "Electronics",
         false,
         "Product 6",
         645.3,
         "6",
         2.2,
         823,
         "Standard",
         "Low Stock",
         "2025-04-29T11:55:39.559+0000"
        ],
        [
         "FashionX",
         "Automotive",
         false,
         "Product 7",
         549.08,
         "7",
         1.1,
         999,
         "Standard",
         "Low Stock",
         "2025-04-29T11:55:39.559+0000"
        ],
        [
         "TechPro",
         "Books",
         false,
         "Product 8",
         982.36,
         "8",
         2.4,
         542,
         "Premium",
         "Low Stock",
         "2025-04-29T11:55:39.559+0000"
        ],
        [
         "FashionX",
         "Toys",
         true,
         "Product 9",
         307.14,
         "9",
         1.0,
         671,
         "Budget",
         "Low Stock",
         "2025-04-29T11:55:39.559+0000"
        ],
        [
         "BeautyGlow",
         "Garden",
         false,
         "Product 10",
         871.38,
         "10",
         3.4,
         975,
         "Premium",
         "Low Stock",
         "2025-04-29T11:55:39.559+0000"
        ]
       ],
       "datasetInfos": [],
       "dbfsResultPath": null,
       "isJsonSchema": true,
       "metadata": {},
       "overflow": false,
       "plotOptions": {
        "customPlotOptions": {},
        "displayType": "table",
        "pivotAggregation": null,
        "pivotColumns": null,
        "xColumns": null,
        "yColumns": null
       },
       "removedWidgets": [],
       "schema": [
        {
         "metadata": "{}",
         "name": "brand",
         "type": "\"string\""
        },
        {
         "metadata": "{}",
         "name": "category",
         "type": "\"string\""
        },
        {
         "metadata": "{}",
         "name": "is_active",
         "type": "\"boolean\""
        },
        {
         "metadata": "{}",
         "name": "name",
         "type": "\"string\""
        },
        {
         "metadata": "{}",
         "name": "price",
         "type": "\"double\""
        },
        {
         "metadata": "{}",
         "name": "product_id",
         "type": "\"string\""
        },
        {
         "metadata": "{}",
         "name": "rating",
         "type": "\"double\""
        },
        {
         "metadata": "{}",
         "name": "stock_quantity",
         "type": "\"integer\""
        },
        {
         "metadata": "{}",
         "name": "price_category",
         "type": "\"string\""
        },
        {
         "metadata": "{}",
         "name": "stock_status",
         "type": "\"string\""
        },
        {
         "metadata": "{}",
         "name": "last_updated",
         "type": "\"timestamp\""
        }
       ],
       "type": "table"
      }
     },
     "output_type": "display_data"
    }
   ],
   "source": [
    "%sql\n",
    "select * from silver_products limit 10"
   ]
  },
  {
   "cell_type": "code",
   "execution_count": 0,
   "metadata": {
    "application/vnd.databricks.v1+cell": {
     "cellMetadata": {
      "byteLimit": 2048000,
      "rowLimit": 10000
     },
     "inputWidgets": {},
     "nuid": "8ee689c9-e035-49d2-b716-f748c6ee660d",
     "showTitle": false,
     "tableResultSettingsMap": {},
     "title": ""
    }
   },
   "outputs": [],
   "source": []
  }
 ],
 "metadata": {
  "application/vnd.databricks.v1+notebook": {
   "computePreferences": null,
   "dashboards": [],
   "environmentMetadata": null,
   "inputWidgetPreferences": null,
   "language": "python",
   "notebookMetadata": {
    "mostRecentlyExecutedCommandWithImplicitDF": {
     "commandId": 4061846891599587,
     "dataframes": [
      "_sqldf"
     ]
    },
    "pythonIndentUnit": 4
   },
   "notebookName": "silver_layer_product_load",
   "widgets": {}
  }
 },
 "nbformat": 4,
 "nbformat_minor": 0
}