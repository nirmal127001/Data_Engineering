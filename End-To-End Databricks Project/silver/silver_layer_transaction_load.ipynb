{
 "cells": [
  {
   "cell_type": "code",
   "execution_count": 0,
   "metadata": {
    "application/vnd.databricks.v1+cell": {
     "cellMetadata": {
      "byteLimit": 2048000,
      "rowLimit": 10000
     },
     "inputWidgets": {},
     "nuid": "b9797e0a-73f1-488d-a11d-610eda595b62",
     "showTitle": false,
     "tableResultSettingsMap": {},
     "title": ""
    }
   },
   "outputs": [
    {
     "output_type": "stream",
     "name": "stdout",
     "output_type": "stream",
     "text": [
      "Out[28]: True"
     ]
    }
   ],
   "source": [
    "dbutils.fs.rm(\"dbfs:/user/hive/warehouse/global_retail_silver.db/silver_orders\", recurse=True)"
   ]
  },
  {
   "cell_type": "code",
   "execution_count": 0,
   "metadata": {
    "application/vnd.databricks.v1+cell": {
     "cellMetadata": {
      "byteLimit": 2048000,
      "implicitDf": true,
      "rowLimit": 10000
     },
     "inputWidgets": {},
     "nuid": "72057199-6694-412f-934d-475b1dc13e9e",
     "showTitle": false,
     "tableResultSettingsMap": {},
     "title": ""
    }
   },
   "outputs": [
    {
     "output_type": "display_data",
     "data": {
      "text/html": [
       "<style scoped>\n",
       "  .table-result-container {\n",
       "    max-height: 300px;\n",
       "    overflow: auto;\n",
       "  }\n",
       "  table, th, td {\n",
       "    border: 1px solid black;\n",
       "    border-collapse: collapse;\n",
       "  }\n",
       "  th, td {\n",
       "    padding: 5px;\n",
       "  }\n",
       "  th {\n",
       "    text-align: left;\n",
       "  }\n",
       "</style><div class='table-result-container'><table class='table-result'><thead style='background-color: white'><tr><th>transaction_id</th><th>customer_id</th><th>product_id</th><th>quantity</th><th>total_amount</th><th>transaction_date</th><th>payment_method</th><th>store_type</th><th>ingestion_timestamp</th></tr></thead><tbody><tr><td>TRX000001</td><td>802</td><td>425</td><td>1</td><td>363.4</td><td>2020-07-27T00:00:00.000+0000</td><td>Debit Card</td><td>Physical Store</td><td>2025-04-29T11:50:29.359+0000</td></tr><tr><td>TRX000002</td><td>858</td><td>280</td><td>6</td><td>758.18</td><td>2022-08-10T00:00:00.000+0000</td><td>Credit Card</td><td>Physical Store</td><td>2025-04-29T11:50:29.359+0000</td></tr><tr><td>TRX000003</td><td>658</td><td>694</td><td>9</td><td>748.66</td><td>2020-05-22T00:00:00.000+0000</td><td>Bank Transfer</td><td>Online</td><td>2025-04-29T11:50:29.359+0000</td></tr><tr><td>TRX000004</td><td>516</td><td>930</td><td>4</td><td>933.78</td><td>null</td><td>Bank Transfer</td><td>Physical Store</td><td>2025-04-29T11:50:29.359+0000</td></tr><tr><td>TRX000005</td><td>368</td><td>104</td><td>10</td><td>137.28</td><td>2022-06-24T00:00:00.000+0000</td><td>PayPal</td><td>Physical Store</td><td>2025-04-29T11:50:29.359+0000</td></tr></tbody></table></div>"
      ]
     },
     "metadata": {
      "application/vnd.databricks.v1+output": {
       "addedWidgets": {},
       "aggData": [],
       "aggError": "",
       "aggOverflow": false,
       "aggSchema": [],
       "aggSeriesLimitReached": false,
       "aggType": "",
       "arguments": {},
       "columnCustomDisplayInfos": {},
       "data": [
        [
         "TRX000001",
         802,
         425,
         1,
         363.4,
         "2020-07-27T00:00:00.000+0000",
         "Debit Card",
         "Physical Store",
         "2025-04-29T11:50:29.359+0000"
        ],
        [
         "TRX000002",
         858,
         280,
         6,
         758.18,
         "2022-08-10T00:00:00.000+0000",
         "Credit Card",
         "Physical Store",
         "2025-04-29T11:50:29.359+0000"
        ],
        [
         "TRX000003",
         658,
         694,
         9,
         748.66,
         "2020-05-22T00:00:00.000+0000",
         "Bank Transfer",
         "Online",
         "2025-04-29T11:50:29.359+0000"
        ],
        [
         "TRX000004",
         516,
         930,
         4,
         933.78,
         null,
         "Bank Transfer",
         "Physical Store",
         "2025-04-29T11:50:29.359+0000"
        ],
        [
         "TRX000005",
         368,
         104,
         10,
         137.28,
         "2022-06-24T00:00:00.000+0000",
         "PayPal",
         "Physical Store",
         "2025-04-29T11:50:29.359+0000"
        ]
       ],
       "datasetInfos": [],
       "dbfsResultPath": null,
       "isJsonSchema": true,
       "metadata": {},
       "overflow": false,
       "plotOptions": {
        "customPlotOptions": {},
        "displayType": "table",
        "pivotAggregation": null,
        "pivotColumns": null,
        "xColumns": null,
        "yColumns": null
       },
       "removedWidgets": [],
       "schema": [
        {
         "metadata": "{}",
         "name": "transaction_id",
         "type": "\"string\""
        },
        {
         "metadata": "{}",
         "name": "customer_id",
         "type": "\"integer\""
        },
        {
         "metadata": "{}",
         "name": "product_id",
         "type": "\"integer\""
        },
        {
         "metadata": "{}",
         "name": "quantity",
         "type": "\"integer\""
        },
        {
         "metadata": "{}",
         "name": "total_amount",
         "type": "\"double\""
        },
        {
         "metadata": "{}",
         "name": "transaction_date",
         "type": "\"timestamp\""
        },
        {
         "metadata": "{}",
         "name": "payment_method",
         "type": "\"string\""
        },
        {
         "metadata": "{}",
         "name": "store_type",
         "type": "\"string\""
        },
        {
         "metadata": "{}",
         "name": "ingestion_timestamp",
         "type": "\"timestamp\""
        }
       ],
       "type": "table"
      }
     },
     "output_type": "display_data"
    }
   ],
   "source": [
    "%sql\n",
    "select * FROM global_retail_bronze.bronze_transactions limit 5"
   ]
  },
  {
   "cell_type": "code",
   "execution_count": 0,
   "metadata": {
    "application/vnd.databricks.v1+cell": {
     "cellMetadata": {
      "byteLimit": 2048000,
      "implicitDf": true,
      "rowLimit": 10000
     },
     "inputWidgets": {},
     "nuid": "a395fe97-eb18-45de-9443-4be38bcf4167",
     "showTitle": false,
     "tableResultSettingsMap": {},
     "title": ""
    }
   },
   "outputs": [
    {
     "output_type": "display_data",
     "data": {
      "text/html": [
       "<style scoped>\n",
       "  .table-result-container {\n",
       "    max-height: 300px;\n",
       "    overflow: auto;\n",
       "  }\n",
       "  table, th, td {\n",
       "    border: 1px solid black;\n",
       "    border-collapse: collapse;\n",
       "  }\n",
       "  th, td {\n",
       "    padding: 5px;\n",
       "  }\n",
       "  th {\n",
       "    text-align: left;\n",
       "  }\n",
       "</style><div class='table-result-container'><table class='table-result'><thead style='background-color: white'><tr></tr></thead><tbody></tbody></table></div>"
      ]
     },
     "metadata": {
      "application/vnd.databricks.v1+output": {
       "addedWidgets": {},
       "aggData": [],
       "aggError": "",
       "aggOverflow": false,
       "aggSchema": [],
       "aggSeriesLimitReached": false,
       "aggType": "",
       "arguments": {},
       "columnCustomDisplayInfos": {},
       "data": [],
       "datasetInfos": [],
       "dbfsResultPath": null,
       "isJsonSchema": true,
       "metadata": {},
       "overflow": false,
       "plotOptions": {
        "customPlotOptions": {},
        "displayType": "table",
        "pivotAggregation": null,
        "pivotColumns": null,
        "xColumns": null,
        "yColumns": null
       },
       "removedWidgets": [],
       "schema": [],
       "type": "table"
      }
     },
     "output_type": "display_data"
    }
   ],
   "source": [
    "%sql\n",
    "\n",
    "USE global_retail_silver;\n",
    "CREATE TABLE IF NOT EXISTS silver_orders (\n",
    "  transaction_id STRING,\n",
    "  customer_id STRING,\n",
    "  product_id STRING,\n",
    "  quantity INT,\n",
    "  total_amount DOUBLE,\n",
    "  transaction_date DATE,\n",
    "  payment_method STRING,\n",
    "  store_type STRING,\n",
    "  order_status STRING,\n",
    "  last_updated TIMESTAMP\n",
    ") USING DELTA;"
   ]
  },
  {
   "cell_type": "code",
   "execution_count": 0,
   "metadata": {
    "application/vnd.databricks.v1+cell": {
     "cellMetadata": {
      "byteLimit": 2048000,
      "implicitDf": true,
      "rowLimit": 10000
     },
     "inputWidgets": {},
     "nuid": "741186f3-b846-4744-8afa-cd2954ebe2e4",
     "showTitle": false,
     "tableResultSettingsMap": {},
     "title": ""
    }
   },
   "outputs": [
    {
     "output_type": "display_data",
     "data": {
      "text/html": [
       "<style scoped>\n",
       "  .table-result-container {\n",
       "    max-height: 300px;\n",
       "    overflow: auto;\n",
       "  }\n",
       "  table, th, td {\n",
       "    border: 1px solid black;\n",
       "    border-collapse: collapse;\n",
       "  }\n",
       "  th, td {\n",
       "    padding: 5px;\n",
       "  }\n",
       "  th {\n",
       "    text-align: left;\n",
       "  }\n",
       "</style><div class='table-result-container'><table class='table-result'><thead style='background-color: white'><tr><th>database</th><th>tableName</th><th>isTemporary</th></tr></thead><tbody><tr><td>global_retail_silver</td><td>silver_customers</td><td>false</td></tr><tr><td>global_retail_silver</td><td>silver_orders</td><td>false</td></tr><tr><td>global_retail_silver</td><td>silver_products</td><td>false</td></tr><tr><td></td><td>bronze_incremental_orders</td><td>true</td></tr><tr><td></td><td>silver_incremental_orders</td><td>true</td></tr></tbody></table></div>"
      ]
     },
     "metadata": {
      "application/vnd.databricks.v1+output": {
       "addedWidgets": {},
       "aggData": [],
       "aggError": "",
       "aggOverflow": false,
       "aggSchema": [],
       "aggSeriesLimitReached": false,
       "aggType": "",
       "arguments": {},
       "columnCustomDisplayInfos": {},
       "data": [
        [
         "global_retail_silver",
         "silver_customers",
         false
        ],
        [
         "global_retail_silver",
         "silver_orders",
         false
        ],
        [
         "global_retail_silver",
         "silver_products",
         false
        ],
        [
         "",
         "bronze_incremental_orders",
         true
        ],
        [
         "",
         "silver_incremental_orders",
         true
        ]
       ],
       "datasetInfos": [],
       "dbfsResultPath": null,
       "isJsonSchema": true,
       "metadata": {},
       "overflow": false,
       "plotOptions": {
        "customPlotOptions": {},
        "displayType": "table",
        "pivotAggregation": null,
        "pivotColumns": null,
        "xColumns": null,
        "yColumns": null
       },
       "removedWidgets": [],
       "schema": [
        {
         "metadata": "{}",
         "name": "database",
         "type": "\"string\""
        },
        {
         "metadata": "{}",
         "name": "tableName",
         "type": "\"string\""
        },
        {
         "metadata": "{}",
         "name": "isTemporary",
         "type": "\"boolean\""
        }
       ],
       "type": "table"
      }
     },
     "output_type": "display_data"
    }
   ],
   "source": [
    "%sql\n",
    "show tables"
   ]
  },
  {
   "cell_type": "code",
   "execution_count": 0,
   "metadata": {
    "application/vnd.databricks.v1+cell": {
     "cellMetadata": {
      "byteLimit": 2048000,
      "rowLimit": 10000
     },
     "inputWidgets": {},
     "nuid": "246721c7-8971-478e-bdc2-edbef180fd3b",
     "showTitle": false,
     "tableResultSettingsMap": {},
     "title": ""
    }
   },
   "outputs": [],
   "source": [
    "# Get the last processed timestamp from silver layer\n",
    "last_processed_df = spark.sql(\"SELECT MAX(last_updated) as last_processed FROM silver_orders\")\n",
    "last_processed_timestamp = last_processed_df.collect()[0]['last_processed']\n",
    "\n",
    "if last_processed_timestamp is None:\n",
    "    last_processed_timestamp = \"1900-01-01T00:00:00.000+00:00\""
   ]
  },
  {
   "cell_type": "code",
   "execution_count": 0,
   "metadata": {
    "application/vnd.databricks.v1+cell": {
     "cellMetadata": {
      "byteLimit": 2048000,
      "rowLimit": 10000
     },
     "inputWidgets": {},
     "nuid": "1c9a1e66-a593-488c-b99f-44e2dfc0669c",
     "showTitle": false,
     "tableResultSettingsMap": {},
     "title": ""
    }
   },
   "outputs": [
    {
     "output_type": "stream",
     "name": "stdout",
     "output_type": "stream",
     "text": [
      "Out[38]: DataFrame[]"
     ]
    }
   ],
   "source": [
    "# Create a temporary view of incremental bronze data\n",
    "spark.sql(f\"\"\"\n",
    "CREATE OR REPLACE TEMPORARY VIEW bronze_incremental_orders AS\n",
    "SELECT *\n",
    "FROM global_retail_bronze.bronze_transactions p where  p.ingestion_timestamp > '{last_processed_timestamp}'\n",
    "\"\"\")"
   ]
  },
  {
   "cell_type": "code",
   "execution_count": 0,
   "metadata": {
    "application/vnd.databricks.v1+cell": {
     "cellMetadata": {
      "byteLimit": 2048000,
      "implicitDf": true,
      "rowLimit": 10000
     },
     "inputWidgets": {},
     "nuid": "0bb40d22-0a79-424f-8d5f-74ff9bb054c4",
     "showTitle": false,
     "tableResultSettingsMap": {},
     "title": ""
    }
   },
   "outputs": [
    {
     "output_type": "display_data",
     "data": {
      "text/html": [
       "<style scoped>\n",
       "  .table-result-container {\n",
       "    max-height: 300px;\n",
       "    overflow: auto;\n",
       "  }\n",
       "  table, th, td {\n",
       "    border: 1px solid black;\n",
       "    border-collapse: collapse;\n",
       "  }\n",
       "  th, td {\n",
       "    padding: 5px;\n",
       "  }\n",
       "  th {\n",
       "    text-align: left;\n",
       "  }\n",
       "</style><div class='table-result-container'><table class='table-result'><thead style='background-color: white'><tr><th>transaction_id</th><th>customer_id</th><th>product_id</th><th>quantity</th><th>total_amount</th><th>transaction_date</th><th>payment_method</th><th>store_type</th><th>ingestion_timestamp</th></tr></thead><tbody><tr><td>TRX000001</td><td>802</td><td>425</td><td>1</td><td>363.4</td><td>2020-07-27T00:00:00.000+0000</td><td>Debit Card</td><td>Physical Store</td><td>2025-04-29T11:50:29.359+0000</td></tr><tr><td>TRX000002</td><td>858</td><td>280</td><td>6</td><td>758.18</td><td>2022-08-10T00:00:00.000+0000</td><td>Credit Card</td><td>Physical Store</td><td>2025-04-29T11:50:29.359+0000</td></tr><tr><td>TRX000003</td><td>658</td><td>694</td><td>9</td><td>748.66</td><td>2020-05-22T00:00:00.000+0000</td><td>Bank Transfer</td><td>Online</td><td>2025-04-29T11:50:29.359+0000</td></tr><tr><td>TRX000004</td><td>516</td><td>930</td><td>4</td><td>933.78</td><td>null</td><td>Bank Transfer</td><td>Physical Store</td><td>2025-04-29T11:50:29.359+0000</td></tr><tr><td>TRX000005</td><td>368</td><td>104</td><td>10</td><td>137.28</td><td>2022-06-24T00:00:00.000+0000</td><td>PayPal</td><td>Physical Store</td><td>2025-04-29T11:50:29.359+0000</td></tr><tr><td>TRX000006</td><td>606</td><td>409</td><td>6</td><td>556.88</td><td>2020-10-14T00:00:00.000+0000</td><td>Credit Card</td><td>Online</td><td>2025-04-29T11:50:29.359+0000</td></tr><tr><td>TRX000007</td><td>535</td><td>487</td><td>7</td><td>246.29</td><td>2023-08-19T00:00:00.000+0000</td><td>Credit Card</td><td>Physical Store</td><td>2025-04-29T11:50:29.359+0000</td></tr><tr><td>TRX000008</td><td>87</td><td>630</td><td>8</td><td>-416.82</td><td>2020-04-18T00:00:00.000+0000</td><td>Credit Card</td><td>Physical Store</td><td>2025-04-29T11:50:29.359+0000</td></tr><tr><td>TRX000009</td><td>383</td><td>617</td><td>10</td><td>405.05</td><td>2021-02-13T00:00:00.000+0000</td><td>Cash</td><td>Physical Store</td><td>2025-04-29T11:50:29.359+0000</td></tr><tr><td>TRX000010</td><td>725</td><td>938</td><td>1</td><td>410.03</td><td>2020-03-18T00:00:00.000+0000</td><td>PayPal</td><td>Online</td><td>2025-04-29T11:50:29.359+0000</td></tr></tbody></table></div>"
      ]
     },
     "metadata": {
      "application/vnd.databricks.v1+output": {
       "addedWidgets": {},
       "aggData": [],
       "aggError": "",
       "aggOverflow": false,
       "aggSchema": [],
       "aggSeriesLimitReached": false,
       "aggType": "",
       "arguments": {},
       "columnCustomDisplayInfos": {},
       "data": [
        [
         "TRX000001",
         802,
         425,
         1,
         363.4,
         "2020-07-27T00:00:00.000+0000",
         "Debit Card",
         "Physical Store",
         "2025-04-29T11:50:29.359+0000"
        ],
        [
         "TRX000002",
         858,
         280,
         6,
         758.18,
         "2022-08-10T00:00:00.000+0000",
         "Credit Card",
         "Physical Store",
         "2025-04-29T11:50:29.359+0000"
        ],
        [
         "TRX000003",
         658,
         694,
         9,
         748.66,
         "2020-05-22T00:00:00.000+0000",
         "Bank Transfer",
         "Online",
         "2025-04-29T11:50:29.359+0000"
        ],
        [
         "TRX000004",
         516,
         930,
         4,
         933.78,
         null,
         "Bank Transfer",
         "Physical Store",
         "2025-04-29T11:50:29.359+0000"
        ],
        [
         "TRX000005",
         368,
         104,
         10,
         137.28,
         "2022-06-24T00:00:00.000+0000",
         "PayPal",
         "Physical Store",
         "2025-04-29T11:50:29.359+0000"
        ],
        [
         "TRX000006",
         606,
         409,
         6,
         556.88,
         "2020-10-14T00:00:00.000+0000",
         "Credit Card",
         "Online",
         "2025-04-29T11:50:29.359+0000"
        ],
        [
         "TRX000007",
         535,
         487,
         7,
         246.29,
         "2023-08-19T00:00:00.000+0000",
         "Credit Card",
         "Physical Store",
         "2025-04-29T11:50:29.359+0000"
        ],
        [
         "TRX000008",
         87,
         630,
         8,
         -416.82,
         "2020-04-18T00:00:00.000+0000",
         "Credit Card",
         "Physical Store",
         "2025-04-29T11:50:29.359+0000"
        ],
        [
         "TRX000009",
         383,
         617,
         10,
         405.05,
         "2021-02-13T00:00:00.000+0000",
         "Cash",
         "Physical Store",
         "2025-04-29T11:50:29.359+0000"
        ],
        [
         "TRX000010",
         725,
         938,
         1,
         410.03,
         "2020-03-18T00:00:00.000+0000",
         "PayPal",
         "Online",
         "2025-04-29T11:50:29.359+0000"
        ]
       ],
       "datasetInfos": [],
       "dbfsResultPath": null,
       "isJsonSchema": true,
       "metadata": {},
       "overflow": false,
       "plotOptions": {
        "customPlotOptions": {},
        "displayType": "table",
        "pivotAggregation": null,
        "pivotColumns": null,
        "xColumns": null,
        "yColumns": null
       },
       "removedWidgets": [],
       "schema": [
        {
         "metadata": "{}",
         "name": "transaction_id",
         "type": "\"string\""
        },
        {
         "metadata": "{}",
         "name": "customer_id",
         "type": "\"integer\""
        },
        {
         "metadata": "{}",
         "name": "product_id",
         "type": "\"integer\""
        },
        {
         "metadata": "{}",
         "name": "quantity",
         "type": "\"integer\""
        },
        {
         "metadata": "{}",
         "name": "total_amount",
         "type": "\"double\""
        },
        {
         "metadata": "{}",
         "name": "transaction_date",
         "type": "\"timestamp\""
        },
        {
         "metadata": "{}",
         "name": "payment_method",
         "type": "\"string\""
        },
        {
         "metadata": "{}",
         "name": "store_type",
         "type": "\"string\""
        },
        {
         "metadata": "{}",
         "name": "ingestion_timestamp",
         "type": "\"timestamp\""
        }
       ],
       "type": "table"
      }
     },
     "output_type": "display_data"
    }
   ],
   "source": [
    "%sql\n",
    "select * from bronze_incremental_orders limit 10"
   ]
  },
  {
   "cell_type": "code",
   "execution_count": 0,
   "metadata": {
    "application/vnd.databricks.v1+cell": {
     "cellMetadata": {
      "byteLimit": 2048000,
      "implicitDf": true,
      "rowLimit": 10000
     },
     "inputWidgets": {},
     "nuid": "380f0f4c-317f-4f88-b272-a91665bff5cf",
     "showTitle": false,
     "tableResultSettingsMap": {},
     "title": ""
    }
   },
   "outputs": [
    {
     "output_type": "display_data",
     "data": {
      "text/html": [
       "<style scoped>\n",
       "  .table-result-container {\n",
       "    max-height: 300px;\n",
       "    overflow: auto;\n",
       "  }\n",
       "  table, th, td {\n",
       "    border: 1px solid black;\n",
       "    border-collapse: collapse;\n",
       "  }\n",
       "  th, td {\n",
       "    padding: 5px;\n",
       "  }\n",
       "  th {\n",
       "    text-align: left;\n",
       "  }\n",
       "</style><div class='table-result-container'><table class='table-result'><thead style='background-color: white'><tr><th>min(QUANTITY)</th><th>avg(QUANTITY)</th><th>max(QUANTITY)</th></tr></thead><tbody><tr><td>1</td><td>5.4578</td><td>10</td></tr></tbody></table></div>"
      ]
     },
     "metadata": {
      "application/vnd.databricks.v1+output": {
       "addedWidgets": {},
       "aggData": [],
       "aggError": "",
       "aggOverflow": false,
       "aggSchema": [],
       "aggSeriesLimitReached": false,
       "aggType": "",
       "arguments": {},
       "columnCustomDisplayInfos": {},
       "data": [
        [
         1,
         5.4578,
         10
        ]
       ],
       "datasetInfos": [],
       "dbfsResultPath": null,
       "isJsonSchema": true,
       "metadata": {},
       "overflow": false,
       "plotOptions": {
        "customPlotOptions": {},
        "displayType": "table",
        "pivotAggregation": null,
        "pivotColumns": null,
        "xColumns": null,
        "yColumns": null
       },
       "removedWidgets": [],
       "schema": [
        {
         "metadata": "{\"__autoGeneratedAlias\":\"true\"}",
         "name": "min(QUANTITY)",
         "type": "\"integer\""
        },
        {
         "metadata": "{\"__autoGeneratedAlias\":\"true\"}",
         "name": "avg(QUANTITY)",
         "type": "\"double\""
        },
        {
         "metadata": "{\"__autoGeneratedAlias\":\"true\"}",
         "name": "max(QUANTITY)",
         "type": "\"integer\""
        }
       ],
       "type": "table"
      }
     },
     "output_type": "display_data"
    }
   ],
   "source": [
    "%sql\n",
    "SELECT MIN(QUANTITY),AVG(QUANTITY),MAX(QUANTITY) FROM bronze_incremental_orders"
   ]
  },
  {
   "cell_type": "markdown",
   "metadata": {
    "application/vnd.databricks.v1+cell": {
     "cellMetadata": {
      "byteLimit": 2048000,
      "rowLimit": 10000
     },
     "inputWidgets": {},
     "nuid": "55681104-af87-4097-9666-c233c0ab8d2a",
     "showTitle": false,
     "tableResultSettingsMap": {},
     "title": ""
    }
   },
   "source": [
    "### Transformations\n",
    "- Quantity and total_amount normalization (setting negatives to zero)\n",
    "- Date casting to endsure consistent date format\n",
    "- Order status derivation based on quantity and total_amount\n",
    "- filter out records with null transaction date, customer_id, or product_id"
   ]
  },
  {
   "cell_type": "code",
   "execution_count": 0,
   "metadata": {
    "application/vnd.databricks.v1+cell": {
     "cellMetadata": {
      "byteLimit": 2048000,
      "implicitDf": true,
      "rowLimit": 10000
     },
     "inputWidgets": {},
     "nuid": "dc415028-d3d1-4bd9-96e5-ae94d0194b2d",
     "showTitle": false,
     "tableResultSettingsMap": {},
     "title": ""
    }
   },
   "outputs": [
    {
     "output_type": "display_data",
     "data": {
      "text/html": [
       "<style scoped>\n",
       "  .table-result-container {\n",
       "    max-height: 300px;\n",
       "    overflow: auto;\n",
       "  }\n",
       "  table, th, td {\n",
       "    border: 1px solid black;\n",
       "    border-collapse: collapse;\n",
       "  }\n",
       "  th, td {\n",
       "    padding: 5px;\n",
       "  }\n",
       "  th {\n",
       "    text-align: left;\n",
       "  }\n",
       "</style><div class='table-result-container'><table class='table-result'><thead style='background-color: white'><tr></tr></thead><tbody></tbody></table></div>"
      ]
     },
     "metadata": {
      "application/vnd.databricks.v1+output": {
       "addedWidgets": {},
       "aggData": [],
       "aggError": "",
       "aggOverflow": false,
       "aggSchema": [],
       "aggSeriesLimitReached": false,
       "aggType": "",
       "arguments": {},
       "columnCustomDisplayInfos": {},
       "data": [],
       "datasetInfos": [],
       "dbfsResultPath": null,
       "isJsonSchema": true,
       "metadata": {},
       "overflow": false,
       "plotOptions": {
        "customPlotOptions": {},
        "displayType": "table",
        "pivotAggregation": null,
        "pivotColumns": null,
        "xColumns": null,
        "yColumns": null
       },
       "removedWidgets": [],
       "schema": [],
       "type": "table"
      }
     },
     "output_type": "display_data"
    }
   ],
   "source": [
    "%sql\n",
    "CREATE OR REPLACE TEMPORARY VIEW silver_incremental_orders AS(\n",
    "SELECT\n",
    "  transaction_id,\n",
    "  customer_id,\n",
    "  product_id,\n",
    "  CASE\n",
    "    WHEN quantity < 0 THEN 0\n",
    "    ELSE quantity\n",
    "  END AS quantity,\n",
    "  CASE\n",
    "    WHEN total_amount < 0 THEN 0\n",
    "    ELSE total_amount\n",
    "  END AS total_amount,\n",
    "  CAST(transaction_date AS DATE) AS transaction_date,\n",
    "  payment_method,\n",
    "  store_type,\n",
    "  CASE\n",
    "    WHEN (quantity = 0 OR total_amount = 0) THEN 'Cancelled'\n",
    "    ELSE 'Completed'\n",
    "  END AS order_status,\n",
    "  CURRENT_TIMESTAMP() AS last_updated \n",
    "FROM bronze_incremental_orders\n",
    "WHERE product_id IS NOT NULL AND\n",
    "      customer_id IS NOT NULL AND\n",
    "      transaction_date IS NOT NULL\n",
    ")"
   ]
  },
  {
   "cell_type": "code",
   "execution_count": 0,
   "metadata": {
    "application/vnd.databricks.v1+cell": {
     "cellMetadata": {
      "byteLimit": 2048000,
      "implicitDf": true,
      "rowLimit": 10000
     },
     "inputWidgets": {},
     "nuid": "a5eab4f8-3c2a-4492-b4e4-36a776066011",
     "showTitle": false,
     "tableResultSettingsMap": {},
     "title": ""
    }
   },
   "outputs": [
    {
     "output_type": "display_data",
     "data": {
      "text/html": [
       "<style scoped>\n",
       "  .table-result-container {\n",
       "    max-height: 300px;\n",
       "    overflow: auto;\n",
       "  }\n",
       "  table, th, td {\n",
       "    border: 1px solid black;\n",
       "    border-collapse: collapse;\n",
       "  }\n",
       "  th, td {\n",
       "    padding: 5px;\n",
       "  }\n",
       "  th {\n",
       "    text-align: left;\n",
       "  }\n",
       "</style><div class='table-result-container'><table class='table-result'><thead style='background-color: white'><tr><th>transaction_id</th><th>customer_id</th><th>product_id</th><th>quantity</th><th>total_amount</th><th>transaction_date</th><th>payment_method</th><th>store_type</th><th>order_status</th><th>last_updated</th></tr></thead><tbody><tr><td>TRX000001</td><td>802</td><td>425</td><td>1</td><td>363.4</td><td>2020-07-27</td><td>Debit Card</td><td>Physical Store</td><td>Completed</td><td>2025-04-29T13:56:30.297+0000</td></tr><tr><td>TRX000002</td><td>858</td><td>280</td><td>6</td><td>758.18</td><td>2022-08-10</td><td>Credit Card</td><td>Physical Store</td><td>Completed</td><td>2025-04-29T13:56:30.297+0000</td></tr><tr><td>TRX000003</td><td>658</td><td>694</td><td>9</td><td>748.66</td><td>2020-05-22</td><td>Bank Transfer</td><td>Online</td><td>Completed</td><td>2025-04-29T13:56:30.297+0000</td></tr><tr><td>TRX000005</td><td>368</td><td>104</td><td>10</td><td>137.28</td><td>2022-06-24</td><td>PayPal</td><td>Physical Store</td><td>Completed</td><td>2025-04-29T13:56:30.297+0000</td></tr><tr><td>TRX000006</td><td>606</td><td>409</td><td>6</td><td>556.88</td><td>2020-10-14</td><td>Credit Card</td><td>Online</td><td>Completed</td><td>2025-04-29T13:56:30.297+0000</td></tr><tr><td>TRX000007</td><td>535</td><td>487</td><td>7</td><td>246.29</td><td>2023-08-19</td><td>Credit Card</td><td>Physical Store</td><td>Completed</td><td>2025-04-29T13:56:30.297+0000</td></tr><tr><td>TRX000008</td><td>87</td><td>630</td><td>8</td><td>0.0</td><td>2020-04-18</td><td>Credit Card</td><td>Physical Store</td><td>Completed</td><td>2025-04-29T13:56:30.297+0000</td></tr><tr><td>TRX000009</td><td>383</td><td>617</td><td>10</td><td>405.05</td><td>2021-02-13</td><td>Cash</td><td>Physical Store</td><td>Completed</td><td>2025-04-29T13:56:30.297+0000</td></tr><tr><td>TRX000010</td><td>725</td><td>938</td><td>1</td><td>410.03</td><td>2020-03-18</td><td>PayPal</td><td>Online</td><td>Completed</td><td>2025-04-29T13:56:30.297+0000</td></tr><tr><td>TRX000011</td><td>687</td><td>457</td><td>8</td><td>269.88</td><td>2020-06-27</td><td>Credit Card</td><td>Physical Store</td><td>Completed</td><td>2025-04-29T13:56:30.297+0000</td></tr></tbody></table></div>"
      ]
     },
     "metadata": {
      "application/vnd.databricks.v1+output": {
       "addedWidgets": {},
       "aggData": [],
       "aggError": "",
       "aggOverflow": false,
       "aggSchema": [],
       "aggSeriesLimitReached": false,
       "aggType": "",
       "arguments": {},
       "columnCustomDisplayInfos": {},
       "data": [
        [
         "TRX000001",
         802,
         425,
         1,
         363.4,
         "2020-07-27",
         "Debit Card",
         "Physical Store",
         "Completed",
         "2025-04-29T13:56:30.297+0000"
        ],
        [
         "TRX000002",
         858,
         280,
         6,
         758.18,
         "2022-08-10",
         "Credit Card",
         "Physical Store",
         "Completed",
         "2025-04-29T13:56:30.297+0000"
        ],
        [
         "TRX000003",
         658,
         694,
         9,
         748.66,
         "2020-05-22",
         "Bank Transfer",
         "Online",
         "Completed",
         "2025-04-29T13:56:30.297+0000"
        ],
        [
         "TRX000005",
         368,
         104,
         10,
         137.28,
         "2022-06-24",
         "PayPal",
         "Physical Store",
         "Completed",
         "2025-04-29T13:56:30.297+0000"
        ],
        [
         "TRX000006",
         606,
         409,
         6,
         556.88,
         "2020-10-14",
         "Credit Card",
         "Online",
         "Completed",
         "2025-04-29T13:56:30.297+0000"
        ],
        [
         "TRX000007",
         535,
         487,
         7,
         246.29,
         "2023-08-19",
         "Credit Card",
         "Physical Store",
         "Completed",
         "2025-04-29T13:56:30.297+0000"
        ],
        [
         "TRX000008",
         87,
         630,
         8,
         0.0,
         "2020-04-18",
         "Credit Card",
         "Physical Store",
         "Completed",
         "2025-04-29T13:56:30.297+0000"
        ],
        [
         "TRX000009",
         383,
         617,
         10,
         405.05,
         "2021-02-13",
         "Cash",
         "Physical Store",
         "Completed",
         "2025-04-29T13:56:30.297+0000"
        ],
        [
         "TRX000010",
         725,
         938,
         1,
         410.03,
         "2020-03-18",
         "PayPal",
         "Online",
         "Completed",
         "2025-04-29T13:56:30.297+0000"
        ],
        [
         "TRX000011",
         687,
         457,
         8,
         269.88,
         "2020-06-27",
         "Credit Card",
         "Physical Store",
         "Completed",
         "2025-04-29T13:56:30.297+0000"
        ]
       ],
       "datasetInfos": [],
       "dbfsResultPath": null,
       "isJsonSchema": true,
       "metadata": {},
       "overflow": false,
       "plotOptions": {
        "customPlotOptions": {},
        "displayType": "table",
        "pivotAggregation": null,
        "pivotColumns": null,
        "xColumns": null,
        "yColumns": null
       },
       "removedWidgets": [],
       "schema": [
        {
         "metadata": "{}",
         "name": "transaction_id",
         "type": "\"string\""
        },
        {
         "metadata": "{}",
         "name": "customer_id",
         "type": "\"integer\""
        },
        {
         "metadata": "{}",
         "name": "product_id",
         "type": "\"integer\""
        },
        {
         "metadata": "{}",
         "name": "quantity",
         "type": "\"integer\""
        },
        {
         "metadata": "{}",
         "name": "total_amount",
         "type": "\"double\""
        },
        {
         "metadata": "{}",
         "name": "transaction_date",
         "type": "\"date\""
        },
        {
         "metadata": "{}",
         "name": "payment_method",
         "type": "\"string\""
        },
        {
         "metadata": "{}",
         "name": "store_type",
         "type": "\"string\""
        },
        {
         "metadata": "{}",
         "name": "order_status",
         "type": "\"string\""
        },
        {
         "metadata": "{}",
         "name": "last_updated",
         "type": "\"timestamp\""
        }
       ],
       "type": "table"
      }
     },
     "output_type": "display_data"
    }
   ],
   "source": [
    "%sql\n",
    "SELECT * FROM silver_incremental_orders limit 10"
   ]
  },
  {
   "cell_type": "code",
   "execution_count": 0,
   "metadata": {
    "application/vnd.databricks.v1+cell": {
     "cellMetadata": {
      "byteLimit": 2048000,
      "implicitDf": true,
      "rowLimit": 10000
     },
     "inputWidgets": {},
     "nuid": "e63810e6-1528-424d-8d84-9acd76df17bb",
     "showTitle": false,
     "tableResultSettingsMap": {},
     "title": ""
    }
   },
   "outputs": [
    {
     "output_type": "display_data",
     "data": {
      "text/html": [
       "<style scoped>\n",
       "  .table-result-container {\n",
       "    max-height: 300px;\n",
       "    overflow: auto;\n",
       "  }\n",
       "  table, th, td {\n",
       "    border: 1px solid black;\n",
       "    border-collapse: collapse;\n",
       "  }\n",
       "  th, td {\n",
       "    padding: 5px;\n",
       "  }\n",
       "  th {\n",
       "    text-align: left;\n",
       "  }\n",
       "</style><div class='table-result-container'><table class='table-result'><thead style='background-color: white'><tr><th>transaction_id</th><th>customer_id</th><th>product_id</th><th>quantity</th><th>total_amount</th><th>transaction_date</th><th>payment_method</th><th>store_type</th><th>order_status</th><th>last_updated</th></tr></thead><tbody></tbody></table></div>"
      ]
     },
     "metadata": {
      "application/vnd.databricks.v1+output": {
       "addedWidgets": {},
       "aggData": [],
       "aggError": "",
       "aggOverflow": false,
       "aggSchema": [],
       "aggSeriesLimitReached": false,
       "aggType": "",
       "arguments": {},
       "columnCustomDisplayInfos": {},
       "data": [],
       "datasetInfos": [],
       "dbfsResultPath": null,
       "isJsonSchema": true,
       "metadata": {},
       "overflow": false,
       "plotOptions": {
        "customPlotOptions": {},
        "displayType": "table",
        "pivotAggregation": null,
        "pivotColumns": null,
        "xColumns": null,
        "yColumns": null
       },
       "removedWidgets": [],
       "schema": [
        {
         "metadata": "{}",
         "name": "transaction_id",
         "type": "\"string\""
        },
        {
         "metadata": "{}",
         "name": "customer_id",
         "type": "\"integer\""
        },
        {
         "metadata": "{}",
         "name": "product_id",
         "type": "\"integer\""
        },
        {
         "metadata": "{}",
         "name": "quantity",
         "type": "\"integer\""
        },
        {
         "metadata": "{}",
         "name": "total_amount",
         "type": "\"double\""
        },
        {
         "metadata": "{}",
         "name": "transaction_date",
         "type": "\"date\""
        },
        {
         "metadata": "{}",
         "name": "payment_method",
         "type": "\"string\""
        },
        {
         "metadata": "{}",
         "name": "store_type",
         "type": "\"string\""
        },
        {
         "metadata": "{}",
         "name": "order_status",
         "type": "\"string\""
        },
        {
         "metadata": "{}",
         "name": "last_updated",
         "type": "\"timestamp\""
        }
       ],
       "type": "table"
      }
     },
     "output_type": "display_data"
    }
   ],
   "source": [
    "%sql\n",
    "select * from silver_incremental_orders where order_status = 'Cancelled'"
   ]
  },
  {
   "cell_type": "code",
   "execution_count": 0,
   "metadata": {
    "application/vnd.databricks.v1+cell": {
     "cellMetadata": {
      "byteLimit": 2048000,
      "implicitDf": true,
      "rowLimit": 10000
     },
     "inputWidgets": {},
     "nuid": "5d8418f0-b56c-4813-9c1f-ea703abfa767",
     "showTitle": false,
     "tableResultSettingsMap": {},
     "title": ""
    }
   },
   "outputs": [
    {
     "output_type": "display_data",
     "data": {
      "text/html": [
       "<style scoped>\n",
       "  .table-result-container {\n",
       "    max-height: 300px;\n",
       "    overflow: auto;\n",
       "  }\n",
       "  table, th, td {\n",
       "    border: 1px solid black;\n",
       "    border-collapse: collapse;\n",
       "  }\n",
       "  th, td {\n",
       "    padding: 5px;\n",
       "  }\n",
       "  th {\n",
       "    text-align: left;\n",
       "  }\n",
       "</style><div class='table-result-container'><table class='table-result'><thead style='background-color: white'><tr><th>num_affected_rows</th><th>num_updated_rows</th><th>num_deleted_rows</th><th>num_inserted_rows</th></tr></thead><tbody><tr><td>9714</td><td>0</td><td>0</td><td>9714</td></tr></tbody></table></div>"
      ]
     },
     "metadata": {
      "application/vnd.databricks.v1+output": {
       "addedWidgets": {},
       "aggData": [],
       "aggError": "",
       "aggOverflow": false,
       "aggSchema": [],
       "aggSeriesLimitReached": false,
       "aggType": "",
       "arguments": {},
       "columnCustomDisplayInfos": {},
       "data": [
        [
         9714,
         0,
         0,
         9714
        ]
       ],
       "datasetInfos": [],
       "dbfsResultPath": null,
       "isJsonSchema": true,
       "metadata": {},
       "overflow": false,
       "plotOptions": {
        "customPlotOptions": {},
        "displayType": "table",
        "pivotAggregation": null,
        "pivotColumns": null,
        "xColumns": null,
        "yColumns": null
       },
       "removedWidgets": [],
       "schema": [
        {
         "metadata": "{}",
         "name": "num_affected_rows",
         "type": "\"long\""
        },
        {
         "metadata": "{}",
         "name": "num_updated_rows",
         "type": "\"long\""
        },
        {
         "metadata": "{}",
         "name": "num_deleted_rows",
         "type": "\"long\""
        },
        {
         "metadata": "{}",
         "name": "num_inserted_rows",
         "type": "\"long\""
        }
       ],
       "type": "table"
      }
     },
     "output_type": "display_data"
    }
   ],
   "source": [
    "%sql\n",
    "MERGE INTO silver_orders AS target\n",
    "USING silver_incremental_orders AS source\n",
    "ON target.transaction_id = source.transaction_id\n",
    "WHEN MATCHED THEN\n",
    "  UPDATE SET *\n",
    "WHEN NOT MATCHED THEN\n",
    "  INSERT *"
   ]
  },
  {
   "cell_type": "code",
   "execution_count": 0,
   "metadata": {
    "application/vnd.databricks.v1+cell": {
     "cellMetadata": {
      "byteLimit": 2048000,
      "implicitDf": true,
      "rowLimit": 10000
     },
     "inputWidgets": {},
     "nuid": "91c3d541-414d-4148-8327-8b6022c082ab",
     "showTitle": false,
     "tableResultSettingsMap": {},
     "title": ""
    }
   },
   "outputs": [
    {
     "output_type": "display_data",
     "data": {
      "text/html": [
       "<style scoped>\n",
       "  .table-result-container {\n",
       "    max-height: 300px;\n",
       "    overflow: auto;\n",
       "  }\n",
       "  table, th, td {\n",
       "    border: 1px solid black;\n",
       "    border-collapse: collapse;\n",
       "  }\n",
       "  th, td {\n",
       "    padding: 5px;\n",
       "  }\n",
       "  th {\n",
       "    text-align: left;\n",
       "  }\n",
       "</style><div class='table-result-container'><table class='table-result'><thead style='background-color: white'><tr><th>transaction_id</th><th>customer_id</th><th>product_id</th><th>quantity</th><th>total_amount</th><th>transaction_date</th><th>payment_method</th><th>store_type</th><th>order_status</th><th>last_updated</th></tr></thead><tbody><tr><td>TRX000001</td><td>802</td><td>425</td><td>1</td><td>363.4</td><td>2020-07-27</td><td>Debit Card</td><td>Physical Store</td><td>Completed</td><td>2025-04-29T12:55:40.294+0000</td></tr><tr><td>TRX000002</td><td>858</td><td>280</td><td>6</td><td>758.18</td><td>2022-08-10</td><td>Credit Card</td><td>Physical Store</td><td>Completed</td><td>2025-04-29T12:55:40.294+0000</td></tr><tr><td>TRX000003</td><td>658</td><td>694</td><td>9</td><td>748.66</td><td>2020-05-22</td><td>Bank Transfer</td><td>Online</td><td>Completed</td><td>2025-04-29T12:55:40.294+0000</td></tr><tr><td>TRX000005</td><td>368</td><td>104</td><td>10</td><td>137.28</td><td>2022-06-24</td><td>PayPal</td><td>Physical Store</td><td>Completed</td><td>2025-04-29T12:55:40.294+0000</td></tr><tr><td>TRX000006</td><td>606</td><td>409</td><td>6</td><td>556.88</td><td>2020-10-14</td><td>Credit Card</td><td>Online</td><td>Completed</td><td>2025-04-29T12:55:40.294+0000</td></tr><tr><td>TRX000007</td><td>535</td><td>487</td><td>7</td><td>246.29</td><td>2023-08-19</td><td>Credit Card</td><td>Physical Store</td><td>Completed</td><td>2025-04-29T12:55:40.294+0000</td></tr><tr><td>TRX000008</td><td>87</td><td>630</td><td>8</td><td>0.0</td><td>2020-04-18</td><td>Credit Card</td><td>Physical Store</td><td>Completed</td><td>2025-04-29T12:55:40.294+0000</td></tr><tr><td>TRX000009</td><td>383</td><td>617</td><td>10</td><td>405.05</td><td>2021-02-13</td><td>Cash</td><td>Physical Store</td><td>Completed</td><td>2025-04-29T12:55:40.294+0000</td></tr><tr><td>TRX000010</td><td>725</td><td>938</td><td>1</td><td>410.03</td><td>2020-03-18</td><td>PayPal</td><td>Online</td><td>Completed</td><td>2025-04-29T12:55:40.294+0000</td></tr><tr><td>TRX000011</td><td>687</td><td>457</td><td>8</td><td>269.88</td><td>2020-06-27</td><td>Credit Card</td><td>Physical Store</td><td>Completed</td><td>2025-04-29T12:55:40.294+0000</td></tr></tbody></table></div>"
      ]
     },
     "metadata": {
      "application/vnd.databricks.v1+output": {
       "addedWidgets": {},
       "aggData": [],
       "aggError": "",
       "aggOverflow": false,
       "aggSchema": [],
       "aggSeriesLimitReached": false,
       "aggType": "",
       "arguments": {},
       "columnCustomDisplayInfos": {},
       "data": [
        [
         "TRX000001",
         "802",
         "425",
         1,
         363.4,
         "2020-07-27",
         "Debit Card",
         "Physical Store",
         "Completed",
         "2025-04-29T12:55:40.294+0000"
        ],
        [
         "TRX000002",
         "858",
         "280",
         6,
         758.18,
         "2022-08-10",
         "Credit Card",
         "Physical Store",
         "Completed",
         "2025-04-29T12:55:40.294+0000"
        ],
        [
         "TRX000003",
         "658",
         "694",
         9,
         748.66,
         "2020-05-22",
         "Bank Transfer",
         "Online",
         "Completed",
         "2025-04-29T12:55:40.294+0000"
        ],
        [
         "TRX000005",
         "368",
         "104",
         10,
         137.28,
         "2022-06-24",
         "PayPal",
         "Physical Store",
         "Completed",
         "2025-04-29T12:55:40.294+0000"
        ],
        [
         "TRX000006",
         "606",
         "409",
         6,
         556.88,
         "2020-10-14",
         "Credit Card",
         "Online",
         "Completed",
         "2025-04-29T12:55:40.294+0000"
        ],
        [
         "TRX000007",
         "535",
         "487",
         7,
         246.29,
         "2023-08-19",
         "Credit Card",
         "Physical Store",
         "Completed",
         "2025-04-29T12:55:40.294+0000"
        ],
        [
         "TRX000008",
         "87",
         "630",
         8,
         0.0,
         "2020-04-18",
         "Credit Card",
         "Physical Store",
         "Completed",
         "2025-04-29T12:55:40.294+0000"
        ],
        [
         "TRX000009",
         "383",
         "617",
         10,
         405.05,
         "2021-02-13",
         "Cash",
         "Physical Store",
         "Completed",
         "2025-04-29T12:55:40.294+0000"
        ],
        [
         "TRX000010",
         "725",
         "938",
         1,
         410.03,
         "2020-03-18",
         "PayPal",
         "Online",
         "Completed",
         "2025-04-29T12:55:40.294+0000"
        ],
        [
         "TRX000011",
         "687",
         "457",
         8,
         269.88,
         "2020-06-27",
         "Credit Card",
         "Physical Store",
         "Completed",
         "2025-04-29T12:55:40.294+0000"
        ]
       ],
       "datasetInfos": [],
       "dbfsResultPath": null,
       "isJsonSchema": true,
       "metadata": {},
       "overflow": false,
       "plotOptions": {
        "customPlotOptions": {},
        "displayType": "table",
        "pivotAggregation": null,
        "pivotColumns": null,
        "xColumns": null,
        "yColumns": null
       },
       "removedWidgets": [],
       "schema": [
        {
         "metadata": "{}",
         "name": "transaction_id",
         "type": "\"string\""
        },
        {
         "metadata": "{}",
         "name": "customer_id",
         "type": "\"string\""
        },
        {
         "metadata": "{}",
         "name": "product_id",
         "type": "\"string\""
        },
        {
         "metadata": "{}",
         "name": "quantity",
         "type": "\"integer\""
        },
        {
         "metadata": "{}",
         "name": "total_amount",
         "type": "\"double\""
        },
        {
         "metadata": "{}",
         "name": "transaction_date",
         "type": "\"date\""
        },
        {
         "metadata": "{}",
         "name": "payment_method",
         "type": "\"string\""
        },
        {
         "metadata": "{}",
         "name": "store_type",
         "type": "\"string\""
        },
        {
         "metadata": "{}",
         "name": "order_status",
         "type": "\"string\""
        },
        {
         "metadata": "{}",
         "name": "last_updated",
         "type": "\"timestamp\""
        }
       ],
       "type": "table"
      }
     },
     "output_type": "display_data"
    }
   ],
   "source": [
    "%sql\n",
    "select * from silver_orders limit 10"
   ]
  },
  {
   "cell_type": "code",
   "execution_count": 0,
   "metadata": {
    "application/vnd.databricks.v1+cell": {
     "cellMetadata": {
      "byteLimit": 2048000,
      "rowLimit": 10000
     },
     "inputWidgets": {},
     "nuid": "8ee689c9-e035-49d2-b716-f748c6ee660d",
     "showTitle": false,
     "tableResultSettingsMap": {},
     "title": ""
    }
   },
   "outputs": [],
   "source": []
  }
 ],
 "metadata": {
  "application/vnd.databricks.v1+notebook": {
   "computePreferences": null,
   "dashboards": [],
   "environmentMetadata": null,
   "inputWidgetPreferences": null,
   "language": "python",
   "notebookMetadata": {
    "mostRecentlyExecutedCommandWithImplicitDF": {
     "commandId": 872815173116690,
     "dataframes": [
      "_sqldf"
     ]
    },
    "pythonIndentUnit": 4
   },
   "notebookName": "silver_layer_transaction_load",
   "widgets": {}
  }
 },
 "nbformat": 4,
 "nbformat_minor": 0
}